{
  "nbformat": 4,
  "nbformat_minor": 0,
  "metadata": {
    "colab": {
      "provenance": []
    },
    "kernelspec": {
      "name": "python3",
      "display_name": "Python 3"
    },
    "language_info": {
      "name": "python"
    }
  },
  "cells": [
    {
      "cell_type": "markdown",
      "source": [
        "### Let’s start with some straightforward task. You’re given a list of strings, and you need to return the longest string. It’s pretty easy to do in python\n",
        "https://towardsdatascience.com/a-beginners-introduction-into-mapreduce-2c912bb5e6ac"
      ],
      "metadata": {
        "id": "_tW2KYZmmAhP"
      }
    },
    {
      "cell_type": "code",
      "source": [
        "# !pip install ipython-autotime\n",
        "\n",
        "# %load_ext autotime"
      ],
      "metadata": {
        "id": "b2rUO8UKq-r7"
      },
      "execution_count": null,
      "outputs": []
    },
    {
      "cell_type": "code",
      "execution_count": null,
      "metadata": {
        "id": "aAli0k-Vluwn"
      },
      "outputs": [],
      "source": [
        "def find_longest_string(list_of_strings):\n",
        "    longest_string = None\n",
        "    longest_string_len = 0\n",
        "    for s in list_of_strings:\n",
        "        if len(s) > longest_string_len:\n",
        "            longest_string_len = len(s)\n",
        "            longest_string = s\n",
        "    return longest_string"
      ]
    },
    {
      "cell_type": "code",
      "source": [
        "list_of_strings = ['AIO2023', 'BigData', 'MapReduce']\n",
        "%time max_length = print(find_longest_string(list_of_strings))"
      ],
      "metadata": {
        "colab": {
          "base_uri": "https://localhost:8080/"
        },
        "id": "Hh7SfUhZmIyr",
        "outputId": "4a0abe32-1831-4df2-917b-df014fa12f85"
      },
      "execution_count": null,
      "outputs": [
        {
          "output_type": "stream",
          "name": "stdout",
          "text": [
            "MapReduce\n",
            "CPU times: user 74 µs, sys: 0 ns, total: 74 µs\n",
            "Wall time: 78.4 µs\n"
          ]
        }
      ]
    },
    {
      "cell_type": "code",
      "source": [
        "large_list_of_strings = list_of_strings*1000\n",
        "%time print(find_longest_string(large_list_of_strings))"
      ],
      "metadata": {
        "colab": {
          "base_uri": "https://localhost:8080/"
        },
        "id": "YjlhuyLRpr95",
        "outputId": "7a0428e1-b895-4729-dbb0-c50ebee4ff82"
      },
      "execution_count": null,
      "outputs": [
        {
          "output_type": "stream",
          "name": "stdout",
          "text": [
            "MapReduce\n",
            "CPU times: user 1.29 ms, sys: 55 µs, total: 1.34 ms\n",
            "Wall time: 1.35 ms\n"
          ]
        }
      ]
    },
    {
      "cell_type": "code",
      "source": [
        "large_list_of_strings = list_of_strings*1000000\n",
        "%time max_length = max(large_list_of_strings, key=len)"
      ],
      "metadata": {
        "colab": {
          "base_uri": "https://localhost:8080/"
        },
        "id": "5yQfLOj4pyCL",
        "outputId": "e18fe304-1e2c-459a-b16c-af34b7ba18e7"
      },
      "execution_count": null,
      "outputs": [
        {
          "output_type": "stream",
          "name": "stdout",
          "text": [
            "CPU times: user 181 ms, sys: 386 µs, total: 181 ms\n",
            "Wall time: 185 ms\n"
          ]
        }
      ]
    },
    {
      "cell_type": "code",
      "source": [
        "%%time\n",
        "# step 1:\n",
        "list_of_string_lens = [len(s) for s in large_list_of_strings]\n",
        "list_of_string_lens = zip(large_list_of_strings, list_of_string_lens)\n",
        "#step 2:\n",
        "max_len = max(list_of_string_lens, key=lambda t: t[1])\n",
        "print(max_len)"
      ],
      "metadata": {
        "colab": {
          "base_uri": "https://localhost:8080/"
        },
        "id": "EGAINxUiqQLV",
        "outputId": "463cbe57-4566-4563-a516-7c9d07aa2536"
      },
      "execution_count": null,
      "outputs": [
        {
          "output_type": "stream",
          "name": "stdout",
          "text": [
            "('MapReduce', 9)\n",
            "CPU times: user 970 ms, sys: 22.6 ms, total: 992 ms\n",
            "Wall time: 1.03 s\n"
          ]
        }
      ]
    },
    {
      "cell_type": "code",
      "source": [
        "mapper = len\n",
        "def reducer(p, c):\n",
        "    if p[1] > c[1]:\n",
        "        return p\n",
        "    return c"
      ],
      "metadata": {
        "id": "ZhVJEH1LuQHW"
      },
      "execution_count": null,
      "outputs": []
    },
    {
      "cell_type": "code",
      "source": [
        "from functools import reduce\n"
      ],
      "metadata": {
        "id": "2SNIqVmmu2At"
      },
      "execution_count": null,
      "outputs": []
    },
    {
      "cell_type": "code",
      "source": [
        "%%time\n",
        "#step 1\n",
        "mapped = map(mapper, large_list_of_strings)\n",
        "print(mapped)\n",
        "mapped = zip(large_list_of_strings, mapped)\n",
        "#step 2:\n",
        "reduced = reduce(reducer, mapped)\n",
        "print(reduced)"
      ],
      "metadata": {
        "colab": {
          "base_uri": "https://localhost:8080/"
        },
        "id": "67GHNbYmuZX6",
        "outputId": "19fc70a9-185c-4523-e8dd-43c0b77b746d"
      },
      "execution_count": null,
      "outputs": [
        {
          "output_type": "stream",
          "name": "stdout",
          "text": [
            "<map object at 0x7fece9035150>\n",
            "('MapReduce', 9)\n",
            "CPU times: user 507 ms, sys: 0 ns, total: 507 ms\n",
            "Wall time: 512 ms\n"
          ]
        }
      ]
    },
    {
      "cell_type": "code",
      "source": [
        "def chunks(l, n):\n",
        "\n",
        "    # looping till length l\n",
        "    for i in range(0, len(l), n):\n",
        "        yield l[i:i + n]"
      ],
      "metadata": {
        "id": "M9VYp7gXwB9M"
      },
      "execution_count": null,
      "outputs": []
    },
    {
      "cell_type": "code",
      "source": [
        "%%time\n",
        "data_chunks = chunks(large_list_of_strings, n=30)\n",
        "#step 1:\n",
        "reduced_all = []\n",
        "for chunk in data_chunks:\n",
        "    mapped_chunk = map(mapper, chunk)\n",
        "    mapped_chunk = zip(chunk, mapped_chunk)\n",
        "\n",
        "    reduced_chunk = reduce(reducer, mapped_chunk)\n",
        "    reduced_all.append(reduced_chunk)\n",
        "\n",
        "#step 2:\n",
        "reduced = reduce(reducer, reduced_all)\n",
        "print(reduced)"
      ],
      "metadata": {
        "colab": {
          "base_uri": "https://localhost:8080/"
        },
        "id": "3bnEmUZ5vJTm",
        "outputId": "9e3f1e95-ac21-4483-d6b8-8cd7cf1ef420"
      },
      "execution_count": null,
      "outputs": [
        {
          "output_type": "stream",
          "name": "stdout",
          "text": [
            "('MapReduce', 9)\n",
            "CPU times: user 745 ms, sys: 3.77 ms, total: 749 ms\n",
            "Wall time: 757 ms\n"
          ]
        }
      ]
    },
    {
      "cell_type": "code",
      "source": [
        "def chunks_mapper(chunk):\n",
        "    mapped_chunk = map(mapper, chunk)\n",
        "    mapped_chunk = zip(chunk, mapped_chunk)\n",
        "    return reduce(reducer, mapped_chunk)"
      ],
      "metadata": {
        "id": "QMyM2CX3w_Jm"
      },
      "execution_count": null,
      "outputs": []
    },
    {
      "cell_type": "code",
      "source": [
        "%%time\n",
        "data_chunks = chunks(large_list_of_strings, n=30)\n",
        "#step 1:\n",
        "mapped = map(chunks_mapper, data_chunks)\n",
        "# #step 2:\n",
        "reduced = reduce(reducer, mapped)\n",
        "print(reduced)"
      ],
      "metadata": {
        "colab": {
          "base_uri": "https://localhost:8080/"
        },
        "id": "3Nh5K2jlw5c9",
        "outputId": "af9038c1-a5f2-4b78-9ff2-f2a3768cbdf5"
      },
      "execution_count": null,
      "outputs": [
        {
          "output_type": "stream",
          "name": "stdout",
          "text": [
            "('MapReduce', 9)\n",
            "CPU times: user 588 ms, sys: 0 ns, total: 588 ms\n",
            "Wall time: 600 ms\n"
          ]
        }
      ]
    },
    {
      "cell_type": "code",
      "source": [
        "import multiprocessing as mp\n",
        "Poolpool = mp.Pool(processes = mp.cpu_count())\n",
        "print(mp.cpu_count())"
      ],
      "metadata": {
        "colab": {
          "base_uri": "https://localhost:8080/"
        },
        "id": "kVcNVbx2gO-O",
        "outputId": "06c03a53-9ef2-4248-b336-349ad1679a4a"
      },
      "execution_count": null,
      "outputs": [
        {
          "output_type": "stream",
          "name": "stdout",
          "text": [
            "2\n"
          ]
        }
      ]
    },
    {
      "cell_type": "code",
      "source": [
        "%%time\n",
        "data_chunks = chunks(large_list_of_strings, n=30)\n",
        "#step 1:\n",
        "mapped = Poolpool.map(chunks_mapper, data_chunks)\n",
        "#step 2:\n",
        "reduced = reduce(reducer, mapped)\n",
        "print(reduced)"
      ],
      "metadata": {
        "colab": {
          "base_uri": "https://localhost:8080/"
        },
        "id": "ElNt8dZ3b4hi",
        "outputId": "bd0fc7cc-32fb-43c1-e410-4142f566e3e9"
      },
      "execution_count": null,
      "outputs": [
        {
          "output_type": "stream",
          "name": "stdout",
          "text": [
            "('MapReduce', 9)\n",
            "CPU times: user 386 ms, sys: 45.5 ms, total: 431 ms\n",
            "Wall time: 1.02 s\n"
          ]
        }
      ]
    },
    {
      "cell_type": "markdown",
      "source": [
        "# ________________"
      ],
      "metadata": {
        "id": "Jtx6ircuUqL8"
      }
    },
    {
      "cell_type": "code",
      "source": [],
      "metadata": {
        "id": "zY5lT9_xhSd2"
      },
      "execution_count": null,
      "outputs": []
    }
  ]
}