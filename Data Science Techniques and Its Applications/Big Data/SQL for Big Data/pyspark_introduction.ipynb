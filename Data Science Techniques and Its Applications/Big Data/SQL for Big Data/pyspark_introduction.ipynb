{
  "nbformat": 4,
  "nbformat_minor": 0,
  "metadata": {
    "colab": {
      "provenance": []
    },
    "kernelspec": {
      "name": "python3",
      "display_name": "Python 3"
    },
    "language_info": {
      "name": "python"
    }
  },
  "cells": [
    {
      "cell_type": "markdown",
      "source": [
        "## Install pyspark"
      ],
      "metadata": {
        "id": "5PymkiNzyg7E"
      }
    },
    {
      "cell_type": "code",
      "execution_count": null,
      "metadata": {
        "colab": {
          "base_uri": "https://localhost:8080/"
        },
        "id": "MJSb283wI9RF",
        "outputId": "6ff812fa-2b2e-440c-ccc6-a48f995bf854"
      },
      "outputs": [
        {
          "output_type": "stream",
          "name": "stdout",
          "text": [
            "Requirement already satisfied: pyspark==3.4.1 in /usr/local/lib/python3.10/dist-packages (3.4.1)\n",
            "Requirement already satisfied: py4j==0.10.9.7 in /usr/local/lib/python3.10/dist-packages (from pyspark==3.4.1) (0.10.9.7)\n"
          ]
        }
      ],
      "source": [
        "!pip install pyspark==3.4.1"
      ]
    },
    {
      "cell_type": "markdown",
      "source": [
        "## Init pyspark session"
      ],
      "metadata": {
        "id": "9UlOyc-Fykga"
      }
    },
    {
      "cell_type": "code",
      "source": [
        "from pyspark.sql import SparkSession"
      ],
      "metadata": {
        "id": "vnD5J_fHpxxy"
      },
      "execution_count": null,
      "outputs": []
    },
    {
      "cell_type": "code",
      "source": [
        "spark = SparkSession.builder.appName('Example').getOrCreate()"
      ],
      "metadata": {
        "id": "sObhAux2p03L"
      },
      "execution_count": null,
      "outputs": []
    },
    {
      "cell_type": "code",
      "source": [
        "print(spark)"
      ],
      "metadata": {
        "colab": {
          "base_uri": "https://localhost:8080/"
        },
        "id": "q-yLK2n8p7i1",
        "outputId": "c4a3ff44-973b-4202-92de-a377bbe4dce7"
      },
      "execution_count": null,
      "outputs": [
        {
          "output_type": "stream",
          "name": "stdout",
          "text": [
            "<pyspark.sql.session.SparkSession object at 0x7efffefc7190>\n"
          ]
        }
      ]
    },
    {
      "cell_type": "markdown",
      "source": [
        "## Create a dataframe"
      ],
      "metadata": {
        "id": "NmAI3DWjynTq"
      }
    },
    {
      "cell_type": "code",
      "source": [
        "data = [\n",
        "    {'name': 'Rin', 'age': 20, 'gender': 'F'},\n",
        "    {'name': 'Thang', 'age': 22, 'gender': 'M'},\n",
        "    {'name': 'Saitama', 'age': 25, 'gender': 'M'},\n",
        "    {'name': 'Edward', 'age': 31, 'gender': 'M'},\n",
        "    {'name': 'Violet', 'age': 17, 'gender': 'F'}\n",
        "]"
      ],
      "metadata": {
        "id": "oRHhNzIkS71t"
      },
      "execution_count": null,
      "outputs": []
    },
    {
      "cell_type": "code",
      "source": [
        "df = spark.createDataFrame(\n",
        "    data=data\n",
        ")"
      ],
      "metadata": {
        "id": "HMOrMPB4pUbp"
      },
      "execution_count": null,
      "outputs": []
    },
    {
      "cell_type": "code",
      "source": [
        "df.printSchema()"
      ],
      "metadata": {
        "colab": {
          "base_uri": "https://localhost:8080/"
        },
        "id": "BV_ErO-oqQMe",
        "outputId": "03b74ef4-6f47-437e-cfc7-d67a072e1870"
      },
      "execution_count": null,
      "outputs": [
        {
          "output_type": "stream",
          "name": "stdout",
          "text": [
            "root\n",
            " |-- age: long (nullable = true)\n",
            " |-- gender: string (nullable = true)\n",
            " |-- name: string (nullable = true)\n",
            "\n"
          ]
        }
      ]
    },
    {
      "cell_type": "code",
      "source": [
        "df.show()"
      ],
      "metadata": {
        "colab": {
          "base_uri": "https://localhost:8080/"
        },
        "id": "jh39UAHmqUnw",
        "outputId": "2bdc5472-ba69-462d-cfe1-363fb90a3062"
      },
      "execution_count": null,
      "outputs": [
        {
          "output_type": "stream",
          "name": "stdout",
          "text": [
            "+---+------+-------+\n",
            "|age|gender|   name|\n",
            "+---+------+-------+\n",
            "| 20|     F|    Rin|\n",
            "| 22|     M|  Thang|\n",
            "| 25|     M|Saitama|\n",
            "| 31|     M| Edward|\n",
            "| 17|     F| Violet|\n",
            "+---+------+-------+\n",
            "\n"
          ]
        }
      ]
    },
    {
      "cell_type": "markdown",
      "source": [
        "## Basic Operations"
      ],
      "metadata": {
        "id": "DB1WCv3-yIWM"
      }
    },
    {
      "cell_type": "code",
      "source": [
        "# Select\n",
        "df.select('age').show()"
      ],
      "metadata": {
        "colab": {
          "base_uri": "https://localhost:8080/"
        },
        "id": "SELMpt_xs6So",
        "outputId": "7e106300-f2ad-4db1-8901-ab58c5c7009b"
      },
      "execution_count": null,
      "outputs": [
        {
          "output_type": "stream",
          "name": "stdout",
          "text": [
            "+---+\n",
            "|age|\n",
            "+---+\n",
            "| 20|\n",
            "| 22|\n",
            "| 25|\n",
            "| 31|\n",
            "| 17|\n",
            "+---+\n",
            "\n"
          ]
        }
      ]
    },
    {
      "cell_type": "code",
      "source": [
        "# Filter\n",
        "df.filter(df.gender == 'F').show()"
      ],
      "metadata": {
        "colab": {
          "base_uri": "https://localhost:8080/"
        },
        "id": "-U1p9U9tvMx0",
        "outputId": "9aa3dd66-ebec-4f66-cc53-fec57e72e1ff"
      },
      "execution_count": null,
      "outputs": [
        {
          "output_type": "stream",
          "name": "stdout",
          "text": [
            "+---+------+------+\n",
            "|age|gender|  name|\n",
            "+---+------+------+\n",
            "| 20|     F|   Rin|\n",
            "| 17|     F|Violet|\n",
            "+---+------+------+\n",
            "\n"
          ]
        }
      ]
    },
    {
      "cell_type": "code",
      "source": [
        "# Aggregating data\n",
        "df.selectExpr('avg(age)').collect()"
      ],
      "metadata": {
        "colab": {
          "base_uri": "https://localhost:8080/"
        },
        "id": "LcYBwXSIypp1",
        "outputId": "5748a127-2595-4c36-8be3-737bffa4c6e7"
      },
      "execution_count": null,
      "outputs": [
        {
          "output_type": "execute_result",
          "data": {
            "text/plain": [
              "[Row(avg(age)=23.0)]"
            ]
          },
          "metadata": {},
          "execution_count": 40
        }
      ]
    }
  ]
}