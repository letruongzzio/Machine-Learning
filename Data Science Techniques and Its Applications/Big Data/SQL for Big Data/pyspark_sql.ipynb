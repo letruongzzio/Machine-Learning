{
  "nbformat": 4,
  "nbformat_minor": 0,
  "metadata": {
    "colab": {
      "provenance": []
    },
    "kernelspec": {
      "name": "python3",
      "display_name": "Python 3"
    },
    "language_info": {
      "name": "python"
    }
  },
  "cells": [
    {
      "cell_type": "code",
      "source": [
        "from google.colab import drive\n",
        "\n",
        "drive.mount('/content/gdrive')"
      ],
      "metadata": {
        "colab": {
          "base_uri": "https://localhost:8080/"
        },
        "id": "A8DSF05y1Av-",
        "outputId": "ce8d3410-70c2-4420-ede2-8b26d00c5627"
      },
      "execution_count": null,
      "outputs": [
        {
          "output_type": "stream",
          "name": "stdout",
          "text": [
            "Mounted at /content/gdrive\n"
          ]
        }
      ]
    },
    {
      "cell_type": "code",
      "source": [
        "!cp '/content/gdrive/MyDrive/Coordinate/aio_2023_ta/bonus_module/big_data_sql/dataset/airports.csv' .\n",
        "!cp '/content/gdrive/MyDrive/Coordinate/aio_2023_ta/bonus_module/big_data_sql/dataset/flights_small.csv' .\n",
        "!cp '/content/gdrive/MyDrive/Coordinate/aio_2023_ta/bonus_module/big_data_sql/dataset/planes.csv' ."
      ],
      "metadata": {
        "id": "qydSlAiU1IIc"
      },
      "execution_count": null,
      "outputs": []
    },
    {
      "cell_type": "code",
      "execution_count": null,
      "metadata": {
        "id": "EHbkse6Zx637",
        "colab": {
          "base_uri": "https://localhost:8080/"
        },
        "outputId": "222eeac4-d478-464f-f49e-e69c9dd06356"
      },
      "outputs": [
        {
          "output_type": "stream",
          "name": "stdout",
          "text": [
            "Collecting pyspark==3.4.1\n",
            "  Downloading pyspark-3.4.1.tar.gz (310.8 MB)\n",
            "\u001b[2K     \u001b[90m━━━━━━━━━━━━━━━━━━━━━━━━━━━━━━━━━━━━━━━\u001b[0m \u001b[32m310.8/310.8 MB\u001b[0m \u001b[31m4.2 MB/s\u001b[0m eta \u001b[36m0:00:00\u001b[0m\n",
            "\u001b[?25h  Preparing metadata (setup.py) ... \u001b[?25l\u001b[?25hdone\n",
            "Requirement already satisfied: py4j==0.10.9.7 in /usr/local/lib/python3.10/dist-packages (from pyspark==3.4.1) (0.10.9.7)\n",
            "Building wheels for collected packages: pyspark\n",
            "  Building wheel for pyspark (setup.py) ... \u001b[?25l\u001b[?25hdone\n",
            "  Created wheel for pyspark: filename=pyspark-3.4.1-py2.py3-none-any.whl size=311285398 sha256=5b5b750ece1aa8844abe5ee62187c4b730cf5525c0314a144b4febfac432a385\n",
            "  Stored in directory: /root/.cache/pip/wheels/0d/77/a3/ff2f74cc9ab41f8f594dabf0579c2a7c6de920d584206e0834\n",
            "Successfully built pyspark\n",
            "Installing collected packages: pyspark\n",
            "Successfully installed pyspark-3.4.1\n"
          ]
        }
      ],
      "source": [
        "!pip install pyspark==3.4.1"
      ]
    },
    {
      "cell_type": "code",
      "source": [
        "from pyspark.sql import SparkSession"
      ],
      "metadata": {
        "id": "LZjd2m65x-QU"
      },
      "execution_count": null,
      "outputs": []
    },
    {
      "cell_type": "code",
      "source": [
        "spark = SparkSession.builder.appName('Example').getOrCreate()"
      ],
      "metadata": {
        "id": "UpzCpp5Ox_eb"
      },
      "execution_count": null,
      "outputs": []
    },
    {
      "cell_type": "code",
      "source": [
        "spark.catalog.listDatabases()"
      ],
      "metadata": {
        "colab": {
          "base_uri": "https://localhost:8080/"
        },
        "id": "RxvJu-Jm2dMH",
        "outputId": "fdf3049b-be6a-4dbe-8b47-a92ad99bd7fb"
      },
      "execution_count": null,
      "outputs": [
        {
          "output_type": "execute_result",
          "data": {
            "text/plain": [
              "[Database(name='default', catalog='spark_catalog', description='default database', locationUri='file:/content/spark-warehouse')]"
            ]
          },
          "metadata": {},
          "execution_count": 6
        }
      ]
    },
    {
      "cell_type": "code",
      "source": [
        "spark.catalog.listTables()"
      ],
      "metadata": {
        "colab": {
          "base_uri": "https://localhost:8080/"
        },
        "id": "RR-7WPwf2ZpY",
        "outputId": "f44a5f05-28ec-4ebf-a495-010226d11be6"
      },
      "execution_count": null,
      "outputs": [
        {
          "output_type": "execute_result",
          "data": {
            "text/plain": [
              "[]"
            ]
          },
          "metadata": {},
          "execution_count": 7
        }
      ]
    },
    {
      "cell_type": "code",
      "source": [
        "airports_filepath = './airports.csv'\n",
        "airports_df = spark.read.csv(airports_filepath, header=True)"
      ],
      "metadata": {
        "id": "jEGaqyUl159M"
      },
      "execution_count": null,
      "outputs": []
    },
    {
      "cell_type": "code",
      "source": [
        "print(airports_df.printSchema())\n",
        "print(airports_df.show(5))"
      ],
      "metadata": {
        "colab": {
          "base_uri": "https://localhost:8080/"
        },
        "id": "IwnD0Ewy2Dpf",
        "outputId": "8134d549-4e6a-4009-8f55-03da32eeccc8"
      },
      "execution_count": null,
      "outputs": [
        {
          "output_type": "stream",
          "name": "stdout",
          "text": [
            "root\n",
            " |-- faa: string (nullable = true)\n",
            " |-- name: string (nullable = true)\n",
            " |-- lat: string (nullable = true)\n",
            " |-- lon: string (nullable = true)\n",
            " |-- alt: string (nullable = true)\n",
            " |-- tz: string (nullable = true)\n",
            " |-- dst: string (nullable = true)\n",
            "\n",
            "None\n",
            "+---+--------------------+----------+-----------+----+---+---+\n",
            "|faa|                name|       lat|        lon| alt| tz|dst|\n",
            "+---+--------------------+----------+-----------+----+---+---+\n",
            "|04G|   Lansdowne Airport|41.1304722|-80.6195833|1044| -5|  A|\n",
            "|06A|Moton Field Munic...|32.4605722|-85.6800278| 264| -5|  A|\n",
            "|06C| Schaumburg Regional|41.9893408|-88.1012428| 801| -6|  A|\n",
            "|06N|     Randall Airport| 41.431912|-74.3915611| 523| -5|  A|\n",
            "|09J|Jekyll Island Air...|31.0744722|-81.4277778|  11| -4|  A|\n",
            "+---+--------------------+----------+-----------+----+---+---+\n",
            "only showing top 5 rows\n",
            "\n",
            "None\n"
          ]
        }
      ]
    },
    {
      "cell_type": "code",
      "source": [
        "flights_filepath = './flights_small.csv'\n",
        "flights_df = spark.read.csv(flights_filepath, header=True)"
      ],
      "metadata": {
        "id": "H9UoZ2b62jjP"
      },
      "execution_count": null,
      "outputs": []
    },
    {
      "cell_type": "code",
      "source": [
        "print(flights_df.printSchema())\n",
        "print(flights_df.show(5))"
      ],
      "metadata": {
        "colab": {
          "base_uri": "https://localhost:8080/"
        },
        "id": "-JgWpQGe3iZH",
        "outputId": "3e033b85-f137-4f42-f816-f767e374081b"
      },
      "execution_count": null,
      "outputs": [
        {
          "output_type": "stream",
          "name": "stdout",
          "text": [
            "root\n",
            " |-- year: string (nullable = true)\n",
            " |-- month: string (nullable = true)\n",
            " |-- day: string (nullable = true)\n",
            " |-- dep_time: string (nullable = true)\n",
            " |-- dep_delay: string (nullable = true)\n",
            " |-- arr_time: string (nullable = true)\n",
            " |-- arr_delay: string (nullable = true)\n",
            " |-- carrier: string (nullable = true)\n",
            " |-- tailnum: string (nullable = true)\n",
            " |-- flight: string (nullable = true)\n",
            " |-- origin: string (nullable = true)\n",
            " |-- dest: string (nullable = true)\n",
            " |-- air_time: string (nullable = true)\n",
            " |-- distance: string (nullable = true)\n",
            " |-- hour: string (nullable = true)\n",
            " |-- minute: string (nullable = true)\n",
            "\n",
            "None\n",
            "+----+-----+---+--------+---------+--------+---------+-------+-------+------+------+----+--------+--------+----+------+\n",
            "|year|month|day|dep_time|dep_delay|arr_time|arr_delay|carrier|tailnum|flight|origin|dest|air_time|distance|hour|minute|\n",
            "+----+-----+---+--------+---------+--------+---------+-------+-------+------+------+----+--------+--------+----+------+\n",
            "|2014|   12|  8|     658|       -7|     935|       -5|     VX| N846VA|  1780|   SEA| LAX|     132|     954|   6|    58|\n",
            "|2014|    1| 22|    1040|        5|    1505|        5|     AS| N559AS|   851|   SEA| HNL|     360|    2677|  10|    40|\n",
            "|2014|    3|  9|    1443|       -2|    1652|        2|     VX| N847VA|   755|   SEA| SFO|     111|     679|  14|    43|\n",
            "|2014|    4|  9|    1705|       45|    1839|       34|     WN| N360SW|   344|   PDX| SJC|      83|     569|  17|     5|\n",
            "|2014|    3|  9|     754|       -1|    1015|        1|     AS| N612AS|   522|   SEA| BUR|     127|     937|   7|    54|\n",
            "+----+-----+---+--------+---------+--------+---------+-------+-------+------+------+----+--------+--------+----+------+\n",
            "only showing top 5 rows\n",
            "\n",
            "None\n"
          ]
        }
      ]
    },
    {
      "cell_type": "markdown",
      "source": [
        "### Create new column: Flight Duration"
      ],
      "metadata": {
        "id": "Q00NMzcp60jW"
      }
    },
    {
      "cell_type": "code",
      "source": [
        "flights_df = flights_df.withColumn('duration_hours', flights_df.air_time / 60)\n",
        "print(flights_df.show())"
      ],
      "metadata": {
        "id": "9YZPxJv36n8v",
        "colab": {
          "base_uri": "https://localhost:8080/"
        },
        "outputId": "bc5d3d68-dad8-4ea7-958d-58d041dece7b"
      },
      "execution_count": null,
      "outputs": [
        {
          "output_type": "stream",
          "name": "stdout",
          "text": [
            "+----+-----+---+--------+---------+--------+---------+-------+-------+------+------+----+--------+--------+----+------+------------------+\n",
            "|year|month|day|dep_time|dep_delay|arr_time|arr_delay|carrier|tailnum|flight|origin|dest|air_time|distance|hour|minute|    duration_hours|\n",
            "+----+-----+---+--------+---------+--------+---------+-------+-------+------+------+----+--------+--------+----+------+------------------+\n",
            "|2014|   12|  8|     658|       -7|     935|       -5|     VX| N846VA|  1780|   SEA| LAX|     132|     954|   6|    58|               2.2|\n",
            "|2014|    1| 22|    1040|        5|    1505|        5|     AS| N559AS|   851|   SEA| HNL|     360|    2677|  10|    40|               6.0|\n",
            "|2014|    3|  9|    1443|       -2|    1652|        2|     VX| N847VA|   755|   SEA| SFO|     111|     679|  14|    43|              1.85|\n",
            "|2014|    4|  9|    1705|       45|    1839|       34|     WN| N360SW|   344|   PDX| SJC|      83|     569|  17|     5|1.3833333333333333|\n",
            "|2014|    3|  9|     754|       -1|    1015|        1|     AS| N612AS|   522|   SEA| BUR|     127|     937|   7|    54|2.1166666666666667|\n",
            "|2014|    1| 15|    1037|        7|    1352|        2|     WN| N646SW|    48|   PDX| DEN|     121|     991|  10|    37|2.0166666666666666|\n",
            "|2014|    7|  2|     847|       42|    1041|       51|     WN| N422WN|  1520|   PDX| OAK|      90|     543|   8|    47|               1.5|\n",
            "|2014|    5| 12|    1655|       -5|    1842|      -18|     VX| N361VA|   755|   SEA| SFO|      98|     679|  16|    55|1.6333333333333333|\n",
            "|2014|    4| 19|    1236|       -4|    1508|       -7|     AS| N309AS|   490|   SEA| SAN|     135|    1050|  12|    36|              2.25|\n",
            "|2014|   11| 19|    1812|       -3|    2352|       -4|     AS| N564AS|    26|   SEA| ORD|     198|    1721|  18|    12|               3.3|\n",
            "|2014|   11|  8|    1653|       -2|    1924|       -1|     AS| N323AS|   448|   SEA| LAX|     130|     954|  16|    53|2.1666666666666665|\n",
            "|2014|    8|  3|    1120|        0|    1415|        2|     AS| N305AS|   656|   SEA| PHX|     154|    1107|  11|    20| 2.566666666666667|\n",
            "|2014|   10| 30|     811|       21|    1038|       29|     AS| N433AS|   608|   SEA| LAS|     127|     867|   8|    11|2.1166666666666667|\n",
            "|2014|   11| 12|    2346|       -4|     217|      -28|     AS| N765AS|   121|   SEA| ANC|     183|    1448|  23|    46|              3.05|\n",
            "|2014|   10| 31|    1314|       89|    1544|      111|     AS| N713AS|   306|   SEA| SFO|     129|     679|  13|    14|              2.15|\n",
            "|2014|    1| 29|    2009|        3|    2159|        9|     UA| N27205|  1458|   PDX| SFO|      90|     550|  20|     9|               1.5|\n",
            "|2014|   12| 17|    2015|       50|    2150|       41|     AS| N626AS|   368|   SEA| SMF|      76|     605|  20|    15|1.2666666666666666|\n",
            "|2014|    8| 11|    1017|       -3|    1613|       -7|     WN| N8634A|   827|   SEA| MDW|     216|    1733|  10|    17|               3.6|\n",
            "|2014|    1| 13|    2156|       -9|     607|      -15|     AS| N597AS|    24|   SEA| BOS|     290|    2496|  21|    56| 4.833333333333333|\n",
            "|2014|    6|  5|    1733|      -12|    1945|      -10|     OO| N215AG|  3488|   PDX| BUR|     111|     817|  17|    33|              1.85|\n",
            "+----+-----+---+--------+---------+--------+---------+-------+-------+------+------+----+--------+--------+----+------+------------------+\n",
            "only showing top 20 rows\n",
            "\n",
            "None\n"
          ]
        }
      ]
    },
    {
      "cell_type": "code",
      "source": [
        "flights_df.describe().show()"
      ],
      "metadata": {
        "colab": {
          "base_uri": "https://localhost:8080/"
        },
        "id": "1-P9gNRR74s_",
        "outputId": "3492bc85-82fc-40d0-d9ec-081a872876b7"
      },
      "execution_count": null,
      "outputs": [
        {
          "output_type": "stream",
          "name": "stdout",
          "text": [
            "+-------+------+------------------+-----------------+------------------+------------------+------------------+------------------+-------+-------+-----------------+------+-----+------------------+-----------------+------------------+-----------------+------------------+\n",
            "|summary|  year|             month|              day|          dep_time|         dep_delay|          arr_time|         arr_delay|carrier|tailnum|           flight|origin| dest|          air_time|         distance|              hour|           minute|    duration_hours|\n",
            "+-------+------+------------------+-----------------+------------------+------------------+------------------+------------------+-------+-------+-----------------+------+-----+------------------+-----------------+------------------+-----------------+------------------+\n",
            "|  count| 10000|             10000|            10000|             10000|             10000|             10000|             10000|  10000|  10000|            10000| 10000|10000|             10000|            10000|             10000|            10000|              9925|\n",
            "|   mean|2014.0|            6.6438|          15.7009|1277.1158561093248| 6.068629421221865|1477.7236802413272|2.2530982367758186|   null|   null|        1369.1011|  null| null|152.88423173803525|        1208.1516|12.465434083601286|30.57244774919614| 2.548070528967267|\n",
            "| stddev|   0.0|3.3191600205962097|8.895142019392079| 524.1142951055886|28.808608062751805| 526.5936522261665|31.074918600451877|   null|   null|1498.714573831908|  null| null|  72.8656286392139|656.8599023464376| 5.246262953748826|17.98533264217002|1.2144271439868943|\n",
            "|    min|  2014|                 1|                1|                 1|                -1|                 1|                -1|     AA| D942DN|               10|   PDX|  ABQ|               100|             1009|                 0|                0|0.3333333333333333|\n",
            "|    max|  2014|                 9|                9|                NA|                NA|                NA|                NA|     WN|     NA|              998|   SEA|  TUS|                NA|              991|                NA|               NA| 6.816666666666666|\n",
            "+-------+------+------------------+-----------------+------------------+------------------+------------------+------------------+-------+-------+-----------------+------+-----+------------------+-----------------+------------------+-----------------+------------------+\n",
            "\n"
          ]
        }
      ]
    },
    {
      "cell_type": "markdown",
      "source": [
        "### Assign tables"
      ],
      "metadata": {
        "id": "Hb92UIcAWnn9"
      }
    },
    {
      "cell_type": "code",
      "source": [
        "airports_df.createOrReplaceTempView('airports')\n",
        "flights_df.createOrReplaceTempView('flights')"
      ],
      "metadata": {
        "id": "CijeU00O51R9"
      },
      "execution_count": null,
      "outputs": []
    },
    {
      "cell_type": "code",
      "source": [
        "spark.catalog.listDatabases()"
      ],
      "metadata": {
        "colab": {
          "base_uri": "https://localhost:8080/"
        },
        "id": "i-5w5CR558RK",
        "outputId": "02acc612-105d-41ef-fbec-910f2da00e0e"
      },
      "execution_count": null,
      "outputs": [
        {
          "output_type": "execute_result",
          "data": {
            "text/plain": [
              "[Database(name='default', catalog='spark_catalog', description='default database', locationUri='file:/content/spark-warehouse')]"
            ]
          },
          "metadata": {},
          "execution_count": 15
        }
      ]
    },
    {
      "cell_type": "code",
      "source": [
        "spark.catalog.listTables()"
      ],
      "metadata": {
        "colab": {
          "base_uri": "https://localhost:8080/"
        },
        "id": "aiGuPr1B6H-A",
        "outputId": "7cf4c95e-4e45-448c-8f91-abe4959bdd5e"
      },
      "execution_count": null,
      "outputs": [
        {
          "output_type": "execute_result",
          "data": {
            "text/plain": [
              "[Table(name='airports', catalog=None, namespace=[], description=None, tableType='TEMPORARY', isTemporary=True),\n",
              " Table(name='flights', catalog=None, namespace=[], description=None, tableType='TEMPORARY', isTemporary=True)]"
            ]
          },
          "metadata": {},
          "execution_count": 16
        }
      ]
    },
    {
      "cell_type": "code",
      "source": [],
      "metadata": {
        "id": "xFJeG-SG6kmF"
      },
      "execution_count": null,
      "outputs": []
    },
    {
      "cell_type": "code",
      "source": [],
      "metadata": {
        "id": "jIBMYIt06kn1"
      },
      "execution_count": null,
      "outputs": []
    },
    {
      "cell_type": "code",
      "source": [
        "flights_table = spark.table('flights')\n",
        "print(flights_table.show())"
      ],
      "metadata": {
        "colab": {
          "base_uri": "https://localhost:8080/"
        },
        "id": "vhowujH-XSSA",
        "outputId": "446ff1e2-a157-4e89-8931-be6ded5c7f3e"
      },
      "execution_count": null,
      "outputs": [
        {
          "output_type": "stream",
          "name": "stdout",
          "text": [
            "+----+-----+---+--------+---------+--------+---------+-------+-------+------+------+----+--------+--------+----+------+------------------+\n",
            "|year|month|day|dep_time|dep_delay|arr_time|arr_delay|carrier|tailnum|flight|origin|dest|air_time|distance|hour|minute|    duration_hours|\n",
            "+----+-----+---+--------+---------+--------+---------+-------+-------+------+------+----+--------+--------+----+------+------------------+\n",
            "|2014|   12|  8|     658|       -7|     935|       -5|     VX| N846VA|  1780|   SEA| LAX|     132|     954|   6|    58|               2.2|\n",
            "|2014|    1| 22|    1040|        5|    1505|        5|     AS| N559AS|   851|   SEA| HNL|     360|    2677|  10|    40|               6.0|\n",
            "|2014|    3|  9|    1443|       -2|    1652|        2|     VX| N847VA|   755|   SEA| SFO|     111|     679|  14|    43|              1.85|\n",
            "|2014|    4|  9|    1705|       45|    1839|       34|     WN| N360SW|   344|   PDX| SJC|      83|     569|  17|     5|1.3833333333333333|\n",
            "|2014|    3|  9|     754|       -1|    1015|        1|     AS| N612AS|   522|   SEA| BUR|     127|     937|   7|    54|2.1166666666666667|\n",
            "|2014|    1| 15|    1037|        7|    1352|        2|     WN| N646SW|    48|   PDX| DEN|     121|     991|  10|    37|2.0166666666666666|\n",
            "|2014|    7|  2|     847|       42|    1041|       51|     WN| N422WN|  1520|   PDX| OAK|      90|     543|   8|    47|               1.5|\n",
            "|2014|    5| 12|    1655|       -5|    1842|      -18|     VX| N361VA|   755|   SEA| SFO|      98|     679|  16|    55|1.6333333333333333|\n",
            "|2014|    4| 19|    1236|       -4|    1508|       -7|     AS| N309AS|   490|   SEA| SAN|     135|    1050|  12|    36|              2.25|\n",
            "|2014|   11| 19|    1812|       -3|    2352|       -4|     AS| N564AS|    26|   SEA| ORD|     198|    1721|  18|    12|               3.3|\n",
            "|2014|   11|  8|    1653|       -2|    1924|       -1|     AS| N323AS|   448|   SEA| LAX|     130|     954|  16|    53|2.1666666666666665|\n",
            "|2014|    8|  3|    1120|        0|    1415|        2|     AS| N305AS|   656|   SEA| PHX|     154|    1107|  11|    20| 2.566666666666667|\n",
            "|2014|   10| 30|     811|       21|    1038|       29|     AS| N433AS|   608|   SEA| LAS|     127|     867|   8|    11|2.1166666666666667|\n",
            "|2014|   11| 12|    2346|       -4|     217|      -28|     AS| N765AS|   121|   SEA| ANC|     183|    1448|  23|    46|              3.05|\n",
            "|2014|   10| 31|    1314|       89|    1544|      111|     AS| N713AS|   306|   SEA| SFO|     129|     679|  13|    14|              2.15|\n",
            "|2014|    1| 29|    2009|        3|    2159|        9|     UA| N27205|  1458|   PDX| SFO|      90|     550|  20|     9|               1.5|\n",
            "|2014|   12| 17|    2015|       50|    2150|       41|     AS| N626AS|   368|   SEA| SMF|      76|     605|  20|    15|1.2666666666666666|\n",
            "|2014|    8| 11|    1017|       -3|    1613|       -7|     WN| N8634A|   827|   SEA| MDW|     216|    1733|  10|    17|               3.6|\n",
            "|2014|    1| 13|    2156|       -9|     607|      -15|     AS| N597AS|    24|   SEA| BOS|     290|    2496|  21|    56| 4.833333333333333|\n",
            "|2014|    6|  5|    1733|      -12|    1945|      -10|     OO| N215AG|  3488|   PDX| BUR|     111|     817|  17|    33|              1.85|\n",
            "+----+-----+---+--------+---------+--------+---------+-------+-------+------+------+----+--------+--------+----+------+------------------+\n",
            "only showing top 20 rows\n",
            "\n",
            "None\n"
          ]
        }
      ]
    },
    {
      "cell_type": "markdown",
      "source": [
        "### Filtering"
      ],
      "metadata": {
        "id": "UhBBzBao7wwy"
      }
    },
    {
      "cell_type": "code",
      "source": [
        "flights_table.filter(flights_table.duration_hours > 5).show()"
      ],
      "metadata": {
        "id": "RSB8Cjjw8LB8",
        "colab": {
          "base_uri": "https://localhost:8080/"
        },
        "outputId": "0560cf2e-b3ba-443b-f0c6-cf5f3fdcc565"
      },
      "execution_count": null,
      "outputs": [
        {
          "output_type": "stream",
          "name": "stdout",
          "text": [
            "+----+-----+---+--------+---------+--------+---------+-------+-------+------+------+----+--------+--------+----+------+-----------------+\n",
            "|year|month|day|dep_time|dep_delay|arr_time|arr_delay|carrier|tailnum|flight|origin|dest|air_time|distance|hour|minute|   duration_hours|\n",
            "+----+-----+---+--------+---------+--------+---------+-------+-------+------+------+----+--------+--------+----+------+-----------------+\n",
            "|2014|    1| 22|    1040|        5|    1505|        5|     AS| N559AS|   851|   SEA| HNL|     360|    2677|  10|    40|              6.0|\n",
            "|2014|   12|  4|     954|       -6|    1348|      -17|     HA| N395HA|    29|   SEA| OGG|     333|    2640|   9|    54|             5.55|\n",
            "|2014|    6|  7|    1823|       -7|    2112|      -28|     AS| N512AS|   815|   SEA| LIH|     335|    2701|  18|    23|5.583333333333333|\n",
            "|2014|    4| 30|     801|        1|    1757|       90|     AS| N407AS|    18|   SEA| MCO|     342|    2554|   8|     1|              5.7|\n",
            "|2014|    4|  1|    1010|       -5|    1258|      -17|     HA| N381HA|    25|   PDX| HNL|     328|    2603|  10|    10|5.466666666666667|\n",
            "|2014|    7| 27|     925|       25|    1232|       27|     AS| N513AS|   875|   SEA| LIH|     343|    2701|   9|    25|5.716666666666667|\n",
            "|2014|    8| 18|    2116|       -4|     541|       18|     B6| N536JB|   264|   SEA| JFK|     304|    2422|  21|    16|5.066666666666666|\n",
            "|2014|   11|  3|     840|        0|    1703|      -17|     AS| N462AS|    38|   SEA| FLL|     307|    2717|   8|    40|5.116666666666666|\n",
            "|2014|    9|  2|     705|       -5|     950|      -15|     AS| N442AS|   833|   PDX| HNL|     326|    2603|   7|     5|5.433333333333334|\n",
            "|2014|   12| 28|    1705|      -10|    2046|      -42|     AS| N517AS|   863|   PDX| OGG|     324|    2562|  17|     5|              5.4|\n",
            "|2014|    4| 10|     829|       -1|    1128|       -7|     AS| N589AS|   861|   SEA| OGG|     332|    2640|   8|    29|5.533333333333333|\n",
            "|2014|    9| 19|    1039|       -1|    1335|       -6|     AS| N431AS|   843|   SEA| KOA|     332|    2688|  10|    39|5.533333333333333|\n",
            "|2014|    9| 28|     657|       -3|    1557|       34|     DL|  N704X|  2588|   SEA| JFK|     311|    2422|   6|    57|5.183333333333334|\n",
            "|2014|   10| 13|     853|       -2|    1217|       16|     AS| N517AS|   879|   SEA| LIH|     358|    2701|   8|    53|5.966666666666667|\n",
            "|2014|    5|  2|    1022|       -3|    1408|       38|     AS| N508AS|   843|   SEA| KOA|     378|    2688|  10|    22|              6.3|\n",
            "|2014|    3| 30|    1646|        6|    1938|      -17|     AS| N537AS|   867|   SEA| OGG|     332|    2640|  16|    46|5.533333333333333|\n",
            "|2014|    5| 29|     705|       -3|    1547|       15|     DL| N3750D|   400|   PDX| JFK|     311|    2454|   7|     5|5.183333333333334|\n",
            "|2014|    3| 22|    1007|       -8|    1305|      -20|     HA| N389HA|    25|   PDX| HNL|     338|    2603|  10|     7|5.633333333333334|\n",
            "|2014|    8| 16|    1032|       -8|    1315|      -20|     HA| N395HA|    25|   PDX| HNL|     304|    2603|  10|    32|5.066666666666666|\n",
            "|2014|    4|  4|    1008|       -7|    1248|      -27|     HA| N385HA|    25|   PDX| HNL|     320|    2603|  10|     8|5.333333333333333|\n",
            "+----+-----+---+--------+---------+--------+---------+-------+-------+------+------+----+--------+--------+----+------+-----------------+\n",
            "only showing top 20 rows\n",
            "\n"
          ]
        }
      ]
    },
    {
      "cell_type": "code",
      "source": [
        "spark.sql('SELECT * FROM flights WHERE duration_hours > 5').show()"
      ],
      "metadata": {
        "colab": {
          "base_uri": "https://localhost:8080/"
        },
        "id": "TAKmM0xH_OXe",
        "outputId": "af67e13c-3ddf-4aa0-e096-50584abe6abc"
      },
      "execution_count": null,
      "outputs": [
        {
          "output_type": "stream",
          "name": "stdout",
          "text": [
            "+----+-----+---+--------+---------+--------+---------+-------+-------+------+------+----+--------+--------+----+------+-----------------+\n",
            "|year|month|day|dep_time|dep_delay|arr_time|arr_delay|carrier|tailnum|flight|origin|dest|air_time|distance|hour|minute|   duration_hours|\n",
            "+----+-----+---+--------+---------+--------+---------+-------+-------+------+------+----+--------+--------+----+------+-----------------+\n",
            "|2014|    1| 22|    1040|        5|    1505|        5|     AS| N559AS|   851|   SEA| HNL|     360|    2677|  10|    40|              6.0|\n",
            "|2014|   12|  4|     954|       -6|    1348|      -17|     HA| N395HA|    29|   SEA| OGG|     333|    2640|   9|    54|             5.55|\n",
            "|2014|    6|  7|    1823|       -7|    2112|      -28|     AS| N512AS|   815|   SEA| LIH|     335|    2701|  18|    23|5.583333333333333|\n",
            "|2014|    4| 30|     801|        1|    1757|       90|     AS| N407AS|    18|   SEA| MCO|     342|    2554|   8|     1|              5.7|\n",
            "|2014|    4|  1|    1010|       -5|    1258|      -17|     HA| N381HA|    25|   PDX| HNL|     328|    2603|  10|    10|5.466666666666667|\n",
            "|2014|    7| 27|     925|       25|    1232|       27|     AS| N513AS|   875|   SEA| LIH|     343|    2701|   9|    25|5.716666666666667|\n",
            "|2014|    8| 18|    2116|       -4|     541|       18|     B6| N536JB|   264|   SEA| JFK|     304|    2422|  21|    16|5.066666666666666|\n",
            "|2014|   11|  3|     840|        0|    1703|      -17|     AS| N462AS|    38|   SEA| FLL|     307|    2717|   8|    40|5.116666666666666|\n",
            "|2014|    9|  2|     705|       -5|     950|      -15|     AS| N442AS|   833|   PDX| HNL|     326|    2603|   7|     5|5.433333333333334|\n",
            "|2014|   12| 28|    1705|      -10|    2046|      -42|     AS| N517AS|   863|   PDX| OGG|     324|    2562|  17|     5|              5.4|\n",
            "|2014|    4| 10|     829|       -1|    1128|       -7|     AS| N589AS|   861|   SEA| OGG|     332|    2640|   8|    29|5.533333333333333|\n",
            "|2014|    9| 19|    1039|       -1|    1335|       -6|     AS| N431AS|   843|   SEA| KOA|     332|    2688|  10|    39|5.533333333333333|\n",
            "|2014|    9| 28|     657|       -3|    1557|       34|     DL|  N704X|  2588|   SEA| JFK|     311|    2422|   6|    57|5.183333333333334|\n",
            "|2014|   10| 13|     853|       -2|    1217|       16|     AS| N517AS|   879|   SEA| LIH|     358|    2701|   8|    53|5.966666666666667|\n",
            "|2014|    5|  2|    1022|       -3|    1408|       38|     AS| N508AS|   843|   SEA| KOA|     378|    2688|  10|    22|              6.3|\n",
            "|2014|    3| 30|    1646|        6|    1938|      -17|     AS| N537AS|   867|   SEA| OGG|     332|    2640|  16|    46|5.533333333333333|\n",
            "|2014|    5| 29|     705|       -3|    1547|       15|     DL| N3750D|   400|   PDX| JFK|     311|    2454|   7|     5|5.183333333333334|\n",
            "|2014|    3| 22|    1007|       -8|    1305|      -20|     HA| N389HA|    25|   PDX| HNL|     338|    2603|  10|     7|5.633333333333334|\n",
            "|2014|    8| 16|    1032|       -8|    1315|      -20|     HA| N395HA|    25|   PDX| HNL|     304|    2603|  10|    32|5.066666666666666|\n",
            "|2014|    4|  4|    1008|       -7|    1248|      -27|     HA| N385HA|    25|   PDX| HNL|     320|    2603|  10|     8|5.333333333333333|\n",
            "+----+-----+---+--------+---------+--------+---------+-------+-------+------+------+----+--------+--------+----+------+-----------------+\n",
            "only showing top 20 rows\n",
            "\n"
          ]
        }
      ]
    },
    {
      "cell_type": "code",
      "source": [
        "condition_a = flights_table.origin == 'SEA'\n",
        "condition_b =flights_table.dest == 'PDX'\n",
        "flights_table.filter(condition_a).filter(condition_b).show()"
      ],
      "metadata": {
        "colab": {
          "base_uri": "https://localhost:8080/"
        },
        "id": "IDR8qK_gT9tO",
        "outputId": "24c675ef-d6d0-4c53-fdbf-bfb88e492f9c"
      },
      "execution_count": null,
      "outputs": [
        {
          "output_type": "stream",
          "name": "stdout",
          "text": [
            "+----+-----+---+--------+---------+--------+---------+-------+-------+------+------+----+--------+--------+----+------+-------------------+\n",
            "|year|month|day|dep_time|dep_delay|arr_time|arr_delay|carrier|tailnum|flight|origin|dest|air_time|distance|hour|minute|     duration_hours|\n",
            "+----+-----+---+--------+---------+--------+---------+-------+-------+------+------+----+--------+--------+----+------+-------------------+\n",
            "|2014|   10|  1|    1717|       -8|    1819|        4|     OO| N810SK|  4546|   SEA| PDX|      28|     129|  17|    17| 0.4666666666666667|\n",
            "|2014|    9| 26|    2339|      144|      29|      142|     OO| N822SK|  4612|   SEA| PDX|      29|     129|  23|    39|0.48333333333333334|\n",
            "|2014|    8| 18|    1728|       -2|    1822|        0|     OO| N586SW|  5440|   SEA| PDX|      41|     129|  17|    28| 0.6833333333333333|\n",
            "|2014|    2|  4|    2053|       -7|    2144|       -4|     OO| N223SW|  5433|   SEA| PDX|      29|     129|  20|    53|0.48333333333333334|\n",
            "|2014|    2|  9|    1058|      133|    1158|      145|     OO| N580SW|  5438|   SEA| PDX|      35|     129|  10|    58| 0.5833333333333334|\n",
            "|2014|   12|  6|    2227|       -3|    2304|      -11|     AS| N520AS|   414|   SEA| PDX|      25|     129|  22|    27| 0.4166666666666667|\n",
            "|2014|   10| 15|    1722|       -3|    1816|        1|     OO| N809SK|  4546|   SEA| PDX|      28|     129|  17|    22| 0.4666666666666667|\n",
            "|2014|    3|  3|    1720|       -8|    1810|       -6|     OO| N295SW|  5305|   SEA| PDX|      34|     129|  17|    20| 0.5666666666666667|\n",
            "|2014|    2| 23|    2050|      -10|    2140|       -8|     OO| N221SW|  5433|   SEA| PDX|      34|     129|  20|    50| 0.5666666666666667|\n",
            "|2014|    3| 25|    2050|      -10|    2148|        1|     OO| N294SW|  5433|   SEA| PDX|      34|     129|  20|    50| 0.5666666666666667|\n",
            "|2014|    4| 19|    1842|       -3|    1940|        3|     OO| N581SW|  5424|   SEA| PDX|      35|     129|  18|    42| 0.5833333333333334|\n",
            "|2014|    3|  4|     928|       -7|    1026|        3|     OO| N563SW|  5438|   SEA| PDX|      34|     129|   9|    28| 0.5666666666666667|\n",
            "|2014|    1| 15|    1433|       -6|    1528|        1|     OO| N297SW|  5417|   SEA| PDX|      40|     129|  14|    33| 0.6666666666666666|\n",
            "|2014|    5| 11|    1850|      -10|    1938|      -14|     OO| N564SW|  5424|   SEA| PDX|      35|     129|  18|    50| 0.5833333333333334|\n",
            "|2014|   11| 24|    2227|       -3|    2309|       -6|     AS| N468AS|   414|   SEA| PDX|      30|     129|  22|    27|                0.5|\n",
            "|2014|    2| 22|    1450|       -5|    1544|        1|     OO| N229SW|  5417|   SEA| PDX|      30|     129|  14|    50|                0.5|\n",
            "|2014|    3| 28|     921|       -5|    1023|       10|     OO| N565SW|  5411|   SEA| PDX|      40|     129|   9|    21| 0.6666666666666666|\n",
            "|2014|    3| 25|    1515|      274|    1608|      279|     OO| N580SW|  5325|   SEA| PDX|      36|     129|  15|    15|                0.6|\n",
            "|2014|   12| 28|     652|       -8|     802|        2|     OO| N817SK|  4608|   SEA| PDX|      32|     129|   6|    52| 0.5333333333333333|\n",
            "|2014|    5| 11|    1501|        1|    1550|        0|     OO| N564SW|  5417|   SEA| PDX|      34|     129|  15|     1| 0.5666666666666667|\n",
            "+----+-----+---+--------+---------+--------+---------+-------+-------+------+------+----+--------+--------+----+------+-------------------+\n",
            "only showing top 20 rows\n",
            "\n"
          ]
        }
      ]
    },
    {
      "cell_type": "code",
      "source": [],
      "metadata": {
        "id": "ajyZ9Y__Kbki"
      },
      "execution_count": null,
      "outputs": []
    },
    {
      "cell_type": "markdown",
      "source": [
        "### Selection"
      ],
      "metadata": {
        "id": "GYY87Q-RJ7IW"
      }
    },
    {
      "cell_type": "code",
      "source": [
        "selected_columns = flights_table.select('tailnum', 'origin', 'dest')\n",
        "selected_columns.show()"
      ],
      "metadata": {
        "colab": {
          "base_uri": "https://localhost:8080/"
        },
        "id": "ryOPxSuHJ8Zc",
        "outputId": "f6dfe3a7-40a5-400b-8755-f17b562f4b1c"
      },
      "execution_count": null,
      "outputs": [
        {
          "output_type": "stream",
          "name": "stdout",
          "text": [
            "+-------+------+----+\n",
            "|tailnum|origin|dest|\n",
            "+-------+------+----+\n",
            "| N846VA|   SEA| LAX|\n",
            "| N559AS|   SEA| HNL|\n",
            "| N847VA|   SEA| SFO|\n",
            "| N360SW|   PDX| SJC|\n",
            "| N612AS|   SEA| BUR|\n",
            "| N646SW|   PDX| DEN|\n",
            "| N422WN|   PDX| OAK|\n",
            "| N361VA|   SEA| SFO|\n",
            "| N309AS|   SEA| SAN|\n",
            "| N564AS|   SEA| ORD|\n",
            "| N323AS|   SEA| LAX|\n",
            "| N305AS|   SEA| PHX|\n",
            "| N433AS|   SEA| LAS|\n",
            "| N765AS|   SEA| ANC|\n",
            "| N713AS|   SEA| SFO|\n",
            "| N27205|   PDX| SFO|\n",
            "| N626AS|   SEA| SMF|\n",
            "| N8634A|   SEA| MDW|\n",
            "| N597AS|   SEA| BOS|\n",
            "| N215AG|   PDX| BUR|\n",
            "+-------+------+----+\n",
            "only showing top 20 rows\n",
            "\n"
          ]
        }
      ]
    },
    {
      "cell_type": "code",
      "source": [
        "selected_columns = flights_table.select(flights_table.origin, flights_table.dest, flights_table.carrier)\n",
        "selected_columns.show()"
      ],
      "metadata": {
        "colab": {
          "base_uri": "https://localhost:8080/"
        },
        "id": "6JR9n0B_KHKB",
        "outputId": "3a546100-1562-43d9-f047-a0e666080c6d"
      },
      "execution_count": null,
      "outputs": [
        {
          "output_type": "stream",
          "name": "stdout",
          "text": [
            "+------+----+-------+\n",
            "|origin|dest|carrier|\n",
            "+------+----+-------+\n",
            "|   SEA| LAX|     VX|\n",
            "|   SEA| HNL|     AS|\n",
            "|   SEA| SFO|     VX|\n",
            "|   PDX| SJC|     WN|\n",
            "|   SEA| BUR|     AS|\n",
            "|   PDX| DEN|     WN|\n",
            "|   PDX| OAK|     WN|\n",
            "|   SEA| SFO|     VX|\n",
            "|   SEA| SAN|     AS|\n",
            "|   SEA| ORD|     AS|\n",
            "|   SEA| LAX|     AS|\n",
            "|   SEA| PHX|     AS|\n",
            "|   SEA| LAS|     AS|\n",
            "|   SEA| ANC|     AS|\n",
            "|   SEA| SFO|     AS|\n",
            "|   PDX| SFO|     UA|\n",
            "|   SEA| SMF|     AS|\n",
            "|   SEA| MDW|     WN|\n",
            "|   SEA| BOS|     AS|\n",
            "|   PDX| BUR|     OO|\n",
            "+------+----+-------+\n",
            "only showing top 20 rows\n",
            "\n"
          ]
        }
      ]
    },
    {
      "cell_type": "markdown",
      "source": [
        "### Aggregation Selection"
      ],
      "metadata": {
        "id": "5RR6NhF2KghX"
      }
    },
    {
      "cell_type": "code",
      "source": [
        "avg_speed = (flights_table.distance / (flights_table.air_time / 60)).alias(\"avg_speed\")\n",
        "flights_table.select('origin','dest','tailnum', avg_speed).show()"
      ],
      "metadata": {
        "colab": {
          "base_uri": "https://localhost:8080/"
        },
        "id": "adVxWqVfKgDL",
        "outputId": "c80ea897-7dd4-42c6-9fb8-5468aa502d48"
      },
      "execution_count": null,
      "outputs": [
        {
          "output_type": "stream",
          "name": "stdout",
          "text": [
            "+------+----+-------+------------------+\n",
            "|origin|dest|tailnum|         avg_speed|\n",
            "+------+----+-------+------------------+\n",
            "|   SEA| LAX| N846VA| 433.6363636363636|\n",
            "|   SEA| HNL| N559AS| 446.1666666666667|\n",
            "|   SEA| SFO| N847VA|367.02702702702703|\n",
            "|   PDX| SJC| N360SW| 411.3253012048193|\n",
            "|   SEA| BUR| N612AS| 442.6771653543307|\n",
            "|   PDX| DEN| N646SW|491.40495867768595|\n",
            "|   PDX| OAK| N422WN|             362.0|\n",
            "|   SEA| SFO| N361VA| 415.7142857142857|\n",
            "|   SEA| SAN| N309AS| 466.6666666666667|\n",
            "|   SEA| ORD| N564AS| 521.5151515151515|\n",
            "|   SEA| LAX| N323AS| 440.3076923076923|\n",
            "|   SEA| PHX| N305AS|431.29870129870125|\n",
            "|   SEA| LAS| N433AS| 409.6062992125984|\n",
            "|   SEA| ANC| N765AS|474.75409836065575|\n",
            "|   SEA| SFO| N713AS| 315.8139534883721|\n",
            "|   PDX| SFO| N27205| 366.6666666666667|\n",
            "|   SEA| SMF| N626AS|477.63157894736844|\n",
            "|   SEA| MDW| N8634A|481.38888888888886|\n",
            "|   SEA| BOS| N597AS| 516.4137931034483|\n",
            "|   PDX| BUR| N215AG| 441.6216216216216|\n",
            "+------+----+-------+------------------+\n",
            "only showing top 20 rows\n",
            "\n"
          ]
        }
      ]
    },
    {
      "cell_type": "code",
      "source": [
        "flights_table.selectExpr('origin', 'dest', 'tailnum', 'distance / (air_time / 60) as avg_speed').show()"
      ],
      "metadata": {
        "colab": {
          "base_uri": "https://localhost:8080/"
        },
        "id": "62wWuuG5Kzz-",
        "outputId": "c5fd8d1a-38b9-4f2a-aba5-7a8f80428143"
      },
      "execution_count": null,
      "outputs": [
        {
          "output_type": "stream",
          "name": "stdout",
          "text": [
            "+------+----+-------+------------------+\n",
            "|origin|dest|tailnum|         avg_speed|\n",
            "+------+----+-------+------------------+\n",
            "|   SEA| LAX| N846VA| 433.6363636363636|\n",
            "|   SEA| HNL| N559AS| 446.1666666666667|\n",
            "|   SEA| SFO| N847VA|367.02702702702703|\n",
            "|   PDX| SJC| N360SW| 411.3253012048193|\n",
            "|   SEA| BUR| N612AS| 442.6771653543307|\n",
            "|   PDX| DEN| N646SW|491.40495867768595|\n",
            "|   PDX| OAK| N422WN|             362.0|\n",
            "|   SEA| SFO| N361VA| 415.7142857142857|\n",
            "|   SEA| SAN| N309AS| 466.6666666666667|\n",
            "|   SEA| ORD| N564AS| 521.5151515151515|\n",
            "|   SEA| LAX| N323AS| 440.3076923076923|\n",
            "|   SEA| PHX| N305AS|431.29870129870125|\n",
            "|   SEA| LAS| N433AS| 409.6062992125984|\n",
            "|   SEA| ANC| N765AS|474.75409836065575|\n",
            "|   SEA| SFO| N713AS| 315.8139534883721|\n",
            "|   PDX| SFO| N27205| 366.6666666666667|\n",
            "|   SEA| SMF| N626AS|477.63157894736844|\n",
            "|   SEA| MDW| N8634A|481.38888888888886|\n",
            "|   SEA| BOS| N597AS| 516.4137931034483|\n",
            "|   PDX| BUR| N215AG| 441.6216216216216|\n",
            "+------+----+-------+------------------+\n",
            "only showing top 20 rows\n",
            "\n"
          ]
        }
      ]
    },
    {
      "cell_type": "code",
      "source": [
        "# Find min-max value of distance and air_time\n",
        "flights_table = flights_table.withColumn('distance', flights_table.distance.cast('float'))\n",
        "flights_table = flights_table.withColumn('air_time', flights_table.air_time.cast('float'))\n",
        "\n",
        "flights_table.describe('air_time', 'distance').show()"
      ],
      "metadata": {
        "colab": {
          "base_uri": "https://localhost:8080/"
        },
        "id": "aWWXYc-8LJ5N",
        "outputId": "98e62b48-96cc-41a5-ea16-7699d6ddf030"
      },
      "execution_count": null,
      "outputs": [
        {
          "output_type": "stream",
          "name": "stdout",
          "text": [
            "+-------+------------------+-----------------+\n",
            "|summary|          air_time|         distance|\n",
            "+-------+------------------+-----------------+\n",
            "|  count|              9925|            10000|\n",
            "|   mean|152.88423173803525|        1208.1516|\n",
            "| stddev|  72.8656286392139|656.8599023464376|\n",
            "|    min|              20.0|             93.0|\n",
            "|    max|             409.0|           2724.0|\n",
            "+-------+------------------+-----------------+\n",
            "\n"
          ]
        }
      ]
    },
    {
      "cell_type": "markdown",
      "source": [
        "### Groupby"
      ],
      "metadata": {
        "id": "inqW4ezoMUDd"
      }
    },
    {
      "cell_type": "code",
      "source": [
        "# Find the length of the shortest (in terms of distance) flight that left PDX\n",
        "flights_table.filter(flights_table.origin == 'PDX').groupBy().min('distance').show()"
      ],
      "metadata": {
        "colab": {
          "base_uri": "https://localhost:8080/"
        },
        "id": "SeKHhRqBLhz-",
        "outputId": "dfcf7345-d9d8-42b9-db78-058048a18c8a"
      },
      "execution_count": null,
      "outputs": [
        {
          "output_type": "stream",
          "name": "stdout",
          "text": [
            "+-------------+\n",
            "|min(distance)|\n",
            "+-------------+\n",
            "|        106.0|\n",
            "+-------------+\n",
            "\n"
          ]
        }
      ]
    },
    {
      "cell_type": "code",
      "source": [
        "# Find the length of the longest (in terms of time) flight that left SEA\n",
        "flights_table.filter(flights_table.origin == 'SEA').groupBy().max('air_time').show()"
      ],
      "metadata": {
        "colab": {
          "base_uri": "https://localhost:8080/"
        },
        "id": "yr3i3nJgLqxQ",
        "outputId": "64f20dc6-7c4b-4fef-e07f-caeefdebdfbd"
      },
      "execution_count": null,
      "outputs": [
        {
          "output_type": "stream",
          "name": "stdout",
          "text": [
            "+-------------+\n",
            "|max(air_time)|\n",
            "+-------------+\n",
            "|        409.0|\n",
            "+-------------+\n",
            "\n"
          ]
        }
      ]
    },
    {
      "cell_type": "code",
      "source": [
        "# Get the average air time of Delta Airlines flights that left SEA.\n",
        "flights_table.filter(flights_table.carrier == 'DL').filter(flights_table.origin == 'SEA').groupBy().avg('air_time').show()"
      ],
      "metadata": {
        "colab": {
          "base_uri": "https://localhost:8080/"
        },
        "id": "hWKM3oE8L0IW",
        "outputId": "1e0273c5-b4e4-449f-904f-8bd5763ace2b"
      },
      "execution_count": null,
      "outputs": [
        {
          "output_type": "stream",
          "name": "stdout",
          "text": [
            "+------------------+\n",
            "|     avg(air_time)|\n",
            "+------------------+\n",
            "|188.20689655172413|\n",
            "+------------------+\n",
            "\n"
          ]
        }
      ]
    },
    {
      "cell_type": "code",
      "source": [
        "# Get the total number of hours all planes in this dataset spent in the air by creating a column called duration_hrs\n",
        "flights_table.withColumn('duration_hrs', flights_table.air_time / 60).groupBy().sum('duration_hrs').show()"
      ],
      "metadata": {
        "colab": {
          "base_uri": "https://localhost:8080/"
        },
        "id": "0jbX-WlYL7gz",
        "outputId": "f28cc0b3-841a-40fb-e53e-6273b10c4691"
      },
      "execution_count": null,
      "outputs": [
        {
          "output_type": "stream",
          "name": "stdout",
          "text": [
            "+------------------+\n",
            "| sum(duration_hrs)|\n",
            "+------------------+\n",
            "|25289.600000000126|\n",
            "+------------------+\n",
            "\n"
          ]
        }
      ]
    },
    {
      "cell_type": "code",
      "source": [
        "# Group by tailnum column\n",
        "by_plane = flights_table.groupBy('tailnum')"
      ],
      "metadata": {
        "id": "slYjn2FmL_h7"
      },
      "execution_count": null,
      "outputs": []
    },
    {
      "cell_type": "code",
      "source": [
        "# Use the .count() method with no arguments to count the number of flights each plane made\n",
        "by_plane.count().show()"
      ],
      "metadata": {
        "colab": {
          "base_uri": "https://localhost:8080/"
        },
        "id": "HqHAWeuQMIXe",
        "outputId": "9099ae90-7c70-4878-8570-7c261f6b1108"
      },
      "execution_count": null,
      "outputs": [
        {
          "output_type": "stream",
          "name": "stdout",
          "text": [
            "+-------+-----+\n",
            "|tailnum|count|\n",
            "+-------+-----+\n",
            "| N442AS|   38|\n",
            "| N102UW|    2|\n",
            "| N36472|    4|\n",
            "| N38451|    4|\n",
            "| N73283|    4|\n",
            "| N513UA|    2|\n",
            "| N954WN|    5|\n",
            "| N388DA|    3|\n",
            "| N567AA|    1|\n",
            "| N516UA|    2|\n",
            "| N927DN|    1|\n",
            "| N8322X|    1|\n",
            "| N466SW|    1|\n",
            "|  N6700|    1|\n",
            "| N607AS|   45|\n",
            "| N622SW|    4|\n",
            "| N584AS|   31|\n",
            "| N914WN|    4|\n",
            "| N654AW|    2|\n",
            "| N336NW|    1|\n",
            "+-------+-----+\n",
            "only showing top 20 rows\n",
            "\n"
          ]
        }
      ]
    },
    {
      "cell_type": "code",
      "source": [
        "# Group by origin column\n",
        "by_origin = flights_table.groupBy('origin')"
      ],
      "metadata": {
        "id": "0Y95UOV0MOyN"
      },
      "execution_count": null,
      "outputs": []
    },
    {
      "cell_type": "code",
      "source": [
        "# Find the .avg() of the air_time column to find average duration of flights from PDX and SEA\n",
        "by_origin.avg('air_time').show()"
      ],
      "metadata": {
        "colab": {
          "base_uri": "https://localhost:8080/"
        },
        "id": "X9dFYK1bMZlQ",
        "outputId": "da9c4ed0-eb7f-41b7-b801-bc62414150f4"
      },
      "execution_count": null,
      "outputs": [
        {
          "output_type": "stream",
          "name": "stdout",
          "text": [
            "+------+------------------+\n",
            "|origin|     avg(air_time)|\n",
            "+------+------------------+\n",
            "|   SEA| 160.4361496051259|\n",
            "|   PDX|137.11543248288737|\n",
            "+------+------------------+\n",
            "\n"
          ]
        }
      ]
    },
    {
      "cell_type": "code",
      "source": [
        "# Convert dep_delay to numeric column\n",
        "flights = flights_table.withColumn('dep_delay', flights_table.dep_delay.cast('float'))\n",
        "\n",
        "# Group by month and dest\n",
        "by_month_dest = flights.groupBy('month', 'dest')"
      ],
      "metadata": {
        "id": "rOTseH7AMno5"
      },
      "execution_count": null,
      "outputs": []
    },
    {
      "cell_type": "code",
      "source": [
        "# Average departure delay by month and destination\n",
        "by_month_dest.avg('dep_delay').show()"
      ],
      "metadata": {
        "colab": {
          "base_uri": "https://localhost:8080/"
        },
        "id": "W_bSylwJMrg1",
        "outputId": "7303e221-6e6f-494b-eb77-a3b08d1318b7"
      },
      "execution_count": null,
      "outputs": [
        {
          "output_type": "stream",
          "name": "stdout",
          "text": [
            "+-----+----+--------------------+\n",
            "|month|dest|      avg(dep_delay)|\n",
            "+-----+----+--------------------+\n",
            "|   11| TUS| -2.3333333333333335|\n",
            "|   11| ANC|   7.529411764705882|\n",
            "|    1| BUR|               -1.45|\n",
            "|    1| PDX| -5.6923076923076925|\n",
            "|    6| SBA|                -2.5|\n",
            "|    5| LAX|-0.15789473684210525|\n",
            "|   10| DTW|                 2.6|\n",
            "|    6| SIT|                -1.0|\n",
            "|   10| DFW|  18.176470588235293|\n",
            "|    3| FAI|                -2.2|\n",
            "|   10| SEA|                -0.8|\n",
            "|    2| TUS| -0.6666666666666666|\n",
            "|   12| OGG|  25.181818181818183|\n",
            "|    9| DFW|   4.066666666666666|\n",
            "|    5| EWR|               14.25|\n",
            "|    3| RDM|                -6.2|\n",
            "|    8| DCA|                 2.6|\n",
            "|    7| ATL|   4.675675675675675|\n",
            "|    4| JFK| 0.07142857142857142|\n",
            "|   10| SNA| -1.1333333333333333|\n",
            "+-----+----+--------------------+\n",
            "only showing top 20 rows\n",
            "\n"
          ]
        }
      ]
    },
    {
      "cell_type": "markdown",
      "source": [
        "### Join"
      ],
      "metadata": {
        "id": "XVZWbyfSM_aH"
      }
    },
    {
      "cell_type": "code",
      "source": [
        "airports_table = spark.table('airports')\n",
        "airports_table.show()"
      ],
      "metadata": {
        "colab": {
          "base_uri": "https://localhost:8080/"
        },
        "id": "docc_GRBMueV",
        "outputId": "149d3eb4-4885-4834-c4c5-3c0038f6399e"
      },
      "execution_count": null,
      "outputs": [
        {
          "output_type": "stream",
          "name": "stdout",
          "text": [
            "+---+--------------------+----------------+-----------------+----+---+---+\n",
            "|faa|                name|             lat|              lon| alt| tz|dst|\n",
            "+---+--------------------+----------------+-----------------+----+---+---+\n",
            "|04G|   Lansdowne Airport|      41.1304722|      -80.6195833|1044| -5|  A|\n",
            "|06A|Moton Field Munic...|      32.4605722|      -85.6800278| 264| -5|  A|\n",
            "|06C| Schaumburg Regional|      41.9893408|      -88.1012428| 801| -6|  A|\n",
            "|06N|     Randall Airport|       41.431912|      -74.3915611| 523| -5|  A|\n",
            "|09J|Jekyll Island Air...|      31.0744722|      -81.4277778|  11| -4|  A|\n",
            "|0A9|Elizabethton Muni...|      36.3712222|      -82.1734167|1593| -4|  A|\n",
            "|0G6|Williams County A...|      41.4673056|      -84.5067778| 730| -5|  A|\n",
            "|0G7|Finger Lakes Regi...|      42.8835647|      -76.7812318| 492| -5|  A|\n",
            "|0P2|Shoestring Aviati...|      39.7948244|      -76.6471914|1000| -5|  U|\n",
            "|0S9|Jefferson County ...|      48.0538086|     -122.8106436| 108| -8|  A|\n",
            "|0W3|Harford County Ai...|      39.5668378|      -76.2024028| 409| -5|  A|\n",
            "|10C|  Galt Field Airport|      42.4028889|      -88.3751111| 875| -6|  U|\n",
            "|17G|Port Bucyrus-Craw...|      40.7815556|      -82.9748056|1003| -5|  A|\n",
            "|19A|Jackson County Ai...|      34.1758638|      -83.5615972| 951| -4|  U|\n",
            "|1A3|Martin Campbell F...|      35.0158056|      -84.3468333|1789| -4|  A|\n",
            "|1B9| Mansfield Municipal|      42.0001331|      -71.1967714| 122| -5|  A|\n",
            "|1C9|Frazier Lake Airpark|54.0133333333333|-124.768333333333| 152| -8|  A|\n",
            "|1CS|Clow Internationa...|      41.6959744|      -88.1292306| 670| -6|  U|\n",
            "|1G3|  Kent State Airport|      41.1513889|      -81.4151111|1134| -4|  A|\n",
            "|1OH|     Fortman Airport|      40.5553253|      -84.3866186| 885| -5|  U|\n",
            "+---+--------------------+----------------+-----------------+----+---+---+\n",
            "only showing top 20 rows\n",
            "\n"
          ]
        }
      ]
    },
    {
      "cell_type": "code",
      "source": [
        "# Rename the faa column\n",
        "airports_table = airports_table.withColumnRenamed('faa','dest')\n",
        "airports_table.show()"
      ],
      "metadata": {
        "colab": {
          "base_uri": "https://localhost:8080/"
        },
        "id": "nSBxAk5zNE9f",
        "outputId": "1c2bac26-c684-4422-da78-3f6edbb73a7c"
      },
      "execution_count": null,
      "outputs": [
        {
          "output_type": "stream",
          "name": "stdout",
          "text": [
            "+----+--------------------+----------------+-----------------+----+---+---+\n",
            "|dest|                name|             lat|              lon| alt| tz|dst|\n",
            "+----+--------------------+----------------+-----------------+----+---+---+\n",
            "| 04G|   Lansdowne Airport|      41.1304722|      -80.6195833|1044| -5|  A|\n",
            "| 06A|Moton Field Munic...|      32.4605722|      -85.6800278| 264| -5|  A|\n",
            "| 06C| Schaumburg Regional|      41.9893408|      -88.1012428| 801| -6|  A|\n",
            "| 06N|     Randall Airport|       41.431912|      -74.3915611| 523| -5|  A|\n",
            "| 09J|Jekyll Island Air...|      31.0744722|      -81.4277778|  11| -4|  A|\n",
            "| 0A9|Elizabethton Muni...|      36.3712222|      -82.1734167|1593| -4|  A|\n",
            "| 0G6|Williams County A...|      41.4673056|      -84.5067778| 730| -5|  A|\n",
            "| 0G7|Finger Lakes Regi...|      42.8835647|      -76.7812318| 492| -5|  A|\n",
            "| 0P2|Shoestring Aviati...|      39.7948244|      -76.6471914|1000| -5|  U|\n",
            "| 0S9|Jefferson County ...|      48.0538086|     -122.8106436| 108| -8|  A|\n",
            "| 0W3|Harford County Ai...|      39.5668378|      -76.2024028| 409| -5|  A|\n",
            "| 10C|  Galt Field Airport|      42.4028889|      -88.3751111| 875| -6|  U|\n",
            "| 17G|Port Bucyrus-Craw...|      40.7815556|      -82.9748056|1003| -5|  A|\n",
            "| 19A|Jackson County Ai...|      34.1758638|      -83.5615972| 951| -4|  U|\n",
            "| 1A3|Martin Campbell F...|      35.0158056|      -84.3468333|1789| -4|  A|\n",
            "| 1B9| Mansfield Municipal|      42.0001331|      -71.1967714| 122| -5|  A|\n",
            "| 1C9|Frazier Lake Airpark|54.0133333333333|-124.768333333333| 152| -8|  A|\n",
            "| 1CS|Clow Internationa...|      41.6959744|      -88.1292306| 670| -6|  U|\n",
            "| 1G3|  Kent State Airport|      41.1513889|      -81.4151111|1134| -4|  A|\n",
            "| 1OH|     Fortman Airport|      40.5553253|      -84.3866186| 885| -5|  U|\n",
            "+----+--------------------+----------------+-----------------+----+---+---+\n",
            "only showing top 20 rows\n",
            "\n"
          ]
        }
      ]
    },
    {
      "cell_type": "code",
      "source": [
        "# Join table\n",
        "flights_with_airports_table = flights_table.join(airports_table, on='dest', how='leftouter')\n",
        "flights_with_airports_table.show()"
      ],
      "metadata": {
        "colab": {
          "base_uri": "https://localhost:8080/"
        },
        "id": "UVmzVMmSNMh_",
        "outputId": "5e908e65-7fa5-45f7-c535-122f93c5d4dc"
      },
      "execution_count": null,
      "outputs": [
        {
          "output_type": "stream",
          "name": "stdout",
          "text": [
            "+----+----+-----+---+--------+---------+--------+---------+-------+-------+------+------+--------+--------+----+------+------------------+--------------------+---------+-----------+----+---+---+\n",
            "|dest|year|month|day|dep_time|dep_delay|arr_time|arr_delay|carrier|tailnum|flight|origin|air_time|distance|hour|minute|    duration_hours|                name|      lat|        lon| alt| tz|dst|\n",
            "+----+----+-----+---+--------+---------+--------+---------+-------+-------+------+------+--------+--------+----+------+------------------+--------------------+---------+-----------+----+---+---+\n",
            "| LAX|2014|   12|  8|     658|       -7|     935|       -5|     VX| N846VA|  1780|   SEA|   132.0|   954.0|   6|    58|               2.2|    Los Angeles Intl|33.942536|-118.408075| 126| -8|  A|\n",
            "| HNL|2014|    1| 22|    1040|        5|    1505|        5|     AS| N559AS|   851|   SEA|   360.0|  2677.0|  10|    40|               6.0|       Honolulu Intl|21.318681|-157.922428|  13|-10|  N|\n",
            "| SFO|2014|    3|  9|    1443|       -2|    1652|        2|     VX| N847VA|   755|   SEA|   111.0|   679.0|  14|    43|              1.85|  San Francisco Intl|37.618972|-122.374889|  13| -8|  A|\n",
            "| SJC|2014|    4|  9|    1705|       45|    1839|       34|     WN| N360SW|   344|   PDX|    83.0|   569.0|  17|     5|1.3833333333333333|Norman Y Mineta S...|  37.3626|-121.929022|  62| -8|  A|\n",
            "| BUR|2014|    3|  9|     754|       -1|    1015|        1|     AS| N612AS|   522|   SEA|   127.0|   937.0|   7|    54|2.1166666666666667|            Bob Hope|34.200667|-118.358667| 778| -8|  A|\n",
            "| DEN|2014|    1| 15|    1037|        7|    1352|        2|     WN| N646SW|    48|   PDX|   121.0|   991.0|  10|    37|2.0166666666666666|         Denver Intl|39.861656|-104.673178|5431| -7|  A|\n",
            "| OAK|2014|    7|  2|     847|       42|    1041|       51|     WN| N422WN|  1520|   PDX|    90.0|   543.0|   8|    47|               1.5|Metropolitan Oakl...|37.721278|-122.220722|   9| -8|  A|\n",
            "| SFO|2014|    5| 12|    1655|       -5|    1842|      -18|     VX| N361VA|   755|   SEA|    98.0|   679.0|  16|    55|1.6333333333333333|  San Francisco Intl|37.618972|-122.374889|  13| -8|  A|\n",
            "| SAN|2014|    4| 19|    1236|       -4|    1508|       -7|     AS| N309AS|   490|   SEA|   135.0|  1050.0|  12|    36|              2.25|      San Diego Intl|32.733556|-117.189667|  17| -8|  A|\n",
            "| ORD|2014|   11| 19|    1812|       -3|    2352|       -4|     AS| N564AS|    26|   SEA|   198.0|  1721.0|  18|    12|               3.3|  Chicago Ohare Intl|41.978603| -87.904842| 668| -6|  A|\n",
            "| LAX|2014|   11|  8|    1653|       -2|    1924|       -1|     AS| N323AS|   448|   SEA|   130.0|   954.0|  16|    53|2.1666666666666665|    Los Angeles Intl|33.942536|-118.408075| 126| -8|  A|\n",
            "| PHX|2014|    8|  3|    1120|        0|    1415|        2|     AS| N305AS|   656|   SEA|   154.0|  1107.0|  11|    20| 2.566666666666667|Phoenix Sky Harbo...|33.434278|-112.011583|1135| -7|  N|\n",
            "| LAS|2014|   10| 30|     811|       21|    1038|       29|     AS| N433AS|   608|   SEA|   127.0|   867.0|   8|    11|2.1166666666666667|      Mc Carran Intl|36.080056| -115.15225|2141| -8|  A|\n",
            "| ANC|2014|   11| 12|    2346|       -4|     217|      -28|     AS| N765AS|   121|   SEA|   183.0|  1448.0|  23|    46|              3.05|Ted Stevens Ancho...|61.174361|-149.996361| 152| -9|  A|\n",
            "| SFO|2014|   10| 31|    1314|       89|    1544|      111|     AS| N713AS|   306|   SEA|   129.0|   679.0|  13|    14|              2.15|  San Francisco Intl|37.618972|-122.374889|  13| -8|  A|\n",
            "| SFO|2014|    1| 29|    2009|        3|    2159|        9|     UA| N27205|  1458|   PDX|    90.0|   550.0|  20|     9|               1.5|  San Francisco Intl|37.618972|-122.374889|  13| -8|  A|\n",
            "| SMF|2014|   12| 17|    2015|       50|    2150|       41|     AS| N626AS|   368|   SEA|    76.0|   605.0|  20|    15|1.2666666666666666|     Sacramento Intl|38.695417|-121.590778|  27| -8|  A|\n",
            "| MDW|2014|    8| 11|    1017|       -3|    1613|       -7|     WN| N8634A|   827|   SEA|   216.0|  1733.0|  10|    17|               3.6| Chicago Midway Intl|41.785972| -87.752417| 620| -6|  A|\n",
            "| BOS|2014|    1| 13|    2156|       -9|     607|      -15|     AS| N597AS|    24|   SEA|   290.0|  2496.0|  21|    56| 4.833333333333333|General Edward La...|42.364347| -71.005181|  19| -5|  A|\n",
            "| BUR|2014|    6|  5|    1733|      -12|    1945|      -10|     OO| N215AG|  3488|   PDX|   111.0|   817.0|  17|    33|              1.85|            Bob Hope|34.200667|-118.358667| 778| -8|  A|\n",
            "+----+----+-----+---+--------+---------+--------+---------+-------+-------+------+------+--------+--------+----+------+------------------+--------------------+---------+-----------+----+---+---+\n",
            "only showing top 20 rows\n",
            "\n"
          ]
        }
      ]
    }
  ]
}