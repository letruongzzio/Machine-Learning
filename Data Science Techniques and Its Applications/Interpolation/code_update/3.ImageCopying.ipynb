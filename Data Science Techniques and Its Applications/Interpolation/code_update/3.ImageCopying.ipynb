{
 "cells": [
  {
   "cell_type": "markdown",
   "id": "e91ee0ea",
   "metadata": {},
   "source": [
    "## Copy an image"
   ]
  },
  {
   "cell_type": "code",
   "execution_count": 1,
   "id": "ba634d3e",
   "metadata": {},
   "outputs": [
    {
     "data": {
      "text/plain": [
       "True"
      ]
     },
     "execution_count": 1,
     "metadata": {},
     "output_type": "execute_result"
    }
   ],
   "source": [
    "# copy image\n",
    "\n",
    "import cv2\n",
    "import numpy as np\n",
    "\n",
    "# read an image and return a 2D list\n",
    "image = cv2.imread('nature.jpg', 0).tolist()\n",
    "height = len(image)\n",
    "width = len(image[0])\n",
    "\n",
    "# create a 2D list\n",
    "copy_image = [[0]*width for _ in range(height)]\n",
    "\n",
    "# copy\n",
    "for i in range(height):\n",
    "    for j in range(width):\n",
    "        copy_image[i][j] = image[i][j]\n",
    "\n",
    "# save an image from a list\n",
    "cv2.imwrite('3.nature_copy.jpg', np.array(copy_image))"
   ]
  },
  {
   "cell_type": "code",
   "execution_count": null,
   "id": "1d4d22d1",
   "metadata": {},
   "outputs": [],
   "source": []
  },
  {
   "cell_type": "code",
   "execution_count": 2,
   "id": "74d49e2d",
   "metadata": {},
   "outputs": [
    {
     "data": {
      "text/plain": [
       "True"
      ]
     },
     "execution_count": 2,
     "metadata": {},
     "output_type": "execute_result"
    }
   ],
   "source": [
    "# Copy and increase image brightness (1)\n",
    "\n",
    "import cv2\n",
    "import numpy as np\n",
    "\n",
    "# read an image and return a 2D list\n",
    "image = cv2.imread('nature.jpg', 0).tolist()\n",
    "height = len(image)\n",
    "width = len(image[0])\n",
    "\n",
    "# create a 2D list\n",
    "copy_image = [[0]*width for _ in range(height)]\n",
    "\n",
    "# copy and increase image brightness\n",
    "value = 50\n",
    "for i in range(height):\n",
    "    for j in range(width):\n",
    "        copy_image[i][j] = min(255, image[i][j] + value)\n",
    "\n",
    "# save an image from a list\n",
    "cv2.imwrite('3.nature_increase_50.jpg', np.array(copy_image))"
   ]
  },
  {
   "cell_type": "code",
   "execution_count": null,
   "id": "97182b0c",
   "metadata": {},
   "outputs": [],
   "source": []
  },
  {
   "cell_type": "code",
   "execution_count": 3,
   "id": "3d73d8f9",
   "metadata": {},
   "outputs": [
    {
     "data": {
      "text/plain": [
       "True"
      ]
     },
     "execution_count": 3,
     "metadata": {},
     "output_type": "execute_result"
    }
   ],
   "source": [
    "# Copy and decrease image brightness (1)\n",
    "\n",
    "import cv2\n",
    "import numpy as np\n",
    "\n",
    "# read an image and return a 2D list\n",
    "image = cv2.imread('nature.jpg', 0).tolist()\n",
    "height = len(image)\n",
    "width = len(image[0])\n",
    "\n",
    "# create a 2D list\n",
    "copy_image = [[0]*width for _ in range(height)]\n",
    "\n",
    "# copy and increase image brightness\n",
    "value = 50\n",
    "for i in range(height):\n",
    "    for j in range(width):\n",
    "        copy_image[i][j] = max(0, image[i][j] - value)\n",
    "\n",
    "# save an image from a list\n",
    "cv2.imwrite('3.nature_decrease_50.jpg', np.array(copy_image))"
   ]
  },
  {
   "cell_type": "code",
   "execution_count": null,
   "id": "a6510a9f",
   "metadata": {},
   "outputs": [],
   "source": []
  },
  {
   "cell_type": "markdown",
   "id": "ac73f315",
   "metadata": {},
   "source": [
    "## Copy to a larger image"
   ]
  },
  {
   "cell_type": "code",
   "execution_count": 4,
   "id": "f5030d3d",
   "metadata": {},
   "outputs": [
    {
     "data": {
      "text/plain": [
       "True"
      ]
     },
     "execution_count": 4,
     "metadata": {},
     "output_type": "execute_result"
    }
   ],
   "source": [
    "# occupy a part of the target\n",
    "import cv2\n",
    "import numpy as np\n",
    "\n",
    "# read an image and return a 2D list\n",
    "image = cv2.imread('nature.jpg', 0).tolist()\n",
    "height = len(image)\n",
    "width = len(image[0])\n",
    "\n",
    "# create a 2D list\n",
    "scale = 2\n",
    "new_height = height*scale\n",
    "new_width  = width*scale\n",
    "copy_image = [[0]*new_width for _ in range(new_height)]\n",
    "\n",
    "# copy\n",
    "for i in range(height):\n",
    "    for j in range(width):\n",
    "        copy_image[i][j] = image[i][j]\n",
    "\n",
    "# save an image from a list\n",
    "cv2.imwrite('3.nature_larger_image_part.jpg', np.array(copy_image))"
   ]
  },
  {
   "cell_type": "code",
   "execution_count": null,
   "id": "314a091b",
   "metadata": {},
   "outputs": [],
   "source": []
  },
  {
   "cell_type": "code",
   "execution_count": 5,
   "id": "1f9e63f7",
   "metadata": {},
   "outputs": [
    {
     "data": {
      "text/plain": [
       "True"
      ]
     },
     "execution_count": 5,
     "metadata": {},
     "output_type": "execute_result"
    }
   ],
   "source": [
    "# uniform\n",
    "import cv2\n",
    "import numpy as np\n",
    "\n",
    "# read an image and return a 2D list\n",
    "image = cv2.imread('nature.jpg', 0).tolist()\n",
    "height = len(image)\n",
    "width = len(image[0])\n",
    "\n",
    "# create a 2D list\n",
    "scale = 2\n",
    "new_height = height*scale\n",
    "new_width  = width*scale\n",
    "copy_image = [[0]*new_width for _ in range(new_height)]\n",
    "\n",
    "# copy\n",
    "for i in range(height):\n",
    "    for j in range(width):\n",
    "        copy_image[i*scale][j*scale] = image[i][j]\n",
    "\n",
    "# save an image from a list\n",
    "cv2.imwrite('3.nature_larger_image_uniform.jpg', np.array(copy_image))"
   ]
  },
  {
   "cell_type": "code",
   "execution_count": 6,
   "id": "9d872da8",
   "metadata": {},
   "outputs": [
    {
     "data": {
      "text/plain": [
       "True"
      ]
     },
     "execution_count": 6,
     "metadata": {},
     "output_type": "execute_result"
    }
   ],
   "source": [
    "# uniform\n",
    "import cv2\n",
    "import numpy as np\n",
    "\n",
    "# read an image and return a 2D list\n",
    "image = cv2.imread('nature.jpg', 0).tolist()\n",
    "height = len(image)\n",
    "width = len(image[0])\n",
    "\n",
    "# create a 2D list\n",
    "scale = 2\n",
    "new_height = height*scale\n",
    "new_width  = width*scale\n",
    "copy_image = [[255]*new_width for _ in range(new_height)]\n",
    "\n",
    "# copy\n",
    "for i in range(height):\n",
    "    for j in range(width):\n",
    "        copy_image[i*scale][j*scale] = image[i][j]\n",
    "\n",
    "# save an image from a list\n",
    "cv2.imwrite('3.nature_larger_image_uniform_2.jpg', np.array(copy_image))"
   ]
  },
  {
   "cell_type": "code",
   "execution_count": null,
   "id": "d8bb7eff",
   "metadata": {},
   "outputs": [],
   "source": []
  },
  {
   "cell_type": "code",
   "execution_count": null,
   "id": "3ef898fe",
   "metadata": {},
   "outputs": [],
   "source": []
  }
 ],
 "metadata": {
  "kernelspec": {
   "display_name": "Python 3 (ipykernel)",
   "language": "python",
   "name": "python3"
  },
  "language_info": {
   "codemirror_mode": {
    "name": "ipython",
    "version": 3
   },
   "file_extension": ".py",
   "mimetype": "text/x-python",
   "name": "python",
   "nbconvert_exporter": "python",
   "pygments_lexer": "ipython3",
   "version": "3.9.13"
  }
 },
 "nbformat": 4,
 "nbformat_minor": 5
}
