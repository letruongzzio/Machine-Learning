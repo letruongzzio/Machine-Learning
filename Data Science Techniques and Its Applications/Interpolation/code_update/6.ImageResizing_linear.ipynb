{
 "cells": [
  {
   "cell_type": "markdown",
   "id": "51c4a40d",
   "metadata": {},
   "source": [
    "## 1D Linear interpolation for image resizing"
   ]
  },
  {
   "cell_type": "code",
   "execution_count": 1,
   "id": "141ebb3a",
   "metadata": {},
   "outputs": [],
   "source": [
    "# algorithm\n",
    "def linear_interpolation(p1, p2, x):\n",
    "    x1, y1 = p1\n",
    "    x2, y2 = p2\n",
    "    if x1 != x2:\n",
    "        y = ((x2-x)/(x2-x1))*y1 + ((x-x1)/(x2-x1))*y2\n",
    "    else:\n",
    "        y = y1\n",
    "    return y"
   ]
  },
  {
   "cell_type": "code",
   "execution_count": null,
   "id": "f992bf3b",
   "metadata": {},
   "outputs": [],
   "source": []
  },
  {
   "cell_type": "code",
   "execution_count": 6,
   "id": "ddf4efc2",
   "metadata": {},
   "outputs": [
    {
     "data": {
      "text/plain": [
       "True"
      ]
     },
     "execution_count": 6,
     "metadata": {},
     "output_type": "execute_result"
    }
   ],
   "source": [
    "import cv2\n",
    "import numpy as np\n",
    "import math\n",
    "\n",
    "def linear_interpolation(p1, p2, x):\n",
    "    x1, y1 = p1\n",
    "    x2, y2 = p2\n",
    "    if x1 != x2:\n",
    "        y = ((x2-x)/(x2-x1))*y1 + ((x-x1)/(x2-x1))*y2\n",
    "    else:\n",
    "        y = y1\n",
    "    return y\n",
    "\n",
    "# read image\n",
    "source = cv2.imread('nature.jpg', 0).tolist()\n",
    "source_h = len(image)\n",
    "source_w = len(image[0])\n",
    "\n",
    "# scaling factor\n",
    "w_scale_factor = 2\n",
    "h_scale_factor = 2\n",
    "\n",
    "target_w = source_w*w_scale_factor\n",
    "target_h = source_h*h_scale_factor\n",
    "\n",
    "# step 1: for each row\n",
    "new_data_1 = [[0]*target_w for _ in range(source_h)]    \n",
    "for i in range(source_h):\n",
    "    # get this row\n",
    "    data = source[i]\n",
    "    \n",
    "    # interpolate for row j-th in target\n",
    "    for j in range(target_w-1):\n",
    "        if j%w_scale_factor == 0:\n",
    "            j_scaled = j//w_scale_factor\n",
    "            new_data_1[i][j] = data[j_scaled]\n",
    "        else:\n",
    "            x1 = math.floor(j/w_scale_factor)\n",
    "            p1 = (x1, data[x1])\n",
    "            \n",
    "            x2 = math.ceil(j/w_scale_factor)\n",
    "            p2 = (x2, data[x2])\n",
    "            \n",
    "            x = j/w_scale_factor\n",
    "            new_data_1[i][j] = linear_interpolation(p1, p2, x)\n",
    "\n",
    "# save image\n",
    "cv2.imwrite('6.nature_linear_2x.jpg', np.array(new_data_1))"
   ]
  },
  {
   "cell_type": "code",
   "execution_count": 24,
   "id": "52a1fcab",
   "metadata": {},
   "outputs": [
    {
     "data": {
      "text/plain": [
       "True"
      ]
     },
     "execution_count": 24,
     "metadata": {},
     "output_type": "execute_result"
    }
   ],
   "source": []
  },
  {
   "cell_type": "code",
   "execution_count": 19,
   "id": "ddf052cd",
   "metadata": {},
   "outputs": [
    {
     "data": {
      "text/plain": [
       "True"
      ]
     },
     "execution_count": 19,
     "metadata": {},
     "output_type": "execute_result"
    }
   ],
   "source": [
    "import cv2\n",
    "import numpy as np\n",
    "import math\n",
    "\n",
    "# read image\n",
    "source = cv2.imread('nature.jpg', 0).tolist()\n",
    "source_h = len(image)\n",
    "source_w = len(image[0])\n",
    "\n",
    "# scaling factor\n",
    "w_scale_factor = 2\n",
    "h_scale_factor = 2\n",
    "\n",
    "target_w = source_w*w_scale_factor\n",
    "target_h = source_h*h_scale_factor\n",
    "\n",
    "# step 1: for each row\n",
    "new_data_1 = [[0]*target_w for _ in range(source_h)]    \n",
    "for i in range(source_h):\n",
    "    # get this row\n",
    "    data = source[i]\n",
    "    \n",
    "    # interpolate for row j-th in target\n",
    "    for j in range(target_w-1):\n",
    "        if j%w_scale_factor == 0:\n",
    "            j_scaled = j//w_scale_factor\n",
    "            new_data_1[i][j] = data[j_scaled]\n",
    "        else:\n",
    "            x1 = math.floor(j/w_scale_factor)\n",
    "            p1 = (x1, data[x1])\n",
    "            \n",
    "            x2 = math.ceil(j/w_scale_factor)\n",
    "            p2 = (x2, data[x2])\n",
    "            \n",
    "            x = j/w_scale_factor\n",
    "            new_data_1[i][j] = linear_interpolation(p1, p2, x)\n",
    "     \n",
    "    \n",
    "# step 2: for each column\n",
    "new_data_2 = [[0]*target_w for _ in range(target_h)]         \n",
    "for j in range(target_w):\n",
    "    # get this column\n",
    "    data = [row[j] for row in new_data_1]\n",
    "    \n",
    "    # interpolate for row j-th in target\n",
    "    for i in range(target_h-1):        \n",
    "        if i%h_scale_factor == 0:\n",
    "            i_scaled = i//h_scale_factor\n",
    "            new_data_2[i][j] = data[i_scaled]\n",
    "        else:\n",
    "            x1 = math.floor(i/h_scale_factor)\n",
    "            p1 = (x1, data[x1])\n",
    "            \n",
    "            x2 = math.ceil(i/h_scale_factor)\n",
    "            p2 = (x2, data[x2])\n",
    "            \n",
    "            x = i/w_scale_factor\n",
    "            new_data_2[i][j] = linear_interpolation(p1, p2, x)          \n",
    "\n",
    "\n",
    "# save image\n",
    "cv2.imwrite('6.nature_linear_2x_step2.jpg', np.array(new_data_2))"
   ]
  },
  {
   "cell_type": "code",
   "execution_count": null,
   "id": "36a5579f",
   "metadata": {},
   "outputs": [],
   "source": []
  },
  {
   "cell_type": "code",
   "execution_count": null,
   "id": "6f703b95",
   "metadata": {},
   "outputs": [],
   "source": []
  }
 ],
 "metadata": {
  "kernelspec": {
   "display_name": "Python 3 (ipykernel)",
   "language": "python",
   "name": "python3"
  },
  "language_info": {
   "codemirror_mode": {
    "name": "ipython",
    "version": 3
   },
   "file_extension": ".py",
   "mimetype": "text/x-python",
   "name": "python",
   "nbconvert_exporter": "python",
   "pygments_lexer": "ipython3",
   "version": "3.9.13"
  }
 },
 "nbformat": 4,
 "nbformat_minor": 5
}
