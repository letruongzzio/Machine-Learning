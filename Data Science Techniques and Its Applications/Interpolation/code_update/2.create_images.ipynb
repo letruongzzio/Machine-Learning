{
 "cells": [
  {
   "cell_type": "markdown",
   "id": "e91ee0ea",
   "metadata": {},
   "source": [
    "## Create black and noise images"
   ]
  },
  {
   "cell_type": "code",
   "execution_count": 2,
   "id": "ba634d3e",
   "metadata": {},
   "outputs": [
    {
     "data": {
      "text/plain": [
       "True"
      ]
     },
     "execution_count": 2,
     "metadata": {},
     "output_type": "execute_result"
    }
   ],
   "source": [
    "# create a black image\n",
    "\n",
    "import cv2\n",
    "import numpy as np\n",
    "\n",
    "height = 800\n",
    "width = 500\n",
    "image = [[0]*width for _ in range(height)]\n",
    "\n",
    "cv2.imwrite('2.black_image.jpg', np.array(image))"
   ]
  },
  {
   "cell_type": "code",
   "execution_count": null,
   "id": "7977a1f8",
   "metadata": {},
   "outputs": [],
   "source": []
  },
  {
   "cell_type": "code",
   "execution_count": 3,
   "id": "18bfd4c5",
   "metadata": {},
   "outputs": [
    {
     "data": {
      "text/plain": [
       "True"
      ]
     },
     "execution_count": 3,
     "metadata": {},
     "output_type": "execute_result"
    }
   ],
   "source": [
    "# create a black image\n",
    "\n",
    "import cv2\n",
    "import numpy as np\n",
    "import random\n",
    "\n",
    "height = 800\n",
    "width = 500\n",
    "image = [[0]*width for _ in range(height)]\n",
    "\n",
    "# set noise to each pixel; a random integer in [0, 2550]\n",
    "for i in range(height):\n",
    "    for j in range(width):\n",
    "        image[i][j] = random.randint(0, 255)\n",
    "\n",
    "cv2.imwrite('2.noise_image.jpg', np.array(image))"
   ]
  },
  {
   "cell_type": "code",
   "execution_count": null,
   "id": "99e22053",
   "metadata": {},
   "outputs": [],
   "source": []
  }
 ],
 "metadata": {
  "kernelspec": {
   "display_name": "Python 3 (ipykernel)",
   "language": "python",
   "name": "python3"
  },
  "language_info": {
   "codemirror_mode": {
    "name": "ipython",
    "version": 3
   },
   "file_extension": ".py",
   "mimetype": "text/x-python",
   "name": "python",
   "nbconvert_exporter": "python",
   "pygments_lexer": "ipython3",
   "version": "3.9.13"
  }
 },
 "nbformat": 4,
 "nbformat_minor": 5
}
