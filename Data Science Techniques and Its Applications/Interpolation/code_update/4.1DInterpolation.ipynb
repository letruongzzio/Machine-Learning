{
 "cells": [
  {
   "cell_type": "markdown",
   "id": "6f5efa57",
   "metadata": {},
   "source": [
    "## Linear Interpolation"
   ]
  },
  {
   "cell_type": "code",
   "execution_count": 1,
   "id": "05cfd38e",
   "metadata": {},
   "outputs": [],
   "source": [
    "def linear_interpolation(p1, p2, x):\n",
    "    x1, y1 = p1\n",
    "    x2, y2 = p2\n",
    "    if x1 != x2:\n",
    "        y = ((x2-x)/(x2-x1))*y1 + ((x-x1)/(x2-x1))*y2\n",
    "    else:\n",
    "        y = y1\n",
    "    return y"
   ]
  },
  {
   "cell_type": "code",
   "execution_count": 2,
   "id": "09886eba",
   "metadata": {},
   "outputs": [
    {
     "name": "stdout",
     "output_type": "stream",
     "text": [
      "linear interpolation p1=(1, 1), p2=(3, 3), x=2, y=2.0\n"
     ]
    }
   ],
   "source": [
    "p1 = (1,1)\n",
    "p2 = (3,3)\n",
    "x = 2\n",
    "y = linear_interpolation(p1=p1, p2=p2, x=x)\n",
    "print(f\"linear interpolation p1={p1}, p2={p2}, x={x}, y={y}\")"
   ]
  },
  {
   "cell_type": "code",
   "execution_count": 3,
   "id": "a4d05a7b",
   "metadata": {},
   "outputs": [
    {
     "name": "stdout",
     "output_type": "stream",
     "text": [
      "linear interpolation p1=(1, 1), p2=(3, 3), x=1.1, y=1.1\n"
     ]
    }
   ],
   "source": [
    "p1 = (1,1)\n",
    "p2 = (3,3)\n",
    "x = 1.1\n",
    "y = linear_interpolation(p1=p1, p2=p2, x=x)\n",
    "print(f\"linear interpolation p1={p1}, p2={p2}, x={x}, y={y}\")"
   ]
  },
  {
   "cell_type": "code",
   "execution_count": 4,
   "id": "e8f65550",
   "metadata": {},
   "outputs": [
    {
     "name": "stdout",
     "output_type": "stream",
     "text": [
      "linear interpolation p1=(1, 1), p2=(6, 9), x=3, y=4.2\n"
     ]
    }
   ],
   "source": [
    "p1 = (1,1)\n",
    "p2 = (6,9)\n",
    "x = 3\n",
    "y = linear_interpolation(p1=p1, p2=p2, x=x)\n",
    "print(f\"linear interpolation p1={p1}, p2={p2}, x={x}, y={y}\")"
   ]
  },
  {
   "cell_type": "code",
   "execution_count": 2,
   "id": "98967b0a",
   "metadata": {},
   "outputs": [
    {
     "name": "stdout",
     "output_type": "stream",
     "text": [
      "linear interpolation p1=(1, 2.2), p2=(3, 2.7), x=2, y=2.45\n"
     ]
    }
   ],
   "source": [
    "p1 = (1, 2.2)\n",
    "p2 = (3, 2.7)\n",
    "x = 2\n",
    "y = linear_interpolation(p1=p1, p2=p2, x=x)\n",
    "print(f\"linear interpolation p1={p1}, p2={p2}, x={x}, y={y}\")"
   ]
  },
  {
   "cell_type": "code",
   "execution_count": null,
   "id": "2852fc33",
   "metadata": {},
   "outputs": [],
   "source": []
  },
  {
   "cell_type": "markdown",
   "id": "8912836e",
   "metadata": {},
   "source": [
    "## Find None"
   ]
  },
  {
   "cell_type": "code",
   "execution_count": null,
   "id": "696176ec",
   "metadata": {},
   "outputs": [],
   "source": [
    "def algorithm1(data):\n",
    "    result = -1\n",
    "    \n",
    "    for i, v in enumerate(data):\n",
    "        if v==None:\n",
    "            result = i\n",
    "    \n",
    "    return result"
   ]
  },
  {
   "cell_type": "code",
   "execution_count": null,
   "id": "d76ecc1c",
   "metadata": {},
   "outputs": [],
   "source": [
    "def algorithm2(data):\n",
    "    result = -1\n",
    "    \n",
    "    for i, v in enumerate(data):\n",
    "        if v==None:\n",
    "            result = i\n",
    "            break\n",
    "    \n",
    "    return result"
   ]
  },
  {
   "cell_type": "code",
   "execution_count": null,
   "id": "e0887c4a",
   "metadata": {},
   "outputs": [],
   "source": [
    "data = [2.0, None, 2.2, 2.7, 6.2]\n",
    "print(algorithm1(data))\n",
    "print(algorithm2(data))"
   ]
  },
  {
   "cell_type": "code",
   "execution_count": null,
   "id": "fe9c04a8",
   "metadata": {},
   "outputs": [],
   "source": [
    "data = [2.0, 2.2, None, 2.7, 6.2]\n",
    "print(algorithm1(data))\n",
    "print(algorithm2(data))"
   ]
  },
  {
   "cell_type": "code",
   "execution_count": null,
   "id": "15a430e7",
   "metadata": {},
   "outputs": [],
   "source": [
    "data = [2.0, 2.2, None, None, 2.7, 6.2]\n",
    "print(algorithm1(data))\n",
    "print(algorithm2(data))"
   ]
  },
  {
   "cell_type": "code",
   "execution_count": null,
   "id": "849eebbb",
   "metadata": {},
   "outputs": [],
   "source": [
    "data = [2.0, 2.2, 3.2, 2.7, 6.2, 5.9]\n",
    "print(algorithm1(data))\n",
    "print(algorithm2(data))"
   ]
  },
  {
   "cell_type": "code",
   "execution_count": null,
   "id": "f8ce398f",
   "metadata": {},
   "outputs": [],
   "source": []
  },
  {
   "cell_type": "markdown",
   "id": "b600ecc9",
   "metadata": {},
   "source": [
    "## Algorithm"
   ]
  },
  {
   "cell_type": "code",
   "execution_count": 2,
   "id": "79af562b",
   "metadata": {},
   "outputs": [
    {
     "name": "stdout",
     "output_type": "stream",
     "text": [
      "-1 1\n",
      "3 5\n",
      "5 7\n",
      "7 9\n",
      "[2.2, 2.2, 2.0, 2.2, 2.45, 2.7, 3.8000000000000003, 4.9, 4.9]\n"
     ]
    }
   ],
   "source": [
    "# algorithm\n",
    "def linear_interpolation(p1, p2, x):\n",
    "    x1, y1 = p1\n",
    "    x2, y2 = p2\n",
    "    if x1 != x2:\n",
    "        y = ((x2-x)/(x2-x1))*y1 + ((x-x1)/(x2-x1))*y2\n",
    "    else:\n",
    "        y = y1\n",
    "    return y\n",
    "\n",
    "def find_none_index(data):\n",
    "    result = -1\n",
    "    \n",
    "    for i, v in enumerate(data):\n",
    "        if v== None:\n",
    "            result = i\n",
    "            break\n",
    "    \n",
    "    return result\n",
    "\n",
    "def find_end(data, index):\n",
    "    end = len(data)\n",
    "    for i in range(index+1, len(data), 1):\n",
    "        if data[i] != None:\n",
    "            end = i\n",
    "            break\n",
    "    return end\n",
    "\n",
    "def process_data(data):    \n",
    "    while True:\n",
    "        index = find_none_index(data)\n",
    "        if index == -1:\n",
    "            break\n",
    "            \n",
    "        # find begin\n",
    "        begin = index - 1\n",
    "        \n",
    "        # find end\n",
    "        end = find_end(data, index) \n",
    "        \n",
    "        if begin<0:\n",
    "            y = data[end]\n",
    "        elif end>=len(data):\n",
    "            y = data[begin]\n",
    "        else:\n",
    "            p1 = (begin, data[begin])\n",
    "            p2 = (end, data[end])    \n",
    "            y = linear_interpolation(p1=p1, p2=p2, x=index)\n",
    "            \n",
    "        data[index] = y\n",
    "    return data\n",
    "\n",
    "# test\n",
    "data = [None, 2.2, 2.0, 2.2, None, 2.7, None, 4.9, None]\n",
    "result = process_data(data)\n",
    "print(result)"
   ]
  },
  {
   "cell_type": "code",
   "execution_count": null,
   "id": "c78839b6",
   "metadata": {},
   "outputs": [],
   "source": []
  },
  {
   "cell_type": "code",
   "execution_count": null,
   "id": "f425babe",
   "metadata": {},
   "outputs": [],
   "source": []
  },
  {
   "cell_type": "code",
   "execution_count": null,
   "id": "a570bc1a",
   "metadata": {},
   "outputs": [],
   "source": []
  }
 ],
 "metadata": {
  "kernelspec": {
   "display_name": "Python 3 (ipykernel)",
   "language": "python",
   "name": "python3"
  },
  "language_info": {
   "codemirror_mode": {
    "name": "ipython",
    "version": 3
   },
   "file_extension": ".py",
   "mimetype": "text/x-python",
   "name": "python",
   "nbconvert_exporter": "python",
   "pygments_lexer": "ipython3",
   "version": "3.9.13"
  }
 },
 "nbformat": 4,
 "nbformat_minor": 5
}
