{
 "cells": [
  {
   "cell_type": "markdown",
   "id": "51c4a40d",
   "metadata": {},
   "source": [
    "## 1D Nearest neighbor interpolation for image resizing"
   ]
  },
  {
   "cell_type": "markdown",
   "id": "66fa8917",
   "metadata": {},
   "source": [
    "#### Two-step algorithm"
   ]
  },
  {
   "cell_type": "code",
   "execution_count": 6,
   "id": "fd8f6bb9",
   "metadata": {},
   "outputs": [],
   "source": [
    "# version 1 (incomplete)\n",
    "import math\n",
    "\n",
    "def resize_nni_1(source, source_h, source_w, target_h, target_w):\n",
    "    #Calculate horizontal and vertical scaling factor\n",
    "    w_scale_factor = source_w/target_w \n",
    "    h_scale_factor = source_h/target_h\n",
    "    \n",
    "    # step 1\n",
    "    new_data_1 = [[0]*target_w for _ in range(source_h)]    \n",
    "    for i in range(source_h):\n",
    "        for j in range(target_w):\n",
    "            j_scaled = math.floor(j*w_scale_factor)\n",
    "            new_data_1[i][j] = source[i][j_scaled]    \n",
    "            \n",
    "    return new_data_1"
   ]
  },
  {
   "cell_type": "code",
   "execution_count": 8,
   "id": "0f16dbaf",
   "metadata": {},
   "outputs": [
    {
     "name": "stdout",
     "output_type": "stream",
     "text": [
      "[0, 0, 1, 1, 2, 2]\n",
      "[3, 3, 4, 4, 5, 5]\n",
      "[6, 6, 7, 7, 8, 8]\n"
     ]
    }
   ],
   "source": [
    "# test\n",
    "data = [[0, 1, 2],\n",
    "        [3, 4, 5],\n",
    "        [6, 7, 8]]\n",
    "\n",
    "new_data = resize_nni_1(data, 3, 3, 6, 6)\n",
    "for row in new_data:\n",
    "    print(row)"
   ]
  },
  {
   "cell_type": "code",
   "execution_count": null,
   "id": "8ae4fe65",
   "metadata": {},
   "outputs": [],
   "source": []
  },
  {
   "cell_type": "code",
   "execution_count": 13,
   "id": "141ebb3a",
   "metadata": {},
   "outputs": [],
   "source": [
    "# version 1\n",
    "import math\n",
    "\n",
    "def resize_nni_1(source, source_h, source_w, target_h, target_w):\n",
    "    #Calculate horizontal and vertical scaling factor\n",
    "    w_scale_factor = source_w/target_w \n",
    "    h_scale_factor = source_h/target_h\n",
    "    \n",
    "    # step 1\n",
    "    new_data_1 = [[0]*target_w for _ in range(source_h)]    \n",
    "    for i in range(source_h):\n",
    "        for j in range(target_w):\n",
    "            j_scaled = math.floor(j*w_scale_factor)\n",
    "            new_data_1[i][j] = source[i][j_scaled]\n",
    "    \n",
    "    # step 2\n",
    "    new_data_2 = [[0]*target_w for _ in range(target_h)]         \n",
    "    for j in range(target_w):\n",
    "        for i in range(target_h):        \n",
    "            i_scaled = math.floor(i*h_scale_factor)\n",
    "            new_data_2[i][j] = new_data_1[i_scaled][j]\n",
    "          \n",
    "    return new_data_2"
   ]
  },
  {
   "cell_type": "code",
   "execution_count": 14,
   "id": "1f57995a",
   "metadata": {},
   "outputs": [
    {
     "name": "stdout",
     "output_type": "stream",
     "text": [
      "[0, 0, 1, 1, 2, 2]\n",
      "[0, 0, 1, 1, 2, 2]\n",
      "[3, 3, 4, 4, 5, 5]\n",
      "[3, 3, 4, 4, 5, 5]\n",
      "[6, 6, 7, 7, 8, 8]\n",
      "[6, 6, 7, 7, 8, 8]\n"
     ]
    }
   ],
   "source": [
    "# test\n",
    "data = [[0, 1, 2],\n",
    "        [3, 4, 5],\n",
    "        [6, 7, 8]]\n",
    "\n",
    "new_data = resize_nni_1(data, 3, 3, 6, 6)\n",
    "for row in new_data:\n",
    "    print(row)"
   ]
  },
  {
   "cell_type": "code",
   "execution_count": null,
   "id": "27eb34ec",
   "metadata": {},
   "outputs": [],
   "source": []
  },
  {
   "cell_type": "code",
   "execution_count": null,
   "id": "d11f5310",
   "metadata": {},
   "outputs": [],
   "source": []
  },
  {
   "cell_type": "markdown",
   "id": "d7407bd2",
   "metadata": {},
   "source": [
    "#### One-shot algorithm"
   ]
  },
  {
   "cell_type": "code",
   "execution_count": 1,
   "id": "2bbfa8a2",
   "metadata": {},
   "outputs": [],
   "source": [
    "# version 2\n",
    "\n",
    "import math\n",
    "\n",
    "def resize_nni_2(source, source_h, source_w, target_h, target_w):    \n",
    "    new_data = [[0]*target_w for _ in range(target_h)]\n",
    "    \n",
    "    #Calculate horizontal and vertical scaling factor\n",
    "    w_scale_factor = source_w/target_w \n",
    "    h_scale_factor = source_h/target_h\n",
    "    \n",
    "    for i in range(target_h):\n",
    "        for j in range(target_w):\n",
    "            y = math.floor(i*h_scale_factor)\n",
    "            x = math.floor(j*w_scale_factor)\n",
    "            new_data[i][j] = source[y][x]\n",
    "            \n",
    "    return new_data"
   ]
  },
  {
   "cell_type": "code",
   "execution_count": 16,
   "id": "eed2914e",
   "metadata": {},
   "outputs": [
    {
     "name": "stdout",
     "output_type": "stream",
     "text": [
      "[0, 0, 1, 1, 2, 2]\n",
      "[0, 0, 1, 1, 2, 2]\n",
      "[3, 3, 4, 4, 5, 5]\n",
      "[3, 3, 4, 4, 5, 5]\n",
      "[6, 6, 7, 7, 8, 8]\n",
      "[6, 6, 7, 7, 8, 8]\n"
     ]
    }
   ],
   "source": [
    "# test\n",
    "data = [[0, 1, 2],\n",
    "        [3, 4, 5],\n",
    "        [6, 7, 8]]\n",
    "\n",
    "new_data = resize_nni_2(data, 3, 3, 6, 6)\n",
    "for row in new_data:\n",
    "    print(row)"
   ]
  },
  {
   "cell_type": "code",
   "execution_count": null,
   "id": "a4c0717b",
   "metadata": {},
   "outputs": [],
   "source": []
  },
  {
   "cell_type": "markdown",
   "id": "3c41227c",
   "metadata": {},
   "source": [
    "#### Application to gray-scale image"
   ]
  },
  {
   "cell_type": "code",
   "execution_count": 2,
   "id": "52a1fcab",
   "metadata": {},
   "outputs": [
    {
     "data": {
      "text/plain": [
       "True"
      ]
     },
     "execution_count": 2,
     "metadata": {},
     "output_type": "execute_result"
    }
   ],
   "source": [
    "import cv2\n",
    "import numpy as np\n",
    "\n",
    "image = cv2.imread('nature.jpg', 0).tolist()\n",
    "\n",
    "height = len(image)\n",
    "width = len(image[0])\n",
    "\n",
    "new_image = resize_nni_2(image, height, width, height*2, width*2)\n",
    "cv2.imwrite('5.nature_nni_2x.jpg', np.array(new_image))"
   ]
  },
  {
   "cell_type": "code",
   "execution_count": null,
   "id": "ddf052cd",
   "metadata": {},
   "outputs": [],
   "source": []
  }
 ],
 "metadata": {
  "kernelspec": {
   "display_name": "Python 3 (ipykernel)",
   "language": "python",
   "name": "python3"
  },
  "language_info": {
   "codemirror_mode": {
    "name": "ipython",
    "version": 3
   },
   "file_extension": ".py",
   "mimetype": "text/x-python",
   "name": "python",
   "nbconvert_exporter": "python",
   "pygments_lexer": "ipython3",
   "version": "3.9.13"
  }
 },
 "nbformat": 4,
 "nbformat_minor": 5
}
