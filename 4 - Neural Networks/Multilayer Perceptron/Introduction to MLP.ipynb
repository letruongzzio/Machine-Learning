{
  "cells": [
    {
      "cell_type": "markdown",
      "metadata": {
        "id": "vJTWlufa-4Fo"
      },
      "source": [
        "# MLP"
      ]
    },
    {
      "cell_type": "code",
      "execution_count": 192,
      "metadata": {
        "id": "0CZtkIh5rF75"
      },
      "outputs": [],
      "source": [
        "import numpy as np\n",
        "import torch\n",
        "import torch.nn as nn\n",
        "import torch.optim as optim # optimizers\n",
        "from torchsummary import summary"
      ]
    },
    {
      "cell_type": "markdown",
      "metadata": {
        "id": "MeR-kYd2iEk3"
      },
      "source": [
        "**Model**"
      ]
    },
    {
      "cell_type": "code",
      "execution_count": 193,
      "metadata": {
        "id": "uqqm6BANiEMZ"
      },
      "outputs": [],
      "source": [
        "model = nn.Sequential(\n",
        "    nn.Linear(1, 1),\n",
        "    nn.Linear(1, 1),\n",
        "    nn.Sigmoid()\n",
        ")"
      ]
    },
    {
      "cell_type": "code",
      "execution_count": 194,
      "metadata": {
        "colab": {
          "base_uri": "https://localhost:8080/"
        },
        "id": "jve9pmkiqG9O",
        "outputId": "dc53df6c-e6ef-4e5d-dfd9-519a7f378b0c"
      },
      "outputs": [
        {
          "name": "stdout",
          "output_type": "stream",
          "text": [
            "Sequential(\n",
            "  (0): Linear(in_features=1, out_features=1, bias=True)\n",
            "  (1): Linear(in_features=1, out_features=1, bias=True)\n",
            "  (2): Sigmoid()\n",
            ")\n"
          ]
        }
      ],
      "source": [
        "print(model)"
      ]
    },
    {
      "cell_type": "markdown",
      "metadata": {},
      "source": [
        "Before we start, let's define several terms that will be used in this notebook:\n",
        "\n",
        "- `torch.cuda.is_available()`: This function checks whether or not CUDA (NVIDIA GPU) is available on computer.\n",
        "- `torch.device(...)`: This function returns a device object representing the device that you want to run the tensor on. The conditional expression is used to determine whether to use GPU or CPU.\n",
        "- `.to(device)`: This method moves all parameters and buffers of the model to selected device."
      ]
    },
    {
      "cell_type": "code",
      "execution_count": 195,
      "metadata": {
        "colab": {
          "base_uri": "https://localhost:8080/"
        },
        "id": "-Hab35xQi4Ck",
        "outputId": "8838f8d8-c429-4c4c-ea09-e4e82bfb9cd6"
      },
      "outputs": [
        {
          "name": "stdout",
          "output_type": "stream",
          "text": [
            "----------------------------------------------------------------\n",
            "        Layer (type)               Output Shape         Param #\n",
            "================================================================\n",
            "            Linear-1                 [-1, 1, 1]               2\n",
            "            Linear-2                 [-1, 1, 1]               2\n",
            "           Sigmoid-3                 [-1, 1, 1]               0\n",
            "================================================================\n",
            "Total params: 4\n",
            "Trainable params: 4\n",
            "Non-trainable params: 0\n",
            "----------------------------------------------------------------\n",
            "Input size (MB): 0.00\n",
            "Forward/backward pass size (MB): 0.00\n",
            "Params size (MB): 0.00\n",
            "Estimated Total Size (MB): 0.00\n",
            "----------------------------------------------------------------\n"
          ]
        }
      ],
      "source": [
        "device = torch.device(\"cuda\" if torch.cuda.is_available() else \"cpu\")\n",
        "model.to(device)\n",
        "summary(model, (1, 1))"
      ]
    },
    {
      "cell_type": "code",
      "execution_count": 196,
      "metadata": {
        "colab": {
          "base_uri": "https://localhost:8080/"
        },
        "id": "-6m3UBb1oCd5",
        "outputId": "0e826589-78aa-4ac2-e5b0-069370b4d758"
      },
      "outputs": [
        {
          "name": "stdout",
          "output_type": "stream",
          "text": [
            "OrderedDict([('weight', tensor([[0.2248]], device='cuda:0')), ('bias', tensor([-0.5435], device='cuda:0'))])\n",
            "OrderedDict([('weight', tensor([[0.2021]], device='cuda:0')), ('bias', tensor([-0.2123], device='cuda:0'))])\n",
            "OrderedDict()\n"
          ]
        }
      ],
      "source": [
        "# '.children()' returns an iterator covering all the layers in the model\n",
        "# '.state_dict()' returns the parameters of the layer\n",
        "for layer in model.children():\n",
        "    print(layer.state_dict())"
      ]
    },
    {
      "cell_type": "code",
      "execution_count": 197,
      "metadata": {
        "id": "Sk0MOGx-k8o3"
      },
      "outputs": [],
      "source": [
        "model = nn.Sequential(\n",
        "    nn.Linear(2, 2),\n",
        "    nn.Linear(2, 2),\n",
        "    nn.Sigmoid()\n",
        ")"
      ]
    },
    {
      "cell_type": "code",
      "execution_count": 198,
      "metadata": {
        "colab": {
          "base_uri": "https://localhost:8080/"
        },
        "id": "JiWDOUMlqJX9",
        "outputId": "c9125f69-6fd1-4d0e-d12f-cb77d1b9f0a1"
      },
      "outputs": [
        {
          "name": "stdout",
          "output_type": "stream",
          "text": [
            "Sequential(\n",
            "  (0): Linear(in_features=2, out_features=2, bias=True)\n",
            "  (1): Linear(in_features=2, out_features=2, bias=True)\n",
            "  (2): Sigmoid()\n",
            ")\n"
          ]
        }
      ],
      "source": [
        "print(model)"
      ]
    },
    {
      "cell_type": "code",
      "execution_count": 199,
      "metadata": {
        "colab": {
          "base_uri": "https://localhost:8080/"
        },
        "id": "LzNk0PEqlhsH",
        "outputId": "fe57fde0-2d5e-4631-82c5-5a90920dc865"
      },
      "outputs": [
        {
          "name": "stdout",
          "output_type": "stream",
          "text": [
            "----------------------------------------------------------------\n",
            "        Layer (type)               Output Shape         Param #\n",
            "================================================================\n",
            "            Linear-1                 [-1, 1, 2]               6\n",
            "            Linear-2                 [-1, 1, 2]               6\n",
            "           Sigmoid-3                 [-1, 1, 2]               0\n",
            "================================================================\n",
            "Total params: 12\n",
            "Trainable params: 12\n",
            "Non-trainable params: 0\n",
            "----------------------------------------------------------------\n",
            "Input size (MB): 0.00\n",
            "Forward/backward pass size (MB): 0.00\n",
            "Params size (MB): 0.00\n",
            "Estimated Total Size (MB): 0.00\n",
            "----------------------------------------------------------------\n"
          ]
        }
      ],
      "source": [
        "device = torch.device(\"cuda\" if torch.cuda.is_available() else \"cpu\")\n",
        "model.to(device)\n",
        "summary(model, (1, 2))"
      ]
    },
    {
      "cell_type": "code",
      "execution_count": 200,
      "metadata": {
        "colab": {
          "base_uri": "https://localhost:8080/"
        },
        "id": "Cj3ktiK7qFp3",
        "outputId": "f2ef0c02-1228-497c-8e9e-1b093f5b9814"
      },
      "outputs": [
        {
          "name": "stdout",
          "output_type": "stream",
          "text": [
            "OrderedDict([('weight', tensor([[ 0.7063, -0.4279],\n",
            "        [ 0.6013,  0.4395]], device='cuda:0')), ('bias', tensor([-0.2925,  0.0813], device='cuda:0'))])\n",
            "OrderedDict([('weight', tensor([[ 0.0709, -0.2933],\n",
            "        [-0.5074,  0.2684]], device='cuda:0')), ('bias', tensor([ 0.5376, -0.3059], device='cuda:0'))])\n",
            "OrderedDict()\n"
          ]
        }
      ],
      "source": [
        "for layer in model.children():\n",
        "    print(layer.state_dict())"
      ]
    },
    {
      "cell_type": "markdown",
      "metadata": {
        "id": "RMc3CJ82iJ9D"
      },
      "source": [
        "**Sample**"
      ]
    },
    {
      "cell_type": "code",
      "execution_count": 201,
      "metadata": {
        "id": "xfojDfA0rUjT"
      },
      "outputs": [],
      "source": [
        "x = torch.tensor([1.0, 2.0])\n",
        "y = torch.tensor([0.0])"
      ]
    },
    {
      "cell_type": "code",
      "execution_count": 202,
      "metadata": {
        "colab": {
          "base_uri": "https://localhost:8080/"
        },
        "id": "QUZL2gZyriyH",
        "outputId": "da1f1158-83f1-4c3a-ad4a-4c36dbed4ae8"
      },
      "outputs": [
        {
          "data": {
            "text/plain": [
              "(tensor([1., 2.]), tensor([0.]))"
            ]
          },
          "execution_count": 202,
          "metadata": {},
          "output_type": "execute_result"
        }
      ],
      "source": [
        "x, y"
      ]
    },
    {
      "cell_type": "markdown",
      "metadata": {
        "id": "tiD9GH_x_BSO"
      },
      "source": [
        "### BCELoss"
      ]
    },
    {
      "cell_type": "code",
      "execution_count": 203,
      "metadata": {
        "id": "rzHCx1L_rmcX"
      },
      "outputs": [],
      "source": [
        "model = nn.Sequential(\n",
        "    nn.Linear(2, 2),\n",
        "    nn.Linear(2, 1),\n",
        "    nn.Sigmoid()\n",
        ")"
      ]
    },
    {
      "cell_type": "code",
      "execution_count": 204,
      "metadata": {
        "colab": {
          "base_uri": "https://localhost:8080/"
        },
        "id": "alffCQqKr18S",
        "outputId": "d07e1bdf-c3f7-4ed0-93cb-72c5da5be041"
      },
      "outputs": [
        {
          "name": "stdout",
          "output_type": "stream",
          "text": [
            "Sequential(\n",
            "  (0): Linear(in_features=2, out_features=2, bias=True)\n",
            "  (1): Linear(in_features=2, out_features=1, bias=True)\n",
            "  (2): Sigmoid()\n",
            ")\n"
          ]
        }
      ],
      "source": [
        "print(model)"
      ]
    },
    {
      "cell_type": "code",
      "execution_count": 205,
      "metadata": {
        "colab": {
          "base_uri": "https://localhost:8080/"
        },
        "id": "LM5ifinFsB5p",
        "outputId": "90faf121-17de-4c9b-cbf8-d5d597e666ba"
      },
      "outputs": [
        {
          "name": "stdout",
          "output_type": "stream",
          "text": [
            "----------------------------------------------------------------\n",
            "        Layer (type)               Output Shape         Param #\n",
            "================================================================\n",
            "            Linear-1                 [-1, 1, 2]               6\n",
            "            Linear-2                 [-1, 1, 1]               3\n",
            "           Sigmoid-3                 [-1, 1, 1]               0\n",
            "================================================================\n",
            "Total params: 9\n",
            "Trainable params: 9\n",
            "Non-trainable params: 0\n",
            "----------------------------------------------------------------\n",
            "Input size (MB): 0.00\n",
            "Forward/backward pass size (MB): 0.00\n",
            "Params size (MB): 0.00\n",
            "Estimated Total Size (MB): 0.00\n",
            "----------------------------------------------------------------\n"
          ]
        }
      ],
      "source": [
        "device = torch.device(\"cuda\" if torch.cuda.is_available() else \"cpu\")\n",
        "model.to(device)\n",
        "summary(model, (1, 2))"
      ]
    },
    {
      "cell_type": "code",
      "execution_count": 206,
      "metadata": {
        "colab": {
          "base_uri": "https://localhost:8080/"
        },
        "id": "u7luO011EQn7",
        "outputId": "b94d100e-88dd-4189-8df6-0cea8a7c8d78"
      },
      "outputs": [
        {
          "name": "stdout",
          "output_type": "stream",
          "text": [
            "OrderedDict([('weight', tensor([[-0.1995, -0.4116],\n",
            "        [-0.1752, -0.4569]], device='cuda:0')), ('bias', tensor([0.4787, 0.4670], device='cuda:0'))])\n",
            "OrderedDict([('weight', tensor([[-0.2510,  0.6850]], device='cuda:0')), ('bias', tensor([0.0052], device='cuda:0'))])\n",
            "OrderedDict()\n"
          ]
        }
      ],
      "source": [
        "for layer in model.children():\n",
        "    print(layer.state_dict())"
      ]
    },
    {
      "cell_type": "code",
      "execution_count": 207,
      "metadata": {
        "id": "CV2eSGRPER0V"
      },
      "outputs": [],
      "source": [
        "# `.parameters()` returns an iterator over all the parameters of the model\n",
        "# `.init.constant_()` initializes the parameters to a constant value\n",
        "for p in model.parameters():\n",
        "    nn.init.constant_(p, 0.1) # initialize all parameters to 0.1"
      ]
    },
    {
      "cell_type": "code",
      "execution_count": 208,
      "metadata": {
        "colab": {
          "base_uri": "https://localhost:8080/"
        },
        "id": "rVbK-xlXEYoj",
        "outputId": "2c28011d-9822-4a5d-e5f1-ad1c0306ac99"
      },
      "outputs": [
        {
          "name": "stdout",
          "output_type": "stream",
          "text": [
            "OrderedDict([('weight', tensor([[0.1000, 0.1000],\n",
            "        [0.1000, 0.1000]], device='cuda:0')), ('bias', tensor([0.1000, 0.1000], device='cuda:0'))])\n",
            "OrderedDict([('weight', tensor([[0.1000, 0.1000]], device='cuda:0')), ('bias', tensor([0.1000], device='cuda:0'))])\n",
            "OrderedDict()\n"
          ]
        }
      ],
      "source": [
        "for layer in model.children():\n",
        "    print(layer.state_dict())"
      ]
    },
    {
      "cell_type": "code",
      "execution_count": 209,
      "metadata": {
        "colab": {
          "base_uri": "https://localhost:8080/"
        },
        "id": "mi3B2sDDswqp",
        "outputId": "e666e669-a8b7-4520-a080-28f970a6836e"
      },
      "outputs": [
        {
          "data": {
            "text/plain": [
              "tensor([0.5449], device='cuda:0', grad_fn=<SigmoidBackward0>)"
            ]
          },
          "execution_count": 209,
          "metadata": {},
          "output_type": "execute_result"
        }
      ],
      "source": [
        "x = x.to(device)\n",
        "y_pred = model(x)\n",
        "y_pred"
      ]
    },
    {
      "cell_type": "markdown",
      "metadata": {
        "id": "6PtoMz-ySPRF"
      },
      "source": [
        "**Activation**"
      ]
    },
    {
      "cell_type": "code",
      "execution_count": 210,
      "metadata": {
        "colab": {
          "base_uri": "https://localhost:8080/"
        },
        "id": "JWbI8osQKqhd",
        "outputId": "19ebc8c6-63cd-410d-e13c-ef17c63ac516"
      },
      "outputs": [
        {
          "data": {
            "text/plain": [
              "tensor([0.5449, 0.4551])"
            ]
          },
          "execution_count": 210,
          "metadata": {},
          "output_type": "execute_result"
        }
      ],
      "source": [
        "import torch.nn as nn\n",
        "\n",
        "act = nn.Sigmoid()\n",
        "input = torch.tensor([0.18, -0.18])\n",
        "act(input)"
      ]
    },
    {
      "cell_type": "code",
      "execution_count": 211,
      "metadata": {
        "id": "Xqd7sdTXW0S-"
      },
      "outputs": [],
      "source": [
        "model = nn.Sequential(\n",
        "    nn.Linear(2, 2),\n",
        "    nn.Sigmoid(),\n",
        "    nn.Linear(2, 1),\n",
        "    nn.Sigmoid()\n",
        ")"
      ]
    },
    {
      "cell_type": "code",
      "execution_count": 212,
      "metadata": {
        "colab": {
          "base_uri": "https://localhost:8080/"
        },
        "id": "bnFfThUeW6_v",
        "outputId": "ec46c11f-2843-4e1d-b703-8a703b1756c2"
      },
      "outputs": [
        {
          "name": "stdout",
          "output_type": "stream",
          "text": [
            "----------------------------------------------------------------\n",
            "        Layer (type)               Output Shape         Param #\n",
            "================================================================\n",
            "            Linear-1                 [-1, 1, 2]               6\n",
            "           Sigmoid-2                 [-1, 1, 2]               0\n",
            "            Linear-3                 [-1, 1, 1]               3\n",
            "           Sigmoid-4                 [-1, 1, 1]               0\n",
            "================================================================\n",
            "Total params: 9\n",
            "Trainable params: 9\n",
            "Non-trainable params: 0\n",
            "----------------------------------------------------------------\n",
            "Input size (MB): 0.00\n",
            "Forward/backward pass size (MB): 0.00\n",
            "Params size (MB): 0.00\n",
            "Estimated Total Size (MB): 0.00\n",
            "----------------------------------------------------------------\n"
          ]
        }
      ],
      "source": [
        "device = torch.device(\"cuda\" if torch.cuda.is_available() else \"cpu\")\n",
        "model.to(device)\n",
        "summary(model, (1, 2))"
      ]
    },
    {
      "cell_type": "code",
      "execution_count": 213,
      "metadata": {
        "colab": {
          "base_uri": "https://localhost:8080/"
        },
        "id": "oAE7kD0UQ4kQ",
        "outputId": "20dc9a8b-2670-469b-d005-0d8ec36e4713"
      },
      "outputs": [
        {
          "data": {
            "text/plain": [
              "tensor([ 0.1781, -0.1781])"
            ]
          },
          "execution_count": 213,
          "metadata": {},
          "output_type": "execute_result"
        }
      ],
      "source": [
        "import torch.nn as nn\n",
        "\n",
        "act = nn.Tanh()\n",
        "input = torch.tensor([0.18, -0.18])\n",
        "act(input)"
      ]
    },
    {
      "cell_type": "code",
      "execution_count": 214,
      "metadata": {
        "id": "-_XG6hl_W_DU"
      },
      "outputs": [],
      "source": [
        "model = nn.Sequential(\n",
        "    nn.Linear(2, 2),\n",
        "    nn.Tanh(),\n",
        "    nn.Linear(2, 1),\n",
        "    nn.Sigmoid()\n",
        ")"
      ]
    },
    {
      "cell_type": "code",
      "execution_count": 215,
      "metadata": {
        "colab": {
          "base_uri": "https://localhost:8080/"
        },
        "id": "xcW--tEzXG4v",
        "outputId": "17a8231d-fe85-4b4d-bdf1-99e8257f7c88"
      },
      "outputs": [
        {
          "name": "stdout",
          "output_type": "stream",
          "text": [
            "----------------------------------------------------------------\n",
            "        Layer (type)               Output Shape         Param #\n",
            "================================================================\n",
            "            Linear-1                 [-1, 1, 2]               6\n",
            "              Tanh-2                 [-1, 1, 2]               0\n",
            "            Linear-3                 [-1, 1, 1]               3\n",
            "           Sigmoid-4                 [-1, 1, 1]               0\n",
            "================================================================\n",
            "Total params: 9\n",
            "Trainable params: 9\n",
            "Non-trainable params: 0\n",
            "----------------------------------------------------------------\n",
            "Input size (MB): 0.00\n",
            "Forward/backward pass size (MB): 0.00\n",
            "Params size (MB): 0.00\n",
            "Estimated Total Size (MB): 0.00\n",
            "----------------------------------------------------------------\n"
          ]
        }
      ],
      "source": [
        "device = torch.device(\"cuda\" if torch.cuda.is_available() else \"cpu\")\n",
        "model.to(device)\n",
        "summary(model, (1, 2))"
      ]
    },
    {
      "cell_type": "code",
      "execution_count": 216,
      "metadata": {
        "colab": {
          "base_uri": "https://localhost:8080/"
        },
        "id": "z87aV3_4Q8_V",
        "outputId": "299aa438-b254-4f75-a9c5-204d7a898c03"
      },
      "outputs": [
        {
          "data": {
            "text/plain": [
              "tensor([0.1800, 0.0000])"
            ]
          },
          "execution_count": 216,
          "metadata": {},
          "output_type": "execute_result"
        }
      ],
      "source": [
        "import torch.nn as nn\n",
        "\n",
        "act = nn.ReLU()\n",
        "input = torch.tensor([0.18, -0.18])\n",
        "act(input)"
      ]
    },
    {
      "cell_type": "code",
      "execution_count": 217,
      "metadata": {
        "id": "95TlMx4bXK2H"
      },
      "outputs": [],
      "source": [
        "model = nn.Sequential(\n",
        "    nn.Linear(2, 2),\n",
        "    nn.ReLU(),\n",
        "    nn.Linear(2, 1),\n",
        "    nn.Sigmoid()\n",
        ")"
      ]
    },
    {
      "cell_type": "code",
      "execution_count": 218,
      "metadata": {
        "colab": {
          "base_uri": "https://localhost:8080/"
        },
        "id": "N91hWPRYXPNk",
        "outputId": "97d952d2-7efc-410e-84d1-3b21b354e87b"
      },
      "outputs": [
        {
          "name": "stdout",
          "output_type": "stream",
          "text": [
            "----------------------------------------------------------------\n",
            "        Layer (type)               Output Shape         Param #\n",
            "================================================================\n",
            "            Linear-1                 [-1, 1, 2]               6\n",
            "              ReLU-2                 [-1, 1, 2]               0\n",
            "            Linear-3                 [-1, 1, 1]               3\n",
            "           Sigmoid-4                 [-1, 1, 1]               0\n",
            "================================================================\n",
            "Total params: 9\n",
            "Trainable params: 9\n",
            "Non-trainable params: 0\n",
            "----------------------------------------------------------------\n",
            "Input size (MB): 0.00\n",
            "Forward/backward pass size (MB): 0.00\n",
            "Params size (MB): 0.00\n",
            "Estimated Total Size (MB): 0.00\n",
            "----------------------------------------------------------------\n"
          ]
        }
      ],
      "source": [
        "device = torch.device(\"cuda\" if torch.cuda.is_available() else \"cpu\")\n",
        "model.to(device)\n",
        "summary(model, (1, 2))"
      ]
    },
    {
      "cell_type": "markdown",
      "metadata": {
        "id": "mGG6DEArTPOD"
      },
      "source": [
        "**Loss**"
      ]
    },
    {
      "cell_type": "code",
      "execution_count": 219,
      "metadata": {
        "id": "R4wt3YK-slZY"
      },
      "outputs": [],
      "source": [
        "import torch.nn as nn\n",
        "loss_fn = nn.BCELoss() # Binary Cross Entropy Loss"
      ]
    },
    {
      "cell_type": "code",
      "execution_count": 220,
      "metadata": {
        "colab": {
          "base_uri": "https://localhost:8080/"
        },
        "id": "KJGHrIjaU_jP",
        "outputId": "7fe1bc57-ebce-4355-add2-1d1953bc22bf"
      },
      "outputs": [
        {
          "data": {
            "text/plain": [
              "tensor([0.5449], device='cuda:0', grad_fn=<SigmoidBackward0>)"
            ]
          },
          "execution_count": 220,
          "metadata": {},
          "output_type": "execute_result"
        }
      ],
      "source": [
        "y_pred"
      ]
    },
    {
      "cell_type": "code",
      "execution_count": 221,
      "metadata": {
        "colab": {
          "base_uri": "https://localhost:8080/"
        },
        "id": "o_kV3M4bVBBW",
        "outputId": "f365352b-1b83-4a82-f18c-feba2abc0d49"
      },
      "outputs": [
        {
          "data": {
            "text/plain": [
              "tensor([0.])"
            ]
          },
          "execution_count": 221,
          "metadata": {},
          "output_type": "execute_result"
        }
      ],
      "source": [
        "y"
      ]
    },
    {
      "cell_type": "code",
      "execution_count": 222,
      "metadata": {
        "colab": {
          "base_uri": "https://localhost:8080/"
        },
        "id": "HjGPvMCestTw",
        "outputId": "dfc23e1e-7c3a-4f62-a51e-fa1692c6964b"
      },
      "outputs": [
        {
          "data": {
            "text/plain": [
              "tensor(0.7872, device='cuda:0', grad_fn=<BinaryCrossEntropyBackward0>)"
            ]
          },
          "execution_count": 222,
          "metadata": {},
          "output_type": "execute_result"
        }
      ],
      "source": [
        "y = y.to(device)\n",
        "loss = loss_fn(y_pred, y)\n",
        "loss"
      ]
    },
    {
      "cell_type": "code",
      "execution_count": 223,
      "metadata": {
        "colab": {
          "base_uri": "https://localhost:8080/"
        },
        "id": "2k1IcFyMW6zr",
        "outputId": "5cf96761-9140-4cd3-d382-374c79d6b223"
      },
      "outputs": [
        {
          "name": "stdout",
          "output_type": "stream",
          "text": [
            "OrderedDict([('weight', tensor([[-0.5667, -0.0692],\n",
            "        [ 0.2444,  0.1418]], device='cuda:0')), ('bias', tensor([0.4790, 0.4418], device='cuda:0'))])\n",
            "OrderedDict()\n",
            "OrderedDict([('weight', tensor([[0.6743, 0.0602]], device='cuda:0')), ('bias', tensor([-0.5425], device='cuda:0'))])\n",
            "OrderedDict()\n"
          ]
        }
      ],
      "source": [
        "for layer in model.children():\n",
        "    print(layer.state_dict())"
      ]
    },
    {
      "cell_type": "markdown",
      "metadata": {},
      "source": [
        "**SGD**"
      ]
    },
    {
      "cell_type": "code",
      "execution_count": 224,
      "metadata": {
        "id": "e7pDQoVw0WAT"
      },
      "outputs": [],
      "source": [
        "learning_rate = 0.1\n",
        "optimizer = optim.SGD(model.parameters(), learning_rate)"
      ]
    },
    {
      "cell_type": "code",
      "execution_count": 225,
      "metadata": {
        "id": "Ihj22f8800S9"
      },
      "outputs": [],
      "source": [
        "loss.backward() # compute gradients of all parameters"
      ]
    },
    {
      "cell_type": "code",
      "execution_count": 226,
      "metadata": {
        "id": "kHRiR-LD01dB"
      },
      "outputs": [],
      "source": [
        "optimizer.step() # update all parameters"
      ]
    },
    {
      "cell_type": "code",
      "execution_count": 227,
      "metadata": {
        "colab": {
          "base_uri": "https://localhost:8080/"
        },
        "id": "xV0I5Zzl04qE",
        "outputId": "8f53e717-02e2-45ee-a12a-8b2d3a518188"
      },
      "outputs": [
        {
          "name": "stdout",
          "output_type": "stream",
          "text": [
            "OrderedDict([('weight', tensor([[-0.5667, -0.0692],\n",
            "        [ 0.2444,  0.1418]], device='cuda:0')), ('bias', tensor([0.4790, 0.4418], device='cuda:0'))])\n",
            "OrderedDict()\n",
            "OrderedDict([('weight', tensor([[0.6743, 0.0602]], device='cuda:0')), ('bias', tensor([-0.5425], device='cuda:0'))])\n",
            "OrderedDict()\n"
          ]
        }
      ],
      "source": [
        "for layer in model.children():\n",
        "    print(layer.state_dict())"
      ]
    },
    {
      "cell_type": "markdown",
      "metadata": {
        "id": "Q1Pmzaa8_LF2"
      },
      "source": [
        "### CrossEntropyLoss"
      ]
    },
    {
      "cell_type": "code",
      "execution_count": 228,
      "metadata": {
        "id": "KMy_J_8XAxXD"
      },
      "outputs": [],
      "source": [
        "x = torch.tensor([1.0, 2.0])\n",
        "y = torch.tensor(0)"
      ]
    },
    {
      "cell_type": "code",
      "execution_count": 229,
      "metadata": {
        "id": "ymrGtDor_N3h"
      },
      "outputs": [],
      "source": [
        "model = nn.Sequential(\n",
        "    nn.Linear(2, 2),\n",
        "    nn.ReLU(),\n",
        "    nn.Linear(2, 2),\n",
        ")"
      ]
    },
    {
      "cell_type": "code",
      "execution_count": 230,
      "metadata": {
        "colab": {
          "base_uri": "https://localhost:8080/"
        },
        "id": "U09rh_r8_Tg6",
        "outputId": "02eb1df7-13bd-4db9-b3bc-e5959679dc7d"
      },
      "outputs": [
        {
          "name": "stdout",
          "output_type": "stream",
          "text": [
            "Sequential(\n",
            "  (0): Linear(in_features=2, out_features=2, bias=True)\n",
            "  (1): ReLU()\n",
            "  (2): Linear(in_features=2, out_features=2, bias=True)\n",
            ")\n"
          ]
        }
      ],
      "source": [
        "print(model)"
      ]
    },
    {
      "cell_type": "code",
      "execution_count": 231,
      "metadata": {
        "colab": {
          "base_uri": "https://localhost:8080/"
        },
        "id": "UX2P9I-N_Wnb",
        "outputId": "0f4b0a47-5e85-4455-8d33-e2d5afb5fb8b"
      },
      "outputs": [
        {
          "name": "stdout",
          "output_type": "stream",
          "text": [
            "----------------------------------------------------------------\n",
            "        Layer (type)               Output Shape         Param #\n",
            "================================================================\n",
            "            Linear-1                 [-1, 1, 2]               6\n",
            "              ReLU-2                 [-1, 1, 2]               0\n",
            "            Linear-3                 [-1, 1, 2]               6\n",
            "================================================================\n",
            "Total params: 12\n",
            "Trainable params: 12\n",
            "Non-trainable params: 0\n",
            "----------------------------------------------------------------\n",
            "Input size (MB): 0.00\n",
            "Forward/backward pass size (MB): 0.00\n",
            "Params size (MB): 0.00\n",
            "Estimated Total Size (MB): 0.00\n",
            "----------------------------------------------------------------\n"
          ]
        }
      ],
      "source": [
        "device = torch.device(\"cuda\" if torch.cuda.is_available() else \"cpu\")\n",
        "model.to(device)\n",
        "summary(model, (1, 2))"
      ]
    },
    {
      "cell_type": "code",
      "execution_count": 232,
      "metadata": {
        "colab": {
          "base_uri": "https://localhost:8080/"
        },
        "id": "tfkD1a2y_fkz",
        "outputId": "ddc385e7-b3b0-435d-e23b-7358655d807a"
      },
      "outputs": [
        {
          "data": {
            "text/plain": [
              "tensor([0.0556, 1.5183], device='cuda:0', grad_fn=<ViewBackward0>)"
            ]
          },
          "execution_count": 232,
          "metadata": {},
          "output_type": "execute_result"
        }
      ],
      "source": [
        "x = x.to(device)\n",
        "y_pred = model(x)\n",
        "y_pred"
      ]
    },
    {
      "cell_type": "code",
      "execution_count": 233,
      "metadata": {
        "id": "JMsinHSl_ojo"
      },
      "outputs": [],
      "source": [
        "import torch.nn as nn\n",
        "loss_fn = nn.CrossEntropyLoss()"
      ]
    },
    {
      "cell_type": "code",
      "execution_count": 234,
      "metadata": {
        "colab": {
          "base_uri": "https://localhost:8080/"
        },
        "id": "LeONyWMz_uB4",
        "outputId": "469dda01-6757-425c-8245-7f8132e1264b"
      },
      "outputs": [
        {
          "data": {
            "text/plain": [
              "tensor(0)"
            ]
          },
          "execution_count": 234,
          "metadata": {},
          "output_type": "execute_result"
        }
      ],
      "source": [
        "y = torch.tensor(0)\n",
        "y"
      ]
    },
    {
      "cell_type": "code",
      "execution_count": 235,
      "metadata": {
        "colab": {
          "base_uri": "https://localhost:8080/"
        },
        "id": "GmvthVAH_9_N",
        "outputId": "15b62c29-a772-4938-fbf9-98f2d1b040e2"
      },
      "outputs": [
        {
          "data": {
            "text/plain": [
              "tensor([0.0556, 1.5183], device='cuda:0', grad_fn=<ViewBackward0>)"
            ]
          },
          "execution_count": 235,
          "metadata": {},
          "output_type": "execute_result"
        }
      ],
      "source": [
        "y_pred"
      ]
    },
    {
      "cell_type": "code",
      "execution_count": 236,
      "metadata": {
        "colab": {
          "base_uri": "https://localhost:8080/"
        },
        "id": "gfIujA5G_pe4",
        "outputId": "63930e3c-522e-4b66-8ea1-702c62ad2310"
      },
      "outputs": [
        {
          "data": {
            "text/plain": [
              "tensor(1.6710, device='cuda:0', grad_fn=<NllLossBackward0>)"
            ]
          },
          "execution_count": 236,
          "metadata": {},
          "output_type": "execute_result"
        }
      ],
      "source": [
        "y = y.to(device)\n",
        "loss_fn(y_pred, y)"
      ]
    },
    {
      "cell_type": "markdown",
      "metadata": {
        "id": "diE_R78z_YRO"
      },
      "source": [
        "## Classification"
      ]
    },
    {
      "cell_type": "code",
      "execution_count": 237,
      "metadata": {
        "id": "nHLIzzZV2szS"
      },
      "outputs": [],
      "source": [
        "from sklearn.datasets import load_iris\n",
        "from sklearn.model_selection import train_test_split"
      ]
    },
    {
      "cell_type": "code",
      "execution_count": 238,
      "metadata": {
        "id": "zhszekVP2ujW"
      },
      "outputs": [],
      "source": [
        "data = load_iris()"
      ]
    },
    {
      "cell_type": "code",
      "execution_count": 239,
      "metadata": {
        "colab": {
          "base_uri": "https://localhost:8080/"
        },
        "id": "BSy1DfIg2wJG",
        "outputId": "0ff3966c-a786-4bd0-ce03-dd3ddf16f906"
      },
      "outputs": [
        {
          "data": {
            "text/plain": [
              "(150, 4)"
            ]
          },
          "execution_count": 239,
          "metadata": {},
          "output_type": "execute_result"
        }
      ],
      "source": [
        "data.data.shape"
      ]
    },
    {
      "cell_type": "code",
      "execution_count": 240,
      "metadata": {
        "colab": {
          "base_uri": "https://localhost:8080/"
        },
        "id": "wGJO8N7v2066",
        "outputId": "e9917e1d-0253-434f-d4d8-aa4da4ca2770"
      },
      "outputs": [
        {
          "data": {
            "text/plain": [
              "(150,)"
            ]
          },
          "execution_count": 240,
          "metadata": {},
          "output_type": "execute_result"
        }
      ],
      "source": [
        "data.target.shape"
      ]
    },
    {
      "cell_type": "code",
      "execution_count": 241,
      "metadata": {
        "id": "UnqkcdC1284t"
      },
      "outputs": [],
      "source": [
        "X_train, X_test, Y_train, Y_test = train_test_split(\n",
        "    data.data,\n",
        "    data.target,\n",
        "    test_size=0.3\n",
        ")"
      ]
    },
    {
      "cell_type": "code",
      "execution_count": 242,
      "metadata": {
        "id": "AV7jZZPuQACX"
      },
      "outputs": [],
      "source": [
        "from sklearn.preprocessing import StandardScaler"
      ]
    },
    {
      "cell_type": "code",
      "execution_count": 243,
      "metadata": {
        "id": "iOkxNr2LQDC2"
      },
      "outputs": [],
      "source": [
        "scaler = StandardScaler()"
      ]
    },
    {
      "cell_type": "code",
      "execution_count": 244,
      "metadata": {
        "colab": {
          "base_uri": "https://localhost:8080/",
          "height": 74
        },
        "id": "K1PPjtWmQHTs",
        "outputId": "b043ce24-421b-4bdc-de7c-60e0a18ede4a"
      },
      "outputs": [
        {
          "data": {
            "text/html": [
              "<style>#sk-container-id-2 {\n",
              "  /* Definition of color scheme common for light and dark mode */\n",
              "  --sklearn-color-text: black;\n",
              "  --sklearn-color-line: gray;\n",
              "  /* Definition of color scheme for unfitted estimators */\n",
              "  --sklearn-color-unfitted-level-0: #fff5e6;\n",
              "  --sklearn-color-unfitted-level-1: #f6e4d2;\n",
              "  --sklearn-color-unfitted-level-2: #ffe0b3;\n",
              "  --sklearn-color-unfitted-level-3: chocolate;\n",
              "  /* Definition of color scheme for fitted estimators */\n",
              "  --sklearn-color-fitted-level-0: #f0f8ff;\n",
              "  --sklearn-color-fitted-level-1: #d4ebff;\n",
              "  --sklearn-color-fitted-level-2: #b3dbfd;\n",
              "  --sklearn-color-fitted-level-3: cornflowerblue;\n",
              "\n",
              "  /* Specific color for light theme */\n",
              "  --sklearn-color-text-on-default-background: var(--sg-text-color, var(--theme-code-foreground, var(--jp-content-font-color1, black)));\n",
              "  --sklearn-color-background: var(--sg-background-color, var(--theme-background, var(--jp-layout-color0, white)));\n",
              "  --sklearn-color-border-box: var(--sg-text-color, var(--theme-code-foreground, var(--jp-content-font-color1, black)));\n",
              "  --sklearn-color-icon: #696969;\n",
              "\n",
              "  @media (prefers-color-scheme: dark) {\n",
              "    /* Redefinition of color scheme for dark theme */\n",
              "    --sklearn-color-text-on-default-background: var(--sg-text-color, var(--theme-code-foreground, var(--jp-content-font-color1, white)));\n",
              "    --sklearn-color-background: var(--sg-background-color, var(--theme-background, var(--jp-layout-color0, #111)));\n",
              "    --sklearn-color-border-box: var(--sg-text-color, var(--theme-code-foreground, var(--jp-content-font-color1, white)));\n",
              "    --sklearn-color-icon: #878787;\n",
              "  }\n",
              "}\n",
              "\n",
              "#sk-container-id-2 {\n",
              "  color: var(--sklearn-color-text);\n",
              "}\n",
              "\n",
              "#sk-container-id-2 pre {\n",
              "  padding: 0;\n",
              "}\n",
              "\n",
              "#sk-container-id-2 input.sk-hidden--visually {\n",
              "  border: 0;\n",
              "  clip: rect(1px 1px 1px 1px);\n",
              "  clip: rect(1px, 1px, 1px, 1px);\n",
              "  height: 1px;\n",
              "  margin: -1px;\n",
              "  overflow: hidden;\n",
              "  padding: 0;\n",
              "  position: absolute;\n",
              "  width: 1px;\n",
              "}\n",
              "\n",
              "#sk-container-id-2 div.sk-dashed-wrapped {\n",
              "  border: 1px dashed var(--sklearn-color-line);\n",
              "  margin: 0 0.4em 0.5em 0.4em;\n",
              "  box-sizing: border-box;\n",
              "  padding-bottom: 0.4em;\n",
              "  background-color: var(--sklearn-color-background);\n",
              "}\n",
              "\n",
              "#sk-container-id-2 div.sk-container {\n",
              "  /* jupyter's `normalize.less` sets `[hidden] { display: none; }`\n",
              "     but bootstrap.min.css set `[hidden] { display: none !important; }`\n",
              "     so we also need the `!important` here to be able to override the\n",
              "     default hidden behavior on the sphinx rendered scikit-learn.org.\n",
              "     See: https://github.com/scikit-learn/scikit-learn/issues/21755 */\n",
              "  display: inline-block !important;\n",
              "  position: relative;\n",
              "}\n",
              "\n",
              "#sk-container-id-2 div.sk-text-repr-fallback {\n",
              "  display: none;\n",
              "}\n",
              "\n",
              "div.sk-parallel-item,\n",
              "div.sk-serial,\n",
              "div.sk-item {\n",
              "  /* draw centered vertical line to link estimators */\n",
              "  background-image: linear-gradient(var(--sklearn-color-text-on-default-background), var(--sklearn-color-text-on-default-background));\n",
              "  background-size: 2px 100%;\n",
              "  background-repeat: no-repeat;\n",
              "  background-position: center center;\n",
              "}\n",
              "\n",
              "/* Parallel-specific style estimator block */\n",
              "\n",
              "#sk-container-id-2 div.sk-parallel-item::after {\n",
              "  content: \"\";\n",
              "  width: 100%;\n",
              "  border-bottom: 2px solid var(--sklearn-color-text-on-default-background);\n",
              "  flex-grow: 1;\n",
              "}\n",
              "\n",
              "#sk-container-id-2 div.sk-parallel {\n",
              "  display: flex;\n",
              "  align-items: stretch;\n",
              "  justify-content: center;\n",
              "  background-color: var(--sklearn-color-background);\n",
              "  position: relative;\n",
              "}\n",
              "\n",
              "#sk-container-id-2 div.sk-parallel-item {\n",
              "  display: flex;\n",
              "  flex-direction: column;\n",
              "}\n",
              "\n",
              "#sk-container-id-2 div.sk-parallel-item:first-child::after {\n",
              "  align-self: flex-end;\n",
              "  width: 50%;\n",
              "}\n",
              "\n",
              "#sk-container-id-2 div.sk-parallel-item:last-child::after {\n",
              "  align-self: flex-start;\n",
              "  width: 50%;\n",
              "}\n",
              "\n",
              "#sk-container-id-2 div.sk-parallel-item:only-child::after {\n",
              "  width: 0;\n",
              "}\n",
              "\n",
              "/* Serial-specific style estimator block */\n",
              "\n",
              "#sk-container-id-2 div.sk-serial {\n",
              "  display: flex;\n",
              "  flex-direction: column;\n",
              "  align-items: center;\n",
              "  background-color: var(--sklearn-color-background);\n",
              "  padding-right: 1em;\n",
              "  padding-left: 1em;\n",
              "}\n",
              "\n",
              "\n",
              "/* Toggleable style: style used for estimator/Pipeline/ColumnTransformer box that is\n",
              "clickable and can be expanded/collapsed.\n",
              "- Pipeline and ColumnTransformer use this feature and define the default style\n",
              "- Estimators will overwrite some part of the style using the `sk-estimator` class\n",
              "*/\n",
              "\n",
              "/* Pipeline and ColumnTransformer style (default) */\n",
              "\n",
              "#sk-container-id-2 div.sk-toggleable {\n",
              "  /* Default theme specific background. It is overwritten whether we have a\n",
              "  specific estimator or a Pipeline/ColumnTransformer */\n",
              "  background-color: var(--sklearn-color-background);\n",
              "}\n",
              "\n",
              "/* Toggleable label */\n",
              "#sk-container-id-2 label.sk-toggleable__label {\n",
              "  cursor: pointer;\n",
              "  display: block;\n",
              "  width: 100%;\n",
              "  margin-bottom: 0;\n",
              "  padding: 0.5em;\n",
              "  box-sizing: border-box;\n",
              "  text-align: center;\n",
              "}\n",
              "\n",
              "#sk-container-id-2 label.sk-toggleable__label-arrow:before {\n",
              "  /* Arrow on the left of the label */\n",
              "  content: \"▸\";\n",
              "  float: left;\n",
              "  margin-right: 0.25em;\n",
              "  color: var(--sklearn-color-icon);\n",
              "}\n",
              "\n",
              "#sk-container-id-2 label.sk-toggleable__label-arrow:hover:before {\n",
              "  color: var(--sklearn-color-text);\n",
              "}\n",
              "\n",
              "/* Toggleable content - dropdown */\n",
              "\n",
              "#sk-container-id-2 div.sk-toggleable__content {\n",
              "  max-height: 0;\n",
              "  max-width: 0;\n",
              "  overflow: hidden;\n",
              "  text-align: left;\n",
              "  /* unfitted */\n",
              "  background-color: var(--sklearn-color-unfitted-level-0);\n",
              "}\n",
              "\n",
              "#sk-container-id-2 div.sk-toggleable__content.fitted {\n",
              "  /* fitted */\n",
              "  background-color: var(--sklearn-color-fitted-level-0);\n",
              "}\n",
              "\n",
              "#sk-container-id-2 div.sk-toggleable__content pre {\n",
              "  margin: 0.2em;\n",
              "  border-radius: 0.25em;\n",
              "  color: var(--sklearn-color-text);\n",
              "  /* unfitted */\n",
              "  background-color: var(--sklearn-color-unfitted-level-0);\n",
              "}\n",
              "\n",
              "#sk-container-id-2 div.sk-toggleable__content.fitted pre {\n",
              "  /* unfitted */\n",
              "  background-color: var(--sklearn-color-fitted-level-0);\n",
              "}\n",
              "\n",
              "#sk-container-id-2 input.sk-toggleable__control:checked~div.sk-toggleable__content {\n",
              "  /* Expand drop-down */\n",
              "  max-height: 200px;\n",
              "  max-width: 100%;\n",
              "  overflow: auto;\n",
              "}\n",
              "\n",
              "#sk-container-id-2 input.sk-toggleable__control:checked~label.sk-toggleable__label-arrow:before {\n",
              "  content: \"▾\";\n",
              "}\n",
              "\n",
              "/* Pipeline/ColumnTransformer-specific style */\n",
              "\n",
              "#sk-container-id-2 div.sk-label input.sk-toggleable__control:checked~label.sk-toggleable__label {\n",
              "  color: var(--sklearn-color-text);\n",
              "  background-color: var(--sklearn-color-unfitted-level-2);\n",
              "}\n",
              "\n",
              "#sk-container-id-2 div.sk-label.fitted input.sk-toggleable__control:checked~label.sk-toggleable__label {\n",
              "  background-color: var(--sklearn-color-fitted-level-2);\n",
              "}\n",
              "\n",
              "/* Estimator-specific style */\n",
              "\n",
              "/* Colorize estimator box */\n",
              "#sk-container-id-2 div.sk-estimator input.sk-toggleable__control:checked~label.sk-toggleable__label {\n",
              "  /* unfitted */\n",
              "  background-color: var(--sklearn-color-unfitted-level-2);\n",
              "}\n",
              "\n",
              "#sk-container-id-2 div.sk-estimator.fitted input.sk-toggleable__control:checked~label.sk-toggleable__label {\n",
              "  /* fitted */\n",
              "  background-color: var(--sklearn-color-fitted-level-2);\n",
              "}\n",
              "\n",
              "#sk-container-id-2 div.sk-label label.sk-toggleable__label,\n",
              "#sk-container-id-2 div.sk-label label {\n",
              "  /* The background is the default theme color */\n",
              "  color: var(--sklearn-color-text-on-default-background);\n",
              "}\n",
              "\n",
              "/* On hover, darken the color of the background */\n",
              "#sk-container-id-2 div.sk-label:hover label.sk-toggleable__label {\n",
              "  color: var(--sklearn-color-text);\n",
              "  background-color: var(--sklearn-color-unfitted-level-2);\n",
              "}\n",
              "\n",
              "/* Label box, darken color on hover, fitted */\n",
              "#sk-container-id-2 div.sk-label.fitted:hover label.sk-toggleable__label.fitted {\n",
              "  color: var(--sklearn-color-text);\n",
              "  background-color: var(--sklearn-color-fitted-level-2);\n",
              "}\n",
              "\n",
              "/* Estimator label */\n",
              "\n",
              "#sk-container-id-2 div.sk-label label {\n",
              "  font-family: monospace;\n",
              "  font-weight: bold;\n",
              "  display: inline-block;\n",
              "  line-height: 1.2em;\n",
              "}\n",
              "\n",
              "#sk-container-id-2 div.sk-label-container {\n",
              "  text-align: center;\n",
              "}\n",
              "\n",
              "/* Estimator-specific */\n",
              "#sk-container-id-2 div.sk-estimator {\n",
              "  font-family: monospace;\n",
              "  border: 1px dotted var(--sklearn-color-border-box);\n",
              "  border-radius: 0.25em;\n",
              "  box-sizing: border-box;\n",
              "  margin-bottom: 0.5em;\n",
              "  /* unfitted */\n",
              "  background-color: var(--sklearn-color-unfitted-level-0);\n",
              "}\n",
              "\n",
              "#sk-container-id-2 div.sk-estimator.fitted {\n",
              "  /* fitted */\n",
              "  background-color: var(--sklearn-color-fitted-level-0);\n",
              "}\n",
              "\n",
              "/* on hover */\n",
              "#sk-container-id-2 div.sk-estimator:hover {\n",
              "  /* unfitted */\n",
              "  background-color: var(--sklearn-color-unfitted-level-2);\n",
              "}\n",
              "\n",
              "#sk-container-id-2 div.sk-estimator.fitted:hover {\n",
              "  /* fitted */\n",
              "  background-color: var(--sklearn-color-fitted-level-2);\n",
              "}\n",
              "\n",
              "/* Specification for estimator info (e.g. \"i\" and \"?\") */\n",
              "\n",
              "/* Common style for \"i\" and \"?\" */\n",
              "\n",
              ".sk-estimator-doc-link,\n",
              "a:link.sk-estimator-doc-link,\n",
              "a:visited.sk-estimator-doc-link {\n",
              "  float: right;\n",
              "  font-size: smaller;\n",
              "  line-height: 1em;\n",
              "  font-family: monospace;\n",
              "  background-color: var(--sklearn-color-background);\n",
              "  border-radius: 1em;\n",
              "  height: 1em;\n",
              "  width: 1em;\n",
              "  text-decoration: none !important;\n",
              "  margin-left: 1ex;\n",
              "  /* unfitted */\n",
              "  border: var(--sklearn-color-unfitted-level-1) 1pt solid;\n",
              "  color: var(--sklearn-color-unfitted-level-1);\n",
              "}\n",
              "\n",
              ".sk-estimator-doc-link.fitted,\n",
              "a:link.sk-estimator-doc-link.fitted,\n",
              "a:visited.sk-estimator-doc-link.fitted {\n",
              "  /* fitted */\n",
              "  border: var(--sklearn-color-fitted-level-1) 1pt solid;\n",
              "  color: var(--sklearn-color-fitted-level-1);\n",
              "}\n",
              "\n",
              "/* On hover */\n",
              "div.sk-estimator:hover .sk-estimator-doc-link:hover,\n",
              ".sk-estimator-doc-link:hover,\n",
              "div.sk-label-container:hover .sk-estimator-doc-link:hover,\n",
              ".sk-estimator-doc-link:hover {\n",
              "  /* unfitted */\n",
              "  background-color: var(--sklearn-color-unfitted-level-3);\n",
              "  color: var(--sklearn-color-background);\n",
              "  text-decoration: none;\n",
              "}\n",
              "\n",
              "div.sk-estimator.fitted:hover .sk-estimator-doc-link.fitted:hover,\n",
              ".sk-estimator-doc-link.fitted:hover,\n",
              "div.sk-label-container:hover .sk-estimator-doc-link.fitted:hover,\n",
              ".sk-estimator-doc-link.fitted:hover {\n",
              "  /* fitted */\n",
              "  background-color: var(--sklearn-color-fitted-level-3);\n",
              "  color: var(--sklearn-color-background);\n",
              "  text-decoration: none;\n",
              "}\n",
              "\n",
              "/* Span, style for the box shown on hovering the info icon */\n",
              ".sk-estimator-doc-link span {\n",
              "  display: none;\n",
              "  z-index: 9999;\n",
              "  position: relative;\n",
              "  font-weight: normal;\n",
              "  right: .2ex;\n",
              "  padding: .5ex;\n",
              "  margin: .5ex;\n",
              "  width: min-content;\n",
              "  min-width: 20ex;\n",
              "  max-width: 50ex;\n",
              "  color: var(--sklearn-color-text);\n",
              "  box-shadow: 2pt 2pt 4pt #999;\n",
              "  /* unfitted */\n",
              "  background: var(--sklearn-color-unfitted-level-0);\n",
              "  border: .5pt solid var(--sklearn-color-unfitted-level-3);\n",
              "}\n",
              "\n",
              ".sk-estimator-doc-link.fitted span {\n",
              "  /* fitted */\n",
              "  background: var(--sklearn-color-fitted-level-0);\n",
              "  border: var(--sklearn-color-fitted-level-3);\n",
              "}\n",
              "\n",
              ".sk-estimator-doc-link:hover span {\n",
              "  display: block;\n",
              "}\n",
              "\n",
              "/* \"?\"-specific style due to the `<a>` HTML tag */\n",
              "\n",
              "#sk-container-id-2 a.estimator_doc_link {\n",
              "  float: right;\n",
              "  font-size: 1rem;\n",
              "  line-height: 1em;\n",
              "  font-family: monospace;\n",
              "  background-color: var(--sklearn-color-background);\n",
              "  border-radius: 1rem;\n",
              "  height: 1rem;\n",
              "  width: 1rem;\n",
              "  text-decoration: none;\n",
              "  /* unfitted */\n",
              "  color: var(--sklearn-color-unfitted-level-1);\n",
              "  border: var(--sklearn-color-unfitted-level-1) 1pt solid;\n",
              "}\n",
              "\n",
              "#sk-container-id-2 a.estimator_doc_link.fitted {\n",
              "  /* fitted */\n",
              "  border: var(--sklearn-color-fitted-level-1) 1pt solid;\n",
              "  color: var(--sklearn-color-fitted-level-1);\n",
              "}\n",
              "\n",
              "/* On hover */\n",
              "#sk-container-id-2 a.estimator_doc_link:hover {\n",
              "  /* unfitted */\n",
              "  background-color: var(--sklearn-color-unfitted-level-3);\n",
              "  color: var(--sklearn-color-background);\n",
              "  text-decoration: none;\n",
              "}\n",
              "\n",
              "#sk-container-id-2 a.estimator_doc_link.fitted:hover {\n",
              "  /* fitted */\n",
              "  background-color: var(--sklearn-color-fitted-level-3);\n",
              "}\n",
              "</style><div id=\"sk-container-id-2\" class=\"sk-top-container\"><div class=\"sk-text-repr-fallback\"><pre>StandardScaler()</pre><b>In a Jupyter environment, please rerun this cell to show the HTML representation or trust the notebook. <br />On GitHub, the HTML representation is unable to render, please try loading this page with nbviewer.org.</b></div><div class=\"sk-container\" hidden><div class=\"sk-item\"><div class=\"sk-estimator fitted sk-toggleable\"><input class=\"sk-toggleable__control sk-hidden--visually\" id=\"sk-estimator-id-2\" type=\"checkbox\" checked><label for=\"sk-estimator-id-2\" class=\"sk-toggleable__label fitted sk-toggleable__label-arrow fitted\">&nbsp;&nbsp;StandardScaler<a class=\"sk-estimator-doc-link fitted\" rel=\"noreferrer\" target=\"_blank\" href=\"https://scikit-learn.org/1.4/modules/generated/sklearn.preprocessing.StandardScaler.html\">?<span>Documentation for StandardScaler</span></a><span class=\"sk-estimator-doc-link fitted\">i<span>Fitted</span></span></label><div class=\"sk-toggleable__content fitted\"><pre>StandardScaler()</pre></div> </div></div></div></div>"
            ],
            "text/plain": [
              "StandardScaler()"
            ]
          },
          "execution_count": 244,
          "metadata": {},
          "output_type": "execute_result"
        }
      ],
      "source": [
        "scaler.fit(X_train)"
      ]
    },
    {
      "cell_type": "code",
      "execution_count": 245,
      "metadata": {
        "id": "-PryqD25QPFH"
      },
      "outputs": [],
      "source": [
        "X_train = scaler.transform(X_train)\n",
        "X_test = scaler.transform(X_test)"
      ]
    },
    {
      "cell_type": "code",
      "execution_count": 246,
      "metadata": {
        "colab": {
          "base_uri": "https://localhost:8080/"
        },
        "id": "LeuB2B_GQfVC",
        "outputId": "c2220c16-91fe-4d1d-be80-48e77e37fb56"
      },
      "outputs": [
        {
          "data": {
            "text/plain": [
              "array([[ 0.47596424,  0.59846315,  0.48376368,  0.50168462],\n",
              "       [ 0.85172548, -0.29286494,  0.42571204,  0.09751415],\n",
              "       [ 0.22545674, -0.29286494,  0.48376368,  0.23223764],\n",
              "       [ 0.60121798, -0.51569697,  1.00622846,  1.31002556],\n",
              "       [ 0.22545674, -0.96136101,  1.00622846,  0.23223764],\n",
              "       [ 0.72647173, -0.51569697,  0.42571204,  0.36696113],\n",
              "       [-0.02505075, -0.07003292,  0.19350547,  0.36696113],\n",
              "       [-0.1503045 ,  2.1582873 , -1.54804379, -1.38444425],\n",
              "       [ 0.100203  , -0.73852899,  0.71597025,  0.50168462],\n",
              "       [-0.52606574, -1.18419303,  0.07740219,  0.09751415],\n",
              "       [ 2.22951669, -0.96136101,  1.76089981,  1.44474905],\n",
              "       [-0.90182698,  2.38111932, -1.37388886, -1.51916774],\n",
              "       [ 1.35274046,  0.37563112,  0.48376368,  0.23223764],\n",
              "       [-1.15233447, -1.62985708, -0.32895931, -0.30665633],\n",
              "       [-0.1503045 , -0.73852899,  0.13545383, -0.30665633],\n",
              "       [-0.90182698,  1.04412719, -1.37388886, -1.38444425],\n",
              "       [ 1.60324796, -0.07003292,  1.12233175,  0.50168462],\n",
              "       [ 1.22748672,  0.1527991 ,  0.59986697,  0.36696113],\n",
              "       [-1.27758822,  0.1527991 , -1.37388886, -1.38444425],\n",
              "       [ 1.22748672,  0.1527991 ,  0.89012518,  1.17530207],\n",
              "       [ 0.97697922, -1.18419303,  1.12233175,  0.7711316 ],\n",
              "       [ 1.60324796,  0.37563112,  1.23843503,  0.7711316 ],\n",
              "       [-1.40284196, -0.07003292, -1.43194051, -1.51916774],\n",
              "       [-0.27555824, -0.96136101, -0.21285602, -0.30665633],\n",
              "       [ 0.60121798,  0.37563112,  0.83207354,  1.44474905],\n",
              "       [ 0.97697922,  0.59846315,  1.06428011,  1.17530207],\n",
              "       [-0.90182698,  0.82129517, -1.43194051, -1.38444425],\n",
              "       [-0.1503045 , -0.73852899,  0.71597025,  0.90585509],\n",
              "       [-1.90385695, -0.07003292, -1.48999215, -1.38444425],\n",
              "       [ 0.72647173, -0.07003292,  0.77402189,  1.04057858],\n",
              "       [-1.15233447,  0.82129517, -1.37388886, -1.38444425],\n",
              "       [-1.27758822, -1.40702505, -0.32895931, -0.30665633],\n",
              "       [-0.52606574,  1.04412719, -1.48999215, -1.38444425],\n",
              "       [-0.02505075, -0.07003292,  0.71597025,  0.7711316 ],\n",
              "       [-1.40284196,  0.1527991 , -1.31583722, -1.38444425],\n",
              "       [-1.02708072,  1.71262326, -1.1416823 , -1.11499727],\n",
              "       [ 2.48002419,  1.71262326,  1.4706416 ,  1.04057858],\n",
              "       [ 0.22545674, -0.51569697,  0.07740219,  0.09751415],\n",
              "       [ 1.10223297, -0.51569697,  0.54181533,  0.23223764],\n",
              "       [-0.40081199, -1.18419303,  0.01935055, -0.17193284],\n",
              "       [-1.02708072,  0.82129517, -1.37388886, -1.38444425],\n",
              "       [ 1.60324796,  1.26695921,  1.29648667,  1.71419603],\n",
              "       [-1.15233447,  0.37563112, -1.54804379, -1.38444425],\n",
              "       [-0.65131948,  0.82129517, -1.25778558, -1.38444425],\n",
              "       [ 0.97697922,  0.1527991 ,  0.48376368,  0.36696113],\n",
              "       [-0.77657323,  1.48979123, -1.37388886, -1.38444425],\n",
              "       [-0.02505075,  0.37563112,  0.54181533,  0.7711316 ],\n",
              "       [ 0.100203  , -0.29286494,  0.3676604 ,  0.36696113],\n",
              "       [ 1.22748672,  0.37563112,  1.06428011,  1.44474905],\n",
              "       [ 0.100203  , -1.8526891 ,  0.65791861,  0.36696113],\n",
              "       [ 0.47596424,  0.59846315,  1.23843503,  1.71419603],\n",
              "       [ 0.47596424, -0.73852899,  0.59986697,  0.7711316 ],\n",
              "       [-0.1503045 , -0.51569697,  0.71597025,  1.57947254],\n",
              "       [ 1.10223297,  0.37563112,  1.18038339,  1.44474905],\n",
              "       [ 1.85375545, -0.51569697,  1.29648667,  0.90585509],\n",
              "       [-0.52606574,  2.60395135, -1.43194051, -1.38444425],\n",
              "       [-1.27758822, -0.07003292, -1.43194051, -1.38444425],\n",
              "       [ 0.35071049, -1.8526891 ,  0.3676604 ,  0.36696113],\n",
              "       [ 0.100203  , -1.8526891 ,  0.07740219, -0.30665633],\n",
              "       [-0.65131948, -0.07003292,  0.3676604 ,  0.36696113],\n",
              "       [-1.02708072,  1.04412719, -1.43194051, -1.24972076],\n",
              "       [ 0.60121798, -0.29286494,  0.25155712,  0.09751415],\n",
              "       [-0.27555824,  3.04961539, -1.37388886, -1.11499727],\n",
              "       [-1.15233447, -0.07003292, -1.31583722, -1.38444425],\n",
              "       [-0.27555824, -0.29286494,  0.19350547,  0.09751415],\n",
              "       [ 0.22545674, -0.51569697,  0.48376368, -0.03720934],\n",
              "       [ 0.60121798, -0.51569697,  1.00622846,  1.17530207],\n",
              "       [-0.27555824,  1.71262326, -1.25778558, -1.24972076],\n",
              "       [-1.02708072,  1.71262326, -1.31583722, -1.38444425],\n",
              "       [ 2.22951669, -0.07003292,  1.29648667,  1.44474905],\n",
              "       [-0.52606574, -0.96136101,  0.30960876, -0.03720934],\n",
              "       [-0.52606574, -1.40702505, -0.03870109, -0.17193284],\n",
              "       [-1.7786032 , -1.62985708, -1.48999215, -1.24972076],\n",
              "       [ 0.72647173,  0.37563112,  0.71597025,  1.04057858],\n",
              "       [ 0.97697922, -0.07003292,  0.65791861,  0.63640811],\n",
              "       [-1.02708072, -1.18419303, -0.50311423, -0.17193284],\n",
              "       [-0.27555824, -1.18419303,  0.65791861,  1.04057858],\n",
              "       [-1.40284196,  0.82129517, -1.1416823 , -1.38444425],\n",
              "       [-1.40284196,  0.82129517, -1.31583722, -1.38444425],\n",
              "       [ 0.97697922, -0.07003292,  0.77402189,  1.44474905],\n",
              "       [-1.15233447,  1.26695921, -1.43194051, -1.38444425],\n",
              "       [ 0.47596424, -1.18419303,  0.59986697,  0.36696113],\n",
              "       [-0.27555824, -0.07003292,  0.19350547, -0.03720934],\n",
              "       [ 0.97697922,  0.1527991 ,  1.00622846,  1.57947254],\n",
              "       [ 1.72850171, -0.29286494,  1.41258996,  0.7711316 ],\n",
              "       [-0.1503045 , -0.73852899,  0.01935055, -0.03720934],\n",
              "       [-0.65131948,  1.93545528, -1.25778558, -1.11499727],\n",
              "       [-0.40081199, -0.73852899,  0.19350547,  0.09751415],\n",
              "       [-0.65131948,  0.82129517, -1.37388886, -1.11499727],\n",
              "       [-0.27555824, -0.51569697,  0.3676604 ,  0.09751415],\n",
              "       [ 0.100203  , -0.07003292,  0.54181533,  0.7711316 ],\n",
              "       [-0.90182698, -0.73852899,  0.01935055,  0.23223764],\n",
              "       [-0.65131948,  1.93545528, -1.48999215, -1.11499727],\n",
              "       [-1.02708072,  0.59846315, -1.25778558, -0.98027378],\n",
              "       [-1.40284196, -0.07003292, -1.43194051, -1.24972076],\n",
              "       [-0.1503045 , -0.73852899,  0.71597025,  0.90585509],\n",
              "       [ 0.47596424, -1.62985708,  0.30960876,  0.09751415],\n",
              "       [ 0.72647173, -0.07003292,  0.94817682,  0.7711316 ],\n",
              "       [-0.1503045 , -0.96136101,  0.07740219, -0.03720934],\n",
              "       [ 2.22951669, -0.51569697,  1.64479653,  1.04057858],\n",
              "       [ 0.22545674, -0.07003292,  0.59986697,  0.7711316 ],\n",
              "       [ 0.35071049, -0.29286494,  0.25155712,  0.09751415],\n",
              "       [-2.0291107 , -0.07003292, -1.60609543, -1.51916774],\n",
              "       [-0.40081199, -0.51569697,  0.59986697,  1.04057858],\n",
              "       [ 1.47799421, -0.07003292,  1.18038339,  1.17530207]])"
            ]
          },
          "execution_count": 246,
          "metadata": {},
          "output_type": "execute_result"
        }
      ],
      "source": [
        "X_train"
      ]
    },
    {
      "cell_type": "code",
      "execution_count": 247,
      "metadata": {
        "colab": {
          "base_uri": "https://localhost:8080/"
        },
        "id": "JfbDpAytQhEI",
        "outputId": "213ddd07-e754-45dd-a251-0d8991b9c517"
      },
      "outputs": [
        {
          "data": {
            "text/plain": [
              "array([[-0.40081199, -0.07003292,  0.13545383,  0.09751415],\n",
              "       [ 0.100203  ,  0.82129517,  0.3676604 ,  0.50168462],\n",
              "       [-1.15233447,  0.59846315, -1.43194051, -1.38444425],\n",
              "       [-0.52606574, -1.62985708,  0.07740219,  0.09751415],\n",
              "       [-0.52606574, -1.40702505, -0.09675274, -0.30665633],\n",
              "       [-1.65334946,  1.26695921, -1.66414707, -1.38444425],\n",
              "       [-1.15233447,  1.04412719, -1.48999215, -1.24972076],\n",
              "       [-1.27758822,  1.26695921, -1.43194051, -1.51916774],\n",
              "       [-1.15233447, -2.29835314, -0.21285602, -0.30665633],\n",
              "       [-1.02708072,  1.71262326, -1.37388886, -1.24972076],\n",
              "       [ 0.60121798,  0.37563112,  0.3676604 ,  0.36696113],\n",
              "       [ 0.35071049,  0.82129517,  0.89012518,  1.44474905],\n",
              "       [ 0.47596424,  0.82129517,  1.00622846,  1.57947254],\n",
              "       [-1.15233447,  0.82129517, -1.31583722, -1.11499727],\n",
              "       [ 0.60121798, -0.73852899,  0.83207354,  0.90585509],\n",
              "       [ 0.72647173, -0.07003292,  1.12233175,  1.31002556],\n",
              "       [ 0.35071049, -0.51569697,  0.54181533,  0.7711316 ],\n",
              "       [ 1.22748672,  0.1527991 ,  0.71597025,  1.44474905],\n",
              "       [-1.52809571,  0.37563112, -1.31583722, -1.38444425],\n",
              "       [-0.40081199, -0.29286494, -0.15480438,  0.09751415],\n",
              "       [ 0.22545674, -0.07003292,  0.42571204,  0.23223764],\n",
              "       [ 0.97697922,  0.59846315,  1.06428011,  1.71419603],\n",
              "       [ 0.47596424, -0.29286494,  1.00622846,  0.7711316 ],\n",
              "       [ 2.22951669,  1.71262326,  1.64479653,  1.31002556],\n",
              "       [-1.90385695, -0.29286494, -1.43194051, -1.38444425],\n",
              "       [ 2.10426295, -0.07003292,  1.58674488,  1.17530207],\n",
              "       [-1.15233447,  1.04412719, -1.31583722, -0.84555029],\n",
              "       [-0.27555824, -0.51569697,  0.13545383,  0.09751415],\n",
              "       [ 0.97697922,  0.1527991 ,  0.30960876,  0.23223764],\n",
              "       [-1.65334946,  0.37563112, -1.43194051, -1.38444425],\n",
              "       [ 0.60121798,  0.1527991 ,  0.94817682,  0.7711316 ],\n",
              "       [-0.65131948,  1.48979123, -1.37388886, -1.38444425],\n",
              "       [-1.02708072,  1.04412719, -1.43194051, -1.38444425],\n",
              "       [ 0.47596424, -0.51569697,  0.71597025,  0.36696113],\n",
              "       [-1.65334946,  0.82129517, -1.43194051, -1.24972076],\n",
              "       [ 1.10223297, -0.07003292,  0.94817682,  1.17530207],\n",
              "       [-1.90385695,  0.37563112, -1.48999215, -1.38444425],\n",
              "       [-0.40081199, -0.07003292,  0.3676604 ,  0.36696113],\n",
              "       [-1.02708072,  1.48979123, -1.37388886, -1.11499727],\n",
              "       [-1.27758822,  0.1527991 , -1.37388886, -1.51916774],\n",
              "       [-1.27758822, -1.18419303,  0.3676604 ,  0.63640811],\n",
              "       [ 0.47596424, -1.18419303,  0.65791861,  0.90585509],\n",
              "       [-1.65334946,  0.1527991 , -1.37388886, -1.38444425],\n",
              "       [ 0.85172548, -0.07003292,  0.30960876,  0.23223764],\n",
              "       [-1.52809571,  0.37563112, -1.48999215, -1.38444425]])"
            ]
          },
          "execution_count": 247,
          "metadata": {},
          "output_type": "execute_result"
        }
      ],
      "source": [
        "X_test"
      ]
    },
    {
      "cell_type": "code",
      "execution_count": 248,
      "metadata": {
        "id": "691E0xBA3QM6"
      },
      "outputs": [],
      "source": [
        "X_train = torch.tensor(X_train, dtype=torch.float32)\n",
        "Y_train = torch.tensor(Y_train)\n",
        "X_test = torch.tensor(X_test, dtype=torch.float32)\n",
        "Y_test = torch.tensor(Y_test)"
      ]
    },
    {
      "cell_type": "code",
      "execution_count": 249,
      "metadata": {
        "colab": {
          "base_uri": "https://localhost:8080/"
        },
        "id": "qzWIyGsO3ZOQ",
        "outputId": "87e640fe-51c1-4b1c-b1e6-84ea4aacb5ce"
      },
      "outputs": [
        {
          "data": {
            "text/plain": [
              "tensor([[ 0.4760,  0.5985,  0.4838,  0.5017],\n",
              "        [ 0.8517, -0.2929,  0.4257,  0.0975],\n",
              "        [ 0.2255, -0.2929,  0.4838,  0.2322],\n",
              "        [ 0.6012, -0.5157,  1.0062,  1.3100],\n",
              "        [ 0.2255, -0.9614,  1.0062,  0.2322],\n",
              "        [ 0.7265, -0.5157,  0.4257,  0.3670],\n",
              "        [-0.0251, -0.0700,  0.1935,  0.3670],\n",
              "        [-0.1503,  2.1583, -1.5480, -1.3844],\n",
              "        [ 0.1002, -0.7385,  0.7160,  0.5017],\n",
              "        [-0.5261, -1.1842,  0.0774,  0.0975],\n",
              "        [ 2.2295, -0.9614,  1.7609,  1.4447],\n",
              "        [-0.9018,  2.3811, -1.3739, -1.5192],\n",
              "        [ 1.3527,  0.3756,  0.4838,  0.2322],\n",
              "        [-1.1523, -1.6299, -0.3290, -0.3067],\n",
              "        [-0.1503, -0.7385,  0.1355, -0.3067],\n",
              "        [-0.9018,  1.0441, -1.3739, -1.3844],\n",
              "        [ 1.6032, -0.0700,  1.1223,  0.5017],\n",
              "        [ 1.2275,  0.1528,  0.5999,  0.3670],\n",
              "        [-1.2776,  0.1528, -1.3739, -1.3844],\n",
              "        [ 1.2275,  0.1528,  0.8901,  1.1753],\n",
              "        [ 0.9770, -1.1842,  1.1223,  0.7711],\n",
              "        [ 1.6032,  0.3756,  1.2384,  0.7711],\n",
              "        [-1.4028, -0.0700, -1.4319, -1.5192],\n",
              "        [-0.2756, -0.9614, -0.2129, -0.3067],\n",
              "        [ 0.6012,  0.3756,  0.8321,  1.4447],\n",
              "        [ 0.9770,  0.5985,  1.0643,  1.1753],\n",
              "        [-0.9018,  0.8213, -1.4319, -1.3844],\n",
              "        [-0.1503, -0.7385,  0.7160,  0.9059],\n",
              "        [-1.9039, -0.0700, -1.4900, -1.3844],\n",
              "        [ 0.7265, -0.0700,  0.7740,  1.0406],\n",
              "        [-1.1523,  0.8213, -1.3739, -1.3844],\n",
              "        [-1.2776, -1.4070, -0.3290, -0.3067],\n",
              "        [-0.5261,  1.0441, -1.4900, -1.3844],\n",
              "        [-0.0251, -0.0700,  0.7160,  0.7711],\n",
              "        [-1.4028,  0.1528, -1.3158, -1.3844],\n",
              "        [-1.0271,  1.7126, -1.1417, -1.1150],\n",
              "        [ 2.4800,  1.7126,  1.4706,  1.0406],\n",
              "        [ 0.2255, -0.5157,  0.0774,  0.0975],\n",
              "        [ 1.1022, -0.5157,  0.5418,  0.2322],\n",
              "        [-0.4008, -1.1842,  0.0194, -0.1719],\n",
              "        [-1.0271,  0.8213, -1.3739, -1.3844],\n",
              "        [ 1.6032,  1.2670,  1.2965,  1.7142],\n",
              "        [-1.1523,  0.3756, -1.5480, -1.3844],\n",
              "        [-0.6513,  0.8213, -1.2578, -1.3844],\n",
              "        [ 0.9770,  0.1528,  0.4838,  0.3670],\n",
              "        [-0.7766,  1.4898, -1.3739, -1.3844],\n",
              "        [-0.0251,  0.3756,  0.5418,  0.7711],\n",
              "        [ 0.1002, -0.2929,  0.3677,  0.3670],\n",
              "        [ 1.2275,  0.3756,  1.0643,  1.4447],\n",
              "        [ 0.1002, -1.8527,  0.6579,  0.3670],\n",
              "        [ 0.4760,  0.5985,  1.2384,  1.7142],\n",
              "        [ 0.4760, -0.7385,  0.5999,  0.7711],\n",
              "        [-0.1503, -0.5157,  0.7160,  1.5795],\n",
              "        [ 1.1022,  0.3756,  1.1804,  1.4447],\n",
              "        [ 1.8538, -0.5157,  1.2965,  0.9059],\n",
              "        [-0.5261,  2.6040, -1.4319, -1.3844],\n",
              "        [-1.2776, -0.0700, -1.4319, -1.3844],\n",
              "        [ 0.3507, -1.8527,  0.3677,  0.3670],\n",
              "        [ 0.1002, -1.8527,  0.0774, -0.3067],\n",
              "        [-0.6513, -0.0700,  0.3677,  0.3670],\n",
              "        [-1.0271,  1.0441, -1.4319, -1.2497],\n",
              "        [ 0.6012, -0.2929,  0.2516,  0.0975],\n",
              "        [-0.2756,  3.0496, -1.3739, -1.1150],\n",
              "        [-1.1523, -0.0700, -1.3158, -1.3844],\n",
              "        [-0.2756, -0.2929,  0.1935,  0.0975],\n",
              "        [ 0.2255, -0.5157,  0.4838, -0.0372],\n",
              "        [ 0.6012, -0.5157,  1.0062,  1.1753],\n",
              "        [-0.2756,  1.7126, -1.2578, -1.2497],\n",
              "        [-1.0271,  1.7126, -1.3158, -1.3844],\n",
              "        [ 2.2295, -0.0700,  1.2965,  1.4447],\n",
              "        [-0.5261, -0.9614,  0.3096, -0.0372],\n",
              "        [-0.5261, -1.4070, -0.0387, -0.1719],\n",
              "        [-1.7786, -1.6299, -1.4900, -1.2497],\n",
              "        [ 0.7265,  0.3756,  0.7160,  1.0406],\n",
              "        [ 0.9770, -0.0700,  0.6579,  0.6364],\n",
              "        [-1.0271, -1.1842, -0.5031, -0.1719],\n",
              "        [-0.2756, -1.1842,  0.6579,  1.0406],\n",
              "        [-1.4028,  0.8213, -1.1417, -1.3844],\n",
              "        [-1.4028,  0.8213, -1.3158, -1.3844],\n",
              "        [ 0.9770, -0.0700,  0.7740,  1.4447],\n",
              "        [-1.1523,  1.2670, -1.4319, -1.3844],\n",
              "        [ 0.4760, -1.1842,  0.5999,  0.3670],\n",
              "        [-0.2756, -0.0700,  0.1935, -0.0372],\n",
              "        [ 0.9770,  0.1528,  1.0062,  1.5795],\n",
              "        [ 1.7285, -0.2929,  1.4126,  0.7711],\n",
              "        [-0.1503, -0.7385,  0.0194, -0.0372],\n",
              "        [-0.6513,  1.9355, -1.2578, -1.1150],\n",
              "        [-0.4008, -0.7385,  0.1935,  0.0975],\n",
              "        [-0.6513,  0.8213, -1.3739, -1.1150],\n",
              "        [-0.2756, -0.5157,  0.3677,  0.0975],\n",
              "        [ 0.1002, -0.0700,  0.5418,  0.7711],\n",
              "        [-0.9018, -0.7385,  0.0194,  0.2322],\n",
              "        [-0.6513,  1.9355, -1.4900, -1.1150],\n",
              "        [-1.0271,  0.5985, -1.2578, -0.9803],\n",
              "        [-1.4028, -0.0700, -1.4319, -1.2497],\n",
              "        [-0.1503, -0.7385,  0.7160,  0.9059],\n",
              "        [ 0.4760, -1.6299,  0.3096,  0.0975],\n",
              "        [ 0.7265, -0.0700,  0.9482,  0.7711],\n",
              "        [-0.1503, -0.9614,  0.0774, -0.0372],\n",
              "        [ 2.2295, -0.5157,  1.6448,  1.0406],\n",
              "        [ 0.2255, -0.0700,  0.5999,  0.7711],\n",
              "        [ 0.3507, -0.2929,  0.2516,  0.0975],\n",
              "        [-2.0291, -0.0700, -1.6061, -1.5192],\n",
              "        [-0.4008, -0.5157,  0.5999,  1.0406],\n",
              "        [ 1.4780, -0.0700,  1.1804,  1.1753]])"
            ]
          },
          "execution_count": 249,
          "metadata": {},
          "output_type": "execute_result"
        }
      ],
      "source": [
        "X_train"
      ]
    },
    {
      "cell_type": "code",
      "execution_count": 250,
      "metadata": {
        "colab": {
          "base_uri": "https://localhost:8080/"
        },
        "id": "VVDJyaXt3cQM",
        "outputId": "e8352d59-c930-4560-edc2-00b492be25f2"
      },
      "outputs": [
        {
          "data": {
            "text/plain": [
              "tensor([1, 1, 1, 2, 2, 1, 1, 0, 1, 1, 2, 0, 1, 1, 1, 0, 2, 1, 0, 2, 2, 2, 0, 1,\n",
              "        2, 2, 0, 2, 0, 2, 0, 1, 0, 2, 0, 0, 2, 1, 1, 1, 0, 2, 0, 0, 1, 0, 1, 1,\n",
              "        2, 2, 2, 2, 2, 2, 2, 0, 0, 1, 1, 1, 0, 1, 0, 0, 1, 1, 2, 0, 0, 2, 1, 1,\n",
              "        0, 2, 1, 1, 2, 0, 0, 2, 0, 1, 1, 2, 2, 1, 0, 1, 0, 1, 2, 1, 0, 0, 0, 2,\n",
              "        1, 2, 1, 2, 2, 1, 0, 2, 2])"
            ]
          },
          "execution_count": 250,
          "metadata": {},
          "output_type": "execute_result"
        }
      ],
      "source": [
        "Y_train"
      ]
    },
    {
      "cell_type": "code",
      "execution_count": 251,
      "metadata": {
        "id": "sCU9MDm43jmk"
      },
      "outputs": [],
      "source": [
        "model_classifier = nn.Sequential(\n",
        "    nn.Linear(4, 8),\n",
        "    nn.ReLU(),\n",
        "    nn.Linear(8, 3)\n",
        ")"
      ]
    },
    {
      "cell_type": "code",
      "execution_count": 252,
      "metadata": {
        "colab": {
          "base_uri": "https://localhost:8080/"
        },
        "id": "GdEARU3Q3wVI",
        "outputId": "90eefbde-8e98-44fe-abca-89e7926d274c"
      },
      "outputs": [
        {
          "data": {
            "text/plain": [
              "Sequential(\n",
              "  (0): Linear(in_features=4, out_features=8, bias=True)\n",
              "  (1): ReLU()\n",
              "  (2): Linear(in_features=8, out_features=3, bias=True)\n",
              ")"
            ]
          },
          "execution_count": 252,
          "metadata": {},
          "output_type": "execute_result"
        }
      ],
      "source": [
        "model_classifier"
      ]
    },
    {
      "cell_type": "code",
      "execution_count": 253,
      "metadata": {
        "colab": {
          "base_uri": "https://localhost:8080/"
        },
        "id": "cknQZodUQr94",
        "outputId": "7a0ce0b8-7a72-45d1-ec48-0926345c986b"
      },
      "outputs": [
        {
          "name": "stdout",
          "output_type": "stream",
          "text": [
            "----------------------------------------------------------------\n",
            "        Layer (type)               Output Shape         Param #\n",
            "================================================================\n",
            "            Linear-1                 [-1, 1, 8]              40\n",
            "              ReLU-2                 [-1, 1, 8]               0\n",
            "            Linear-3                 [-1, 1, 3]              27\n",
            "================================================================\n",
            "Total params: 67\n",
            "Trainable params: 67\n",
            "Non-trainable params: 0\n",
            "----------------------------------------------------------------\n",
            "Input size (MB): 0.00\n",
            "Forward/backward pass size (MB): 0.00\n",
            "Params size (MB): 0.00\n",
            "Estimated Total Size (MB): 0.00\n",
            "----------------------------------------------------------------\n"
          ]
        }
      ],
      "source": [
        "device = torch.device(\"cuda\" if torch.cuda.is_available() else \"cpu\")\n",
        "model_classifier.to(device)\n",
        "summary(model_classifier, (1, 4))"
      ]
    },
    {
      "cell_type": "code",
      "execution_count": 254,
      "metadata": {
        "colab": {
          "base_uri": "https://localhost:8080/"
        },
        "id": "InBlr-Rr4Jua",
        "outputId": "4704e6cb-5ce2-4f80-b6ac-202ac6aa7456"
      },
      "outputs": [
        {
          "data": {
            "text/plain": [
              "tensor([0.4760, 0.5985, 0.4838, 0.5017])"
            ]
          },
          "execution_count": 254,
          "metadata": {},
          "output_type": "execute_result"
        }
      ],
      "source": [
        "X_train[0]"
      ]
    },
    {
      "cell_type": "code",
      "execution_count": 255,
      "metadata": {
        "colab": {
          "base_uri": "https://localhost:8080/"
        },
        "id": "hqcgm8gZ4C17",
        "outputId": "707fd02f-2e92-47db-a167-2557a9b4d20c"
      },
      "outputs": [
        {
          "data": {
            "text/plain": [
              "tensor([-0.2962, -0.0119, -0.1632], device='cuda:0', grad_fn=<ViewBackward0>)"
            ]
          },
          "execution_count": 255,
          "metadata": {},
          "output_type": "execute_result"
        }
      ],
      "source": [
        "X_train = X_train.to(device)\n",
        "y_pred = model_classifier(X_train[0])\n",
        "y_pred"
      ]
    },
    {
      "cell_type": "code",
      "execution_count": 256,
      "metadata": {
        "id": "yJmpOr4y52a_"
      },
      "outputs": [],
      "source": [
        "loss_fn = nn.CrossEntropyLoss()"
      ]
    },
    {
      "cell_type": "code",
      "execution_count": 257,
      "metadata": {
        "colab": {
          "base_uri": "https://localhost:8080/"
        },
        "id": "D8Y5mcVK6CCq",
        "outputId": "a931cee9-19a6-4445-ca0b-9614f838b24a"
      },
      "outputs": [
        {
          "data": {
            "text/plain": [
              "tensor(0.9601, device='cuda:0', grad_fn=<NllLossBackward0>)"
            ]
          },
          "execution_count": 257,
          "metadata": {},
          "output_type": "execute_result"
        }
      ],
      "source": [
        "loss = loss_fn(y_pred, Y_train[0].to(device))\n",
        "loss"
      ]
    },
    {
      "cell_type": "code",
      "execution_count": 258,
      "metadata": {
        "colab": {
          "base_uri": "https://localhost:8080/"
        },
        "id": "zObTCe0v8_GI",
        "outputId": "e6bfb953-0172-44c6-f95f-5d02795d7fc7"
      },
      "outputs": [
        {
          "data": {
            "text/plain": [
              "0.9601325988769531"
            ]
          },
          "execution_count": 258,
          "metadata": {},
          "output_type": "execute_result"
        }
      ],
      "source": [
        "loss.item() # get the value of the loss"
      ]
    },
    {
      "cell_type": "code",
      "execution_count": 259,
      "metadata": {
        "id": "uTecytfN55nG"
      },
      "outputs": [],
      "source": [
        "learning_rate = 0.01\n",
        "\n",
        "optimizer = optim.SGD(\n",
        "    model_classifier.parameters(),\n",
        "    learning_rate\n",
        ")"
      ]
    },
    {
      "cell_type": "code",
      "execution_count": 260,
      "metadata": {
        "id": "U7011Dm-5vnw"
      },
      "outputs": [],
      "source": [
        "num_epochs = 20\n",
        "losses = []\n",
        "for epoch in range(num_epochs):\n",
        "    epoch_loss = []\n",
        "    for x_train, y_train in zip(X_train, Y_train):\n",
        "        y_pred = model_classifier(x_train)\n",
        "        y_train = y_train.to(device)\n",
        "        loss = loss_fn(y_pred, y_train)\n",
        "        epoch_loss.append(loss.item())\n",
        "\n",
        "        optimizer.zero_grad() # clear the gradients of all optimized variables if we have updated the parameters in the previous section\n",
        "        loss.backward()\n",
        "        optimizer.step()\n",
        "    losses.append(sum(epoch_loss)/len(epoch_loss))"
      ]
    },
    {
      "cell_type": "code",
      "execution_count": 261,
      "metadata": {
        "colab": {
          "base_uri": "https://localhost:8080/"
        },
        "id": "qfrKOE8V52MG",
        "outputId": "967e53e8-f4f6-48ec-b9b8-d04bdf71d107"
      },
      "outputs": [
        {
          "data": {
            "text/plain": [
              "[0.904187036270187,\n",
              " 0.7107491010001727,\n",
              " 0.5910129173525742,\n",
              " 0.5117832063209443,\n",
              " 0.4535236190649725,\n",
              " 0.4069728232387986,\n",
              " 0.3682657722915922,\n",
              " 0.33549302740111236,\n",
              " 0.30784283644918886,\n",
              " 0.2846665474275748,\n",
              " 0.2652486963330635,\n",
              " 0.24882603074823106,\n",
              " 0.23482427697717434,\n",
              " 0.22232241018763965,\n",
              " 0.21136617539894012,\n",
              " 0.20163773409578772,\n",
              " 0.19278983989220466,\n",
              " 0.18436377856858252,\n",
              " 0.1766133730310858,\n",
              " 0.1695677328372507]"
            ]
          },
          "execution_count": 261,
          "metadata": {},
          "output_type": "execute_result"
        }
      ],
      "source": [
        "losses"
      ]
    },
    {
      "cell_type": "code",
      "execution_count": 262,
      "metadata": {
        "id": "np5-sppT9ojM"
      },
      "outputs": [],
      "source": [
        "# `torch.no_grad()` is a context manager that disables gradient calculation\n",
        "with torch.no_grad():\n",
        "    X_test = X_test.to(device)\n",
        "    Y_pred = model_classifier(X_test)"
      ]
    },
    {
      "cell_type": "code",
      "execution_count": 263,
      "metadata": {},
      "outputs": [
        {
          "data": {
            "text/plain": [
              "tensor([[-1.0963,  1.5614, -0.9895],\n",
              "        [-2.1194,  0.7168,  0.6181],\n",
              "        [ 4.7627,  0.1898, -5.0888],\n",
              "        [-1.6927,  2.3681, -1.1949],\n",
              "        [-0.5753,  2.8401, -2.5014],\n",
              "        [ 6.0964, -0.9717, -5.3072],\n",
              "        [ 5.0336, -0.3957, -4.8429],\n",
              "        [ 5.4586, -0.6178, -5.0506],\n",
              "        [-0.5218,  3.3761, -2.9874],\n",
              "        [ 5.1631, -1.0240, -4.4397],\n",
              "        [-2.2655,  1.0153,  0.4578],\n",
              "        [-4.0731, -0.1395,  2.8201],\n",
              "        [-4.4146, -0.2458,  3.1632],\n",
              "        [ 4.4992, -0.0673, -4.6188],\n",
              "        [-4.2861,  0.5373,  2.3922],\n",
              "        [-4.7584, -0.0575,  3.2406],\n",
              "        [-3.5483,  0.7160,  1.6965],\n",
              "        [-4.2253,  0.1123,  2.7076],\n",
              "        [ 4.8310,  0.3315, -5.2399],\n",
              "        [-0.4896,  1.7785, -1.6750],\n",
              "        [-2.1847,  1.2028,  0.1813],\n",
              "        [-4.7691, -0.3561,  3.5196],\n",
              "        [-4.1114,  0.4197,  2.3519],\n",
              "        [-4.6119, -0.2812,  3.3385],\n",
              "        [ 4.9594,  0.8566, -5.7676],\n",
              "        [-5.4098,  0.1226,  3.5620],\n",
              "        [ 4.4148, -0.3923, -4.2575],\n",
              "        [-1.4023,  1.8060, -0.9508],\n",
              "        [-2.1561,  1.2864,  0.1287],\n",
              "        [ 5.1422,  0.2018, -5.4085],\n",
              "        [-3.7767,  0.4022,  2.1234],\n",
              "        [ 4.7307, -0.5340, -4.4828],\n",
              "        [ 4.9286, -0.2673, -4.8694],\n",
              "        [-3.2762,  1.0188,  1.2070],\n",
              "        [ 5.3235, -0.3499, -5.1084],\n",
              "        [-4.3905,  0.2229,  2.7299],\n",
              "        [ 5.4959,  0.0442, -5.5829],\n",
              "        [-2.0762,  1.1493,  0.1608],\n",
              "        [ 4.9037, -0.8178, -4.3741],\n",
              "        [ 4.6240,  0.7136, -5.3946],\n",
              "        [-2.7048,  1.4082,  0.4480],\n",
              "        [-4.3153,  0.7830,  2.2460],\n",
              "        [ 4.9036,  0.4952, -5.4339],\n",
              "        [-2.1918,  1.3305,  0.0966],\n",
              "        [ 5.0996,  0.2298, -5.4028]], device='cuda:0')"
            ]
          },
          "execution_count": 263,
          "metadata": {},
          "output_type": "execute_result"
        }
      ],
      "source": [
        "Y_pred"
      ]
    },
    {
      "cell_type": "code",
      "execution_count": 264,
      "metadata": {
        "id": "en_D2sAR9tWk"
      },
      "outputs": [],
      "source": [
        "Y_pred = torch.argmax(Y_pred, dim=1)"
      ]
    },
    {
      "cell_type": "code",
      "execution_count": 265,
      "metadata": {
        "colab": {
          "base_uri": "https://localhost:8080/"
        },
        "id": "QwjpA6eB91vu",
        "outputId": "40ff7b47-5b9f-4165-faf4-76238e3f5693"
      },
      "outputs": [
        {
          "data": {
            "text/plain": [
              "tensor([1, 1, 0, 1, 1, 0, 0, 0, 1, 0, 1, 2, 2, 0, 2, 2, 2, 2, 0, 1, 1, 2, 2, 2,\n",
              "        0, 2, 0, 1, 1, 0, 2, 0, 0, 2, 0, 2, 0, 1, 0, 0, 1, 2, 0, 1, 0],\n",
              "       device='cuda:0')"
            ]
          },
          "execution_count": 265,
          "metadata": {},
          "output_type": "execute_result"
        }
      ],
      "source": [
        "Y_pred"
      ]
    },
    {
      "cell_type": "code",
      "execution_count": 268,
      "metadata": {
        "colab": {
          "base_uri": "https://localhost:8080/"
        },
        "id": "AciUI7rv920-",
        "outputId": "33bc9541-5271-4738-d704-ce6eee936220"
      },
      "outputs": [
        {
          "data": {
            "text/plain": [
              "tensor(0.9778, device='cuda:0')"
            ]
          },
          "execution_count": 268,
          "metadata": {},
          "output_type": "execute_result"
        }
      ],
      "source": [
        "Y_test = Y_test.to(device)\n",
        "sum(Y_pred == Y_test)/len(Y_test)"
      ]
    }
  ],
  "metadata": {
    "colab": {
      "provenance": [],
      "toc_visible": true
    },
    "kernelspec": {
      "display_name": "Python 3",
      "name": "python3"
    },
    "language_info": {
      "codemirror_mode": {
        "name": "ipython",
        "version": 3
      },
      "file_extension": ".py",
      "mimetype": "text/x-python",
      "name": "python",
      "nbconvert_exporter": "python",
      "pygments_lexer": "ipython3",
      "version": "3.10.12"
    }
  },
  "nbformat": 4,
  "nbformat_minor": 0
}
