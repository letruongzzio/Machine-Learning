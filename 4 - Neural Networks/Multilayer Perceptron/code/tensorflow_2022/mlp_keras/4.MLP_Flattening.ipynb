{
 "cells": [
  {
   "cell_type": "code",
   "execution_count": 2,
   "id": "5cc812ca",
   "metadata": {},
   "outputs": [
    {
     "name": "stdout",
     "output_type": "stream",
     "text": [
      "(60000, 28, 28)\n",
      "(60000,)\n",
      "(10000, 28, 28)\n",
      "(10000,)\n"
     ]
    }
   ],
   "source": [
    "# fashion_mnist\n",
    "import tensorflow as tf\n",
    "from tensorflow import keras\n",
    "import numpy as np\n",
    "\n",
    "(x_train, y_train), (x_test, y_test) = keras.datasets.fashion_mnist.load_data()\n",
    "x_train = x_train.astype('float32')\n",
    "x_test  = x_test.astype('float32')\n",
    "\n",
    "print(x_train.shape)\n",
    "print(y_train.shape)\n",
    "print(x_test.shape)\n",
    "print(y_test.shape)"
   ]
  },
  {
   "cell_type": "code",
   "execution_count": 3,
   "id": "bb902098",
   "metadata": {},
   "outputs": [],
   "source": [
    "# data normalization\n",
    "\n",
    "mean = np.mean(x_train)\n",
    "std  = np.std(x_train)\n",
    "\n",
    "x_train = (x_train-mean)/std\n",
    "x_test  = (x_test-mean)/std"
   ]
  },
  {
   "cell_type": "code",
   "execution_count": null,
   "id": "d1cd10af",
   "metadata": {},
   "outputs": [],
   "source": []
  },
  {
   "cell_type": "code",
   "execution_count": 6,
   "id": "c460ca13",
   "metadata": {},
   "outputs": [
    {
     "name": "stdout",
     "output_type": "stream",
     "text": [
      "Model: \"sequential_1\"\n",
      "_________________________________________________________________\n",
      " Layer (type)                Output Shape              Param #   \n",
      "=================================================================\n",
      " flatten_1 (Flatten)         (None, 784)               0         \n",
      "                                                                 \n",
      " dense_2 (Dense)             (None, 256)               200960    \n",
      "                                                                 \n",
      " dense_3 (Dense)             (None, 10)                2570      \n",
      "                                                                 \n",
      "=================================================================\n",
      "Total params: 203,530\n",
      "Trainable params: 203,530\n",
      "Non-trainable params: 0\n",
      "_________________________________________________________________\n"
     ]
    }
   ],
   "source": [
    "import tensorflow as tf\n",
    "import tensorflow.keras as keras\n",
    "\n",
    "# create model\n",
    "model = keras.Sequential()\n",
    "model.add(keras.Input(shape=(28,28)))\n",
    "model.add(keras.layers.Flatten())\n",
    "model.add(keras.layers.Dense(256, activation='sigmoid'))\n",
    "model.add(keras.layers.Dense(10, activation='softmax'))\n",
    "model.summary()"
   ]
  },
  {
   "cell_type": "code",
   "execution_count": null,
   "id": "7b2c2e17",
   "metadata": {},
   "outputs": [],
   "source": []
  },
  {
   "cell_type": "code",
   "execution_count": 7,
   "id": "a6539113",
   "metadata": {},
   "outputs": [
    {
     "name": "stdout",
     "output_type": "stream",
     "text": [
      "Epoch 1/20\n",
      "235/235 - 2s - loss: 0.5579 - sparse_categorical_accuracy: 0.8094 - val_loss: 0.4549 - val_sparse_categorical_accuracy: 0.8366 - 2s/epoch - 10ms/step\n",
      "Epoch 2/20\n",
      "235/235 - 2s - loss: 0.3996 - sparse_categorical_accuracy: 0.8592 - val_loss: 0.4114 - val_sparse_categorical_accuracy: 0.8526 - 2s/epoch - 7ms/step\n",
      "Epoch 3/20\n",
      "235/235 - 2s - loss: 0.3617 - sparse_categorical_accuracy: 0.8702 - val_loss: 0.3819 - val_sparse_categorical_accuracy: 0.8625 - 2s/epoch - 7ms/step\n",
      "Epoch 4/20\n",
      "235/235 - 2s - loss: 0.3353 - sparse_categorical_accuracy: 0.8791 - val_loss: 0.3685 - val_sparse_categorical_accuracy: 0.8691 - 2s/epoch - 7ms/step\n",
      "Epoch 5/20\n",
      "235/235 - 1s - loss: 0.3163 - sparse_categorical_accuracy: 0.8869 - val_loss: 0.3634 - val_sparse_categorical_accuracy: 0.8701 - 1s/epoch - 6ms/step\n",
      "Epoch 6/20\n",
      "235/235 - 2s - loss: 0.2999 - sparse_categorical_accuracy: 0.8926 - val_loss: 0.3484 - val_sparse_categorical_accuracy: 0.8750 - 2s/epoch - 8ms/step\n",
      "Epoch 7/20\n",
      "235/235 - 2s - loss: 0.2837 - sparse_categorical_accuracy: 0.8982 - val_loss: 0.3398 - val_sparse_categorical_accuracy: 0.8803 - 2s/epoch - 8ms/step\n",
      "Epoch 8/20\n",
      "235/235 - 2s - loss: 0.2719 - sparse_categorical_accuracy: 0.9019 - val_loss: 0.3371 - val_sparse_categorical_accuracy: 0.8789 - 2s/epoch - 8ms/step\n",
      "Epoch 9/20\n",
      "235/235 - 2s - loss: 0.2629 - sparse_categorical_accuracy: 0.9053 - val_loss: 0.3384 - val_sparse_categorical_accuracy: 0.8748 - 2s/epoch - 7ms/step\n",
      "Epoch 10/20\n",
      "235/235 - 1s - loss: 0.2494 - sparse_categorical_accuracy: 0.9098 - val_loss: 0.3292 - val_sparse_categorical_accuracy: 0.8791 - 1s/epoch - 6ms/step\n",
      "Epoch 11/20\n",
      "235/235 - 2s - loss: 0.2404 - sparse_categorical_accuracy: 0.9129 - val_loss: 0.3254 - val_sparse_categorical_accuracy: 0.8822 - 2s/epoch - 7ms/step\n",
      "Epoch 12/20\n",
      "235/235 - 2s - loss: 0.2309 - sparse_categorical_accuracy: 0.9164 - val_loss: 0.3096 - val_sparse_categorical_accuracy: 0.8880 - 2s/epoch - 10ms/step\n",
      "Epoch 13/20\n",
      "235/235 - 2s - loss: 0.2210 - sparse_categorical_accuracy: 0.9211 - val_loss: 0.3127 - val_sparse_categorical_accuracy: 0.8868 - 2s/epoch - 7ms/step\n",
      "Epoch 14/20\n",
      "235/235 - 1s - loss: 0.2140 - sparse_categorical_accuracy: 0.9233 - val_loss: 0.3184 - val_sparse_categorical_accuracy: 0.8853 - 1s/epoch - 6ms/step\n",
      "Epoch 15/20\n",
      "235/235 - 1s - loss: 0.2060 - sparse_categorical_accuracy: 0.9260 - val_loss: 0.3159 - val_sparse_categorical_accuracy: 0.8873 - 1s/epoch - 6ms/step\n",
      "Epoch 16/20\n",
      "235/235 - 1s - loss: 0.1974 - sparse_categorical_accuracy: 0.9303 - val_loss: 0.3245 - val_sparse_categorical_accuracy: 0.8819 - 1s/epoch - 6ms/step\n",
      "Epoch 17/20\n",
      "235/235 - 2s - loss: 0.1900 - sparse_categorical_accuracy: 0.9323 - val_loss: 0.3078 - val_sparse_categorical_accuracy: 0.8905 - 2s/epoch - 6ms/step\n",
      "Epoch 18/20\n",
      "235/235 - 2s - loss: 0.1846 - sparse_categorical_accuracy: 0.9344 - val_loss: 0.3155 - val_sparse_categorical_accuracy: 0.8858 - 2s/epoch - 10ms/step\n",
      "Epoch 19/20\n",
      "235/235 - 2s - loss: 0.1772 - sparse_categorical_accuracy: 0.9377 - val_loss: 0.3135 - val_sparse_categorical_accuracy: 0.8888 - 2s/epoch - 7ms/step\n",
      "Epoch 20/20\n",
      "235/235 - 2s - loss: 0.1710 - sparse_categorical_accuracy: 0.9399 - val_loss: 0.3071 - val_sparse_categorical_accuracy: 0.8913 - 2s/epoch - 7ms/step\n"
     ]
    }
   ],
   "source": [
    "# optimizer and loss\n",
    "model.compile(optimizer='adam', \n",
    "              loss='sparse_categorical_crossentropy', \n",
    "              metrics=['sparse_categorical_accuracy'])\n",
    "\n",
    "# training\n",
    "history = model.fit(x_train, y_train, \n",
    "                    validation_data=(x_test, y_test), \n",
    "                    batch_size=256, epochs=20, verbose=2)"
   ]
  },
  {
   "cell_type": "code",
   "execution_count": null,
   "id": "e8930b85",
   "metadata": {},
   "outputs": [],
   "source": []
  },
  {
   "cell_type": "code",
   "execution_count": 5,
   "id": "66f70981",
   "metadata": {},
   "outputs": [
    {
     "data": {
      "text/plain": [
       "<matplotlib.legend.Legend at 0x1f40ae5da90>"
      ]
     },
     "execution_count": 5,
     "metadata": {},
     "output_type": "execute_result"
    }
   ],
   "source": [
    "import matplotlib.pyplot as plt\n",
    "%matplotlib qt\n",
    "\n",
    "plt.plot(history.history['loss'], label='loss')\n",
    "plt.plot(history.history['val_loss'], label='val_loss')\n",
    "plt.xlabel('iteration')\n",
    "plt.ylabel('Loss')\n",
    "plt.legend()"
   ]
  },
  {
   "cell_type": "code",
   "execution_count": null,
   "id": "ccec74e9",
   "metadata": {},
   "outputs": [],
   "source": []
  },
  {
   "cell_type": "code",
   "execution_count": 6,
   "id": "348a761a",
   "metadata": {},
   "outputs": [
    {
     "data": {
      "text/plain": [
       "<matplotlib.legend.Legend at 0x1f4095b4280>"
      ]
     },
     "execution_count": 6,
     "metadata": {},
     "output_type": "execute_result"
    }
   ],
   "source": [
    "import matplotlib.pyplot as plt\n",
    "%matplotlib qt\n",
    "\n",
    "plt.plot(history.history['sparse_categorical_accuracy'], label='train_accuracy')\n",
    "plt.plot(history.history['val_sparse_categorical_accuracy'], label='val_accuracy')\n",
    "plt.xlabel('iteration')\n",
    "plt.ylabel('Accuracy')\n",
    "plt.legend()"
   ]
  },
  {
   "cell_type": "code",
   "execution_count": null,
   "id": "51d5f69c",
   "metadata": {},
   "outputs": [],
   "source": []
  }
 ],
 "metadata": {
  "kernelspec": {
   "display_name": "Python 3 (ipykernel)",
   "language": "python",
   "name": "python3"
  },
  "language_info": {
   "codemirror_mode": {
    "name": "ipython",
    "version": 3
   },
   "file_extension": ".py",
   "mimetype": "text/x-python",
   "name": "python",
   "nbconvert_exporter": "python",
   "pygments_lexer": "ipython3",
   "version": "3.9.13"
  }
 },
 "nbformat": 4,
 "nbformat_minor": 5
}
