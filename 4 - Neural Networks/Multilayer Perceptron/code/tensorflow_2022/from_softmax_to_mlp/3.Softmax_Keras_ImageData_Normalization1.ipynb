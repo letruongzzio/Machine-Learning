{
 "cells": [
  {
   "cell_type": "code",
   "execution_count": 1,
   "id": "5cc812ca",
   "metadata": {},
   "outputs": [
    {
     "name": "stdout",
     "output_type": "stream",
     "text": [
      "(60000, 784)\n",
      "(60000,)\n",
      "(10000, 784)\n",
      "(10000,)\n"
     ]
    }
   ],
   "source": [
    "import numpy as np\n",
    "import gzip\n",
    "\n",
    "# load training images\n",
    "with gzip.open('data_fashion_mnist/train-images-idx3-ubyte.gz', 'rb') as f:\n",
    "    X_train = np.frombuffer(f.read(), np.uint8, offset=16).reshape(-1, 28*28)\n",
    "\n",
    "# load testing images\n",
    "with gzip.open('data_fashion_mnist/t10k-images-idx3-ubyte.gz', 'rb') as f:\n",
    "    X_test = np.frombuffer(f.read(), np.uint8, offset=16).reshape(-1, 28*28)\n",
    "\n",
    "# load training labels\n",
    "with gzip.open('data_fashion_mnist/train-labels-idx1-ubyte.gz', 'rb') as f:\n",
    "    y_train = np.frombuffer(f.read(), np.uint8, offset=8)\n",
    "    \n",
    "# load testing labels\n",
    "with gzip.open('data_fashion_mnist/t10k-labels-idx1-ubyte.gz', 'rb') as f:\n",
    "    y_test = np.frombuffer(f.read(), np.uint8, offset=8)\n",
    "    \n",
    "\n",
    "# check data\n",
    "print(X_train.shape)\n",
    "print(y_train.shape)\n",
    "print(X_test.shape)\n",
    "print(y_test.shape)"
   ]
  },
  {
   "cell_type": "code",
   "execution_count": null,
   "id": "bb902098",
   "metadata": {},
   "outputs": [],
   "source": []
  },
  {
   "cell_type": "code",
   "execution_count": 2,
   "id": "73463d39",
   "metadata": {},
   "outputs": [],
   "source": [
    "# data normalization\n",
    "\n",
    "X_train = X_train/255.0\n",
    "X_test  = X_test/255.0"
   ]
  },
  {
   "cell_type": "code",
   "execution_count": null,
   "id": "7d9401b5",
   "metadata": {},
   "outputs": [],
   "source": []
  },
  {
   "cell_type": "code",
   "execution_count": 3,
   "id": "c460ca13",
   "metadata": {},
   "outputs": [
    {
     "name": "stdout",
     "output_type": "stream",
     "text": [
      "Model: \"sequential\"\n",
      "_________________________________________________________________\n",
      " Layer (type)                Output Shape              Param #   \n",
      "=================================================================\n",
      " dense (Dense)               (None, 10)                7850      \n",
      "                                                                 \n",
      "=================================================================\n",
      "Total params: 7,850\n",
      "Trainable params: 7,850\n",
      "Non-trainable params: 0\n",
      "_________________________________________________________________\n"
     ]
    }
   ],
   "source": [
    "import tensorflow as tf\n",
    "import tensorflow.keras as keras\n",
    "\n",
    "# create model\n",
    "model = keras.Sequential()\n",
    "model.add(keras.Input(shape=(784,)))\n",
    "model.add(keras.layers.Dense(10, activation='softmax'))\n",
    "model.summary()"
   ]
  },
  {
   "cell_type": "code",
   "execution_count": null,
   "id": "7b2c2e17",
   "metadata": {},
   "outputs": [],
   "source": []
  },
  {
   "cell_type": "code",
   "execution_count": 6,
   "id": "a6539113",
   "metadata": {},
   "outputs": [
    {
     "name": "stdout",
     "output_type": "stream",
     "text": [
      "Epoch 1/30\n",
      "235/235 - 2s - loss: 0.5049 - sparse_categorical_accuracy: 0.8332 - val_loss: 0.5310 - val_sparse_categorical_accuracy: 0.8202 - 2s/epoch - 7ms/step\n",
      "Epoch 2/30\n",
      "235/235 - 1s - loss: 0.5027 - sparse_categorical_accuracy: 0.8341 - val_loss: 0.5295 - val_sparse_categorical_accuracy: 0.8210 - 829ms/epoch - 4ms/step\n",
      "Epoch 3/30\n",
      "235/235 - 1s - loss: 0.5006 - sparse_categorical_accuracy: 0.8343 - val_loss: 0.5272 - val_sparse_categorical_accuracy: 0.8224 - 839ms/epoch - 4ms/step\n",
      "Epoch 4/30\n",
      "235/235 - 1s - loss: 0.4986 - sparse_categorical_accuracy: 0.8353 - val_loss: 0.5258 - val_sparse_categorical_accuracy: 0.8214 - 909ms/epoch - 4ms/step\n",
      "Epoch 5/30\n",
      "235/235 - 1s - loss: 0.4967 - sparse_categorical_accuracy: 0.8354 - val_loss: 0.5236 - val_sparse_categorical_accuracy: 0.8224 - 864ms/epoch - 4ms/step\n",
      "Epoch 6/30\n",
      "235/235 - 1s - loss: 0.4947 - sparse_categorical_accuracy: 0.8365 - val_loss: 0.5225 - val_sparse_categorical_accuracy: 0.8231 - 880ms/epoch - 4ms/step\n",
      "Epoch 7/30\n",
      "235/235 - 1s - loss: 0.4929 - sparse_categorical_accuracy: 0.8369 - val_loss: 0.5205 - val_sparse_categorical_accuracy: 0.8232 - 843ms/epoch - 4ms/step\n",
      "Epoch 8/30\n",
      "235/235 - 1s - loss: 0.4912 - sparse_categorical_accuracy: 0.8371 - val_loss: 0.5191 - val_sparse_categorical_accuracy: 0.8240 - 864ms/epoch - 4ms/step\n",
      "Epoch 9/30\n",
      "235/235 - 1s - loss: 0.4895 - sparse_categorical_accuracy: 0.8376 - val_loss: 0.5177 - val_sparse_categorical_accuracy: 0.8238 - 855ms/epoch - 4ms/step\n",
      "Epoch 10/30\n",
      "235/235 - 1s - loss: 0.4880 - sparse_categorical_accuracy: 0.8381 - val_loss: 0.5168 - val_sparse_categorical_accuracy: 0.8242 - 803ms/epoch - 3ms/step\n",
      "Epoch 11/30\n",
      "235/235 - 1s - loss: 0.4864 - sparse_categorical_accuracy: 0.8382 - val_loss: 0.5148 - val_sparse_categorical_accuracy: 0.8258 - 823ms/epoch - 4ms/step\n",
      "Epoch 12/30\n",
      "235/235 - 1s - loss: 0.4850 - sparse_categorical_accuracy: 0.8388 - val_loss: 0.5133 - val_sparse_categorical_accuracy: 0.8259 - 756ms/epoch - 3ms/step\n",
      "Epoch 13/30\n",
      "235/235 - 1s - loss: 0.4835 - sparse_categorical_accuracy: 0.8395 - val_loss: 0.5119 - val_sparse_categorical_accuracy: 0.8264 - 824ms/epoch - 4ms/step\n",
      "Epoch 14/30\n",
      "235/235 - 1s - loss: 0.4821 - sparse_categorical_accuracy: 0.8395 - val_loss: 0.5109 - val_sparse_categorical_accuracy: 0.8264 - 740ms/epoch - 3ms/step\n",
      "Epoch 15/30\n",
      "235/235 - 1s - loss: 0.4807 - sparse_categorical_accuracy: 0.8402 - val_loss: 0.5104 - val_sparse_categorical_accuracy: 0.8265 - 827ms/epoch - 4ms/step\n",
      "Epoch 16/30\n",
      "235/235 - 1s - loss: 0.4794 - sparse_categorical_accuracy: 0.8403 - val_loss: 0.5088 - val_sparse_categorical_accuracy: 0.8263 - 784ms/epoch - 3ms/step\n",
      "Epoch 17/30\n",
      "235/235 - 1s - loss: 0.4782 - sparse_categorical_accuracy: 0.8409 - val_loss: 0.5078 - val_sparse_categorical_accuracy: 0.8272 - 784ms/epoch - 3ms/step\n",
      "Epoch 18/30\n",
      "235/235 - 1s - loss: 0.4770 - sparse_categorical_accuracy: 0.8411 - val_loss: 0.5065 - val_sparse_categorical_accuracy: 0.8271 - 764ms/epoch - 3ms/step\n",
      "Epoch 19/30\n",
      "235/235 - 1s - loss: 0.4758 - sparse_categorical_accuracy: 0.8411 - val_loss: 0.5053 - val_sparse_categorical_accuracy: 0.8276 - 799ms/epoch - 3ms/step\n",
      "Epoch 20/30\n",
      "235/235 - 1s - loss: 0.4746 - sparse_categorical_accuracy: 0.8417 - val_loss: 0.5043 - val_sparse_categorical_accuracy: 0.8275 - 740ms/epoch - 3ms/step\n",
      "Epoch 21/30\n",
      "235/235 - 1s - loss: 0.4734 - sparse_categorical_accuracy: 0.8415 - val_loss: 0.5041 - val_sparse_categorical_accuracy: 0.8267 - 726ms/epoch - 3ms/step\n",
      "Epoch 22/30\n",
      "235/235 - 1s - loss: 0.4722 - sparse_categorical_accuracy: 0.8422 - val_loss: 0.5027 - val_sparse_categorical_accuracy: 0.8300 - 865ms/epoch - 4ms/step\n",
      "Epoch 23/30\n",
      "235/235 - 1s - loss: 0.4714 - sparse_categorical_accuracy: 0.8423 - val_loss: 0.5014 - val_sparse_categorical_accuracy: 0.8278 - 768ms/epoch - 3ms/step\n",
      "Epoch 24/30\n",
      "235/235 - 1s - loss: 0.4703 - sparse_categorical_accuracy: 0.8425 - val_loss: 0.5004 - val_sparse_categorical_accuracy: 0.8286 - 807ms/epoch - 3ms/step\n",
      "Epoch 25/30\n",
      "235/235 - 1s - loss: 0.4693 - sparse_categorical_accuracy: 0.8433 - val_loss: 0.4997 - val_sparse_categorical_accuracy: 0.8291 - 827ms/epoch - 4ms/step\n",
      "Epoch 26/30\n",
      "235/235 - 1s - loss: 0.4684 - sparse_categorical_accuracy: 0.8430 - val_loss: 0.4987 - val_sparse_categorical_accuracy: 0.8285 - 797ms/epoch - 3ms/step\n",
      "Epoch 27/30\n",
      "235/235 - 1s - loss: 0.4674 - sparse_categorical_accuracy: 0.8437 - val_loss: 0.4982 - val_sparse_categorical_accuracy: 0.8292 - 786ms/epoch - 3ms/step\n",
      "Epoch 28/30\n",
      "235/235 - 1s - loss: 0.4664 - sparse_categorical_accuracy: 0.8433 - val_loss: 0.4972 - val_sparse_categorical_accuracy: 0.8290 - 837ms/epoch - 4ms/step\n",
      "Epoch 29/30\n",
      "235/235 - 1s - loss: 0.4655 - sparse_categorical_accuracy: 0.8442 - val_loss: 0.4962 - val_sparse_categorical_accuracy: 0.8299 - 768ms/epoch - 3ms/step\n",
      "Epoch 30/30\n",
      "235/235 - 1s - loss: 0.4646 - sparse_categorical_accuracy: 0.8443 - val_loss: 0.4958 - val_sparse_categorical_accuracy: 0.8307 - 715ms/epoch - 3ms/step\n"
     ]
    }
   ],
   "source": [
    "# optimizer and loss\n",
    "model.compile(optimizer='sgd', \n",
    "              loss='sparse_categorical_crossentropy', \n",
    "              metrics=['sparse_categorical_accuracy'])\n",
    "\n",
    "# training\n",
    "history = model.fit(X_train, y_train,  \n",
    "                    validation_data=(X_test, y_test),\n",
    "                    batch_size=256, epochs=30, verbose=2)"
   ]
  },
  {
   "cell_type": "code",
   "execution_count": null,
   "id": "e8930b85",
   "metadata": {},
   "outputs": [],
   "source": []
  },
  {
   "cell_type": "code",
   "execution_count": 5,
   "id": "66f70981",
   "metadata": {},
   "outputs": [
    {
     "data": {
      "text/plain": [
       "<matplotlib.legend.Legend at 0x1acbd6d9760>"
      ]
     },
     "execution_count": 5,
     "metadata": {},
     "output_type": "execute_result"
    }
   ],
   "source": [
    "import matplotlib.pyplot as plt\n",
    "%matplotlib qt\n",
    "\n",
    "plt.plot(history.history['loss'], label='loss')\n",
    "plt.plot(history.history['val_loss'], label='val_loss')\n",
    "plt.xlabel('iteration')\n",
    "plt.ylabel('Loss')\n",
    "plt.legend()"
   ]
  },
  {
   "cell_type": "code",
   "execution_count": null,
   "id": "ccec74e9",
   "metadata": {},
   "outputs": [],
   "source": []
  },
  {
   "cell_type": "code",
   "execution_count": 5,
   "id": "348a761a",
   "metadata": {},
   "outputs": [
    {
     "data": {
      "text/plain": [
       "Text(0, 0.5, 'Accuracy')"
      ]
     },
     "execution_count": 5,
     "metadata": {},
     "output_type": "execute_result"
    },
    {
     "data": {
      "image/png": "[encoded data removed]",
      "text/plain": [
       "<Figure size 640x480 with 1 Axes>"
      ]
     },
     "metadata": {},
     "output_type": "display_data"
    }
   ],
   "source": [
    "import matplotlib.pyplot as plt\n",
    "#%matplotlib qt\n",
    "\n",
    "plt.plot(history.history['sparse_categorical_accuracy'], label='train_accuracy')\n",
    "#plt.plot(history.history['val_sparse_categorical_accuracy'], label='val_accuracy')\n",
    "plt.xlabel('iteration')\n",
    "plt.ylabel('Accuracy')\n",
    "#plt.legend()"
   ]
  },
  {
   "cell_type": "code",
   "execution_count": null,
   "id": "51d5f69c",
   "metadata": {},
   "outputs": [],
   "source": []
  }
 ],
 "metadata": {
  "kernelspec": {
   "display_name": "Python 3 (ipykernel)",
   "language": "python",
   "name": "python3"
  },
  "language_info": {
   "codemirror_mode": {
    "name": "ipython",
    "version": 3
   },
   "file_extension": ".py",
   "mimetype": "text/x-python",
   "name": "python",
   "nbconvert_exporter": "python",
   "pygments_lexer": "ipython3",
   "version": "3.9.13"
  }
 },
 "nbformat": 4,
 "nbformat_minor": 5
}
