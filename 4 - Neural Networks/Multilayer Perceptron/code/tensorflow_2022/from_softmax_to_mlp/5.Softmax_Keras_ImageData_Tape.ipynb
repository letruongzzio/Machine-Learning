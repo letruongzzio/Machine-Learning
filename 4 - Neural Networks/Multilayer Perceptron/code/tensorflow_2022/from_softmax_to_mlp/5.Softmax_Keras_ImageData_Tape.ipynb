{
 "cells": [
  {
   "cell_type": "code",
   "execution_count": null,
   "id": "5cc812ca",
   "metadata": {},
   "outputs": [],
   "source": [
    "import numpy as np\n",
    "import gzip\n",
    "\n",
    "# load training images\n",
    "with gzip.open('data_fashion_mnist/train-images-idx3-ubyte.gz', 'rb') as f:\n",
    "    X_train = np.frombuffer(f.read(), np.uint8, offset=16).reshape(-1, 28*28)\n",
    "\n",
    "# load testing images\n",
    "with gzip.open('data_fashion_mnist/t10k-images-idx3-ubyte.gz', 'rb') as f:\n",
    "    X_test = np.frombuffer(f.read(), np.uint8, offset=16).reshape(-1, 28*28)\n",
    "\n",
    "# load training labels\n",
    "with gzip.open('data_fashion_mnist/train-labels-idx1-ubyte.gz', 'rb') as f:\n",
    "    y_train = np.frombuffer(f.read(), np.uint8, offset=8)\n",
    "    \n",
    "# load testing labels\n",
    "with gzip.open('data_fashion_mnist/t10k-labels-idx1-ubyte.gz', 'rb') as f:\n",
    "    y_test = np.frombuffer(f.read(), np.uint8, offset=8)\n",
    "    \n",
    "\n",
    "# check data\n",
    "print(X_train.shape)\n",
    "print(y_train.shape)\n",
    "print(X_test.shape)\n",
    "print(y_test.shape)"
   ]
  },
  {
   "cell_type": "code",
   "execution_count": null,
   "id": "bb902098",
   "metadata": {},
   "outputs": [],
   "source": [
    "X_train = X_train.astype('float32')\n",
    "X_test  = X_test.astype('float32')"
   ]
  },
  {
   "cell_type": "code",
   "execution_count": null,
   "id": "d49b01b0",
   "metadata": {},
   "outputs": [],
   "source": [
    "# data normalization\n",
    "\n",
    "mean = np.mean(X_train)\n",
    "std  = np.std(X_train)\n",
    "\n",
    "X_train = (X_train-mean)/std\n",
    "X_test  = (X_test-mean)/std"
   ]
  },
  {
   "cell_type": "code",
   "execution_count": null,
   "id": "f93335f6",
   "metadata": {},
   "outputs": [],
   "source": []
  },
  {
   "cell_type": "code",
   "execution_count": null,
   "id": "c460ca13",
   "metadata": {},
   "outputs": [],
   "source": [
    "import tensorflow as tf\n",
    "import tensorflow.keras as keras\n",
    "\n",
    "# predict    \n",
    "def predict(x, W, b):\n",
    "    return tf.math.softmax(tf.matmul(x, W) + b)\n",
    "    \n",
    "# weights\n",
    "W = tf.Variable(tf.random.normal((784, 10), \n",
    "                                 mean=0, \n",
    "                                 stddev=0.01, \n",
    "                                 dtype=tf.float64))\n",
    "b = tf.Variable(tf.zeros((10,), dtype=tf.float64))\n",
    "\n",
    "# loss function\n",
    "loss_fn = keras.losses.SparseCategoricalCrossentropy()\n",
    "\n",
    "# training\n",
    "lr = 0.01\n",
    "num_epochs = 50\n",
    "losses = [] # for debug\n",
    "\n",
    "for epoch in range(num_epochs):\n",
    "    with tf.GradientTape() as t:\n",
    "        # output\n",
    "        output = predict(X_train, W, b)\n",
    "        \n",
    "        # loss\n",
    "        loss = loss_fn(y_train, output)\n",
    "        losses.append(loss.numpy())\n",
    "        \n",
    "    # gradient\n",
    "    dW, db = t.gradient(loss, [W, b])\n",
    "\n",
    "    # update\n",
    "    W.assign_sub(lr*dW) \n",
    "    b.assign_sub(lr*db)"
   ]
  },
  {
   "cell_type": "code",
   "execution_count": null,
   "id": "7b2c2e17",
   "metadata": {},
   "outputs": [],
   "source": []
  },
  {
   "cell_type": "code",
   "execution_count": null,
   "id": "66f70981",
   "metadata": {},
   "outputs": [],
   "source": [
    "import matplotlib.pyplot as plt\n",
    "\n",
    "plt.plot(losses)\n",
    "plt.xlabel('iteration')\n",
    "plt.ylabel('Loss')"
   ]
  },
  {
   "cell_type": "code",
   "execution_count": null,
   "id": "ccec74e9",
   "metadata": {},
   "outputs": [],
   "source": []
  },
  {
   "cell_type": "code",
   "execution_count": null,
   "id": "348a761a",
   "metadata": {},
   "outputs": [],
   "source": [
    "preds = predict(X_test, W, b)\n",
    "\n",
    "preds = preds.numpy()\n",
    "predicted_class = np.argmax(preds, axis=1)\n",
    "\n",
    "acc = np.mean(predicted_class == y_test)\n",
    "print(acc.mean())"
   ]
  },
  {
   "cell_type": "code",
   "execution_count": null,
   "id": "51d5f69c",
   "metadata": {},
   "outputs": [],
   "source": []
  }
 ],
 "metadata": {
  "kernelspec": {
   "display_name": "Python 3 (ipykernel)",
   "language": "python",
   "name": "python3"
  },
  "language_info": {
   "codemirror_mode": {
    "name": "ipython",
    "version": 3
   },
   "file_extension": ".py",
   "mimetype": "text/x-python",
   "name": "python",
   "nbconvert_exporter": "python",
   "pygments_lexer": "ipython3",
   "version": "3.9.13"
  }
 },
 "nbformat": 4,
 "nbformat_minor": 5
}
