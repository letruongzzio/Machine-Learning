{
 "cells": [
  {
   "cell_type": "code",
   "execution_count": 1,
   "metadata": {},
   "outputs": [],
   "source": [
    "import torch\n",
    "import torch.nn as nn\n",
    "import torch.optim as optim\n",
    "import torchvision\n",
    "import torchvision.transforms as transforms\n",
    "\n",
    "# Check if GPU is available\n",
    "device = torch.device(\"cuda:0\" if torch.cuda.is_available() else \"cpu\")"
   ]
  },
  {
   "cell_type": "code",
   "execution_count": null,
   "metadata": {},
   "outputs": [],
   "source": []
  },
  {
   "cell_type": "markdown",
   "metadata": {},
   "source": [
    "#### Data"
   ]
  },
  {
   "cell_type": "code",
   "execution_count": 2,
   "metadata": {},
   "outputs": [],
   "source": [
    "# Load CFashionMNIST dataset\n",
    "transform = transforms.Compose([transforms.ToTensor(), transforms.Normalize((0,), (1.0,))])\n",
    "\n",
    "trainset = torchvision.datasets.FashionMNIST(root='data', train=True, download=True, transform=transform)\n",
    "trainloader = torch.utils.data.DataLoader(trainset, batch_size=1024, num_workers=10, shuffle=True)\n",
    "\n",
    "testset = torchvision.datasets.FashionMNIST(root='data', train=False, download=True, transform=transform)\n",
    "testloader = torch.utils.data.DataLoader(testset, batch_size=1024, num_workers=10, shuffle=False)"
   ]
  },
  {
   "cell_type": "code",
   "execution_count": 3,
   "metadata": {},
   "outputs": [
    {
     "data": {
      "image/png": "[encoded data removed]",
      "text/plain": [
       "<Figure size 640x480 with 1 Axes>"
      ]
     },
     "metadata": {},
     "output_type": "display_data"
    }
   ],
   "source": [
    "import matplotlib.pyplot as plt\n",
    "import numpy as np\n",
    "\n",
    "# Function to display the images\n",
    "def imshow(img):\n",
    "    #img = img / 255.0\n",
    "    np_img = img.numpy()\n",
    "    plt.imshow(np.transpose(np_img, (1, 2, 0)))\n",
    "    plt.show()\n",
    "\n",
    "for i, (images, labels) in enumerate(trainloader, 0):\n",
    "    # Plot some images\n",
    "    imshow(torchvision.utils.make_grid(images[:8]))  # Display 8 images from the batch\n",
    "    break"
   ]
  },
  {
   "cell_type": "code",
   "execution_count": null,
   "metadata": {},
   "outputs": [],
   "source": []
  },
  {
   "cell_type": "markdown",
   "metadata": {},
   "source": [
    "#### Model"
   ]
  },
  {
   "cell_type": "code",
   "execution_count": 4,
   "metadata": {},
   "outputs": [
    {
     "name": "stdout",
     "output_type": "stream",
     "text": [
      "Sequential(\n",
      "  (0): Flatten(start_dim=1, end_dim=-1)\n",
      "  (1): Linear(in_features=784, out_features=256, bias=True)\n",
      "  (2): ReLU()\n",
      "  (3): Linear(in_features=256, out_features=10, bias=True)\n",
      ")\n"
     ]
    }
   ],
   "source": [
    "model = nn.Sequential(\n",
    "    nn.Flatten(), \n",
    "    nn.Linear(784, 256),\n",
    "    nn.ReLU(),\n",
    "    nn.Linear(256, 10)\n",
    ")\n",
    "model = model.to(device)\n",
    "\n",
    "print(model)"
   ]
  },
  {
   "cell_type": "code",
   "execution_count": 5,
   "metadata": {},
   "outputs": [
    {
     "name": "stdout",
     "output_type": "stream",
     "text": [
      "torch.Size([5, 10])\n"
     ]
    }
   ],
   "source": [
    "# Generating a random tensor\n",
    "input_tensor = torch.rand(5, 28, 28).to(device)\n",
    "\n",
    "# Feeding the tensor into the model\n",
    "output = model(input_tensor)\n",
    "print(output.shape)"
   ]
  },
  {
   "cell_type": "code",
   "execution_count": null,
   "metadata": {},
   "outputs": [],
   "source": []
  },
  {
   "cell_type": "markdown",
   "metadata": {},
   "source": [
    "#### Loss, Optimizer, and Evaluation Function"
   ]
  },
  {
   "cell_type": "code",
   "execution_count": 6,
   "metadata": {},
   "outputs": [],
   "source": [
    "criterion = nn.CrossEntropyLoss()\n",
    "optimizer = optim.SGD(model.parameters(), lr=0.01)"
   ]
  },
  {
   "cell_type": "code",
   "execution_count": 7,
   "metadata": {},
   "outputs": [],
   "source": [
    "# Function to compute loss and accuracy for test set\n",
    "def evaluate(model, testloader, criterion):\n",
    "    model.eval()\n",
    "    test_loss = 0.0\n",
    "    correct = 0\n",
    "    total = 0\n",
    "    with torch.no_grad():\n",
    "        for images, labels in testloader:\n",
    "            # Move inputs and labels to the device\n",
    "            images, labels = images.to(device), labels.to(device)\n",
    "\n",
    "            outputs = model(images)\n",
    "            loss = criterion(outputs, labels)\n",
    "            test_loss += loss.item()\n",
    "            \n",
    "            _, predicted = torch.max(outputs.data, 1)\n",
    "            total += labels.size(0)\n",
    "            correct += (predicted == labels).sum().item()\n",
    "\n",
    "    accuracy = 100 * correct / total\n",
    "    test_loss = test_loss / len(testloader)\n",
    "    return test_loss, accuracy"
   ]
  },
  {
   "cell_type": "code",
   "execution_count": 8,
   "metadata": {},
   "outputs": [
    {
     "name": "stdout",
     "output_type": "stream",
     "text": [
      "test_loss: 2.3248111248016357\n",
      "test_accuracy: 4.09\n"
     ]
    }
   ],
   "source": [
    "test_loss, test_accuracy = evaluate(model, testloader, criterion)\n",
    "print(f'test_loss: {test_loss}')\n",
    "print(f'test_accuracy: {test_accuracy}')"
   ]
  },
  {
   "cell_type": "code",
   "execution_count": null,
   "metadata": {},
   "outputs": [],
   "source": []
  },
  {
   "cell_type": "markdown",
   "metadata": {},
   "source": [
    "#### Train"
   ]
  },
  {
   "cell_type": "code",
   "execution_count": 9,
   "metadata": {},
   "outputs": [],
   "source": [
    "# some parameter\n",
    "train_losses = []\n",
    "train_accuracies = []\n",
    "test_losses = []\n",
    "test_accuracies = []\n",
    "max_epoch = 200"
   ]
  },
  {
   "cell_type": "code",
   "execution_count": 10,
   "metadata": {
    "colab": {
     "base_uri": "https://localhost:8080/"
    },
    "id": "tYwXeSOOF_4Z",
    "outputId": "a4c62a4a-267f-4101-ce96-662cc23cdbe0"
   },
   "outputs": [
    {
     "name": "stdout",
     "output_type": "stream",
     "text": [
      "Epoch [1/200], Loss: 2.1736, Accuracy: 25.03%, Test Loss: 2.0299, Test Accuracy: 41.49%\n",
      "Epoch [2/200], Loss: 1.8858, Accuracy: 55.16%, Test Loss: 1.7424, Test Accuracy: 60.42%\n",
      "Epoch [3/200], Loss: 1.6073, Accuracy: 63.10%, Test Loss: 1.4876, Test Accuracy: 63.50%\n",
      "Epoch [4/200], Loss: 1.3824, Accuracy: 64.75%, Test Loss: 1.2984, Test Accuracy: 64.47%\n",
      "Epoch [5/200], Loss: 1.2209, Accuracy: 65.61%, Test Loss: 1.1652, Test Accuracy: 65.06%\n",
      "Epoch [6/200], Loss: 1.1065, Accuracy: 66.39%, Test Loss: 1.0708, Test Accuracy: 65.81%\n",
      "Epoch [7/200], Loss: 1.0238, Accuracy: 67.36%, Test Loss: 1.0008, Test Accuracy: 66.66%\n",
      "Epoch [8/200], Loss: 0.9621, Accuracy: 68.23%, Test Loss: 0.9484, Test Accuracy: 67.49%\n",
      "Epoch [9/200], Loss: 0.9151, Accuracy: 69.08%, Test Loss: 0.9072, Test Accuracy: 68.14%\n",
      "Epoch [10/200], Loss: 0.8767, Accuracy: 69.81%, Test Loss: 0.8738, Test Accuracy: 69.15%\n",
      "Epoch [11/200], Loss: 0.8460, Accuracy: 70.76%, Test Loss: 0.8460, Test Accuracy: 69.85%\n",
      "Epoch [12/200], Loss: 0.8196, Accuracy: 71.70%, Test Loss: 0.8225, Test Accuracy: 70.59%\n",
      "Epoch [13/200], Loss: 0.7968, Accuracy: 72.55%, Test Loss: 0.8017, Test Accuracy: 71.45%\n",
      "Epoch [14/200], Loss: 0.7773, Accuracy: 73.32%, Test Loss: 0.7836, Test Accuracy: 72.35%\n",
      "Epoch [15/200], Loss: 0.7597, Accuracy: 74.10%, Test Loss: 0.7674, Test Accuracy: 73.00%\n",
      "Epoch [16/200], Loss: 0.7436, Accuracy: 74.70%, Test Loss: 0.7527, Test Accuracy: 73.68%\n",
      "Epoch [17/200], Loss: 0.7290, Accuracy: 75.23%, Test Loss: 0.7394, Test Accuracy: 74.18%\n",
      "Epoch [18/200], Loss: 0.7165, Accuracy: 75.67%, Test Loss: 0.7267, Test Accuracy: 74.66%\n",
      "Epoch [19/200], Loss: 0.7038, Accuracy: 76.20%, Test Loss: 0.7151, Test Accuracy: 75.15%\n",
      "Epoch [20/200], Loss: 0.6925, Accuracy: 76.59%, Test Loss: 0.7046, Test Accuracy: 75.87%\n",
      "Epoch [21/200], Loss: 0.6821, Accuracy: 76.97%, Test Loss: 0.6948, Test Accuracy: 76.12%\n",
      "Epoch [22/200], Loss: 0.6718, Accuracy: 77.33%, Test Loss: 0.6854, Test Accuracy: 76.37%\n",
      "Epoch [23/200], Loss: 0.6627, Accuracy: 77.69%, Test Loss: 0.6766, Test Accuracy: 76.78%\n",
      "Epoch [24/200], Loss: 0.6540, Accuracy: 78.10%, Test Loss: 0.6683, Test Accuracy: 76.98%\n",
      "Epoch [25/200], Loss: 0.6460, Accuracy: 78.44%, Test Loss: 0.6610, Test Accuracy: 77.26%\n",
      "Epoch [26/200], Loss: 0.6383, Accuracy: 78.78%, Test Loss: 0.6538, Test Accuracy: 77.62%\n",
      "Epoch [27/200], Loss: 0.6308, Accuracy: 78.99%, Test Loss: 0.6467, Test Accuracy: 77.70%\n",
      "Epoch [28/200], Loss: 0.6241, Accuracy: 79.25%, Test Loss: 0.6405, Test Accuracy: 77.92%\n",
      "Epoch [29/200], Loss: 0.6179, Accuracy: 79.46%, Test Loss: 0.6339, Test Accuracy: 78.14%\n",
      "Epoch [30/200], Loss: 0.6113, Accuracy: 79.70%, Test Loss: 0.6284, Test Accuracy: 78.38%\n",
      "Epoch [31/200], Loss: 0.6057, Accuracy: 79.82%, Test Loss: 0.6229, Test Accuracy: 78.64%\n",
      "Epoch [32/200], Loss: 0.5998, Accuracy: 80.08%, Test Loss: 0.6176, Test Accuracy: 78.83%\n",
      "Epoch [33/200], Loss: 0.5949, Accuracy: 80.19%, Test Loss: 0.6125, Test Accuracy: 78.97%\n",
      "Epoch [34/200], Loss: 0.5896, Accuracy: 80.33%, Test Loss: 0.6077, Test Accuracy: 79.05%\n",
      "Epoch [35/200], Loss: 0.5843, Accuracy: 80.47%, Test Loss: 0.6032, Test Accuracy: 79.19%\n",
      "Epoch [36/200], Loss: 0.5803, Accuracy: 80.62%, Test Loss: 0.5990, Test Accuracy: 79.48%\n",
      "Epoch [37/200], Loss: 0.5760, Accuracy: 80.78%, Test Loss: 0.5953, Test Accuracy: 79.59%\n",
      "Epoch [38/200], Loss: 0.5714, Accuracy: 80.89%, Test Loss: 0.5912, Test Accuracy: 79.57%\n",
      "Epoch [39/200], Loss: 0.5678, Accuracy: 81.01%, Test Loss: 0.5876, Test Accuracy: 79.73%\n",
      "Epoch [40/200], Loss: 0.5636, Accuracy: 81.13%, Test Loss: 0.5841, Test Accuracy: 79.87%\n",
      "Epoch [41/200], Loss: 0.5602, Accuracy: 81.25%, Test Loss: 0.5802, Test Accuracy: 79.95%\n",
      "Epoch [42/200], Loss: 0.5568, Accuracy: 81.35%, Test Loss: 0.5772, Test Accuracy: 79.96%\n",
      "Epoch [43/200], Loss: 0.5529, Accuracy: 81.45%, Test Loss: 0.5740, Test Accuracy: 80.09%\n",
      "Epoch [44/200], Loss: 0.5496, Accuracy: 81.57%, Test Loss: 0.5712, Test Accuracy: 80.40%\n",
      "Epoch [45/200], Loss: 0.5469, Accuracy: 81.70%, Test Loss: 0.5679, Test Accuracy: 80.39%\n",
      "Epoch [46/200], Loss: 0.5434, Accuracy: 81.78%, Test Loss: 0.5652, Test Accuracy: 80.44%\n",
      "Epoch [47/200], Loss: 0.5411, Accuracy: 81.85%, Test Loss: 0.5628, Test Accuracy: 80.58%\n",
      "Epoch [48/200], Loss: 0.5379, Accuracy: 81.99%, Test Loss: 0.5602, Test Accuracy: 80.57%\n",
      "Epoch [49/200], Loss: 0.5352, Accuracy: 82.06%, Test Loss: 0.5577, Test Accuracy: 80.64%\n",
      "Epoch [50/200], Loss: 0.5329, Accuracy: 82.12%, Test Loss: 0.5554, Test Accuracy: 80.86%\n",
      "Epoch [51/200], Loss: 0.5303, Accuracy: 82.19%, Test Loss: 0.5528, Test Accuracy: 81.04%\n",
      "Epoch [52/200], Loss: 0.5281, Accuracy: 82.24%, Test Loss: 0.5507, Test Accuracy: 81.04%\n",
      "Epoch [53/200], Loss: 0.5253, Accuracy: 82.35%, Test Loss: 0.5484, Test Accuracy: 81.12%\n",
      "Epoch [54/200], Loss: 0.5228, Accuracy: 82.40%, Test Loss: 0.5466, Test Accuracy: 81.33%\n",
      "Epoch [55/200], Loss: 0.5207, Accuracy: 82.48%, Test Loss: 0.5442, Test Accuracy: 81.38%\n",
      "Epoch [56/200], Loss: 0.5190, Accuracy: 82.55%, Test Loss: 0.5428, Test Accuracy: 81.29%\n",
      "Epoch [57/200], Loss: 0.5166, Accuracy: 82.59%, Test Loss: 0.5402, Test Accuracy: 81.48%\n",
      "Epoch [58/200], Loss: 0.5147, Accuracy: 82.63%, Test Loss: 0.5392, Test Accuracy: 81.32%\n",
      "Epoch [59/200], Loss: 0.5125, Accuracy: 82.71%, Test Loss: 0.5370, Test Accuracy: 81.48%\n",
      "Epoch [60/200], Loss: 0.5107, Accuracy: 82.77%, Test Loss: 0.5351, Test Accuracy: 81.51%\n",
      "Epoch [61/200], Loss: 0.5092, Accuracy: 82.82%, Test Loss: 0.5341, Test Accuracy: 81.38%\n",
      "Epoch [62/200], Loss: 0.5071, Accuracy: 82.84%, Test Loss: 0.5318, Test Accuracy: 81.55%\n",
      "Epoch [63/200], Loss: 0.5052, Accuracy: 82.91%, Test Loss: 0.5312, Test Accuracy: 81.61%\n",
      "Epoch [64/200], Loss: 0.5034, Accuracy: 82.99%, Test Loss: 0.5293, Test Accuracy: 81.71%\n",
      "Epoch [65/200], Loss: 0.5017, Accuracy: 82.98%, Test Loss: 0.5271, Test Accuracy: 81.61%\n",
      "Epoch [66/200], Loss: 0.5004, Accuracy: 83.09%, Test Loss: 0.5267, Test Accuracy: 81.59%\n",
      "Epoch [67/200], Loss: 0.4990, Accuracy: 83.12%, Test Loss: 0.5241, Test Accuracy: 81.77%\n",
      "Epoch [68/200], Loss: 0.4971, Accuracy: 83.15%, Test Loss: 0.5230, Test Accuracy: 81.76%\n",
      "Epoch [69/200], Loss: 0.4954, Accuracy: 83.25%, Test Loss: 0.5217, Test Accuracy: 81.79%\n",
      "Epoch [70/200], Loss: 0.4946, Accuracy: 83.25%, Test Loss: 0.5202, Test Accuracy: 81.88%\n",
      "Epoch [71/200], Loss: 0.4928, Accuracy: 83.33%, Test Loss: 0.5190, Test Accuracy: 81.89%\n",
      "Epoch [72/200], Loss: 0.4916, Accuracy: 83.43%, Test Loss: 0.5176, Test Accuracy: 81.94%\n",
      "Epoch [73/200], Loss: 0.4902, Accuracy: 83.34%, Test Loss: 0.5168, Test Accuracy: 81.93%\n",
      "Epoch [74/200], Loss: 0.4885, Accuracy: 83.43%, Test Loss: 0.5153, Test Accuracy: 82.01%\n",
      "Epoch [75/200], Loss: 0.4877, Accuracy: 83.46%, Test Loss: 0.5143, Test Accuracy: 81.99%\n",
      "Epoch [76/200], Loss: 0.4861, Accuracy: 83.48%, Test Loss: 0.5127, Test Accuracy: 82.08%\n",
      "Epoch [77/200], Loss: 0.4849, Accuracy: 83.54%, Test Loss: 0.5116, Test Accuracy: 82.15%\n",
      "Epoch [78/200], Loss: 0.4837, Accuracy: 83.56%, Test Loss: 0.5107, Test Accuracy: 82.22%\n",
      "Epoch [79/200], Loss: 0.4825, Accuracy: 83.59%, Test Loss: 0.5098, Test Accuracy: 82.23%\n",
      "Epoch [80/200], Loss: 0.4813, Accuracy: 83.67%, Test Loss: 0.5087, Test Accuracy: 82.26%\n",
      "Epoch [81/200], Loss: 0.4801, Accuracy: 83.69%, Test Loss: 0.5078, Test Accuracy: 82.34%\n",
      "Epoch [82/200], Loss: 0.4791, Accuracy: 83.68%, Test Loss: 0.5066, Test Accuracy: 82.34%\n",
      "Epoch [83/200], Loss: 0.4779, Accuracy: 83.71%, Test Loss: 0.5056, Test Accuracy: 82.44%\n",
      "Epoch [84/200], Loss: 0.4765, Accuracy: 83.79%, Test Loss: 0.5043, Test Accuracy: 82.26%\n",
      "Epoch [85/200], Loss: 0.4755, Accuracy: 83.86%, Test Loss: 0.5038, Test Accuracy: 82.46%\n",
      "Epoch [86/200], Loss: 0.4748, Accuracy: 83.88%, Test Loss: 0.5025, Test Accuracy: 82.54%\n",
      "Epoch [87/200], Loss: 0.4739, Accuracy: 83.90%, Test Loss: 0.5015, Test Accuracy: 82.51%\n",
      "Epoch [88/200], Loss: 0.4728, Accuracy: 83.96%, Test Loss: 0.5008, Test Accuracy: 82.44%\n",
      "Epoch [89/200], Loss: 0.4716, Accuracy: 83.97%, Test Loss: 0.4998, Test Accuracy: 82.48%\n",
      "Epoch [90/200], Loss: 0.4707, Accuracy: 83.98%, Test Loss: 0.4994, Test Accuracy: 82.59%\n",
      "Epoch [91/200], Loss: 0.4698, Accuracy: 84.01%, Test Loss: 0.4984, Test Accuracy: 82.58%\n",
      "Epoch [92/200], Loss: 0.4686, Accuracy: 84.06%, Test Loss: 0.4983, Test Accuracy: 82.58%\n",
      "Epoch [93/200], Loss: 0.4677, Accuracy: 84.03%, Test Loss: 0.4967, Test Accuracy: 82.65%\n",
      "Epoch [94/200], Loss: 0.4678, Accuracy: 84.14%, Test Loss: 0.4958, Test Accuracy: 82.70%\n",
      "Epoch [95/200], Loss: 0.4659, Accuracy: 84.17%, Test Loss: 0.4953, Test Accuracy: 82.62%\n",
      "Epoch [96/200], Loss: 0.4651, Accuracy: 84.17%, Test Loss: 0.4941, Test Accuracy: 82.73%\n",
      "Epoch [97/200], Loss: 0.4648, Accuracy: 84.19%, Test Loss: 0.4932, Test Accuracy: 82.75%\n",
      "Epoch [98/200], Loss: 0.4633, Accuracy: 84.22%, Test Loss: 0.4932, Test Accuracy: 82.68%\n",
      "Epoch [99/200], Loss: 0.4628, Accuracy: 84.29%, Test Loss: 0.4920, Test Accuracy: 82.84%\n",
      "Epoch [100/200], Loss: 0.4618, Accuracy: 84.25%, Test Loss: 0.4912, Test Accuracy: 82.85%\n",
      "Epoch [101/200], Loss: 0.4612, Accuracy: 84.34%, Test Loss: 0.4915, Test Accuracy: 82.79%\n",
      "Epoch [102/200], Loss: 0.4602, Accuracy: 84.34%, Test Loss: 0.4896, Test Accuracy: 82.89%\n",
      "Epoch [103/200], Loss: 0.4591, Accuracy: 84.33%, Test Loss: 0.4890, Test Accuracy: 82.95%\n",
      "Epoch [104/200], Loss: 0.4587, Accuracy: 84.33%, Test Loss: 0.4883, Test Accuracy: 82.98%\n",
      "Epoch [105/200], Loss: 0.4583, Accuracy: 84.35%, Test Loss: 0.4878, Test Accuracy: 82.97%\n",
      "Epoch [106/200], Loss: 0.4574, Accuracy: 84.41%, Test Loss: 0.4872, Test Accuracy: 83.00%\n",
      "Epoch [107/200], Loss: 0.4570, Accuracy: 84.37%, Test Loss: 0.4866, Test Accuracy: 82.93%\n",
      "Epoch [108/200], Loss: 0.4558, Accuracy: 84.44%, Test Loss: 0.4868, Test Accuracy: 82.94%\n",
      "Epoch [109/200], Loss: 0.4548, Accuracy: 84.48%, Test Loss: 0.4852, Test Accuracy: 83.11%\n",
      "Epoch [110/200], Loss: 0.4543, Accuracy: 84.48%, Test Loss: 0.4855, Test Accuracy: 82.91%\n",
      "Epoch [111/200], Loss: 0.4536, Accuracy: 84.51%, Test Loss: 0.4840, Test Accuracy: 83.09%\n",
      "Epoch [112/200], Loss: 0.4526, Accuracy: 84.52%, Test Loss: 0.4835, Test Accuracy: 83.02%\n",
      "Epoch [113/200], Loss: 0.4522, Accuracy: 84.54%, Test Loss: 0.4830, Test Accuracy: 82.99%\n",
      "Epoch [114/200], Loss: 0.4513, Accuracy: 84.55%, Test Loss: 0.4823, Test Accuracy: 83.14%\n",
      "Epoch [115/200], Loss: 0.4509, Accuracy: 84.57%, Test Loss: 0.4822, Test Accuracy: 83.05%\n",
      "Epoch [116/200], Loss: 0.4502, Accuracy: 84.60%, Test Loss: 0.4813, Test Accuracy: 82.97%\n",
      "Epoch [117/200], Loss: 0.4499, Accuracy: 84.64%, Test Loss: 0.4806, Test Accuracy: 83.09%\n",
      "Epoch [118/200], Loss: 0.4492, Accuracy: 84.66%, Test Loss: 0.4799, Test Accuracy: 83.17%\n",
      "Epoch [119/200], Loss: 0.4481, Accuracy: 84.64%, Test Loss: 0.4793, Test Accuracy: 83.23%\n",
      "Epoch [120/200], Loss: 0.4477, Accuracy: 84.67%, Test Loss: 0.4785, Test Accuracy: 83.26%\n",
      "Epoch [121/200], Loss: 0.4468, Accuracy: 84.68%, Test Loss: 0.4781, Test Accuracy: 83.21%\n",
      "Epoch [122/200], Loss: 0.4464, Accuracy: 84.74%, Test Loss: 0.4776, Test Accuracy: 83.23%\n",
      "Epoch [123/200], Loss: 0.4458, Accuracy: 84.77%, Test Loss: 0.4773, Test Accuracy: 83.24%\n",
      "Epoch [124/200], Loss: 0.4450, Accuracy: 84.75%, Test Loss: 0.4767, Test Accuracy: 83.29%\n",
      "Epoch [125/200], Loss: 0.4443, Accuracy: 84.75%, Test Loss: 0.4763, Test Accuracy: 83.33%\n",
      "Epoch [126/200], Loss: 0.4440, Accuracy: 84.80%, Test Loss: 0.4753, Test Accuracy: 83.29%\n",
      "Epoch [127/200], Loss: 0.4434, Accuracy: 84.79%, Test Loss: 0.4757, Test Accuracy: 83.37%\n",
      "Epoch [128/200], Loss: 0.4431, Accuracy: 84.81%, Test Loss: 0.4747, Test Accuracy: 83.31%\n",
      "Epoch [129/200], Loss: 0.4421, Accuracy: 84.87%, Test Loss: 0.4746, Test Accuracy: 83.27%\n",
      "Epoch [130/200], Loss: 0.4416, Accuracy: 84.89%, Test Loss: 0.4734, Test Accuracy: 83.38%\n",
      "Epoch [131/200], Loss: 0.4411, Accuracy: 84.88%, Test Loss: 0.4734, Test Accuracy: 83.23%\n",
      "Epoch [132/200], Loss: 0.4405, Accuracy: 84.92%, Test Loss: 0.4734, Test Accuracy: 83.39%\n",
      "Epoch [133/200], Loss: 0.4401, Accuracy: 84.94%, Test Loss: 0.4726, Test Accuracy: 83.32%\n",
      "Epoch [134/200], Loss: 0.4395, Accuracy: 84.97%, Test Loss: 0.4719, Test Accuracy: 83.39%\n",
      "Epoch [135/200], Loss: 0.4387, Accuracy: 84.95%, Test Loss: 0.4716, Test Accuracy: 83.39%\n",
      "Epoch [136/200], Loss: 0.4384, Accuracy: 84.98%, Test Loss: 0.4704, Test Accuracy: 83.35%\n",
      "Epoch [137/200], Loss: 0.4381, Accuracy: 85.00%, Test Loss: 0.4706, Test Accuracy: 83.39%\n",
      "Epoch [138/200], Loss: 0.4373, Accuracy: 84.99%, Test Loss: 0.4706, Test Accuracy: 83.42%\n",
      "Epoch [139/200], Loss: 0.4369, Accuracy: 85.03%, Test Loss: 0.4696, Test Accuracy: 83.39%\n",
      "Epoch [140/200], Loss: 0.4363, Accuracy: 85.05%, Test Loss: 0.4693, Test Accuracy: 83.44%\n",
      "Epoch [141/200], Loss: 0.4358, Accuracy: 85.04%, Test Loss: 0.4693, Test Accuracy: 83.42%\n",
      "Epoch [142/200], Loss: 0.4349, Accuracy: 85.08%, Test Loss: 0.4681, Test Accuracy: 83.36%\n",
      "Epoch [143/200], Loss: 0.4345, Accuracy: 85.10%, Test Loss: 0.4673, Test Accuracy: 83.51%\n",
      "Epoch [144/200], Loss: 0.4341, Accuracy: 85.09%, Test Loss: 0.4673, Test Accuracy: 83.49%\n",
      "Epoch [145/200], Loss: 0.4336, Accuracy: 85.11%, Test Loss: 0.4665, Test Accuracy: 83.53%\n",
      "Epoch [146/200], Loss: 0.4333, Accuracy: 85.17%, Test Loss: 0.4662, Test Accuracy: 83.50%\n",
      "Epoch [147/200], Loss: 0.4331, Accuracy: 85.15%, Test Loss: 0.4659, Test Accuracy: 83.58%\n",
      "Epoch [148/200], Loss: 0.4319, Accuracy: 85.21%, Test Loss: 0.4656, Test Accuracy: 83.57%\n",
      "Epoch [149/200], Loss: 0.4316, Accuracy: 85.14%, Test Loss: 0.4652, Test Accuracy: 83.60%\n",
      "Epoch [150/200], Loss: 0.4314, Accuracy: 85.20%, Test Loss: 0.4659, Test Accuracy: 83.53%\n",
      "Epoch [151/200], Loss: 0.4312, Accuracy: 85.23%, Test Loss: 0.4646, Test Accuracy: 83.60%\n",
      "Epoch [152/200], Loss: 0.4303, Accuracy: 85.24%, Test Loss: 0.4640, Test Accuracy: 83.63%\n",
      "Epoch [153/200], Loss: 0.4304, Accuracy: 85.25%, Test Loss: 0.4635, Test Accuracy: 83.62%\n",
      "Epoch [154/200], Loss: 0.4291, Accuracy: 85.31%, Test Loss: 0.4629, Test Accuracy: 83.63%\n",
      "Epoch [155/200], Loss: 0.4291, Accuracy: 85.30%, Test Loss: 0.4625, Test Accuracy: 83.60%\n",
      "Epoch [156/200], Loss: 0.4292, Accuracy: 85.30%, Test Loss: 0.4632, Test Accuracy: 83.62%\n",
      "Epoch [157/200], Loss: 0.4281, Accuracy: 85.31%, Test Loss: 0.4621, Test Accuracy: 83.67%\n",
      "Epoch [158/200], Loss: 0.4274, Accuracy: 85.37%, Test Loss: 0.4617, Test Accuracy: 83.73%\n",
      "Epoch [159/200], Loss: 0.4275, Accuracy: 85.31%, Test Loss: 0.4613, Test Accuracy: 83.64%\n",
      "Epoch [160/200], Loss: 0.4269, Accuracy: 85.38%, Test Loss: 0.4611, Test Accuracy: 83.73%\n",
      "Epoch [161/200], Loss: 0.4266, Accuracy: 85.39%, Test Loss: 0.4603, Test Accuracy: 83.66%\n",
      "Epoch [162/200], Loss: 0.4259, Accuracy: 85.40%, Test Loss: 0.4606, Test Accuracy: 83.65%\n",
      "Epoch [163/200], Loss: 0.4255, Accuracy: 85.41%, Test Loss: 0.4596, Test Accuracy: 83.68%\n",
      "Epoch [164/200], Loss: 0.4255, Accuracy: 85.42%, Test Loss: 0.4595, Test Accuracy: 83.79%\n",
      "Epoch [165/200], Loss: 0.4249, Accuracy: 85.42%, Test Loss: 0.4590, Test Accuracy: 83.71%\n",
      "Epoch [166/200], Loss: 0.4241, Accuracy: 85.42%, Test Loss: 0.4587, Test Accuracy: 83.71%\n",
      "Epoch [167/200], Loss: 0.4234, Accuracy: 85.47%, Test Loss: 0.4581, Test Accuracy: 83.84%\n",
      "Epoch [168/200], Loss: 0.4234, Accuracy: 85.46%, Test Loss: 0.4581, Test Accuracy: 83.69%\n",
      "Epoch [169/200], Loss: 0.4233, Accuracy: 85.52%, Test Loss: 0.4581, Test Accuracy: 83.78%\n",
      "Epoch [170/200], Loss: 0.4229, Accuracy: 85.50%, Test Loss: 0.4569, Test Accuracy: 83.72%\n",
      "Epoch [171/200], Loss: 0.4222, Accuracy: 85.49%, Test Loss: 0.4575, Test Accuracy: 83.81%\n",
      "Epoch [172/200], Loss: 0.4219, Accuracy: 85.48%, Test Loss: 0.4563, Test Accuracy: 83.81%\n",
      "Epoch [173/200], Loss: 0.4216, Accuracy: 85.56%, Test Loss: 0.4560, Test Accuracy: 83.89%\n",
      "Epoch [174/200], Loss: 0.4210, Accuracy: 85.53%, Test Loss: 0.4558, Test Accuracy: 83.85%\n",
      "Epoch [175/200], Loss: 0.4204, Accuracy: 85.52%, Test Loss: 0.4552, Test Accuracy: 83.84%\n",
      "Epoch [176/200], Loss: 0.4201, Accuracy: 85.58%, Test Loss: 0.4565, Test Accuracy: 83.73%\n",
      "Epoch [177/200], Loss: 0.4196, Accuracy: 85.56%, Test Loss: 0.4547, Test Accuracy: 83.91%\n",
      "Epoch [178/200], Loss: 0.4199, Accuracy: 85.57%, Test Loss: 0.4543, Test Accuracy: 83.87%\n",
      "Epoch [179/200], Loss: 0.4191, Accuracy: 85.66%, Test Loss: 0.4539, Test Accuracy: 83.90%\n",
      "Epoch [180/200], Loss: 0.4187, Accuracy: 85.68%, Test Loss: 0.4543, Test Accuracy: 83.92%\n",
      "Epoch [181/200], Loss: 0.4181, Accuracy: 85.65%, Test Loss: 0.4535, Test Accuracy: 83.86%\n",
      "Epoch [182/200], Loss: 0.4179, Accuracy: 85.63%, Test Loss: 0.4530, Test Accuracy: 83.92%\n",
      "Epoch [183/200], Loss: 0.4171, Accuracy: 85.64%, Test Loss: 0.4533, Test Accuracy: 83.96%\n",
      "Epoch [184/200], Loss: 0.4167, Accuracy: 85.73%, Test Loss: 0.4522, Test Accuracy: 83.81%\n",
      "Epoch [185/200], Loss: 0.4170, Accuracy: 85.66%, Test Loss: 0.4527, Test Accuracy: 83.93%\n",
      "Epoch [186/200], Loss: 0.4165, Accuracy: 85.69%, Test Loss: 0.4521, Test Accuracy: 83.98%\n",
      "Epoch [187/200], Loss: 0.4162, Accuracy: 85.70%, Test Loss: 0.4511, Test Accuracy: 83.99%\n",
      "Epoch [188/200], Loss: 0.4158, Accuracy: 85.68%, Test Loss: 0.4522, Test Accuracy: 83.88%\n",
      "Epoch [189/200], Loss: 0.4152, Accuracy: 85.76%, Test Loss: 0.4506, Test Accuracy: 84.03%\n",
      "Epoch [190/200], Loss: 0.4150, Accuracy: 85.75%, Test Loss: 0.4512, Test Accuracy: 83.99%\n",
      "Epoch [191/200], Loss: 0.4147, Accuracy: 85.76%, Test Loss: 0.4499, Test Accuracy: 83.94%\n",
      "Epoch [192/200], Loss: 0.4144, Accuracy: 85.82%, Test Loss: 0.4495, Test Accuracy: 83.96%\n",
      "Epoch [193/200], Loss: 0.4137, Accuracy: 85.75%, Test Loss: 0.4493, Test Accuracy: 84.02%\n",
      "Epoch [194/200], Loss: 0.4138, Accuracy: 85.83%, Test Loss: 0.4494, Test Accuracy: 84.12%\n",
      "Epoch [195/200], Loss: 0.4129, Accuracy: 85.80%, Test Loss: 0.4484, Test Accuracy: 84.08%\n",
      "Epoch [196/200], Loss: 0.4130, Accuracy: 85.86%, Test Loss: 0.4486, Test Accuracy: 84.22%\n",
      "Epoch [197/200], Loss: 0.4124, Accuracy: 85.83%, Test Loss: 0.4483, Test Accuracy: 84.19%\n",
      "Epoch [198/200], Loss: 0.4122, Accuracy: 85.81%, Test Loss: 0.4480, Test Accuracy: 84.07%\n",
      "Epoch [199/200], Loss: 0.4114, Accuracy: 85.83%, Test Loss: 0.4473, Test Accuracy: 84.21%\n",
      "Epoch [200/200], Loss: 0.4109, Accuracy: 85.80%, Test Loss: 0.4470, Test Accuracy: 84.15%\n"
     ]
    }
   ],
   "source": [
    "# train\n",
    "for epoch in range(max_epoch):\n",
    "    running_loss = 0.0\n",
    "    running_correct = 0   # to track number of correct predictions\n",
    "    total = 0             # to track total number of samples\n",
    "\n",
    "    for i, (inputs, labels) in enumerate(trainloader, 0):\n",
    "        # Move inputs and labels to the device\n",
    "        inputs, labels = inputs.to(device), labels.to(device)\n",
    "\n",
    "        # Zero the parameter gradients\n",
    "        optimizer.zero_grad()\n",
    "\n",
    "        # Forward pass\n",
    "        outputs = model(inputs)\n",
    "        loss = criterion(outputs, labels)\n",
    "        running_loss += loss.item()\n",
    "\n",
    "        # Determine class predictions and track accuracy\n",
    "        _, predicted = torch.max(outputs.data, 1)\n",
    "        total += labels.size(0)\n",
    "        running_correct += (predicted == labels).sum().item()\n",
    "\n",
    "        # Backward pass and optimization\n",
    "        loss.backward()\n",
    "        optimizer.step()        \n",
    "\n",
    "    epoch_accuracy = 100 * running_correct / total\n",
    "    epoch_loss = running_loss / (i + 1)\n",
    "    test_loss, test_accuracy = evaluate(model, testloader, criterion)\n",
    "    print(f\"Epoch [{epoch + 1}/{max_epoch}], Loss: {epoch_loss:.4f}, Accuracy: {epoch_accuracy:.2f}%, Test Loss: {test_loss:.4f}, Test Accuracy: {test_accuracy:.2f}%\")\n",
    "    \n",
    "    # save for plot\n",
    "    train_losses.append(epoch_loss)\n",
    "    train_accuracies.append(epoch_accuracy)\n",
    "    test_losses.append(test_loss)\n",
    "    test_accuracies.append(test_accuracy)"
   ]
  },
  {
   "cell_type": "code",
   "execution_count": null,
   "metadata": {
    "id": "QKFbl4unF_6t"
   },
   "outputs": [],
   "source": []
  },
  {
   "cell_type": "code",
   "execution_count": 11,
   "metadata": {
    "id": "AwIj3vrnF_8_"
   },
   "outputs": [
    {
     "data": {
      "text/plain": [
       "<matplotlib.legend.Legend at 0x7ff7f5411b40>"
      ]
     },
     "execution_count": 11,
     "metadata": {},
     "output_type": "execute_result"
    },
    {
     "data": {
      "image/png": "[encoded data removed]",
      "text/plain": [
       "<Figure size 640x480 with 1 Axes>"
      ]
     },
     "metadata": {},
     "output_type": "display_data"
    }
   ],
   "source": [
    "import matplotlib.pyplot as plt\n",
    "\n",
    "plt.plot(train_losses, label='train_losses')\n",
    "plt.plot(test_losses, label='test_losses')\n",
    "plt.legend()"
   ]
  },
  {
   "cell_type": "code",
   "execution_count": 12,
   "metadata": {
    "id": "eh3iDa8lF__H"
   },
   "outputs": [
    {
     "data": {
      "text/plain": [
       "<matplotlib.legend.Legend at 0x7ff7f4f8ed10>"
      ]
     },
     "execution_count": 12,
     "metadata": {},
     "output_type": "execute_result"
    },
    {
     "data": {
      "image/png": "[encoded data removed]",
      "text/plain": [
       "<Figure size 640x480 with 1 Axes>"
      ]
     },
     "metadata": {},
     "output_type": "display_data"
    }
   ],
   "source": [
    "import matplotlib.pyplot as plt\n",
    "\n",
    "plt.plot(train_accuracies, label='train_accuracy')\n",
    "plt.plot(test_accuracies, label='test_accuracy')\n",
    "plt.legend()"
   ]
  },
  {
   "cell_type": "code",
   "execution_count": null,
   "metadata": {},
   "outputs": [],
   "source": []
  },
  {
   "cell_type": "code",
   "execution_count": 13,
   "metadata": {},
   "outputs": [
    {
     "data": {
      "text/plain": [
       "<matplotlib.legend.Legend at 0x7ff7ec2163b0>"
      ]
     },
     "execution_count": 13,
     "metadata": {},
     "output_type": "execute_result"
    }
   ],
   "source": [
    "import matplotlib.pyplot as plt\n",
    "%matplotlib qt\n",
    "\n",
    "plt.plot(train_losses, label='train_losses')\n",
    "plt.plot(test_losses, label='test_losses')\n",
    "plt.legend()"
   ]
  },
  {
   "cell_type": "code",
   "execution_count": 14,
   "metadata": {},
   "outputs": [
    {
     "data": {
      "text/plain": [
       "<matplotlib.legend.Legend at 0x7ff79a16da50>"
      ]
     },
     "execution_count": 14,
     "metadata": {},
     "output_type": "execute_result"
    }
   ],
   "source": [
    "import matplotlib.pyplot as plt\n",
    "%matplotlib qt\n",
    "\n",
    "plt.plot(train_accuracies, label='train_accuracy')\n",
    "plt.plot(test_accuracies, label='test_accuracy')\n",
    "plt.legend()"
   ]
  },
  {
   "cell_type": "code",
   "execution_count": null,
   "metadata": {},
   "outputs": [],
   "source": []
  }
 ],
 "metadata": {
  "accelerator": "GPU",
  "colab": {
   "gpuType": "T4",
   "provenance": []
  },
  "kernelspec": {
   "display_name": "Python 3 (ipykernel)",
   "language": "python",
   "name": "python3"
  },
  "language_info": {
   "codemirror_mode": {
    "name": "ipython",
    "version": 3
   },
   "file_extension": ".py",
   "mimetype": "text/x-python",
   "name": "python",
   "nbconvert_exporter": "python",
   "pygments_lexer": "ipython3",
   "version": "3.10.13"
  }
 },
 "nbformat": 4,
 "nbformat_minor": 4
}
