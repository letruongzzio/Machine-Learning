{
 "cells": [
  {
   "cell_type": "code",
   "execution_count": 1,
   "metadata": {},
   "outputs": [],
   "source": [
    "import torch\n",
    "import torch.nn as nn\n",
    "import torch.optim as optim\n",
    "import torchvision\n",
    "import torchvision.transforms as transforms\n",
    "\n",
    "# Check if GPU is available\n",
    "device = torch.device(\"cuda:0\" if torch.cuda.is_available() else \"cpu\")"
   ]
  },
  {
   "cell_type": "code",
   "execution_count": null,
   "metadata": {},
   "outputs": [],
   "source": []
  },
  {
   "cell_type": "markdown",
   "metadata": {},
   "source": [
    "#### Data"
   ]
  },
  {
   "cell_type": "code",
   "execution_count": 2,
   "metadata": {},
   "outputs": [],
   "source": [
    "# Load CFashionMNIST dataset\n",
    "transform = transforms.Compose([transforms.ToTensor(), transforms.Normalize((0.5,), (0.5,))])\n",
    "\n",
    "trainset = torchvision.datasets.FashionMNIST(root='data', train=True, download=True, transform=transform)\n",
    "trainloader = torch.utils.data.DataLoader(trainset, batch_size=1024, num_workers=10, shuffle=True)\n",
    "\n",
    "testset = torchvision.datasets.FashionMNIST(root='data', train=False, download=True, transform=transform)\n",
    "testloader = torch.utils.data.DataLoader(testset, batch_size=1024, num_workers=10, shuffle=False)"
   ]
  },
  {
   "cell_type": "code",
   "execution_count": 3,
   "metadata": {},
   "outputs": [
    {
     "data": {
      "image/png": "[encoded data removed]",
      "text/plain": [
       "<Figure size 640x480 with 1 Axes>"
      ]
     },
     "metadata": {},
     "output_type": "display_data"
    }
   ],
   "source": [
    "import matplotlib.pyplot as plt\n",
    "import numpy as np\n",
    "\n",
    "# Function to display the images\n",
    "def imshow(img):\n",
    "    img = img/2.0 + 0.5\n",
    "    np_img = img.numpy()\n",
    "    plt.imshow(np.transpose(np_img, (1, 2, 0)))\n",
    "    plt.show()\n",
    "\n",
    "for i, (images, labels) in enumerate(trainloader, 0):\n",
    "    # Plot some images\n",
    "    imshow(torchvision.utils.make_grid(images[:8]))  # Display 8 images from the batch\n",
    "    break"
   ]
  },
  {
   "cell_type": "code",
   "execution_count": null,
   "metadata": {},
   "outputs": [],
   "source": []
  },
  {
   "cell_type": "markdown",
   "metadata": {},
   "source": [
    "#### Model"
   ]
  },
  {
   "cell_type": "code",
   "execution_count": 4,
   "metadata": {},
   "outputs": [
    {
     "name": "stdout",
     "output_type": "stream",
     "text": [
      "Sequential(\n",
      "  (0): Flatten(start_dim=1, end_dim=-1)\n",
      "  (1): Linear(in_features=784, out_features=10, bias=True)\n",
      ")\n"
     ]
    }
   ],
   "source": [
    "model = nn.Sequential(\n",
    "    nn.Flatten(), nn.Linear(784, 10)\n",
    ")\n",
    "model = model.to(device)\n",
    "\n",
    "print(model)"
   ]
  },
  {
   "cell_type": "code",
   "execution_count": 5,
   "metadata": {},
   "outputs": [
    {
     "name": "stdout",
     "output_type": "stream",
     "text": [
      "torch.Size([5, 10])\n"
     ]
    }
   ],
   "source": [
    "# Generating a random tensor\n",
    "input_tensor = torch.rand(5, 28, 28).to(device)\n",
    "\n",
    "# Feeding the tensor into the model\n",
    "output = model(input_tensor)\n",
    "print(output.shape)"
   ]
  },
  {
   "cell_type": "code",
   "execution_count": null,
   "metadata": {},
   "outputs": [],
   "source": []
  },
  {
   "cell_type": "markdown",
   "metadata": {},
   "source": [
    "#### Loss, Optimizer, and Evaluation Function"
   ]
  },
  {
   "cell_type": "code",
   "execution_count": 6,
   "metadata": {},
   "outputs": [],
   "source": [
    "criterion = nn.CrossEntropyLoss()\n",
    "optimizer = optim.SGD(model.parameters(), lr=0.01)"
   ]
  },
  {
   "cell_type": "code",
   "execution_count": 7,
   "metadata": {},
   "outputs": [],
   "source": [
    "# Function to compute loss and accuracy for test set\n",
    "def evaluate(model, testloader, criterion):\n",
    "    model.eval()\n",
    "    test_loss = 0.0\n",
    "    correct = 0\n",
    "    total = 0\n",
    "    with torch.no_grad():\n",
    "        for images, labels in testloader:\n",
    "            # Move inputs and labels to the device\n",
    "            images, labels = images.to(device), labels.to(device)\n",
    "\n",
    "            outputs = model(images)\n",
    "            loss = criterion(outputs, labels)\n",
    "            test_loss += loss.item()\n",
    "            \n",
    "            _, predicted = torch.max(outputs.data, 1)\n",
    "            total += labels.size(0)\n",
    "            correct += (predicted == labels).sum().item()\n",
    "\n",
    "    accuracy = 100 * correct / total\n",
    "    test_loss = test_loss / len(testloader)\n",
    "    return test_loss, accuracy"
   ]
  },
  {
   "cell_type": "code",
   "execution_count": 8,
   "metadata": {},
   "outputs": [
    {
     "name": "stdout",
     "output_type": "stream",
     "text": [
      "test_loss: 2.46120445728302\n",
      "test_accuracy: 8.41\n"
     ]
    }
   ],
   "source": [
    "test_loss, test_accuracy = evaluate(model, testloader, criterion)\n",
    "print(f'test_loss: {test_loss}')\n",
    "print(f'test_accuracy: {test_accuracy}')"
   ]
  },
  {
   "cell_type": "code",
   "execution_count": null,
   "metadata": {},
   "outputs": [],
   "source": []
  },
  {
   "cell_type": "markdown",
   "metadata": {},
   "source": [
    "#### Train"
   ]
  },
  {
   "cell_type": "code",
   "execution_count": 9,
   "metadata": {},
   "outputs": [],
   "source": [
    "# some parameter\n",
    "train_losses = []\n",
    "train_accuracies = []\n",
    "test_losses = []\n",
    "test_accuracies = []\n",
    "max_epoch = 100"
   ]
  },
  {
   "cell_type": "code",
   "execution_count": 10,
   "metadata": {
    "colab": {
     "base_uri": "https://localhost:8080/"
    },
    "id": "tYwXeSOOF_4Z",
    "outputId": "a4c62a4a-267f-4101-ce96-662cc23cdbe0"
   },
   "outputs": [
    {
     "name": "stdout",
     "output_type": "stream",
     "text": [
      "Epoch [1/100], Loss: 1.3577, Accuracy: 59.91%, Test Loss: 0.9853, Test Accuracy: 70.54%\n",
      "Epoch [2/100], Loss: 0.8776, Accuracy: 73.04%, Test Loss: 0.8169, Test Accuracy: 73.51%\n",
      "Epoch [3/100], Loss: 0.7656, Accuracy: 75.22%, Test Loss: 0.7453, Test Accuracy: 75.39%\n",
      "Epoch [4/100], Loss: 0.7081, Accuracy: 76.72%, Test Loss: 0.7034, Test Accuracy: 76.48%\n",
      "Epoch [5/100], Loss: 0.6720, Accuracy: 77.72%, Test Loss: 0.6741, Test Accuracy: 77.22%\n",
      "Epoch [6/100], Loss: 0.6459, Accuracy: 78.42%, Test Loss: 0.6522, Test Accuracy: 77.97%\n",
      "Epoch [7/100], Loss: 0.6257, Accuracy: 78.97%, Test Loss: 0.6355, Test Accuracy: 78.39%\n",
      "Epoch [8/100], Loss: 0.6100, Accuracy: 79.47%, Test Loss: 0.6219, Test Accuracy: 78.68%\n",
      "Epoch [9/100], Loss: 0.5970, Accuracy: 79.91%, Test Loss: 0.6102, Test Accuracy: 79.13%\n",
      "Epoch [10/100], Loss: 0.5853, Accuracy: 80.28%, Test Loss: 0.6008, Test Accuracy: 79.45%\n",
      "Epoch [11/100], Loss: 0.5760, Accuracy: 80.56%, Test Loss: 0.5923, Test Accuracy: 79.49%\n",
      "Epoch [12/100], Loss: 0.5676, Accuracy: 80.80%, Test Loss: 0.5849, Test Accuracy: 79.85%\n",
      "Epoch [13/100], Loss: 0.5600, Accuracy: 81.10%, Test Loss: 0.5782, Test Accuracy: 79.98%\n",
      "Epoch [14/100], Loss: 0.5539, Accuracy: 81.31%, Test Loss: 0.5724, Test Accuracy: 80.20%\n",
      "Epoch [15/100], Loss: 0.5477, Accuracy: 81.44%, Test Loss: 0.5674, Test Accuracy: 80.33%\n",
      "Epoch [16/100], Loss: 0.5425, Accuracy: 81.61%, Test Loss: 0.5622, Test Accuracy: 80.58%\n",
      "Epoch [17/100], Loss: 0.5369, Accuracy: 81.78%, Test Loss: 0.5581, Test Accuracy: 80.56%\n",
      "Epoch [18/100], Loss: 0.5328, Accuracy: 81.99%, Test Loss: 0.5540, Test Accuracy: 80.77%\n",
      "Epoch [19/100], Loss: 0.5285, Accuracy: 82.08%, Test Loss: 0.5505, Test Accuracy: 80.89%\n",
      "Epoch [20/100], Loss: 0.5249, Accuracy: 82.23%, Test Loss: 0.5470, Test Accuracy: 80.92%\n",
      "Epoch [21/100], Loss: 0.5214, Accuracy: 82.36%, Test Loss: 0.5440, Test Accuracy: 81.03%\n",
      "Epoch [22/100], Loss: 0.5178, Accuracy: 82.44%, Test Loss: 0.5409, Test Accuracy: 81.11%\n",
      "Epoch [23/100], Loss: 0.5148, Accuracy: 82.54%, Test Loss: 0.5380, Test Accuracy: 81.06%\n",
      "Epoch [24/100], Loss: 0.5119, Accuracy: 82.66%, Test Loss: 0.5354, Test Accuracy: 81.20%\n",
      "Epoch [25/100], Loss: 0.5092, Accuracy: 82.70%, Test Loss: 0.5331, Test Accuracy: 81.24%\n",
      "Epoch [26/100], Loss: 0.5070, Accuracy: 82.81%, Test Loss: 0.5307, Test Accuracy: 81.36%\n",
      "Epoch [27/100], Loss: 0.5041, Accuracy: 82.93%, Test Loss: 0.5287, Test Accuracy: 81.34%\n",
      "Epoch [28/100], Loss: 0.5018, Accuracy: 82.96%, Test Loss: 0.5263, Test Accuracy: 81.52%\n",
      "Epoch [29/100], Loss: 0.4994, Accuracy: 83.00%, Test Loss: 0.5249, Test Accuracy: 81.57%\n",
      "Epoch [30/100], Loss: 0.4971, Accuracy: 83.04%, Test Loss: 0.5226, Test Accuracy: 81.68%\n",
      "Epoch [31/100], Loss: 0.4950, Accuracy: 83.13%, Test Loss: 0.5208, Test Accuracy: 81.68%\n",
      "Epoch [32/100], Loss: 0.4932, Accuracy: 83.21%, Test Loss: 0.5193, Test Accuracy: 81.86%\n",
      "Epoch [33/100], Loss: 0.4916, Accuracy: 83.28%, Test Loss: 0.5177, Test Accuracy: 81.82%\n",
      "Epoch [34/100], Loss: 0.4894, Accuracy: 83.34%, Test Loss: 0.5166, Test Accuracy: 81.89%\n",
      "Epoch [35/100], Loss: 0.4877, Accuracy: 83.39%, Test Loss: 0.5148, Test Accuracy: 81.96%\n",
      "Epoch [36/100], Loss: 0.4863, Accuracy: 83.39%, Test Loss: 0.5130, Test Accuracy: 82.09%\n",
      "Epoch [37/100], Loss: 0.4847, Accuracy: 83.44%, Test Loss: 0.5118, Test Accuracy: 82.16%\n",
      "Epoch [38/100], Loss: 0.4833, Accuracy: 83.56%, Test Loss: 0.5108, Test Accuracy: 82.04%\n",
      "Epoch [39/100], Loss: 0.4819, Accuracy: 83.49%, Test Loss: 0.5091, Test Accuracy: 82.20%\n",
      "Epoch [40/100], Loss: 0.4801, Accuracy: 83.56%, Test Loss: 0.5078, Test Accuracy: 82.35%\n",
      "Epoch [41/100], Loss: 0.4792, Accuracy: 83.62%, Test Loss: 0.5068, Test Accuracy: 82.29%\n",
      "Epoch [42/100], Loss: 0.4776, Accuracy: 83.66%, Test Loss: 0.5060, Test Accuracy: 82.35%\n",
      "Epoch [43/100], Loss: 0.4764, Accuracy: 83.70%, Test Loss: 0.5045, Test Accuracy: 82.40%\n",
      "Epoch [44/100], Loss: 0.4756, Accuracy: 83.77%, Test Loss: 0.5031, Test Accuracy: 82.44%\n",
      "Epoch [45/100], Loss: 0.4744, Accuracy: 83.79%, Test Loss: 0.5024, Test Accuracy: 82.41%\n",
      "Epoch [46/100], Loss: 0.4729, Accuracy: 83.83%, Test Loss: 0.5012, Test Accuracy: 82.52%\n",
      "Epoch [47/100], Loss: 0.4722, Accuracy: 83.87%, Test Loss: 0.5003, Test Accuracy: 82.53%\n",
      "Epoch [48/100], Loss: 0.4708, Accuracy: 83.92%, Test Loss: 0.4994, Test Accuracy: 82.50%\n",
      "Epoch [49/100], Loss: 0.4697, Accuracy: 83.95%, Test Loss: 0.4987, Test Accuracy: 82.50%\n",
      "Epoch [50/100], Loss: 0.4688, Accuracy: 83.96%, Test Loss: 0.4976, Test Accuracy: 82.64%\n",
      "Epoch [51/100], Loss: 0.4682, Accuracy: 84.04%, Test Loss: 0.4969, Test Accuracy: 82.58%\n",
      "Epoch [52/100], Loss: 0.4668, Accuracy: 84.06%, Test Loss: 0.4957, Test Accuracy: 82.59%\n",
      "Epoch [53/100], Loss: 0.4653, Accuracy: 84.13%, Test Loss: 0.4950, Test Accuracy: 82.59%\n",
      "Epoch [54/100], Loss: 0.4650, Accuracy: 84.19%, Test Loss: 0.4944, Test Accuracy: 82.67%\n",
      "Epoch [55/100], Loss: 0.4643, Accuracy: 84.18%, Test Loss: 0.4935, Test Accuracy: 82.64%\n",
      "Epoch [56/100], Loss: 0.4632, Accuracy: 84.26%, Test Loss: 0.4928, Test Accuracy: 82.63%\n",
      "Epoch [57/100], Loss: 0.4624, Accuracy: 84.25%, Test Loss: 0.4921, Test Accuracy: 82.68%\n",
      "Epoch [58/100], Loss: 0.4616, Accuracy: 84.28%, Test Loss: 0.4913, Test Accuracy: 82.73%\n",
      "Epoch [59/100], Loss: 0.4607, Accuracy: 84.31%, Test Loss: 0.4907, Test Accuracy: 82.72%\n",
      "Epoch [60/100], Loss: 0.4600, Accuracy: 84.32%, Test Loss: 0.4900, Test Accuracy: 82.75%\n",
      "Epoch [61/100], Loss: 0.4590, Accuracy: 84.39%, Test Loss: 0.4892, Test Accuracy: 82.90%\n",
      "Epoch [62/100], Loss: 0.4582, Accuracy: 84.34%, Test Loss: 0.4886, Test Accuracy: 82.91%\n",
      "Epoch [63/100], Loss: 0.4571, Accuracy: 84.39%, Test Loss: 0.4881, Test Accuracy: 82.92%\n",
      "Epoch [64/100], Loss: 0.4572, Accuracy: 84.42%, Test Loss: 0.4873, Test Accuracy: 82.90%\n",
      "Epoch [65/100], Loss: 0.4562, Accuracy: 84.47%, Test Loss: 0.4868, Test Accuracy: 82.94%\n",
      "Epoch [66/100], Loss: 0.4553, Accuracy: 84.47%, Test Loss: 0.4865, Test Accuracy: 82.98%\n",
      "Epoch [67/100], Loss: 0.4548, Accuracy: 84.54%, Test Loss: 0.4857, Test Accuracy: 82.96%\n",
      "Epoch [68/100], Loss: 0.4541, Accuracy: 84.51%, Test Loss: 0.4854, Test Accuracy: 82.97%\n",
      "Epoch [69/100], Loss: 0.4537, Accuracy: 84.53%, Test Loss: 0.4845, Test Accuracy: 82.92%\n",
      "Epoch [70/100], Loss: 0.4526, Accuracy: 84.57%, Test Loss: 0.4840, Test Accuracy: 82.97%\n",
      "Epoch [71/100], Loss: 0.4522, Accuracy: 84.52%, Test Loss: 0.4835, Test Accuracy: 82.97%\n",
      "Epoch [72/100], Loss: 0.4512, Accuracy: 84.58%, Test Loss: 0.4829, Test Accuracy: 83.03%\n",
      "Epoch [73/100], Loss: 0.4508, Accuracy: 84.65%, Test Loss: 0.4823, Test Accuracy: 82.97%\n",
      "Epoch [74/100], Loss: 0.4501, Accuracy: 84.65%, Test Loss: 0.4818, Test Accuracy: 83.02%\n",
      "Epoch [75/100], Loss: 0.4498, Accuracy: 84.63%, Test Loss: 0.4815, Test Accuracy: 83.10%\n",
      "Epoch [76/100], Loss: 0.4492, Accuracy: 84.69%, Test Loss: 0.4810, Test Accuracy: 83.09%\n",
      "Epoch [77/100], Loss: 0.4483, Accuracy: 84.67%, Test Loss: 0.4806, Test Accuracy: 83.09%\n",
      "Epoch [78/100], Loss: 0.4477, Accuracy: 84.72%, Test Loss: 0.4802, Test Accuracy: 83.13%\n",
      "Epoch [79/100], Loss: 0.4473, Accuracy: 84.71%, Test Loss: 0.4796, Test Accuracy: 83.14%\n",
      "Epoch [80/100], Loss: 0.4471, Accuracy: 84.76%, Test Loss: 0.4792, Test Accuracy: 83.17%\n",
      "Epoch [81/100], Loss: 0.4464, Accuracy: 84.79%, Test Loss: 0.4787, Test Accuracy: 83.19%\n",
      "Epoch [82/100], Loss: 0.4463, Accuracy: 84.84%, Test Loss: 0.4782, Test Accuracy: 83.18%\n",
      "Epoch [83/100], Loss: 0.4453, Accuracy: 84.82%, Test Loss: 0.4778, Test Accuracy: 83.22%\n",
      "Epoch [84/100], Loss: 0.4452, Accuracy: 84.84%, Test Loss: 0.4780, Test Accuracy: 83.15%\n",
      "Epoch [85/100], Loss: 0.4445, Accuracy: 84.87%, Test Loss: 0.4769, Test Accuracy: 83.21%\n",
      "Epoch [86/100], Loss: 0.4440, Accuracy: 84.87%, Test Loss: 0.4767, Test Accuracy: 83.23%\n",
      "Epoch [87/100], Loss: 0.4434, Accuracy: 84.90%, Test Loss: 0.4764, Test Accuracy: 83.29%\n",
      "Epoch [88/100], Loss: 0.4429, Accuracy: 84.90%, Test Loss: 0.4762, Test Accuracy: 83.19%\n",
      "Epoch [89/100], Loss: 0.4424, Accuracy: 84.95%, Test Loss: 0.4755, Test Accuracy: 83.27%\n",
      "Epoch [90/100], Loss: 0.4422, Accuracy: 84.93%, Test Loss: 0.4752, Test Accuracy: 83.29%\n",
      "Epoch [91/100], Loss: 0.4418, Accuracy: 84.97%, Test Loss: 0.4748, Test Accuracy: 83.36%\n",
      "Epoch [92/100], Loss: 0.4413, Accuracy: 85.00%, Test Loss: 0.4745, Test Accuracy: 83.34%\n",
      "Epoch [93/100], Loss: 0.4408, Accuracy: 85.00%, Test Loss: 0.4745, Test Accuracy: 83.23%\n",
      "Epoch [94/100], Loss: 0.4407, Accuracy: 85.03%, Test Loss: 0.4738, Test Accuracy: 83.35%\n",
      "Epoch [95/100], Loss: 0.4396, Accuracy: 85.00%, Test Loss: 0.4736, Test Accuracy: 83.31%\n",
      "Epoch [96/100], Loss: 0.4392, Accuracy: 84.99%, Test Loss: 0.4731, Test Accuracy: 83.31%\n",
      "Epoch [97/100], Loss: 0.4395, Accuracy: 85.05%, Test Loss: 0.4729, Test Accuracy: 83.25%\n",
      "Epoch [98/100], Loss: 0.4387, Accuracy: 85.05%, Test Loss: 0.4729, Test Accuracy: 83.34%\n",
      "Epoch [99/100], Loss: 0.4385, Accuracy: 85.11%, Test Loss: 0.4724, Test Accuracy: 83.30%\n",
      "Epoch [100/100], Loss: 0.4381, Accuracy: 85.08%, Test Loss: 0.4718, Test Accuracy: 83.40%\n"
     ]
    }
   ],
   "source": [
    "# train\n",
    "for epoch in range(max_epoch):\n",
    "    running_loss = 0.0\n",
    "    running_correct = 0   # to track number of correct predictions\n",
    "    total = 0             # to track total number of samples\n",
    "\n",
    "    for i, (inputs, labels) in enumerate(trainloader, 0):\n",
    "        # Move inputs and labels to the device\n",
    "        inputs, labels = inputs.to(device), labels.to(device)\n",
    "\n",
    "        # Zero the parameter gradients\n",
    "        optimizer.zero_grad()\n",
    "\n",
    "        # Forward pass\n",
    "        outputs = model(inputs)\n",
    "        loss = criterion(outputs, labels)\n",
    "        running_loss += loss.item()\n",
    "\n",
    "        # Determine class predictions and track accuracy\n",
    "        _, predicted = torch.max(outputs.data, 1)\n",
    "        total += labels.size(0)\n",
    "        running_correct += (predicted == labels).sum().item()\n",
    "\n",
    "        # Backward pass and optimization\n",
    "        loss.backward()\n",
    "        optimizer.step()        \n",
    "\n",
    "    epoch_accuracy = 100 * running_correct / total\n",
    "    epoch_loss = running_loss / (i + 1)\n",
    "    test_loss, test_accuracy = evaluate(model, testloader, criterion)\n",
    "    print(f\"Epoch [{epoch + 1}/{max_epoch}], Loss: {epoch_loss:.4f}, Accuracy: {epoch_accuracy:.2f}%, Test Loss: {test_loss:.4f}, Test Accuracy: {test_accuracy:.2f}%\")\n",
    "    \n",
    "    # save for plot\n",
    "    train_losses.append(epoch_loss)\n",
    "    train_accuracies.append(epoch_accuracy)\n",
    "    test_losses.append(test_loss)\n",
    "    test_accuracies.append(test_accuracy)"
   ]
  },
  {
   "cell_type": "code",
   "execution_count": null,
   "metadata": {
    "id": "QKFbl4unF_6t"
   },
   "outputs": [],
   "source": []
  },
  {
   "cell_type": "code",
   "execution_count": 11,
   "metadata": {
    "id": "AwIj3vrnF_8_"
   },
   "outputs": [
    {
     "data": {
      "text/plain": [
       "<matplotlib.legend.Legend at 0x7fb8fc036350>"
      ]
     },
     "execution_count": 11,
     "metadata": {},
     "output_type": "execute_result"
    },
    {
     "data": {
      "image/png": "[encoded data removed]",
      "text/plain": [
       "<Figure size 640x480 with 1 Axes>"
      ]
     },
     "metadata": {},
     "output_type": "display_data"
    }
   ],
   "source": [
    "import matplotlib.pyplot as plt\n",
    "\n",
    "plt.plot(train_losses, label='train_losses')\n",
    "plt.plot(test_losses, label='test_losses')\n",
    "plt.legend()"
   ]
  },
  {
   "cell_type": "code",
   "execution_count": 12,
   "metadata": {
    "id": "eh3iDa8lF__H"
   },
   "outputs": [
    {
     "data": {
      "text/plain": [
       "<matplotlib.legend.Legend at 0x7fb8dc76bcd0>"
      ]
     },
     "execution_count": 12,
     "metadata": {},
     "output_type": "execute_result"
    },
    {
     "data": {
      "image/png": "[encoded data removed]",
      "text/plain": [
       "<Figure size 640x480 with 1 Axes>"
      ]
     },
     "metadata": {},
     "output_type": "display_data"
    }
   ],
   "source": [
    "import matplotlib.pyplot as plt\n",
    "\n",
    "plt.plot(train_accuracies, label='train_accuracy')\n",
    "plt.plot(test_accuracies, label='test_accuracy')\n",
    "plt.legend()"
   ]
  },
  {
   "cell_type": "code",
   "execution_count": null,
   "metadata": {},
   "outputs": [],
   "source": []
  },
  {
   "cell_type": "code",
   "execution_count": 13,
   "metadata": {},
   "outputs": [
    {
     "data": {
      "text/plain": [
       "<matplotlib.legend.Legend at 0x7fb8dfae6a10>"
      ]
     },
     "execution_count": 13,
     "metadata": {},
     "output_type": "execute_result"
    }
   ],
   "source": [
    "import matplotlib.pyplot as plt\n",
    "%matplotlib qt\n",
    "\n",
    "plt.plot(train_losses, label='train_losses')\n",
    "plt.plot(test_losses, label='test_losses')\n",
    "plt.legend()"
   ]
  },
  {
   "cell_type": "code",
   "execution_count": 14,
   "metadata": {},
   "outputs": [
    {
     "data": {
      "text/plain": [
       "<matplotlib.legend.Legend at 0x7fb87811efb0>"
      ]
     },
     "execution_count": 14,
     "metadata": {},
     "output_type": "execute_result"
    }
   ],
   "source": [
    "import matplotlib.pyplot as plt\n",
    "%matplotlib qt\n",
    "\n",
    "plt.plot(train_accuracies, label='train_accuracy')\n",
    "plt.plot(test_accuracies, label='test_accuracy')\n",
    "plt.legend()"
   ]
  },
  {
   "cell_type": "code",
   "execution_count": null,
   "metadata": {},
   "outputs": [],
   "source": []
  }
 ],
 "metadata": {
  "accelerator": "GPU",
  "colab": {
   "gpuType": "T4",
   "provenance": []
  },
  "kernelspec": {
   "display_name": "Python 3 (ipykernel)",
   "language": "python",
   "name": "python3"
  },
  "language_info": {
   "codemirror_mode": {
    "name": "ipython",
    "version": 3
   },
   "file_extension": ".py",
   "mimetype": "text/x-python",
   "name": "python",
   "nbconvert_exporter": "python",
   "pygments_lexer": "ipython3",
   "version": "3.10.13"
  }
 },
 "nbformat": 4,
 "nbformat_minor": 4
}
