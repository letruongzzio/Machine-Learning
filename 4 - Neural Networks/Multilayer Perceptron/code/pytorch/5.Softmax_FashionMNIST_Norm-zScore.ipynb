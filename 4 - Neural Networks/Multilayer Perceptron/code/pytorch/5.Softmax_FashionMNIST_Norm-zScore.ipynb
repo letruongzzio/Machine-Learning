{
 "cells": [
  {
   "cell_type": "code",
   "execution_count": 2,
   "metadata": {},
   "outputs": [],
   "source": [
    "import torch\n",
    "import torch.nn as nn\n",
    "import torch.optim as optim\n",
    "import torchvision\n",
    "import torchvision.transforms as transforms\n",
    "\n",
    "# Check if GPU is available\n",
    "device = torch.device(\"cuda:0\" if torch.cuda.is_available() else \"cpu\")"
   ]
  },
  {
   "cell_type": "code",
   "execution_count": null,
   "metadata": {},
   "outputs": [],
   "source": []
  },
  {
   "cell_type": "markdown",
   "metadata": {},
   "source": [
    "#### Data"
   ]
  },
  {
   "cell_type": "code",
   "execution_count": 4,
   "metadata": {},
   "outputs": [
    {
     "name": "stdout",
     "output_type": "stream",
     "text": [
      "tensor([0.2860]) tensor([0.3530])\n"
     ]
    }
   ],
   "source": [
    "# Load dataset with only the ToTensor transform to compute mean and std\n",
    "compute_transform = transforms.Compose([transforms.ToTensor()])\n",
    "dataset = torchvision.datasets.FashionMNIST(root='data', train=True, transform=compute_transform, download=True)\n",
    "loader = torch.utils.data.DataLoader(dataset, batch_size=1024, shuffle=False, num_workers=10)\n",
    "\n",
    "mean = 0.0\n",
    "for images, _ in loader:\n",
    "    batch_samples = images.size(0)  # Batch size\n",
    "    images = images.view(batch_samples, images.size(1), -1)\n",
    "    mean += images.mean(2).sum(0)\n",
    "mean = mean / len(loader.dataset)\n",
    "\n",
    "variance = 0.0\n",
    "for images, _ in loader:\n",
    "    batch_samples = images.size(0)\n",
    "    images = images.view(batch_samples, images.size(1), -1)\n",
    "    variance += ((images - mean.unsqueeze(1))**2).sum([0,2])\n",
    "std = torch.sqrt(variance / (len(loader.dataset)*28*28))\n",
    "\n",
    "print(mean, std)"
   ]
  },
  {
   "cell_type": "code",
   "execution_count": 5,
   "metadata": {},
   "outputs": [],
   "source": [
    "# Load CFashionMNIST dataset\n",
    "transform = transforms.Compose([transforms.ToTensor(), transforms.Normalize((mean,), (std,))])\n",
    "\n",
    "trainset = torchvision.datasets.FashionMNIST(root='data', train=True, download=True, transform=transform)\n",
    "trainloader = torch.utils.data.DataLoader(trainset, batch_size=1024, num_workers=10, shuffle=True)\n",
    "\n",
    "testset = torchvision.datasets.FashionMNIST(root='data', train=False, download=True, transform=transform)\n",
    "testloader = torch.utils.data.DataLoader(testset, batch_size=1024, num_workers=10, shuffle=False)"
   ]
  },
  {
   "cell_type": "code",
   "execution_count": 6,
   "metadata": {},
   "outputs": [
    {
     "data": {
      "image/png": "[encoded data removed]",
      "text/plain": [
       "<Figure size 640x480 with 1 Axes>"
      ]
     },
     "metadata": {},
     "output_type": "display_data"
    }
   ],
   "source": [
    "import matplotlib.pyplot as plt\n",
    "import numpy as np\n",
    "\n",
    "# Function to display the images\n",
    "def imshow(img):\n",
    "    img = img*std + mean\n",
    "    np_img = img.numpy()\n",
    "    plt.imshow(np.transpose(np_img, (1, 2, 0)))\n",
    "    plt.show()\n",
    "\n",
    "for i, (images, labels) in enumerate(trainloader, 0):\n",
    "    # Plot some images\n",
    "    imshow(torchvision.utils.make_grid(images[:8]))  # Display 8 images from the batch\n",
    "    break"
   ]
  },
  {
   "cell_type": "code",
   "execution_count": null,
   "metadata": {},
   "outputs": [],
   "source": []
  },
  {
   "cell_type": "markdown",
   "metadata": {},
   "source": [
    "#### Model"
   ]
  },
  {
   "cell_type": "code",
   "execution_count": 10,
   "metadata": {},
   "outputs": [
    {
     "name": "stdout",
     "output_type": "stream",
     "text": [
      "Sequential(\n",
      "  (0): Flatten(start_dim=1, end_dim=-1)\n",
      "  (1): Linear(in_features=784, out_features=10, bias=True)\n",
      ")\n"
     ]
    }
   ],
   "source": [
    "model = nn.Sequential(\n",
    "    nn.Flatten(), nn.Linear(784, 10)\n",
    ")\n",
    "model = model.to(device)\n",
    "\n",
    "print(model)"
   ]
  },
  {
   "cell_type": "code",
   "execution_count": 11,
   "metadata": {},
   "outputs": [
    {
     "name": "stdout",
     "output_type": "stream",
     "text": [
      "torch.Size([5, 10])\n"
     ]
    }
   ],
   "source": [
    "# Generating a random tensor\n",
    "input_tensor = torch.rand(5, 28, 28).to(device)\n",
    "\n",
    "# Feeding the tensor into the model\n",
    "output = model(input_tensor)\n",
    "print(output.shape)"
   ]
  },
  {
   "cell_type": "code",
   "execution_count": null,
   "metadata": {},
   "outputs": [],
   "source": []
  },
  {
   "cell_type": "markdown",
   "metadata": {},
   "source": [
    "#### Loss, Optimizer, and Evaluation Function"
   ]
  },
  {
   "cell_type": "code",
   "execution_count": 12,
   "metadata": {},
   "outputs": [],
   "source": [
    "criterion = nn.CrossEntropyLoss()\n",
    "optimizer = optim.SGD(model.parameters(), lr=0.01)"
   ]
  },
  {
   "cell_type": "code",
   "execution_count": 13,
   "metadata": {},
   "outputs": [],
   "source": [
    "# Function to compute loss and accuracy for test set\n",
    "def evaluate(model, testloader, criterion):\n",
    "    model.eval()\n",
    "    test_loss = 0.0\n",
    "    correct = 0\n",
    "    total = 0\n",
    "    with torch.no_grad():\n",
    "        for images, labels in testloader:\n",
    "            # Move inputs and labels to the device\n",
    "            images, labels = images.to(device), labels.to(device)\n",
    "\n",
    "            outputs = model(images)\n",
    "            loss = criterion(outputs, labels)\n",
    "            test_loss += loss.item()\n",
    "            \n",
    "            _, predicted = torch.max(outputs.data, 1)\n",
    "            total += labels.size(0)\n",
    "            correct += (predicted == labels).sum().item()\n",
    "\n",
    "    accuracy = 100 * correct / total\n",
    "    test_loss = test_loss / len(testloader)\n",
    "    return test_loss, accuracy"
   ]
  },
  {
   "cell_type": "code",
   "execution_count": 14,
   "metadata": {},
   "outputs": [
    {
     "name": "stdout",
     "output_type": "stream",
     "text": [
      "test_loss: 2.3808004379272463\n",
      "test_accuracy: 9.31\n"
     ]
    }
   ],
   "source": [
    "test_loss, test_accuracy = evaluate(model, testloader, criterion)\n",
    "print(f'test_loss: {test_loss}')\n",
    "print(f'test_accuracy: {test_accuracy}')"
   ]
  },
  {
   "cell_type": "code",
   "execution_count": null,
   "metadata": {},
   "outputs": [],
   "source": []
  },
  {
   "cell_type": "markdown",
   "metadata": {},
   "source": [
    "#### Train"
   ]
  },
  {
   "cell_type": "code",
   "execution_count": 15,
   "metadata": {},
   "outputs": [],
   "source": [
    "# some parameter\n",
    "train_losses = []\n",
    "train_accuracies = []\n",
    "test_losses = []\n",
    "test_accuracies = []\n",
    "max_epoch = 100"
   ]
  },
  {
   "cell_type": "code",
   "execution_count": 16,
   "metadata": {
    "colab": {
     "base_uri": "https://localhost:8080/"
    },
    "id": "tYwXeSOOF_4Z",
    "outputId": "a4c62a4a-267f-4101-ce96-662cc23cdbe0"
   },
   "outputs": [
    {
     "name": "stdout",
     "output_type": "stream",
     "text": [
      "Epoch [1/100], Loss: 1.1105, Accuracy: 66.31%, Test Loss: 0.8176, Test Accuracy: 73.36%\n",
      "Epoch [2/100], Loss: 0.7405, Accuracy: 75.84%, Test Loss: 0.7041, Test Accuracy: 76.45%\n",
      "Epoch [3/100], Loss: 0.6624, Accuracy: 77.97%, Test Loss: 0.6534, Test Accuracy: 77.95%\n",
      "Epoch [4/100], Loss: 0.6206, Accuracy: 79.18%, Test Loss: 0.6229, Test Accuracy: 78.60%\n",
      "Epoch [5/100], Loss: 0.5932, Accuracy: 79.96%, Test Loss: 0.6010, Test Accuracy: 79.33%\n",
      "Epoch [6/100], Loss: 0.5738, Accuracy: 80.53%, Test Loss: 0.5848, Test Accuracy: 79.82%\n",
      "Epoch [7/100], Loss: 0.5587, Accuracy: 80.97%, Test Loss: 0.5734, Test Accuracy: 80.20%\n",
      "Epoch [8/100], Loss: 0.5465, Accuracy: 81.40%, Test Loss: 0.5623, Test Accuracy: 80.46%\n",
      "Epoch [9/100], Loss: 0.5361, Accuracy: 81.70%, Test Loss: 0.5543, Test Accuracy: 80.81%\n",
      "Epoch [10/100], Loss: 0.5279, Accuracy: 81.97%, Test Loss: 0.5481, Test Accuracy: 80.98%\n",
      "Epoch [11/100], Loss: 0.5208, Accuracy: 82.22%, Test Loss: 0.5410, Test Accuracy: 81.12%\n",
      "Epoch [12/100], Loss: 0.5144, Accuracy: 82.41%, Test Loss: 0.5362, Test Accuracy: 81.24%\n",
      "Epoch [13/100], Loss: 0.5086, Accuracy: 82.64%, Test Loss: 0.5308, Test Accuracy: 81.49%\n",
      "Epoch [14/100], Loss: 0.5039, Accuracy: 82.79%, Test Loss: 0.5266, Test Accuracy: 81.67%\n",
      "Epoch [15/100], Loss: 0.4995, Accuracy: 82.97%, Test Loss: 0.5230, Test Accuracy: 81.72%\n",
      "Epoch [16/100], Loss: 0.4949, Accuracy: 83.06%, Test Loss: 0.5197, Test Accuracy: 81.74%\n",
      "Epoch [17/100], Loss: 0.4912, Accuracy: 83.16%, Test Loss: 0.5165, Test Accuracy: 81.92%\n",
      "Epoch [18/100], Loss: 0.4877, Accuracy: 83.31%, Test Loss: 0.5144, Test Accuracy: 82.01%\n",
      "Epoch [19/100], Loss: 0.4847, Accuracy: 83.42%, Test Loss: 0.5107, Test Accuracy: 82.10%\n",
      "Epoch [20/100], Loss: 0.4823, Accuracy: 83.58%, Test Loss: 0.5082, Test Accuracy: 82.16%\n",
      "Epoch [21/100], Loss: 0.4790, Accuracy: 83.69%, Test Loss: 0.5058, Test Accuracy: 82.23%\n",
      "Epoch [22/100], Loss: 0.4766, Accuracy: 83.68%, Test Loss: 0.5039, Test Accuracy: 82.37%\n",
      "Epoch [23/100], Loss: 0.4745, Accuracy: 83.88%, Test Loss: 0.5014, Test Accuracy: 82.46%\n",
      "Epoch [24/100], Loss: 0.4722, Accuracy: 83.90%, Test Loss: 0.4996, Test Accuracy: 82.47%\n",
      "Epoch [25/100], Loss: 0.4703, Accuracy: 83.97%, Test Loss: 0.4982, Test Accuracy: 82.51%\n",
      "Epoch [26/100], Loss: 0.4680, Accuracy: 84.05%, Test Loss: 0.4962, Test Accuracy: 82.58%\n",
      "Epoch [27/100], Loss: 0.4657, Accuracy: 84.09%, Test Loss: 0.4949, Test Accuracy: 82.51%\n",
      "Epoch [28/100], Loss: 0.4642, Accuracy: 84.13%, Test Loss: 0.4935, Test Accuracy: 82.70%\n",
      "Epoch [29/100], Loss: 0.4626, Accuracy: 84.22%, Test Loss: 0.4923, Test Accuracy: 82.68%\n",
      "Epoch [30/100], Loss: 0.4604, Accuracy: 84.28%, Test Loss: 0.4906, Test Accuracy: 82.73%\n",
      "Epoch [31/100], Loss: 0.4592, Accuracy: 84.34%, Test Loss: 0.4893, Test Accuracy: 82.82%\n",
      "Epoch [32/100], Loss: 0.4576, Accuracy: 84.39%, Test Loss: 0.4879, Test Accuracy: 82.75%\n",
      "Epoch [33/100], Loss: 0.4565, Accuracy: 84.41%, Test Loss: 0.4866, Test Accuracy: 82.77%\n",
      "Epoch [34/100], Loss: 0.4557, Accuracy: 84.49%, Test Loss: 0.4867, Test Accuracy: 82.76%\n",
      "Epoch [35/100], Loss: 0.4538, Accuracy: 84.55%, Test Loss: 0.4847, Test Accuracy: 82.93%\n",
      "Epoch [36/100], Loss: 0.4526, Accuracy: 84.58%, Test Loss: 0.4842, Test Accuracy: 82.76%\n",
      "Epoch [37/100], Loss: 0.4515, Accuracy: 84.65%, Test Loss: 0.4828, Test Accuracy: 83.01%\n",
      "Epoch [38/100], Loss: 0.4495, Accuracy: 84.69%, Test Loss: 0.4816, Test Accuracy: 83.01%\n",
      "Epoch [39/100], Loss: 0.4490, Accuracy: 84.68%, Test Loss: 0.4807, Test Accuracy: 82.93%\n",
      "Epoch [40/100], Loss: 0.4479, Accuracy: 84.72%, Test Loss: 0.4800, Test Accuracy: 83.01%\n",
      "Epoch [41/100], Loss: 0.4469, Accuracy: 84.77%, Test Loss: 0.4789, Test Accuracy: 83.12%\n",
      "Epoch [42/100], Loss: 0.4460, Accuracy: 84.81%, Test Loss: 0.4784, Test Accuracy: 83.00%\n",
      "Epoch [43/100], Loss: 0.4446, Accuracy: 84.83%, Test Loss: 0.4773, Test Accuracy: 83.13%\n",
      "Epoch [44/100], Loss: 0.4439, Accuracy: 84.88%, Test Loss: 0.4764, Test Accuracy: 83.06%\n",
      "Epoch [45/100], Loss: 0.4426, Accuracy: 84.93%, Test Loss: 0.4758, Test Accuracy: 83.18%\n",
      "Epoch [46/100], Loss: 0.4419, Accuracy: 84.96%, Test Loss: 0.4752, Test Accuracy: 83.15%\n",
      "Epoch [47/100], Loss: 0.4414, Accuracy: 84.98%, Test Loss: 0.4745, Test Accuracy: 83.14%\n",
      "Epoch [48/100], Loss: 0.4400, Accuracy: 84.99%, Test Loss: 0.4739, Test Accuracy: 83.36%\n",
      "Epoch [49/100], Loss: 0.4396, Accuracy: 84.97%, Test Loss: 0.4740, Test Accuracy: 83.35%\n",
      "Epoch [50/100], Loss: 0.4389, Accuracy: 85.01%, Test Loss: 0.4728, Test Accuracy: 83.34%\n",
      "Epoch [51/100], Loss: 0.4383, Accuracy: 85.06%, Test Loss: 0.4718, Test Accuracy: 83.24%\n",
      "Epoch [52/100], Loss: 0.4369, Accuracy: 85.13%, Test Loss: 0.4720, Test Accuracy: 83.15%\n",
      "Epoch [53/100], Loss: 0.4367, Accuracy: 85.07%, Test Loss: 0.4712, Test Accuracy: 83.32%\n",
      "Epoch [54/100], Loss: 0.4358, Accuracy: 85.10%, Test Loss: 0.4705, Test Accuracy: 83.40%\n",
      "Epoch [55/100], Loss: 0.4355, Accuracy: 85.12%, Test Loss: 0.4697, Test Accuracy: 83.39%\n",
      "Epoch [56/100], Loss: 0.4348, Accuracy: 85.17%, Test Loss: 0.4696, Test Accuracy: 83.44%\n",
      "Epoch [57/100], Loss: 0.4336, Accuracy: 85.20%, Test Loss: 0.4687, Test Accuracy: 83.45%\n",
      "Epoch [58/100], Loss: 0.4335, Accuracy: 85.20%, Test Loss: 0.4682, Test Accuracy: 83.39%\n",
      "Epoch [59/100], Loss: 0.4322, Accuracy: 85.26%, Test Loss: 0.4676, Test Accuracy: 83.40%\n",
      "Epoch [60/100], Loss: 0.4322, Accuracy: 85.27%, Test Loss: 0.4673, Test Accuracy: 83.51%\n",
      "Epoch [61/100], Loss: 0.4315, Accuracy: 85.24%, Test Loss: 0.4667, Test Accuracy: 83.55%\n",
      "Epoch [62/100], Loss: 0.4309, Accuracy: 85.25%, Test Loss: 0.4666, Test Accuracy: 83.47%\n",
      "Epoch [63/100], Loss: 0.4300, Accuracy: 85.29%, Test Loss: 0.4661, Test Accuracy: 83.46%\n",
      "Epoch [64/100], Loss: 0.4297, Accuracy: 85.32%, Test Loss: 0.4656, Test Accuracy: 83.42%\n",
      "Epoch [65/100], Loss: 0.4289, Accuracy: 85.33%, Test Loss: 0.4649, Test Accuracy: 83.55%\n",
      "Epoch [66/100], Loss: 0.4288, Accuracy: 85.32%, Test Loss: 0.4651, Test Accuracy: 83.60%\n",
      "Epoch [67/100], Loss: 0.4279, Accuracy: 85.35%, Test Loss: 0.4642, Test Accuracy: 83.49%\n",
      "Epoch [68/100], Loss: 0.4277, Accuracy: 85.33%, Test Loss: 0.4637, Test Accuracy: 83.52%\n",
      "Epoch [69/100], Loss: 0.4274, Accuracy: 85.43%, Test Loss: 0.4638, Test Accuracy: 83.44%\n",
      "Epoch [70/100], Loss: 0.4268, Accuracy: 85.39%, Test Loss: 0.4631, Test Accuracy: 83.60%\n",
      "Epoch [71/100], Loss: 0.4261, Accuracy: 85.43%, Test Loss: 0.4633, Test Accuracy: 83.51%\n",
      "Epoch [72/100], Loss: 0.4253, Accuracy: 85.44%, Test Loss: 0.4623, Test Accuracy: 83.65%\n",
      "Epoch [73/100], Loss: 0.4258, Accuracy: 85.44%, Test Loss: 0.4622, Test Accuracy: 83.50%\n",
      "Epoch [74/100], Loss: 0.4248, Accuracy: 85.48%, Test Loss: 0.4619, Test Accuracy: 83.66%\n",
      "Epoch [75/100], Loss: 0.4240, Accuracy: 85.41%, Test Loss: 0.4614, Test Accuracy: 83.62%\n",
      "Epoch [76/100], Loss: 0.4240, Accuracy: 85.48%, Test Loss: 0.4612, Test Accuracy: 83.65%\n",
      "Epoch [77/100], Loss: 0.4232, Accuracy: 85.45%, Test Loss: 0.4608, Test Accuracy: 83.66%\n",
      "Epoch [78/100], Loss: 0.4233, Accuracy: 85.50%, Test Loss: 0.4605, Test Accuracy: 83.68%\n",
      "Epoch [79/100], Loss: 0.4225, Accuracy: 85.54%, Test Loss: 0.4600, Test Accuracy: 83.72%\n",
      "Epoch [80/100], Loss: 0.4223, Accuracy: 85.50%, Test Loss: 0.4597, Test Accuracy: 83.68%\n",
      "Epoch [81/100], Loss: 0.4218, Accuracy: 85.53%, Test Loss: 0.4598, Test Accuracy: 83.68%\n",
      "Epoch [82/100], Loss: 0.4217, Accuracy: 85.55%, Test Loss: 0.4593, Test Accuracy: 83.66%\n",
      "Epoch [83/100], Loss: 0.4208, Accuracy: 85.56%, Test Loss: 0.4596, Test Accuracy: 83.65%\n",
      "Epoch [84/100], Loss: 0.4205, Accuracy: 85.53%, Test Loss: 0.4587, Test Accuracy: 83.82%\n",
      "Epoch [85/100], Loss: 0.4205, Accuracy: 85.60%, Test Loss: 0.4583, Test Accuracy: 83.74%\n",
      "Epoch [86/100], Loss: 0.4198, Accuracy: 85.59%, Test Loss: 0.4580, Test Accuracy: 83.69%\n",
      "Epoch [87/100], Loss: 0.4193, Accuracy: 85.60%, Test Loss: 0.4578, Test Accuracy: 83.70%\n",
      "Epoch [88/100], Loss: 0.4189, Accuracy: 85.62%, Test Loss: 0.4575, Test Accuracy: 83.78%\n",
      "Epoch [89/100], Loss: 0.4189, Accuracy: 85.61%, Test Loss: 0.4573, Test Accuracy: 83.81%\n",
      "Epoch [90/100], Loss: 0.4184, Accuracy: 85.63%, Test Loss: 0.4572, Test Accuracy: 83.73%\n",
      "Epoch [91/100], Loss: 0.4177, Accuracy: 85.66%, Test Loss: 0.4570, Test Accuracy: 83.89%\n",
      "Epoch [92/100], Loss: 0.4175, Accuracy: 85.64%, Test Loss: 0.4566, Test Accuracy: 83.74%\n",
      "Epoch [93/100], Loss: 0.4171, Accuracy: 85.69%, Test Loss: 0.4563, Test Accuracy: 83.84%\n",
      "Epoch [94/100], Loss: 0.4170, Accuracy: 85.64%, Test Loss: 0.4561, Test Accuracy: 83.87%\n",
      "Epoch [95/100], Loss: 0.4167, Accuracy: 85.68%, Test Loss: 0.4561, Test Accuracy: 83.88%\n",
      "Epoch [96/100], Loss: 0.4161, Accuracy: 85.66%, Test Loss: 0.4560, Test Accuracy: 83.79%\n",
      "Epoch [97/100], Loss: 0.4160, Accuracy: 85.71%, Test Loss: 0.4556, Test Accuracy: 83.94%\n",
      "Epoch [98/100], Loss: 0.4155, Accuracy: 85.69%, Test Loss: 0.4553, Test Accuracy: 83.87%\n",
      "Epoch [99/100], Loss: 0.4155, Accuracy: 85.73%, Test Loss: 0.4558, Test Accuracy: 83.82%\n",
      "Epoch [100/100], Loss: 0.4152, Accuracy: 85.72%, Test Loss: 0.4553, Test Accuracy: 83.80%\n"
     ]
    }
   ],
   "source": [
    "# train\n",
    "for epoch in range(max_epoch):\n",
    "    running_loss = 0.0\n",
    "    running_correct = 0   # to track number of correct predictions\n",
    "    total = 0             # to track total number of samples\n",
    "\n",
    "    for i, (inputs, labels) in enumerate(trainloader, 0):\n",
    "        # Move inputs and labels to the device\n",
    "        inputs, labels = inputs.to(device), labels.to(device)\n",
    "\n",
    "        # Zero the parameter gradients\n",
    "        optimizer.zero_grad()\n",
    "\n",
    "        # Forward pass\n",
    "        outputs = model(inputs)\n",
    "        loss = criterion(outputs, labels)\n",
    "        running_loss += loss.item()\n",
    "\n",
    "        # Determine class predictions and track accuracy\n",
    "        _, predicted = torch.max(outputs.data, 1)\n",
    "        total += labels.size(0)\n",
    "        running_correct += (predicted == labels).sum().item()\n",
    "\n",
    "        # Backward pass and optimization\n",
    "        loss.backward()\n",
    "        optimizer.step()        \n",
    "\n",
    "    epoch_accuracy = 100 * running_correct / total\n",
    "    epoch_loss = running_loss / (i + 1)\n",
    "    test_loss, test_accuracy = evaluate(model, testloader, criterion)\n",
    "    print(f\"Epoch [{epoch + 1}/{max_epoch}], Loss: {epoch_loss:.4f}, Accuracy: {epoch_accuracy:.2f}%, Test Loss: {test_loss:.4f}, Test Accuracy: {test_accuracy:.2f}%\")\n",
    "    \n",
    "    # save for plot\n",
    "    train_losses.append(epoch_loss)\n",
    "    train_accuracies.append(epoch_accuracy)\n",
    "    test_losses.append(test_loss)\n",
    "    test_accuracies.append(test_accuracy)"
   ]
  },
  {
   "cell_type": "code",
   "execution_count": null,
   "metadata": {
    "id": "QKFbl4unF_6t"
   },
   "outputs": [],
   "source": []
  },
  {
   "cell_type": "code",
   "execution_count": 17,
   "metadata": {
    "id": "AwIj3vrnF_8_"
   },
   "outputs": [
    {
     "data": {
      "text/plain": [
       "<matplotlib.legend.Legend at 0x7ff6973f4580>"
      ]
     },
     "execution_count": 17,
     "metadata": {},
     "output_type": "execute_result"
    },
    {
     "data": {
      "image/png": "[encoded data removed]",
      "text/plain": [
       "<Figure size 640x480 with 1 Axes>"
      ]
     },
     "metadata": {},
     "output_type": "display_data"
    }
   ],
   "source": [
    "import matplotlib.pyplot as plt\n",
    "\n",
    "plt.plot(train_losses, label='train_losses')\n",
    "plt.plot(test_losses, label='test_losses')\n",
    "plt.legend()"
   ]
  },
  {
   "cell_type": "code",
   "execution_count": 18,
   "metadata": {
    "id": "eh3iDa8lF__H"
   },
   "outputs": [
    {
     "data": {
      "text/plain": [
       "<matplotlib.legend.Legend at 0x7ff66f5c75b0>"
      ]
     },
     "execution_count": 18,
     "metadata": {},
     "output_type": "execute_result"
    },
    {
     "data": {
      "image/png": "[encoded data removed]",
      "text/plain": [
       "<Figure size 640x480 with 1 Axes>"
      ]
     },
     "metadata": {},
     "output_type": "display_data"
    }
   ],
   "source": [
    "import matplotlib.pyplot as plt\n",
    "\n",
    "plt.plot(train_accuracies, label='train_accuracy')\n",
    "plt.plot(test_accuracies, label='test_accuracy')\n",
    "plt.legend()"
   ]
  },
  {
   "cell_type": "code",
   "execution_count": null,
   "metadata": {},
   "outputs": [],
   "source": []
  },
  {
   "cell_type": "code",
   "execution_count": 19,
   "metadata": {},
   "outputs": [
    {
     "data": {
      "text/plain": [
       "<matplotlib.legend.Legend at 0x7ff66f322b90>"
      ]
     },
     "execution_count": 19,
     "metadata": {},
     "output_type": "execute_result"
    }
   ],
   "source": [
    "import matplotlib.pyplot as plt\n",
    "%matplotlib qt\n",
    "\n",
    "plt.plot(train_losses, label='train_losses')\n",
    "plt.plot(test_losses, label='test_losses')\n",
    "plt.legend()"
   ]
  },
  {
   "cell_type": "code",
   "execution_count": 20,
   "metadata": {},
   "outputs": [
    {
     "data": {
      "text/plain": [
       "<matplotlib.legend.Legend at 0x7ff66f3cbdc0>"
      ]
     },
     "execution_count": 20,
     "metadata": {},
     "output_type": "execute_result"
    }
   ],
   "source": [
    "import matplotlib.pyplot as plt\n",
    "%matplotlib qt\n",
    "\n",
    "plt.plot(train_accuracies, label='train_accuracy')\n",
    "plt.plot(test_accuracies, label='test_accuracy')\n",
    "plt.legend()"
   ]
  },
  {
   "cell_type": "code",
   "execution_count": null,
   "metadata": {},
   "outputs": [],
   "source": []
  }
 ],
 "metadata": {
  "accelerator": "GPU",
  "colab": {
   "gpuType": "T4",
   "provenance": []
  },
  "kernelspec": {
   "display_name": "Python 3 (ipykernel)",
   "language": "python",
   "name": "python3"
  },
  "language_info": {
   "codemirror_mode": {
    "name": "ipython",
    "version": 3
   },
   "file_extension": ".py",
   "mimetype": "text/x-python",
   "name": "python",
   "nbconvert_exporter": "python",
   "pygments_lexer": "ipython3",
   "version": "3.10.13"
  }
 },
 "nbformat": 4,
 "nbformat_minor": 4
}
