{
 "cells": [
  {
   "cell_type": "code",
   "execution_count": 1,
   "metadata": {},
   "outputs": [],
   "source": [
    "import torch\n",
    "import torch.nn as nn\n",
    "import torch.optim as optim\n",
    "import torchvision\n",
    "import torchvision.transforms as transforms\n",
    "\n",
    "# Check if GPU is available\n",
    "device = torch.device(\"cuda:0\" if torch.cuda.is_available() else \"cpu\")"
   ]
  },
  {
   "cell_type": "code",
   "execution_count": null,
   "metadata": {},
   "outputs": [],
   "source": []
  },
  {
   "cell_type": "markdown",
   "metadata": {},
   "source": [
    "#### Data"
   ]
  },
  {
   "cell_type": "code",
   "execution_count": 2,
   "metadata": {},
   "outputs": [],
   "source": [
    "# Load CFashionMNIST dataset\n",
    "transform = transforms.Compose([transforms.ToTensor(), transforms.Normalize((0.5,), (0.5,))])\n",
    "\n",
    "trainset = torchvision.datasets.FashionMNIST(root='data', train=True, download=True, transform=transform)\n",
    "trainloader = torch.utils.data.DataLoader(trainset, batch_size=1024, num_workers=10, shuffle=True)\n",
    "\n",
    "testset = torchvision.datasets.FashionMNIST(root='data', train=False, download=True, transform=transform)\n",
    "testloader = torch.utils.data.DataLoader(testset, batch_size=1024, num_workers=10, shuffle=False)"
   ]
  },
  {
   "cell_type": "code",
   "execution_count": 3,
   "metadata": {},
   "outputs": [
    {
     "data": {
      "image/png": "[encoded data removed]",
      "text/plain": [
       "<Figure size 640x480 with 1 Axes>"
      ]
     },
     "metadata": {},
     "output_type": "display_data"
    }
   ],
   "source": [
    "import matplotlib.pyplot as plt\n",
    "import numpy as np\n",
    "\n",
    "# Function to display the images\n",
    "def imshow(img):\n",
    "    img = img/2.0 + 0.5\n",
    "    np_img = img.numpy()\n",
    "    plt.imshow(np.transpose(np_img, (1, 2, 0)))\n",
    "    plt.show()\n",
    "\n",
    "for i, (images, labels) in enumerate(trainloader, 0):\n",
    "    # Plot some images\n",
    "    imshow(torchvision.utils.make_grid(images[:8]))  # Display 8 images from the batch\n",
    "    break"
   ]
  },
  {
   "cell_type": "code",
   "execution_count": null,
   "metadata": {},
   "outputs": [],
   "source": []
  },
  {
   "cell_type": "markdown",
   "metadata": {},
   "source": [
    "#### Model"
   ]
  },
  {
   "cell_type": "code",
   "execution_count": 4,
   "metadata": {},
   "outputs": [
    {
     "name": "stdout",
     "output_type": "stream",
     "text": [
      "Sequential(\n",
      "  (0): Flatten(start_dim=1, end_dim=-1)\n",
      "  (1): Linear(in_features=784, out_features=10, bias=True)\n",
      ")\n"
     ]
    }
   ],
   "source": [
    "model = nn.Sequential(\n",
    "    nn.Flatten(), \n",
    "    nn.Linear(784, 10)\n",
    ")\n",
    "model = model.to(device)\n",
    "\n",
    "print(model)"
   ]
  },
  {
   "cell_type": "code",
   "execution_count": 5,
   "metadata": {},
   "outputs": [
    {
     "name": "stdout",
     "output_type": "stream",
     "text": [
      "torch.Size([5, 10])\n"
     ]
    }
   ],
   "source": [
    "# Generating a random tensor\n",
    "input_tensor = torch.rand(5, 28, 28).to(device)\n",
    "\n",
    "# Feeding the tensor into the model\n",
    "output = model(input_tensor)\n",
    "print(output.shape)"
   ]
  },
  {
   "cell_type": "code",
   "execution_count": null,
   "metadata": {},
   "outputs": [],
   "source": []
  },
  {
   "cell_type": "markdown",
   "metadata": {},
   "source": [
    "#### Loss, Optimizer, and Evaluation Function"
   ]
  },
  {
   "cell_type": "code",
   "execution_count": 6,
   "metadata": {},
   "outputs": [],
   "source": [
    "criterion = nn.CrossEntropyLoss()\n",
    "optimizer = optim.SGD(model.parameters(), lr=0.01)"
   ]
  },
  {
   "cell_type": "code",
   "execution_count": 7,
   "metadata": {},
   "outputs": [],
   "source": [
    "# Function to compute loss and accuracy for test set\n",
    "def evaluate(model, testloader, criterion):\n",
    "    model.eval()\n",
    "    test_loss = 0.0\n",
    "    correct = 0\n",
    "    total = 0\n",
    "    with torch.no_grad():\n",
    "        for images, labels in testloader:\n",
    "            # Move inputs and labels to the device\n",
    "            images, labels = images.to(device), labels.to(device)\n",
    "\n",
    "            outputs = model(images)\n",
    "            loss = criterion(outputs, labels)\n",
    "            test_loss += loss.item()\n",
    "            \n",
    "            _, predicted = torch.max(outputs.data, 1)\n",
    "            total += labels.size(0)\n",
    "            correct += (predicted == labels).sum().item()\n",
    "\n",
    "    accuracy = 100 * correct / total\n",
    "    test_loss = test_loss / len(testloader)\n",
    "    return test_loss, accuracy"
   ]
  },
  {
   "cell_type": "code",
   "execution_count": 8,
   "metadata": {},
   "outputs": [
    {
     "name": "stdout",
     "output_type": "stream",
     "text": [
      "test_loss: 2.491034007072449\n",
      "test_accuracy: 10.89\n"
     ]
    }
   ],
   "source": [
    "test_loss, test_accuracy = evaluate(model, testloader, criterion)\n",
    "print(f'test_loss: {test_loss}')\n",
    "print(f'test_accuracy: {test_accuracy}')"
   ]
  },
  {
   "cell_type": "code",
   "execution_count": null,
   "metadata": {},
   "outputs": [],
   "source": []
  },
  {
   "cell_type": "markdown",
   "metadata": {},
   "source": [
    "#### Train"
   ]
  },
  {
   "cell_type": "code",
   "execution_count": 9,
   "metadata": {},
   "outputs": [],
   "source": [
    "# some parameter\n",
    "train_losses = []\n",
    "train_accuracies = []\n",
    "test_losses = []\n",
    "test_accuracies = []\n",
    "max_epoch = 400"
   ]
  },
  {
   "cell_type": "code",
   "execution_count": 10,
   "metadata": {
    "colab": {
     "base_uri": "https://localhost:8080/"
    },
    "id": "tYwXeSOOF_4Z",
    "outputId": "a4c62a4a-267f-4101-ce96-662cc23cdbe0"
   },
   "outputs": [
    {
     "name": "stdout",
     "output_type": "stream",
     "text": [
      "Epoch [1/400], Loss: 1.3528, Accuracy: 60.89%, Test Loss: 0.9772, Test Accuracy: 71.08%\n",
      "Epoch [2/400], Loss: 0.8690, Accuracy: 73.65%, Test Loss: 0.8123, Test Accuracy: 73.77%\n",
      "Epoch [3/400], Loss: 0.7599, Accuracy: 75.62%, Test Loss: 0.7434, Test Accuracy: 75.28%\n",
      "Epoch [4/400], Loss: 0.7049, Accuracy: 76.86%, Test Loss: 0.7018, Test Accuracy: 76.14%\n",
      "Epoch [5/400], Loss: 0.6700, Accuracy: 77.78%, Test Loss: 0.6733, Test Accuracy: 77.00%\n",
      "Epoch [6/400], Loss: 0.6446, Accuracy: 78.40%, Test Loss: 0.6523, Test Accuracy: 77.65%\n",
      "Epoch [7/400], Loss: 0.6252, Accuracy: 78.94%, Test Loss: 0.6361, Test Accuracy: 78.20%\n",
      "Epoch [8/400], Loss: 0.6096, Accuracy: 79.42%, Test Loss: 0.6227, Test Accuracy: 78.70%\n",
      "Epoch [9/400], Loss: 0.5964, Accuracy: 79.89%, Test Loss: 0.6110, Test Accuracy: 79.05%\n",
      "Epoch [10/400], Loss: 0.5856, Accuracy: 80.14%, Test Loss: 0.6018, Test Accuracy: 79.29%\n",
      "Epoch [11/400], Loss: 0.5760, Accuracy: 80.48%, Test Loss: 0.5932, Test Accuracy: 79.54%\n",
      "Epoch [12/400], Loss: 0.5679, Accuracy: 80.72%, Test Loss: 0.5866, Test Accuracy: 79.99%\n",
      "Epoch [13/400], Loss: 0.5603, Accuracy: 80.95%, Test Loss: 0.5794, Test Accuracy: 80.10%\n",
      "Epoch [14/400], Loss: 0.5535, Accuracy: 81.14%, Test Loss: 0.5736, Test Accuracy: 80.13%\n",
      "Epoch [15/400], Loss: 0.5478, Accuracy: 81.34%, Test Loss: 0.5686, Test Accuracy: 80.33%\n",
      "Epoch [16/400], Loss: 0.5424, Accuracy: 81.47%, Test Loss: 0.5639, Test Accuracy: 80.53%\n",
      "Epoch [17/400], Loss: 0.5377, Accuracy: 81.63%, Test Loss: 0.5595, Test Accuracy: 80.65%\n",
      "Epoch [18/400], Loss: 0.5330, Accuracy: 81.80%, Test Loss: 0.5556, Test Accuracy: 80.72%\n",
      "Epoch [19/400], Loss: 0.5292, Accuracy: 82.00%, Test Loss: 0.5520, Test Accuracy: 80.75%\n",
      "Epoch [20/400], Loss: 0.5252, Accuracy: 82.10%, Test Loss: 0.5481, Test Accuracy: 80.84%\n",
      "Epoch [21/400], Loss: 0.5214, Accuracy: 82.22%, Test Loss: 0.5455, Test Accuracy: 80.98%\n",
      "Epoch [22/400], Loss: 0.5183, Accuracy: 82.32%, Test Loss: 0.5424, Test Accuracy: 81.16%\n",
      "Epoch [23/400], Loss: 0.5149, Accuracy: 82.45%, Test Loss: 0.5396, Test Accuracy: 81.07%\n",
      "Epoch [24/400], Loss: 0.5125, Accuracy: 82.49%, Test Loss: 0.5368, Test Accuracy: 81.39%\n",
      "Epoch [25/400], Loss: 0.5095, Accuracy: 82.64%, Test Loss: 0.5348, Test Accuracy: 81.22%\n",
      "Epoch [26/400], Loss: 0.5062, Accuracy: 82.69%, Test Loss: 0.5320, Test Accuracy: 81.37%\n",
      "Epoch [27/400], Loss: 0.5043, Accuracy: 82.81%, Test Loss: 0.5301, Test Accuracy: 81.37%\n",
      "Epoch [28/400], Loss: 0.5021, Accuracy: 82.92%, Test Loss: 0.5280, Test Accuracy: 81.50%\n",
      "Epoch [29/400], Loss: 0.4997, Accuracy: 82.89%, Test Loss: 0.5259, Test Accuracy: 81.54%\n",
      "Epoch [30/400], Loss: 0.4974, Accuracy: 83.03%, Test Loss: 0.5240, Test Accuracy: 81.63%\n",
      "Epoch [31/400], Loss: 0.4954, Accuracy: 83.11%, Test Loss: 0.5221, Test Accuracy: 81.65%\n",
      "Epoch [32/400], Loss: 0.4935, Accuracy: 83.21%, Test Loss: 0.5206, Test Accuracy: 81.79%\n",
      "Epoch [33/400], Loss: 0.4913, Accuracy: 83.20%, Test Loss: 0.5189, Test Accuracy: 81.89%\n",
      "Epoch [34/400], Loss: 0.4900, Accuracy: 83.33%, Test Loss: 0.5172, Test Accuracy: 81.93%\n",
      "Epoch [35/400], Loss: 0.4883, Accuracy: 83.35%, Test Loss: 0.5158, Test Accuracy: 81.87%\n",
      "Epoch [36/400], Loss: 0.4867, Accuracy: 83.38%, Test Loss: 0.5146, Test Accuracy: 82.13%\n",
      "Epoch [37/400], Loss: 0.4846, Accuracy: 83.48%, Test Loss: 0.5131, Test Accuracy: 82.08%\n",
      "Epoch [38/400], Loss: 0.4833, Accuracy: 83.49%, Test Loss: 0.5117, Test Accuracy: 82.12%\n",
      "Epoch [39/400], Loss: 0.4816, Accuracy: 83.51%, Test Loss: 0.5106, Test Accuracy: 82.14%\n",
      "Epoch [40/400], Loss: 0.4805, Accuracy: 83.64%, Test Loss: 0.5091, Test Accuracy: 82.22%\n",
      "Epoch [41/400], Loss: 0.4791, Accuracy: 83.61%, Test Loss: 0.5083, Test Accuracy: 82.26%\n",
      "Epoch [42/400], Loss: 0.4777, Accuracy: 83.72%, Test Loss: 0.5068, Test Accuracy: 82.27%\n",
      "Epoch [43/400], Loss: 0.4766, Accuracy: 83.74%, Test Loss: 0.5059, Test Accuracy: 82.29%\n",
      "Epoch [44/400], Loss: 0.4754, Accuracy: 83.78%, Test Loss: 0.5047, Test Accuracy: 82.29%\n",
      "Epoch [45/400], Loss: 0.4740, Accuracy: 83.82%, Test Loss: 0.5036, Test Accuracy: 82.19%\n",
      "Epoch [46/400], Loss: 0.4731, Accuracy: 83.84%, Test Loss: 0.5025, Test Accuracy: 82.25%\n",
      "Epoch [47/400], Loss: 0.4720, Accuracy: 83.87%, Test Loss: 0.5018, Test Accuracy: 82.43%\n",
      "Epoch [48/400], Loss: 0.4707, Accuracy: 83.92%, Test Loss: 0.5009, Test Accuracy: 82.50%\n",
      "Epoch [49/400], Loss: 0.4694, Accuracy: 83.97%, Test Loss: 0.4999, Test Accuracy: 82.56%\n",
      "Epoch [50/400], Loss: 0.4688, Accuracy: 84.02%, Test Loss: 0.4988, Test Accuracy: 82.45%\n",
      "Epoch [51/400], Loss: 0.4677, Accuracy: 84.03%, Test Loss: 0.4979, Test Accuracy: 82.56%\n",
      "Epoch [52/400], Loss: 0.4666, Accuracy: 84.08%, Test Loss: 0.4975, Test Accuracy: 82.62%\n",
      "Epoch [53/400], Loss: 0.4655, Accuracy: 84.13%, Test Loss: 0.4962, Test Accuracy: 82.61%\n",
      "Epoch [54/400], Loss: 0.4647, Accuracy: 84.09%, Test Loss: 0.4956, Test Accuracy: 82.61%\n",
      "Epoch [55/400], Loss: 0.4637, Accuracy: 84.17%, Test Loss: 0.4948, Test Accuracy: 82.67%\n",
      "Epoch [56/400], Loss: 0.4630, Accuracy: 84.15%, Test Loss: 0.4946, Test Accuracy: 82.64%\n",
      "Epoch [57/400], Loss: 0.4628, Accuracy: 84.21%, Test Loss: 0.4934, Test Accuracy: 82.65%\n",
      "Epoch [58/400], Loss: 0.4613, Accuracy: 84.28%, Test Loss: 0.4926, Test Accuracy: 82.69%\n",
      "Epoch [59/400], Loss: 0.4604, Accuracy: 84.31%, Test Loss: 0.4918, Test Accuracy: 82.77%\n",
      "Epoch [60/400], Loss: 0.4598, Accuracy: 84.33%, Test Loss: 0.4913, Test Accuracy: 82.76%\n",
      "Epoch [61/400], Loss: 0.4591, Accuracy: 84.33%, Test Loss: 0.4905, Test Accuracy: 82.69%\n",
      "Epoch [62/400], Loss: 0.4579, Accuracy: 84.35%, Test Loss: 0.4902, Test Accuracy: 82.86%\n",
      "Epoch [63/400], Loss: 0.4574, Accuracy: 84.44%, Test Loss: 0.4896, Test Accuracy: 82.81%\n",
      "Epoch [64/400], Loss: 0.4568, Accuracy: 84.45%, Test Loss: 0.4888, Test Accuracy: 82.89%\n",
      "Epoch [65/400], Loss: 0.4560, Accuracy: 84.41%, Test Loss: 0.4881, Test Accuracy: 82.94%\n",
      "Epoch [66/400], Loss: 0.4551, Accuracy: 84.49%, Test Loss: 0.4876, Test Accuracy: 82.82%\n",
      "Epoch [67/400], Loss: 0.4551, Accuracy: 84.48%, Test Loss: 0.4869, Test Accuracy: 82.86%\n",
      "Epoch [68/400], Loss: 0.4536, Accuracy: 84.54%, Test Loss: 0.4866, Test Accuracy: 82.95%\n",
      "Epoch [69/400], Loss: 0.4533, Accuracy: 84.58%, Test Loss: 0.4860, Test Accuracy: 82.99%\n",
      "Epoch [70/400], Loss: 0.4525, Accuracy: 84.56%, Test Loss: 0.4852, Test Accuracy: 82.99%\n",
      "Epoch [71/400], Loss: 0.4516, Accuracy: 84.59%, Test Loss: 0.4848, Test Accuracy: 82.96%\n",
      "Epoch [72/400], Loss: 0.4516, Accuracy: 84.61%, Test Loss: 0.4842, Test Accuracy: 82.99%\n",
      "Epoch [73/400], Loss: 0.4504, Accuracy: 84.60%, Test Loss: 0.4838, Test Accuracy: 83.01%\n",
      "Epoch [74/400], Loss: 0.4503, Accuracy: 84.69%, Test Loss: 0.4834, Test Accuracy: 83.10%\n",
      "Epoch [75/400], Loss: 0.4499, Accuracy: 84.69%, Test Loss: 0.4829, Test Accuracy: 82.97%\n",
      "Epoch [76/400], Loss: 0.4493, Accuracy: 84.67%, Test Loss: 0.4825, Test Accuracy: 83.05%\n",
      "Epoch [77/400], Loss: 0.4486, Accuracy: 84.74%, Test Loss: 0.4821, Test Accuracy: 83.21%\n",
      "Epoch [78/400], Loss: 0.4476, Accuracy: 84.74%, Test Loss: 0.4811, Test Accuracy: 83.04%\n",
      "Epoch [79/400], Loss: 0.4471, Accuracy: 84.77%, Test Loss: 0.4810, Test Accuracy: 83.12%\n",
      "Epoch [80/400], Loss: 0.4471, Accuracy: 84.77%, Test Loss: 0.4807, Test Accuracy: 83.08%\n",
      "Epoch [81/400], Loss: 0.4467, Accuracy: 84.80%, Test Loss: 0.4803, Test Accuracy: 83.18%\n",
      "Epoch [82/400], Loss: 0.4463, Accuracy: 84.79%, Test Loss: 0.4803, Test Accuracy: 82.95%\n",
      "Epoch [83/400], Loss: 0.4455, Accuracy: 84.82%, Test Loss: 0.4796, Test Accuracy: 83.10%\n",
      "Epoch [84/400], Loss: 0.4450, Accuracy: 84.86%, Test Loss: 0.4790, Test Accuracy: 83.05%\n",
      "Epoch [85/400], Loss: 0.4442, Accuracy: 84.89%, Test Loss: 0.4784, Test Accuracy: 83.10%\n",
      "Epoch [86/400], Loss: 0.4440, Accuracy: 84.83%, Test Loss: 0.4779, Test Accuracy: 83.19%\n",
      "Epoch [87/400], Loss: 0.4435, Accuracy: 84.88%, Test Loss: 0.4781, Test Accuracy: 83.20%\n",
      "Epoch [88/400], Loss: 0.4429, Accuracy: 84.93%, Test Loss: 0.4773, Test Accuracy: 83.18%\n",
      "Epoch [89/400], Loss: 0.4425, Accuracy: 84.93%, Test Loss: 0.4769, Test Accuracy: 83.29%\n",
      "Epoch [90/400], Loss: 0.4421, Accuracy: 84.90%, Test Loss: 0.4768, Test Accuracy: 83.13%\n",
      "Epoch [91/400], Loss: 0.4417, Accuracy: 84.99%, Test Loss: 0.4761, Test Accuracy: 83.23%\n",
      "Epoch [92/400], Loss: 0.4414, Accuracy: 84.96%, Test Loss: 0.4758, Test Accuracy: 83.25%\n",
      "Epoch [93/400], Loss: 0.4407, Accuracy: 85.00%, Test Loss: 0.4757, Test Accuracy: 83.26%\n",
      "Epoch [94/400], Loss: 0.4399, Accuracy: 84.98%, Test Loss: 0.4752, Test Accuracy: 83.17%\n",
      "Epoch [95/400], Loss: 0.4396, Accuracy: 85.00%, Test Loss: 0.4749, Test Accuracy: 83.38%\n",
      "Epoch [96/400], Loss: 0.4395, Accuracy: 85.00%, Test Loss: 0.4744, Test Accuracy: 83.27%\n",
      "Epoch [97/400], Loss: 0.4392, Accuracy: 85.00%, Test Loss: 0.4741, Test Accuracy: 83.37%\n",
      "Epoch [98/400], Loss: 0.4389, Accuracy: 85.03%, Test Loss: 0.4739, Test Accuracy: 83.28%\n",
      "Epoch [99/400], Loss: 0.4386, Accuracy: 85.09%, Test Loss: 0.4736, Test Accuracy: 83.33%\n",
      "Epoch [100/400], Loss: 0.4378, Accuracy: 85.07%, Test Loss: 0.4731, Test Accuracy: 83.22%\n",
      "Epoch [101/400], Loss: 0.4377, Accuracy: 85.09%, Test Loss: 0.4729, Test Accuracy: 83.31%\n",
      "Epoch [102/400], Loss: 0.4371, Accuracy: 85.08%, Test Loss: 0.4726, Test Accuracy: 83.37%\n",
      "Epoch [103/400], Loss: 0.4367, Accuracy: 85.09%, Test Loss: 0.4723, Test Accuracy: 83.35%\n",
      "Epoch [104/400], Loss: 0.4367, Accuracy: 85.10%, Test Loss: 0.4721, Test Accuracy: 83.45%\n",
      "Epoch [105/400], Loss: 0.4363, Accuracy: 85.12%, Test Loss: 0.4717, Test Accuracy: 83.49%\n",
      "Epoch [106/400], Loss: 0.4358, Accuracy: 85.14%, Test Loss: 0.4714, Test Accuracy: 83.41%\n",
      "Epoch [107/400], Loss: 0.4357, Accuracy: 85.14%, Test Loss: 0.4712, Test Accuracy: 83.41%\n",
      "Epoch [108/400], Loss: 0.4353, Accuracy: 85.19%, Test Loss: 0.4709, Test Accuracy: 83.41%\n",
      "Epoch [109/400], Loss: 0.4346, Accuracy: 85.17%, Test Loss: 0.4707, Test Accuracy: 83.35%\n",
      "Epoch [110/400], Loss: 0.4346, Accuracy: 85.15%, Test Loss: 0.4703, Test Accuracy: 83.44%\n",
      "Epoch [111/400], Loss: 0.4338, Accuracy: 85.17%, Test Loss: 0.4702, Test Accuracy: 83.49%\n",
      "Epoch [112/400], Loss: 0.4337, Accuracy: 85.20%, Test Loss: 0.4698, Test Accuracy: 83.45%\n",
      "Epoch [113/400], Loss: 0.4333, Accuracy: 85.18%, Test Loss: 0.4694, Test Accuracy: 83.50%\n",
      "Epoch [114/400], Loss: 0.4328, Accuracy: 85.21%, Test Loss: 0.4691, Test Accuracy: 83.46%\n",
      "Epoch [115/400], Loss: 0.4329, Accuracy: 85.19%, Test Loss: 0.4689, Test Accuracy: 83.37%\n",
      "Epoch [116/400], Loss: 0.4325, Accuracy: 85.23%, Test Loss: 0.4687, Test Accuracy: 83.46%\n",
      "Epoch [117/400], Loss: 0.4319, Accuracy: 85.23%, Test Loss: 0.4686, Test Accuracy: 83.50%\n",
      "Epoch [118/400], Loss: 0.4316, Accuracy: 85.27%, Test Loss: 0.4683, Test Accuracy: 83.54%\n",
      "Epoch [119/400], Loss: 0.4314, Accuracy: 85.25%, Test Loss: 0.4680, Test Accuracy: 83.49%\n",
      "Epoch [120/400], Loss: 0.4310, Accuracy: 85.25%, Test Loss: 0.4681, Test Accuracy: 83.58%\n",
      "Epoch [121/400], Loss: 0.4310, Accuracy: 85.27%, Test Loss: 0.4676, Test Accuracy: 83.55%\n",
      "Epoch [122/400], Loss: 0.4304, Accuracy: 85.29%, Test Loss: 0.4673, Test Accuracy: 83.48%\n",
      "Epoch [123/400], Loss: 0.4303, Accuracy: 85.28%, Test Loss: 0.4673, Test Accuracy: 83.49%\n",
      "Epoch [124/400], Loss: 0.4298, Accuracy: 85.30%, Test Loss: 0.4668, Test Accuracy: 83.46%\n",
      "Epoch [125/400], Loss: 0.4299, Accuracy: 85.28%, Test Loss: 0.4669, Test Accuracy: 83.54%\n",
      "Epoch [126/400], Loss: 0.4294, Accuracy: 85.31%, Test Loss: 0.4663, Test Accuracy: 83.59%\n",
      "Epoch [127/400], Loss: 0.4290, Accuracy: 85.31%, Test Loss: 0.4661, Test Accuracy: 83.49%\n",
      "Epoch [128/400], Loss: 0.4290, Accuracy: 85.30%, Test Loss: 0.4660, Test Accuracy: 83.66%\n",
      "Epoch [129/400], Loss: 0.4285, Accuracy: 85.35%, Test Loss: 0.4658, Test Accuracy: 83.62%\n",
      "Epoch [130/400], Loss: 0.4283, Accuracy: 85.36%, Test Loss: 0.4658, Test Accuracy: 83.60%\n",
      "Epoch [131/400], Loss: 0.4283, Accuracy: 85.39%, Test Loss: 0.4653, Test Accuracy: 83.63%\n",
      "Epoch [132/400], Loss: 0.4277, Accuracy: 85.32%, Test Loss: 0.4654, Test Accuracy: 83.60%\n",
      "Epoch [133/400], Loss: 0.4274, Accuracy: 85.35%, Test Loss: 0.4652, Test Accuracy: 83.64%\n",
      "Epoch [134/400], Loss: 0.4274, Accuracy: 85.37%, Test Loss: 0.4647, Test Accuracy: 83.62%\n",
      "Epoch [135/400], Loss: 0.4278, Accuracy: 85.39%, Test Loss: 0.4647, Test Accuracy: 83.63%\n",
      "Epoch [136/400], Loss: 0.4263, Accuracy: 85.42%, Test Loss: 0.4643, Test Accuracy: 83.64%\n",
      "Epoch [137/400], Loss: 0.4265, Accuracy: 85.38%, Test Loss: 0.4649, Test Accuracy: 83.65%\n",
      "Epoch [138/400], Loss: 0.4264, Accuracy: 85.39%, Test Loss: 0.4640, Test Accuracy: 83.68%\n",
      "Epoch [139/400], Loss: 0.4263, Accuracy: 85.36%, Test Loss: 0.4640, Test Accuracy: 83.67%\n",
      "Epoch [140/400], Loss: 0.4259, Accuracy: 85.41%, Test Loss: 0.4638, Test Accuracy: 83.69%\n",
      "Epoch [141/400], Loss: 0.4255, Accuracy: 85.44%, Test Loss: 0.4638, Test Accuracy: 83.52%\n",
      "Epoch [142/400], Loss: 0.4252, Accuracy: 85.44%, Test Loss: 0.4634, Test Accuracy: 83.70%\n",
      "Epoch [143/400], Loss: 0.4253, Accuracy: 85.42%, Test Loss: 0.4631, Test Accuracy: 83.63%\n",
      "Epoch [144/400], Loss: 0.4248, Accuracy: 85.42%, Test Loss: 0.4631, Test Accuracy: 83.68%\n",
      "Epoch [145/400], Loss: 0.4244, Accuracy: 85.46%, Test Loss: 0.4626, Test Accuracy: 83.62%\n",
      "Epoch [146/400], Loss: 0.4244, Accuracy: 85.47%, Test Loss: 0.4625, Test Accuracy: 83.71%\n",
      "Epoch [147/400], Loss: 0.4244, Accuracy: 85.48%, Test Loss: 0.4624, Test Accuracy: 83.66%\n",
      "Epoch [148/400], Loss: 0.4242, Accuracy: 85.48%, Test Loss: 0.4626, Test Accuracy: 83.70%\n",
      "Epoch [149/400], Loss: 0.4237, Accuracy: 85.47%, Test Loss: 0.4620, Test Accuracy: 83.70%\n",
      "Epoch [150/400], Loss: 0.4234, Accuracy: 85.51%, Test Loss: 0.4618, Test Accuracy: 83.75%\n",
      "Epoch [151/400], Loss: 0.4229, Accuracy: 85.51%, Test Loss: 0.4618, Test Accuracy: 83.74%\n",
      "Epoch [152/400], Loss: 0.4233, Accuracy: 85.52%, Test Loss: 0.4618, Test Accuracy: 83.79%\n",
      "Epoch [153/400], Loss: 0.4228, Accuracy: 85.54%, Test Loss: 0.4614, Test Accuracy: 83.77%\n",
      "Epoch [154/400], Loss: 0.4226, Accuracy: 85.55%, Test Loss: 0.4613, Test Accuracy: 83.72%\n",
      "Epoch [155/400], Loss: 0.4225, Accuracy: 85.53%, Test Loss: 0.4612, Test Accuracy: 83.81%\n",
      "Epoch [156/400], Loss: 0.4221, Accuracy: 85.56%, Test Loss: 0.4610, Test Accuracy: 83.76%\n",
      "Epoch [157/400], Loss: 0.4220, Accuracy: 85.58%, Test Loss: 0.4606, Test Accuracy: 83.79%\n",
      "Epoch [158/400], Loss: 0.4218, Accuracy: 85.56%, Test Loss: 0.4605, Test Accuracy: 83.76%\n",
      "Epoch [159/400], Loss: 0.4216, Accuracy: 85.53%, Test Loss: 0.4603, Test Accuracy: 83.79%\n",
      "Epoch [160/400], Loss: 0.4214, Accuracy: 85.56%, Test Loss: 0.4604, Test Accuracy: 83.72%\n",
      "Epoch [161/400], Loss: 0.4211, Accuracy: 85.60%, Test Loss: 0.4600, Test Accuracy: 83.82%\n",
      "Epoch [162/400], Loss: 0.4208, Accuracy: 85.57%, Test Loss: 0.4600, Test Accuracy: 83.82%\n",
      "Epoch [163/400], Loss: 0.4203, Accuracy: 85.59%, Test Loss: 0.4600, Test Accuracy: 83.74%\n",
      "Epoch [164/400], Loss: 0.4208, Accuracy: 85.61%, Test Loss: 0.4595, Test Accuracy: 83.79%\n",
      "Epoch [165/400], Loss: 0.4202, Accuracy: 85.61%, Test Loss: 0.4598, Test Accuracy: 83.92%\n",
      "Epoch [166/400], Loss: 0.4200, Accuracy: 85.59%, Test Loss: 0.4595, Test Accuracy: 83.77%\n",
      "Epoch [167/400], Loss: 0.4202, Accuracy: 85.63%, Test Loss: 0.4593, Test Accuracy: 83.85%\n",
      "Epoch [168/400], Loss: 0.4199, Accuracy: 85.61%, Test Loss: 0.4594, Test Accuracy: 83.84%\n",
      "Epoch [169/400], Loss: 0.4195, Accuracy: 85.63%, Test Loss: 0.4592, Test Accuracy: 83.82%\n",
      "Epoch [170/400], Loss: 0.4196, Accuracy: 85.68%, Test Loss: 0.4588, Test Accuracy: 83.81%\n",
      "Epoch [171/400], Loss: 0.4195, Accuracy: 85.60%, Test Loss: 0.4588, Test Accuracy: 83.77%\n",
      "Epoch [172/400], Loss: 0.4189, Accuracy: 85.66%, Test Loss: 0.4586, Test Accuracy: 83.87%\n",
      "Epoch [173/400], Loss: 0.4189, Accuracy: 85.66%, Test Loss: 0.4586, Test Accuracy: 83.84%\n",
      "Epoch [174/400], Loss: 0.4192, Accuracy: 85.67%, Test Loss: 0.4584, Test Accuracy: 83.86%\n",
      "Epoch [175/400], Loss: 0.4186, Accuracy: 85.67%, Test Loss: 0.4583, Test Accuracy: 83.92%\n",
      "Epoch [176/400], Loss: 0.4181, Accuracy: 85.67%, Test Loss: 0.4580, Test Accuracy: 83.82%\n",
      "Epoch [177/400], Loss: 0.4181, Accuracy: 85.64%, Test Loss: 0.4583, Test Accuracy: 83.83%\n",
      "Epoch [178/400], Loss: 0.4181, Accuracy: 85.68%, Test Loss: 0.4577, Test Accuracy: 83.83%\n",
      "Epoch [179/400], Loss: 0.4174, Accuracy: 85.72%, Test Loss: 0.4578, Test Accuracy: 83.84%\n",
      "Epoch [180/400], Loss: 0.4176, Accuracy: 85.70%, Test Loss: 0.4574, Test Accuracy: 83.90%\n",
      "Epoch [181/400], Loss: 0.4175, Accuracy: 85.70%, Test Loss: 0.4575, Test Accuracy: 83.82%\n",
      "Epoch [182/400], Loss: 0.4175, Accuracy: 85.68%, Test Loss: 0.4575, Test Accuracy: 83.86%\n",
      "Epoch [183/400], Loss: 0.4172, Accuracy: 85.75%, Test Loss: 0.4573, Test Accuracy: 83.87%\n",
      "Epoch [184/400], Loss: 0.4171, Accuracy: 85.73%, Test Loss: 0.4571, Test Accuracy: 83.85%\n",
      "Epoch [185/400], Loss: 0.4170, Accuracy: 85.69%, Test Loss: 0.4571, Test Accuracy: 83.84%\n",
      "Epoch [186/400], Loss: 0.4164, Accuracy: 85.77%, Test Loss: 0.4568, Test Accuracy: 83.86%\n",
      "Epoch [187/400], Loss: 0.4164, Accuracy: 85.74%, Test Loss: 0.4571, Test Accuracy: 83.86%\n",
      "Epoch [188/400], Loss: 0.4162, Accuracy: 85.75%, Test Loss: 0.4567, Test Accuracy: 83.87%\n",
      "Epoch [189/400], Loss: 0.4161, Accuracy: 85.74%, Test Loss: 0.4566, Test Accuracy: 83.94%\n",
      "Epoch [190/400], Loss: 0.4165, Accuracy: 85.78%, Test Loss: 0.4564, Test Accuracy: 83.85%\n",
      "Epoch [191/400], Loss: 0.4159, Accuracy: 85.77%, Test Loss: 0.4562, Test Accuracy: 83.88%\n",
      "Epoch [192/400], Loss: 0.4160, Accuracy: 85.77%, Test Loss: 0.4562, Test Accuracy: 83.93%\n",
      "Epoch [193/400], Loss: 0.4156, Accuracy: 85.73%, Test Loss: 0.4561, Test Accuracy: 83.91%\n",
      "Epoch [194/400], Loss: 0.4152, Accuracy: 85.78%, Test Loss: 0.4559, Test Accuracy: 83.91%\n",
      "Epoch [195/400], Loss: 0.4150, Accuracy: 85.80%, Test Loss: 0.4560, Test Accuracy: 83.83%\n",
      "Epoch [196/400], Loss: 0.4151, Accuracy: 85.79%, Test Loss: 0.4557, Test Accuracy: 83.95%\n",
      "Epoch [197/400], Loss: 0.4148, Accuracy: 85.78%, Test Loss: 0.4557, Test Accuracy: 83.86%\n",
      "Epoch [198/400], Loss: 0.4143, Accuracy: 85.78%, Test Loss: 0.4555, Test Accuracy: 83.90%\n",
      "Epoch [199/400], Loss: 0.4145, Accuracy: 85.79%, Test Loss: 0.4553, Test Accuracy: 83.87%\n",
      "Epoch [200/400], Loss: 0.4142, Accuracy: 85.81%, Test Loss: 0.4555, Test Accuracy: 83.94%\n",
      "Epoch [201/400], Loss: 0.4143, Accuracy: 85.81%, Test Loss: 0.4551, Test Accuracy: 83.89%\n",
      "Epoch [202/400], Loss: 0.4141, Accuracy: 85.84%, Test Loss: 0.4550, Test Accuracy: 83.90%\n",
      "Epoch [203/400], Loss: 0.4135, Accuracy: 85.84%, Test Loss: 0.4552, Test Accuracy: 83.92%\n",
      "Epoch [204/400], Loss: 0.4138, Accuracy: 85.80%, Test Loss: 0.4552, Test Accuracy: 83.95%\n",
      "Epoch [205/400], Loss: 0.4136, Accuracy: 85.86%, Test Loss: 0.4546, Test Accuracy: 83.89%\n",
      "Epoch [206/400], Loss: 0.4137, Accuracy: 85.83%, Test Loss: 0.4546, Test Accuracy: 83.91%\n",
      "Epoch [207/400], Loss: 0.4133, Accuracy: 85.86%, Test Loss: 0.4547, Test Accuracy: 83.89%\n",
      "Epoch [208/400], Loss: 0.4136, Accuracy: 85.85%, Test Loss: 0.4543, Test Accuracy: 83.91%\n",
      "Epoch [209/400], Loss: 0.4129, Accuracy: 85.87%, Test Loss: 0.4543, Test Accuracy: 83.89%\n",
      "Epoch [210/400], Loss: 0.4130, Accuracy: 85.85%, Test Loss: 0.4542, Test Accuracy: 83.94%\n",
      "Epoch [211/400], Loss: 0.4124, Accuracy: 85.87%, Test Loss: 0.4544, Test Accuracy: 83.93%\n",
      "Epoch [212/400], Loss: 0.4127, Accuracy: 85.89%, Test Loss: 0.4540, Test Accuracy: 83.96%\n",
      "Epoch [213/400], Loss: 0.4125, Accuracy: 85.87%, Test Loss: 0.4539, Test Accuracy: 83.99%\n",
      "Epoch [214/400], Loss: 0.4124, Accuracy: 85.89%, Test Loss: 0.4540, Test Accuracy: 83.93%\n",
      "Epoch [215/400], Loss: 0.4124, Accuracy: 85.89%, Test Loss: 0.4538, Test Accuracy: 83.91%\n",
      "Epoch [216/400], Loss: 0.4122, Accuracy: 85.91%, Test Loss: 0.4535, Test Accuracy: 83.94%\n",
      "Epoch [217/400], Loss: 0.4117, Accuracy: 85.90%, Test Loss: 0.4534, Test Accuracy: 83.91%\n",
      "Epoch [218/400], Loss: 0.4115, Accuracy: 85.90%, Test Loss: 0.4538, Test Accuracy: 83.95%\n",
      "Epoch [219/400], Loss: 0.4118, Accuracy: 85.87%, Test Loss: 0.4534, Test Accuracy: 83.94%\n",
      "Epoch [220/400], Loss: 0.4118, Accuracy: 85.90%, Test Loss: 0.4532, Test Accuracy: 83.98%\n",
      "Epoch [221/400], Loss: 0.4115, Accuracy: 85.89%, Test Loss: 0.4530, Test Accuracy: 83.93%\n",
      "Epoch [222/400], Loss: 0.4112, Accuracy: 85.87%, Test Loss: 0.4532, Test Accuracy: 84.01%\n",
      "Epoch [223/400], Loss: 0.4109, Accuracy: 85.90%, Test Loss: 0.4529, Test Accuracy: 83.94%\n",
      "Epoch [224/400], Loss: 0.4111, Accuracy: 85.95%, Test Loss: 0.4530, Test Accuracy: 83.91%\n",
      "Epoch [225/400], Loss: 0.4110, Accuracy: 85.91%, Test Loss: 0.4531, Test Accuracy: 84.07%\n",
      "Epoch [226/400], Loss: 0.4109, Accuracy: 85.93%, Test Loss: 0.4529, Test Accuracy: 84.02%\n",
      "Epoch [227/400], Loss: 0.4110, Accuracy: 85.93%, Test Loss: 0.4528, Test Accuracy: 83.96%\n",
      "Epoch [228/400], Loss: 0.4106, Accuracy: 85.95%, Test Loss: 0.4527, Test Accuracy: 83.94%\n",
      "Epoch [229/400], Loss: 0.4105, Accuracy: 85.94%, Test Loss: 0.4524, Test Accuracy: 83.98%\n",
      "Epoch [230/400], Loss: 0.4104, Accuracy: 85.94%, Test Loss: 0.4526, Test Accuracy: 83.98%\n",
      "Epoch [231/400], Loss: 0.4103, Accuracy: 85.95%, Test Loss: 0.4524, Test Accuracy: 83.99%\n",
      "Epoch [232/400], Loss: 0.4100, Accuracy: 85.92%, Test Loss: 0.4524, Test Accuracy: 83.96%\n",
      "Epoch [233/400], Loss: 0.4103, Accuracy: 85.98%, Test Loss: 0.4526, Test Accuracy: 83.89%\n",
      "Epoch [234/400], Loss: 0.4104, Accuracy: 85.97%, Test Loss: 0.4521, Test Accuracy: 83.99%\n",
      "Epoch [235/400], Loss: 0.4094, Accuracy: 85.97%, Test Loss: 0.4521, Test Accuracy: 83.97%\n",
      "Epoch [236/400], Loss: 0.4095, Accuracy: 85.96%, Test Loss: 0.4519, Test Accuracy: 83.96%\n",
      "Epoch [237/400], Loss: 0.4092, Accuracy: 86.01%, Test Loss: 0.4516, Test Accuracy: 83.97%\n",
      "Epoch [238/400], Loss: 0.4094, Accuracy: 85.98%, Test Loss: 0.4518, Test Accuracy: 84.05%\n",
      "Epoch [239/400], Loss: 0.4091, Accuracy: 85.99%, Test Loss: 0.4517, Test Accuracy: 83.96%\n",
      "Epoch [240/400], Loss: 0.4092, Accuracy: 86.02%, Test Loss: 0.4516, Test Accuracy: 83.93%\n",
      "Epoch [241/400], Loss: 0.4091, Accuracy: 85.95%, Test Loss: 0.4515, Test Accuracy: 84.02%\n",
      "Epoch [242/400], Loss: 0.4091, Accuracy: 86.03%, Test Loss: 0.4515, Test Accuracy: 83.97%\n",
      "Epoch [243/400], Loss: 0.4087, Accuracy: 86.00%, Test Loss: 0.4516, Test Accuracy: 84.02%\n",
      "Epoch [244/400], Loss: 0.4090, Accuracy: 86.06%, Test Loss: 0.4512, Test Accuracy: 84.08%\n",
      "Epoch [245/400], Loss: 0.4085, Accuracy: 85.97%, Test Loss: 0.4513, Test Accuracy: 84.08%\n",
      "Epoch [246/400], Loss: 0.4086, Accuracy: 85.99%, Test Loss: 0.4512, Test Accuracy: 84.06%\n",
      "Epoch [247/400], Loss: 0.4081, Accuracy: 86.00%, Test Loss: 0.4512, Test Accuracy: 84.05%\n",
      "Epoch [248/400], Loss: 0.4080, Accuracy: 86.02%, Test Loss: 0.4509, Test Accuracy: 83.99%\n",
      "Epoch [249/400], Loss: 0.4086, Accuracy: 86.03%, Test Loss: 0.4510, Test Accuracy: 83.99%\n",
      "Epoch [250/400], Loss: 0.4080, Accuracy: 86.03%, Test Loss: 0.4509, Test Accuracy: 84.05%\n",
      "Epoch [251/400], Loss: 0.4077, Accuracy: 86.03%, Test Loss: 0.4506, Test Accuracy: 84.06%\n",
      "Epoch [252/400], Loss: 0.4081, Accuracy: 86.03%, Test Loss: 0.4507, Test Accuracy: 84.05%\n",
      "Epoch [253/400], Loss: 0.4077, Accuracy: 86.06%, Test Loss: 0.4505, Test Accuracy: 84.05%\n",
      "Epoch [254/400], Loss: 0.4074, Accuracy: 86.02%, Test Loss: 0.4505, Test Accuracy: 84.05%\n",
      "Epoch [255/400], Loss: 0.4075, Accuracy: 86.05%, Test Loss: 0.4504, Test Accuracy: 84.02%\n",
      "Epoch [256/400], Loss: 0.4071, Accuracy: 86.04%, Test Loss: 0.4506, Test Accuracy: 84.02%\n",
      "Epoch [257/400], Loss: 0.4076, Accuracy: 86.07%, Test Loss: 0.4503, Test Accuracy: 84.08%\n",
      "Epoch [258/400], Loss: 0.4071, Accuracy: 86.06%, Test Loss: 0.4501, Test Accuracy: 84.00%\n",
      "Epoch [259/400], Loss: 0.4071, Accuracy: 86.04%, Test Loss: 0.4506, Test Accuracy: 84.00%\n",
      "Epoch [260/400], Loss: 0.4067, Accuracy: 86.03%, Test Loss: 0.4501, Test Accuracy: 84.10%\n",
      "Epoch [261/400], Loss: 0.4066, Accuracy: 86.06%, Test Loss: 0.4500, Test Accuracy: 84.12%\n",
      "Epoch [262/400], Loss: 0.4065, Accuracy: 86.03%, Test Loss: 0.4500, Test Accuracy: 84.07%\n",
      "Epoch [263/400], Loss: 0.4065, Accuracy: 86.12%, Test Loss: 0.4499, Test Accuracy: 84.06%\n",
      "Epoch [264/400], Loss: 0.4065, Accuracy: 86.08%, Test Loss: 0.4496, Test Accuracy: 84.07%\n",
      "Epoch [265/400], Loss: 0.4067, Accuracy: 86.10%, Test Loss: 0.4496, Test Accuracy: 84.13%\n",
      "Epoch [266/400], Loss: 0.4063, Accuracy: 86.08%, Test Loss: 0.4497, Test Accuracy: 84.11%\n",
      "Epoch [267/400], Loss: 0.4060, Accuracy: 86.12%, Test Loss: 0.4496, Test Accuracy: 84.04%\n",
      "Epoch [268/400], Loss: 0.4060, Accuracy: 86.09%, Test Loss: 0.4494, Test Accuracy: 84.10%\n",
      "Epoch [269/400], Loss: 0.4061, Accuracy: 86.11%, Test Loss: 0.4494, Test Accuracy: 84.14%\n",
      "Epoch [270/400], Loss: 0.4059, Accuracy: 86.12%, Test Loss: 0.4493, Test Accuracy: 84.13%\n",
      "Epoch [271/400], Loss: 0.4055, Accuracy: 86.12%, Test Loss: 0.4493, Test Accuracy: 84.13%\n",
      "Epoch [272/400], Loss: 0.4054, Accuracy: 86.11%, Test Loss: 0.4491, Test Accuracy: 84.03%\n",
      "Epoch [273/400], Loss: 0.4053, Accuracy: 86.11%, Test Loss: 0.4490, Test Accuracy: 84.09%\n",
      "Epoch [274/400], Loss: 0.4055, Accuracy: 86.09%, Test Loss: 0.4491, Test Accuracy: 84.07%\n",
      "Epoch [275/400], Loss: 0.4050, Accuracy: 86.11%, Test Loss: 0.4491, Test Accuracy: 84.08%\n",
      "Epoch [276/400], Loss: 0.4056, Accuracy: 86.10%, Test Loss: 0.4490, Test Accuracy: 84.14%\n",
      "Epoch [277/400], Loss: 0.4053, Accuracy: 86.13%, Test Loss: 0.4489, Test Accuracy: 84.06%\n",
      "Epoch [278/400], Loss: 0.4050, Accuracy: 86.15%, Test Loss: 0.4492, Test Accuracy: 84.01%\n",
      "Epoch [279/400], Loss: 0.4050, Accuracy: 86.12%, Test Loss: 0.4491, Test Accuracy: 84.09%\n",
      "Epoch [280/400], Loss: 0.4049, Accuracy: 86.16%, Test Loss: 0.4487, Test Accuracy: 84.09%\n",
      "Epoch [281/400], Loss: 0.4046, Accuracy: 86.14%, Test Loss: 0.4486, Test Accuracy: 84.04%\n",
      "Epoch [282/400], Loss: 0.4050, Accuracy: 86.09%, Test Loss: 0.4486, Test Accuracy: 84.15%\n",
      "Epoch [283/400], Loss: 0.4043, Accuracy: 86.15%, Test Loss: 0.4487, Test Accuracy: 84.09%\n",
      "Epoch [284/400], Loss: 0.4044, Accuracy: 86.16%, Test Loss: 0.4484, Test Accuracy: 84.10%\n",
      "Epoch [285/400], Loss: 0.4042, Accuracy: 86.12%, Test Loss: 0.4485, Test Accuracy: 84.07%\n",
      "Epoch [286/400], Loss: 0.4042, Accuracy: 86.15%, Test Loss: 0.4484, Test Accuracy: 84.15%\n",
      "Epoch [287/400], Loss: 0.4046, Accuracy: 86.14%, Test Loss: 0.4484, Test Accuracy: 84.13%\n",
      "Epoch [288/400], Loss: 0.4038, Accuracy: 86.12%, Test Loss: 0.4486, Test Accuracy: 84.09%\n",
      "Epoch [289/400], Loss: 0.4045, Accuracy: 86.18%, Test Loss: 0.4479, Test Accuracy: 84.16%\n",
      "Epoch [290/400], Loss: 0.4038, Accuracy: 86.16%, Test Loss: 0.4480, Test Accuracy: 84.17%\n",
      "Epoch [291/400], Loss: 0.4044, Accuracy: 86.15%, Test Loss: 0.4482, Test Accuracy: 84.16%\n",
      "Epoch [292/400], Loss: 0.4037, Accuracy: 86.15%, Test Loss: 0.4482, Test Accuracy: 84.19%\n",
      "Epoch [293/400], Loss: 0.4037, Accuracy: 86.17%, Test Loss: 0.4479, Test Accuracy: 84.15%\n",
      "Epoch [294/400], Loss: 0.4036, Accuracy: 86.14%, Test Loss: 0.4478, Test Accuracy: 84.21%\n",
      "Epoch [295/400], Loss: 0.4035, Accuracy: 86.16%, Test Loss: 0.4479, Test Accuracy: 84.15%\n",
      "Epoch [296/400], Loss: 0.4033, Accuracy: 86.17%, Test Loss: 0.4476, Test Accuracy: 84.13%\n",
      "Epoch [297/400], Loss: 0.4030, Accuracy: 86.20%, Test Loss: 0.4481, Test Accuracy: 84.11%\n",
      "Epoch [298/400], Loss: 0.4034, Accuracy: 86.17%, Test Loss: 0.4476, Test Accuracy: 84.26%\n",
      "Epoch [299/400], Loss: 0.4032, Accuracy: 86.15%, Test Loss: 0.4477, Test Accuracy: 84.23%\n",
      "Epoch [300/400], Loss: 0.4029, Accuracy: 86.17%, Test Loss: 0.4478, Test Accuracy: 84.14%\n",
      "Epoch [301/400], Loss: 0.4027, Accuracy: 86.19%, Test Loss: 0.4472, Test Accuracy: 84.19%\n",
      "Epoch [302/400], Loss: 0.4032, Accuracy: 86.13%, Test Loss: 0.4474, Test Accuracy: 84.20%\n",
      "Epoch [303/400], Loss: 0.4027, Accuracy: 86.17%, Test Loss: 0.4475, Test Accuracy: 84.18%\n",
      "Epoch [304/400], Loss: 0.4025, Accuracy: 86.20%, Test Loss: 0.4471, Test Accuracy: 84.16%\n",
      "Epoch [305/400], Loss: 0.4023, Accuracy: 86.17%, Test Loss: 0.4471, Test Accuracy: 84.22%\n",
      "Epoch [306/400], Loss: 0.4024, Accuracy: 86.22%, Test Loss: 0.4472, Test Accuracy: 84.20%\n",
      "Epoch [307/400], Loss: 0.4025, Accuracy: 86.22%, Test Loss: 0.4469, Test Accuracy: 84.22%\n",
      "Epoch [308/400], Loss: 0.4022, Accuracy: 86.20%, Test Loss: 0.4474, Test Accuracy: 84.14%\n",
      "Epoch [309/400], Loss: 0.4024, Accuracy: 86.16%, Test Loss: 0.4469, Test Accuracy: 84.22%\n",
      "Epoch [310/400], Loss: 0.4019, Accuracy: 86.20%, Test Loss: 0.4470, Test Accuracy: 84.24%\n",
      "Epoch [311/400], Loss: 0.4020, Accuracy: 86.22%, Test Loss: 0.4469, Test Accuracy: 84.18%\n",
      "Epoch [312/400], Loss: 0.4019, Accuracy: 86.25%, Test Loss: 0.4469, Test Accuracy: 84.21%\n",
      "Epoch [313/400], Loss: 0.4018, Accuracy: 86.23%, Test Loss: 0.4468, Test Accuracy: 84.20%\n",
      "Epoch [314/400], Loss: 0.4019, Accuracy: 86.23%, Test Loss: 0.4466, Test Accuracy: 84.26%\n",
      "Epoch [315/400], Loss: 0.4016, Accuracy: 86.19%, Test Loss: 0.4467, Test Accuracy: 84.23%\n",
      "Epoch [316/400], Loss: 0.4015, Accuracy: 86.22%, Test Loss: 0.4467, Test Accuracy: 84.15%\n",
      "Epoch [317/400], Loss: 0.4016, Accuracy: 86.23%, Test Loss: 0.4466, Test Accuracy: 84.24%\n",
      "Epoch [318/400], Loss: 0.4014, Accuracy: 86.21%, Test Loss: 0.4465, Test Accuracy: 84.23%\n",
      "Epoch [319/400], Loss: 0.4013, Accuracy: 86.22%, Test Loss: 0.4464, Test Accuracy: 84.23%\n",
      "Epoch [320/400], Loss: 0.4015, Accuracy: 86.22%, Test Loss: 0.4467, Test Accuracy: 84.30%\n",
      "Epoch [321/400], Loss: 0.4010, Accuracy: 86.19%, Test Loss: 0.4462, Test Accuracy: 84.19%\n",
      "Epoch [322/400], Loss: 0.4012, Accuracy: 86.22%, Test Loss: 0.4463, Test Accuracy: 84.26%\n",
      "Epoch [323/400], Loss: 0.4011, Accuracy: 86.22%, Test Loss: 0.4463, Test Accuracy: 84.24%\n",
      "Epoch [324/400], Loss: 0.4009, Accuracy: 86.23%, Test Loss: 0.4466, Test Accuracy: 84.22%\n",
      "Epoch [325/400], Loss: 0.4007, Accuracy: 86.23%, Test Loss: 0.4462, Test Accuracy: 84.22%\n",
      "Epoch [326/400], Loss: 0.4007, Accuracy: 86.24%, Test Loss: 0.4461, Test Accuracy: 84.25%\n",
      "Epoch [327/400], Loss: 0.4001, Accuracy: 86.23%, Test Loss: 0.4466, Test Accuracy: 84.31%\n",
      "Epoch [328/400], Loss: 0.4006, Accuracy: 86.27%, Test Loss: 0.4458, Test Accuracy: 84.21%\n",
      "Epoch [329/400], Loss: 0.4009, Accuracy: 86.22%, Test Loss: 0.4459, Test Accuracy: 84.25%\n",
      "Epoch [330/400], Loss: 0.4007, Accuracy: 86.27%, Test Loss: 0.4461, Test Accuracy: 84.24%\n",
      "Epoch [331/400], Loss: 0.4001, Accuracy: 86.23%, Test Loss: 0.4457, Test Accuracy: 84.28%\n",
      "Epoch [332/400], Loss: 0.3999, Accuracy: 86.22%, Test Loss: 0.4460, Test Accuracy: 84.28%\n",
      "Epoch [333/400], Loss: 0.3999, Accuracy: 86.24%, Test Loss: 0.4456, Test Accuracy: 84.32%\n",
      "Epoch [334/400], Loss: 0.4001, Accuracy: 86.24%, Test Loss: 0.4457, Test Accuracy: 84.28%\n",
      "Epoch [335/400], Loss: 0.3996, Accuracy: 86.22%, Test Loss: 0.4458, Test Accuracy: 84.27%\n",
      "Epoch [336/400], Loss: 0.4000, Accuracy: 86.25%, Test Loss: 0.4457, Test Accuracy: 84.30%\n",
      "Epoch [337/400], Loss: 0.4000, Accuracy: 86.27%, Test Loss: 0.4455, Test Accuracy: 84.25%\n",
      "Epoch [338/400], Loss: 0.3997, Accuracy: 86.24%, Test Loss: 0.4459, Test Accuracy: 84.29%\n",
      "Epoch [339/400], Loss: 0.3999, Accuracy: 86.28%, Test Loss: 0.4454, Test Accuracy: 84.26%\n",
      "Epoch [340/400], Loss: 0.4002, Accuracy: 86.23%, Test Loss: 0.4456, Test Accuracy: 84.23%\n",
      "Epoch [341/400], Loss: 0.3997, Accuracy: 86.23%, Test Loss: 0.4455, Test Accuracy: 84.33%\n",
      "Epoch [342/400], Loss: 0.3991, Accuracy: 86.30%, Test Loss: 0.4452, Test Accuracy: 84.25%\n",
      "Epoch [343/400], Loss: 0.3996, Accuracy: 86.27%, Test Loss: 0.4453, Test Accuracy: 84.23%\n",
      "Epoch [344/400], Loss: 0.3991, Accuracy: 86.26%, Test Loss: 0.4451, Test Accuracy: 84.26%\n",
      "Epoch [345/400], Loss: 0.3992, Accuracy: 86.30%, Test Loss: 0.4451, Test Accuracy: 84.28%\n",
      "Epoch [346/400], Loss: 0.3991, Accuracy: 86.27%, Test Loss: 0.4454, Test Accuracy: 84.34%\n",
      "Epoch [347/400], Loss: 0.3990, Accuracy: 86.24%, Test Loss: 0.4452, Test Accuracy: 84.35%\n",
      "Epoch [348/400], Loss: 0.3990, Accuracy: 86.28%, Test Loss: 0.4452, Test Accuracy: 84.26%\n",
      "Epoch [349/400], Loss: 0.3988, Accuracy: 86.28%, Test Loss: 0.4451, Test Accuracy: 84.27%\n",
      "Epoch [350/400], Loss: 0.3990, Accuracy: 86.26%, Test Loss: 0.4450, Test Accuracy: 84.30%\n",
      "Epoch [351/400], Loss: 0.3985, Accuracy: 86.30%, Test Loss: 0.4450, Test Accuracy: 84.31%\n",
      "Epoch [352/400], Loss: 0.3990, Accuracy: 86.28%, Test Loss: 0.4451, Test Accuracy: 84.25%\n",
      "Epoch [353/400], Loss: 0.3989, Accuracy: 86.28%, Test Loss: 0.4449, Test Accuracy: 84.28%\n",
      "Epoch [354/400], Loss: 0.3988, Accuracy: 86.33%, Test Loss: 0.4449, Test Accuracy: 84.33%\n",
      "Epoch [355/400], Loss: 0.3986, Accuracy: 86.31%, Test Loss: 0.4446, Test Accuracy: 84.28%\n",
      "Epoch [356/400], Loss: 0.3985, Accuracy: 86.31%, Test Loss: 0.4448, Test Accuracy: 84.20%\n",
      "Epoch [357/400], Loss: 0.3987, Accuracy: 86.30%, Test Loss: 0.4449, Test Accuracy: 84.22%\n",
      "Epoch [358/400], Loss: 0.3985, Accuracy: 86.30%, Test Loss: 0.4447, Test Accuracy: 84.31%\n",
      "Epoch [359/400], Loss: 0.3986, Accuracy: 86.28%, Test Loss: 0.4451, Test Accuracy: 84.25%\n",
      "Epoch [360/400], Loss: 0.3985, Accuracy: 86.35%, Test Loss: 0.4447, Test Accuracy: 84.30%\n",
      "Epoch [361/400], Loss: 0.3980, Accuracy: 86.32%, Test Loss: 0.4444, Test Accuracy: 84.25%\n",
      "Epoch [362/400], Loss: 0.3978, Accuracy: 86.31%, Test Loss: 0.4446, Test Accuracy: 84.24%\n",
      "Epoch [363/400], Loss: 0.3977, Accuracy: 86.29%, Test Loss: 0.4446, Test Accuracy: 84.26%\n",
      "Epoch [364/400], Loss: 0.3983, Accuracy: 86.28%, Test Loss: 0.4446, Test Accuracy: 84.31%\n",
      "Epoch [365/400], Loss: 0.3982, Accuracy: 86.33%, Test Loss: 0.4446, Test Accuracy: 84.24%\n",
      "Epoch [366/400], Loss: 0.3974, Accuracy: 86.37%, Test Loss: 0.4447, Test Accuracy: 84.19%\n",
      "Epoch [367/400], Loss: 0.3980, Accuracy: 86.29%, Test Loss: 0.4444, Test Accuracy: 84.25%\n",
      "Epoch [368/400], Loss: 0.3974, Accuracy: 86.33%, Test Loss: 0.4444, Test Accuracy: 84.17%\n",
      "Epoch [369/400], Loss: 0.3978, Accuracy: 86.30%, Test Loss: 0.4442, Test Accuracy: 84.34%\n",
      "Epoch [370/400], Loss: 0.3976, Accuracy: 86.34%, Test Loss: 0.4444, Test Accuracy: 84.18%\n",
      "Epoch [371/400], Loss: 0.3974, Accuracy: 86.34%, Test Loss: 0.4441, Test Accuracy: 84.26%\n",
      "Epoch [372/400], Loss: 0.3972, Accuracy: 86.35%, Test Loss: 0.4442, Test Accuracy: 84.25%\n",
      "Epoch [373/400], Loss: 0.3978, Accuracy: 86.33%, Test Loss: 0.4440, Test Accuracy: 84.27%\n",
      "Epoch [374/400], Loss: 0.3977, Accuracy: 86.33%, Test Loss: 0.4440, Test Accuracy: 84.30%\n",
      "Epoch [375/400], Loss: 0.3973, Accuracy: 86.33%, Test Loss: 0.4439, Test Accuracy: 84.34%\n",
      "Epoch [376/400], Loss: 0.3970, Accuracy: 86.33%, Test Loss: 0.4439, Test Accuracy: 84.32%\n",
      "Epoch [377/400], Loss: 0.3968, Accuracy: 86.37%, Test Loss: 0.4441, Test Accuracy: 84.31%\n",
      "Epoch [378/400], Loss: 0.3969, Accuracy: 86.34%, Test Loss: 0.4438, Test Accuracy: 84.30%\n",
      "Epoch [379/400], Loss: 0.3970, Accuracy: 86.33%, Test Loss: 0.4440, Test Accuracy: 84.24%\n",
      "Epoch [380/400], Loss: 0.3966, Accuracy: 86.36%, Test Loss: 0.4439, Test Accuracy: 84.17%\n",
      "Epoch [381/400], Loss: 0.3965, Accuracy: 86.36%, Test Loss: 0.4439, Test Accuracy: 84.30%\n",
      "Epoch [382/400], Loss: 0.3965, Accuracy: 86.32%, Test Loss: 0.4435, Test Accuracy: 84.26%\n",
      "Epoch [383/400], Loss: 0.3970, Accuracy: 86.36%, Test Loss: 0.4439, Test Accuracy: 84.30%\n",
      "Epoch [384/400], Loss: 0.3963, Accuracy: 86.36%, Test Loss: 0.4438, Test Accuracy: 84.31%\n",
      "Epoch [385/400], Loss: 0.3964, Accuracy: 86.38%, Test Loss: 0.4437, Test Accuracy: 84.16%\n",
      "Epoch [386/400], Loss: 0.3965, Accuracy: 86.31%, Test Loss: 0.4433, Test Accuracy: 84.28%\n",
      "Epoch [387/400], Loss: 0.3962, Accuracy: 86.33%, Test Loss: 0.4438, Test Accuracy: 84.23%\n",
      "Epoch [388/400], Loss: 0.3964, Accuracy: 86.40%, Test Loss: 0.4434, Test Accuracy: 84.29%\n",
      "Epoch [389/400], Loss: 0.3966, Accuracy: 86.35%, Test Loss: 0.4436, Test Accuracy: 84.35%\n",
      "Epoch [390/400], Loss: 0.3959, Accuracy: 86.36%, Test Loss: 0.4436, Test Accuracy: 84.30%\n",
      "Epoch [391/400], Loss: 0.3960, Accuracy: 86.39%, Test Loss: 0.4437, Test Accuracy: 84.22%\n",
      "Epoch [392/400], Loss: 0.3959, Accuracy: 86.37%, Test Loss: 0.4433, Test Accuracy: 84.25%\n",
      "Epoch [393/400], Loss: 0.3960, Accuracy: 86.38%, Test Loss: 0.4437, Test Accuracy: 84.31%\n",
      "Epoch [394/400], Loss: 0.3957, Accuracy: 86.36%, Test Loss: 0.4434, Test Accuracy: 84.28%\n",
      "Epoch [395/400], Loss: 0.3958, Accuracy: 86.39%, Test Loss: 0.4432, Test Accuracy: 84.25%\n",
      "Epoch [396/400], Loss: 0.3961, Accuracy: 86.39%, Test Loss: 0.4431, Test Accuracy: 84.31%\n",
      "Epoch [397/400], Loss: 0.3956, Accuracy: 86.39%, Test Loss: 0.4433, Test Accuracy: 84.35%\n",
      "Epoch [398/400], Loss: 0.3960, Accuracy: 86.40%, Test Loss: 0.4432, Test Accuracy: 84.31%\n",
      "Epoch [399/400], Loss: 0.3955, Accuracy: 86.37%, Test Loss: 0.4430, Test Accuracy: 84.35%\n",
      "Epoch [400/400], Loss: 0.3955, Accuracy: 86.39%, Test Loss: 0.4430, Test Accuracy: 84.29%\n"
     ]
    }
   ],
   "source": [
    "# train\n",
    "for epoch in range(max_epoch):\n",
    "    running_loss = 0.0\n",
    "    running_correct = 0   # to track number of correct predictions\n",
    "    total = 0             # to track total number of samples\n",
    "\n",
    "    for i, (inputs, labels) in enumerate(trainloader, 0):\n",
    "        # Move inputs and labels to the device\n",
    "        inputs, labels = inputs.to(device), labels.to(device)\n",
    "\n",
    "        # Zero the parameter gradients\n",
    "        optimizer.zero_grad()\n",
    "\n",
    "        # Forward pass\n",
    "        outputs = model(inputs)\n",
    "        loss = criterion(outputs, labels)\n",
    "        running_loss += loss.item()\n",
    "\n",
    "        # Determine class predictions and track accuracy\n",
    "        _, predicted = torch.max(outputs.data, 1)\n",
    "        total += labels.size(0)\n",
    "        running_correct += (predicted == labels).sum().item()\n",
    "\n",
    "        # Backward pass and optimization\n",
    "        loss.backward()\n",
    "        optimizer.step()        \n",
    "\n",
    "    epoch_accuracy = 100 * running_correct / total\n",
    "    epoch_loss = running_loss / (i + 1)\n",
    "    test_loss, test_accuracy = evaluate(model, testloader, criterion)\n",
    "    print(f\"Epoch [{epoch + 1}/{max_epoch}], Loss: {epoch_loss:.4f}, Accuracy: {epoch_accuracy:.2f}%, Test Loss: {test_loss:.4f}, Test Accuracy: {test_accuracy:.2f}%\")\n",
    "    \n",
    "    # save for plot\n",
    "    train_losses.append(epoch_loss)\n",
    "    train_accuracies.append(epoch_accuracy)\n",
    "    test_losses.append(test_loss)\n",
    "    test_accuracies.append(test_accuracy)"
   ]
  },
  {
   "cell_type": "code",
   "execution_count": null,
   "metadata": {
    "id": "QKFbl4unF_6t"
   },
   "outputs": [],
   "source": []
  },
  {
   "cell_type": "code",
   "execution_count": 11,
   "metadata": {
    "id": "AwIj3vrnF_8_"
   },
   "outputs": [
    {
     "data": {
      "text/plain": [
       "<matplotlib.legend.Legend at 0x7f25fb906ef0>"
      ]
     },
     "execution_count": 11,
     "metadata": {},
     "output_type": "execute_result"
    },
    {
     "data": {
      "image/png": "[encoded data removed]",
      "text/plain": [
       "<Figure size 640x480 with 1 Axes>"
      ]
     },
     "metadata": {},
     "output_type": "display_data"
    }
   ],
   "source": [
    "import matplotlib.pyplot as plt\n",
    "\n",
    "plt.plot(train_losses, label='train_losses')\n",
    "plt.plot(test_losses, label='test_losses')\n",
    "plt.legend()"
   ]
  },
  {
   "cell_type": "code",
   "execution_count": 12,
   "metadata": {
    "id": "eh3iDa8lF__H"
   },
   "outputs": [
    {
     "data": {
      "text/plain": [
       "<matplotlib.legend.Legend at 0x7f25000f7250>"
      ]
     },
     "execution_count": 12,
     "metadata": {},
     "output_type": "execute_result"
    },
    {
     "data": {
      "image/png": "[encoded data removed]",
      "text/plain": [
       "<Figure size 640x480 with 1 Axes>"
      ]
     },
     "metadata": {},
     "output_type": "display_data"
    }
   ],
   "source": [
    "import matplotlib.pyplot as plt\n",
    "\n",
    "plt.plot(train_accuracies, label='train_accuracy')\n",
    "plt.plot(test_accuracies, label='test_accuracy')\n",
    "plt.legend()"
   ]
  },
  {
   "cell_type": "code",
   "execution_count": null,
   "metadata": {},
   "outputs": [],
   "source": []
  },
  {
   "cell_type": "code",
   "execution_count": 13,
   "metadata": {},
   "outputs": [
    {
     "data": {
      "text/plain": [
       "<matplotlib.legend.Legend at 0x7f24e938dde0>"
      ]
     },
     "execution_count": 13,
     "metadata": {},
     "output_type": "execute_result"
    }
   ],
   "source": [
    "import matplotlib.pyplot as plt\n",
    "%matplotlib qt\n",
    "\n",
    "plt.plot(train_losses, label='train_losses')\n",
    "plt.plot(test_losses, label='test_losses')\n",
    "plt.legend()"
   ]
  },
  {
   "cell_type": "code",
   "execution_count": 14,
   "metadata": {},
   "outputs": [
    {
     "data": {
      "text/plain": [
       "<matplotlib.legend.Legend at 0x7f248413a410>"
      ]
     },
     "execution_count": 14,
     "metadata": {},
     "output_type": "execute_result"
    }
   ],
   "source": [
    "import matplotlib.pyplot as plt\n",
    "%matplotlib qt\n",
    "\n",
    "plt.plot(train_accuracies, label='train_accuracy')\n",
    "plt.plot(test_accuracies, label='test_accuracy')\n",
    "plt.legend()"
   ]
  },
  {
   "cell_type": "code",
   "execution_count": null,
   "metadata": {},
   "outputs": [],
   "source": []
  }
 ],
 "metadata": {
  "accelerator": "GPU",
  "colab": {
   "gpuType": "T4",
   "provenance": []
  },
  "kernelspec": {
   "display_name": "Python 3 (ipykernel)",
   "language": "python",
   "name": "python3"
  },
  "language_info": {
   "codemirror_mode": {
    "name": "ipython",
    "version": 3
   },
   "file_extension": ".py",
   "mimetype": "text/x-python",
   "name": "python",
   "nbconvert_exporter": "python",
   "pygments_lexer": "ipython3",
   "version": "3.9.18"
  }
 },
 "nbformat": 4,
 "nbformat_minor": 4
}
