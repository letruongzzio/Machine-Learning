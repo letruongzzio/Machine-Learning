{
 "cells": [
  {
   "cell_type": "code",
   "execution_count": 1,
   "metadata": {},
   "outputs": [],
   "source": [
    "import torch\n",
    "import torch.nn as nn\n",
    "import torch.optim as optim\n",
    "import torchvision\n",
    "import torchvision.transforms as transforms\n",
    "\n",
    "# Check if GPU is available\n",
    "device = torch.device(\"cuda:0\" if torch.cuda.is_available() else \"cpu\")"
   ]
  },
  {
   "cell_type": "code",
   "execution_count": null,
   "metadata": {},
   "outputs": [],
   "source": []
  },
  {
   "cell_type": "markdown",
   "metadata": {},
   "source": [
    "#### Data"
   ]
  },
  {
   "cell_type": "code",
   "execution_count": 2,
   "metadata": {},
   "outputs": [],
   "source": [
    "# Load CFashionMNIST dataset\n",
    "transform = transforms.Compose([transforms.ToTensor(), transforms.Normalize((0,), (1.0,))])\n",
    "\n",
    "trainset = torchvision.datasets.FashionMNIST(root='data', train=True, download=True, transform=transform)\n",
    "trainloader = torch.utils.data.DataLoader(trainset, batch_size=1024, num_workers=10, shuffle=True)\n",
    "\n",
    "testset = torchvision.datasets.FashionMNIST(root='data', train=False, download=True, transform=transform)\n",
    "testloader = torch.utils.data.DataLoader(testset, batch_size=1024, num_workers=10, shuffle=False)"
   ]
  },
  {
   "cell_type": "code",
   "execution_count": 3,
   "metadata": {},
   "outputs": [
    {
     "data": {
      "image/png": "[encoded data removed]",
      "text/plain": [
       "<Figure size 640x480 with 1 Axes>"
      ]
     },
     "metadata": {},
     "output_type": "display_data"
    }
   ],
   "source": [
    "import matplotlib.pyplot as plt\n",
    "import numpy as np\n",
    "\n",
    "# Function to display the images\n",
    "def imshow(img):\n",
    "    #img = img / 255.0\n",
    "    np_img = img.numpy()\n",
    "    plt.imshow(np.transpose(np_img, (1, 2, 0)))\n",
    "    plt.show()\n",
    "\n",
    "for i, (images, labels) in enumerate(trainloader, 0):\n",
    "    # Plot some images\n",
    "    imshow(torchvision.utils.make_grid(images[:8]))  # Display 8 images from the batch\n",
    "    break"
   ]
  },
  {
   "cell_type": "code",
   "execution_count": null,
   "metadata": {},
   "outputs": [],
   "source": []
  },
  {
   "cell_type": "markdown",
   "metadata": {},
   "source": [
    "#### Model"
   ]
  },
  {
   "cell_type": "code",
   "execution_count": 4,
   "metadata": {},
   "outputs": [
    {
     "name": "stdout",
     "output_type": "stream",
     "text": [
      "Sequential(\n",
      "  (0): Flatten(start_dim=1, end_dim=-1)\n",
      "  (1): Linear(in_features=784, out_features=10, bias=True)\n",
      ")\n"
     ]
    }
   ],
   "source": [
    "model = nn.Sequential(\n",
    "    nn.Flatten(), nn.Linear(784, 10)\n",
    ")\n",
    "model = model.to(device)\n",
    "\n",
    "print(model)"
   ]
  },
  {
   "cell_type": "code",
   "execution_count": 5,
   "metadata": {},
   "outputs": [
    {
     "name": "stdout",
     "output_type": "stream",
     "text": [
      "torch.Size([5, 10])\n"
     ]
    }
   ],
   "source": [
    "# Generating a random tensor\n",
    "input_tensor = torch.rand(5, 28, 28).to(device)\n",
    "\n",
    "# Feeding the tensor into the model\n",
    "output = model(input_tensor)\n",
    "print(output.shape)"
   ]
  },
  {
   "cell_type": "code",
   "execution_count": null,
   "metadata": {},
   "outputs": [],
   "source": []
  },
  {
   "cell_type": "markdown",
   "metadata": {},
   "source": [
    "#### Loss, Optimizer, and Evaluation Function"
   ]
  },
  {
   "cell_type": "code",
   "execution_count": 6,
   "metadata": {},
   "outputs": [],
   "source": [
    "criterion = nn.CrossEntropyLoss()\n",
    "optimizer = optim.SGD(model.parameters(), lr=0.01)"
   ]
  },
  {
   "cell_type": "code",
   "execution_count": 7,
   "metadata": {},
   "outputs": [],
   "source": [
    "# Function to compute loss and accuracy for test set\n",
    "def evaluate(model, testloader, criterion):\n",
    "    model.eval()\n",
    "    test_loss = 0.0\n",
    "    correct = 0\n",
    "    total = 0\n",
    "    with torch.no_grad():\n",
    "        for images, labels in testloader:\n",
    "            # Move inputs and labels to the device\n",
    "            images, labels = images.to(device), labels.to(device)\n",
    "\n",
    "            outputs = model(images)\n",
    "            loss = criterion(outputs, labels)\n",
    "            test_loss += loss.item()\n",
    "            \n",
    "            _, predicted = torch.max(outputs.data, 1)\n",
    "            total += labels.size(0)\n",
    "            correct += (predicted == labels).sum().item()\n",
    "\n",
    "    accuracy = 100 * correct / total\n",
    "    test_loss = test_loss / len(testloader)\n",
    "    return test_loss, accuracy"
   ]
  },
  {
   "cell_type": "code",
   "execution_count": 8,
   "metadata": {},
   "outputs": [
    {
     "name": "stdout",
     "output_type": "stream",
     "text": [
      "test_loss: 2.2397143840789795\n",
      "test_accuracy: 18.2\n"
     ]
    }
   ],
   "source": [
    "test_loss, test_accuracy = evaluate(model, testloader, criterion)\n",
    "print(f'test_loss: {test_loss}')\n",
    "print(f'test_accuracy: {test_accuracy}')"
   ]
  },
  {
   "cell_type": "code",
   "execution_count": null,
   "metadata": {},
   "outputs": [],
   "source": []
  },
  {
   "cell_type": "markdown",
   "metadata": {},
   "source": [
    "#### Train"
   ]
  },
  {
   "cell_type": "code",
   "execution_count": 9,
   "metadata": {},
   "outputs": [],
   "source": [
    "# some parameter\n",
    "train_losses = []\n",
    "train_accuracies = []\n",
    "test_losses = []\n",
    "test_accuracies = []\n",
    "max_epoch = 100"
   ]
  },
  {
   "cell_type": "code",
   "execution_count": 10,
   "metadata": {
    "colab": {
     "base_uri": "https://localhost:8080/"
    },
    "id": "tYwXeSOOF_4Z",
    "outputId": "a4c62a4a-267f-4101-ce96-662cc23cdbe0"
   },
   "outputs": [
    {
     "name": "stdout",
     "output_type": "stream",
     "text": [
      "Epoch [1/100], Loss: 1.8086, Accuracy: 55.09%, Test Loss: 1.5201, Test Accuracy: 64.31%\n",
      "Epoch [2/100], Loss: 1.3631, Accuracy: 66.22%, Test Loss: 1.2491, Test Accuracy: 65.74%\n",
      "Epoch [3/100], Loss: 1.1648, Accuracy: 67.30%, Test Loss: 1.1088, Test Accuracy: 67.04%\n",
      "Epoch [4/100], Loss: 1.0529, Accuracy: 68.39%, Test Loss: 1.0223, Test Accuracy: 68.17%\n",
      "Epoch [5/100], Loss: 0.9797, Accuracy: 69.75%, Test Loss: 0.9628, Test Accuracy: 69.23%\n",
      "Epoch [6/100], Loss: 0.9275, Accuracy: 71.15%, Test Loss: 0.9187, Test Accuracy: 70.48%\n",
      "Epoch [7/100], Loss: 0.8879, Accuracy: 72.25%, Test Loss: 0.8844, Test Accuracy: 71.69%\n",
      "Epoch [8/100], Loss: 0.8564, Accuracy: 73.27%, Test Loss: 0.8569, Test Accuracy: 72.43%\n",
      "Epoch [9/100], Loss: 0.8306, Accuracy: 74.04%, Test Loss: 0.8334, Test Accuracy: 73.12%\n",
      "Epoch [10/100], Loss: 0.8090, Accuracy: 74.54%, Test Loss: 0.8138, Test Accuracy: 73.80%\n",
      "Epoch [11/100], Loss: 0.7900, Accuracy: 75.25%, Test Loss: 0.7967, Test Accuracy: 74.20%\n",
      "Epoch [12/100], Loss: 0.7735, Accuracy: 75.70%, Test Loss: 0.7818, Test Accuracy: 74.61%\n",
      "Epoch [13/100], Loss: 0.7588, Accuracy: 76.19%, Test Loss: 0.7685, Test Accuracy: 74.95%\n",
      "Epoch [14/100], Loss: 0.7463, Accuracy: 76.53%, Test Loss: 0.7565, Test Accuracy: 75.36%\n",
      "Epoch [15/100], Loss: 0.7347, Accuracy: 76.93%, Test Loss: 0.7457, Test Accuracy: 75.77%\n",
      "Epoch [16/100], Loss: 0.7238, Accuracy: 77.17%, Test Loss: 0.7362, Test Accuracy: 75.89%\n",
      "Epoch [17/100], Loss: 0.7146, Accuracy: 77.53%, Test Loss: 0.7268, Test Accuracy: 76.30%\n",
      "Epoch [18/100], Loss: 0.7057, Accuracy: 77.76%, Test Loss: 0.7189, Test Accuracy: 76.66%\n",
      "Epoch [19/100], Loss: 0.6972, Accuracy: 78.08%, Test Loss: 0.7110, Test Accuracy: 76.87%\n",
      "Epoch [20/100], Loss: 0.6898, Accuracy: 78.30%, Test Loss: 0.7038, Test Accuracy: 76.88%\n",
      "Epoch [21/100], Loss: 0.6828, Accuracy: 78.50%, Test Loss: 0.6973, Test Accuracy: 77.20%\n",
      "Epoch [22/100], Loss: 0.6761, Accuracy: 78.73%, Test Loss: 0.6912, Test Accuracy: 77.49%\n",
      "Epoch [23/100], Loss: 0.6696, Accuracy: 78.91%, Test Loss: 0.6857, Test Accuracy: 77.65%\n",
      "Epoch [24/100], Loss: 0.6638, Accuracy: 79.10%, Test Loss: 0.6802, Test Accuracy: 77.81%\n",
      "Epoch [25/100], Loss: 0.6583, Accuracy: 79.22%, Test Loss: 0.6745, Test Accuracy: 77.98%\n",
      "Epoch [26/100], Loss: 0.6531, Accuracy: 79.35%, Test Loss: 0.6699, Test Accuracy: 78.14%\n",
      "Epoch [27/100], Loss: 0.6484, Accuracy: 79.52%, Test Loss: 0.6650, Test Accuracy: 78.29%\n",
      "Epoch [28/100], Loss: 0.6434, Accuracy: 79.66%, Test Loss: 0.6607, Test Accuracy: 78.38%\n",
      "Epoch [29/100], Loss: 0.6396, Accuracy: 79.72%, Test Loss: 0.6566, Test Accuracy: 78.45%\n",
      "Epoch [30/100], Loss: 0.6350, Accuracy: 79.84%, Test Loss: 0.6524, Test Accuracy: 78.62%\n",
      "Epoch [31/100], Loss: 0.6310, Accuracy: 80.00%, Test Loss: 0.6486, Test Accuracy: 78.71%\n",
      "Epoch [32/100], Loss: 0.6270, Accuracy: 80.07%, Test Loss: 0.6451, Test Accuracy: 78.80%\n",
      "Epoch [33/100], Loss: 0.6234, Accuracy: 80.16%, Test Loss: 0.6415, Test Accuracy: 78.95%\n",
      "Epoch [34/100], Loss: 0.6199, Accuracy: 80.24%, Test Loss: 0.6384, Test Accuracy: 79.04%\n",
      "Epoch [35/100], Loss: 0.6167, Accuracy: 80.36%, Test Loss: 0.6350, Test Accuracy: 79.08%\n",
      "Epoch [36/100], Loss: 0.6133, Accuracy: 80.42%, Test Loss: 0.6320, Test Accuracy: 79.22%\n",
      "Epoch [37/100], Loss: 0.6101, Accuracy: 80.51%, Test Loss: 0.6289, Test Accuracy: 79.28%\n",
      "Epoch [38/100], Loss: 0.6072, Accuracy: 80.58%, Test Loss: 0.6262, Test Accuracy: 79.35%\n",
      "Epoch [39/100], Loss: 0.6039, Accuracy: 80.72%, Test Loss: 0.6235, Test Accuracy: 79.51%\n",
      "Epoch [40/100], Loss: 0.6012, Accuracy: 80.81%, Test Loss: 0.6211, Test Accuracy: 79.55%\n",
      "Epoch [41/100], Loss: 0.5983, Accuracy: 80.86%, Test Loss: 0.6184, Test Accuracy: 79.67%\n",
      "Epoch [42/100], Loss: 0.5960, Accuracy: 80.96%, Test Loss: 0.6157, Test Accuracy: 79.77%\n",
      "Epoch [43/100], Loss: 0.5935, Accuracy: 81.02%, Test Loss: 0.6134, Test Accuracy: 79.76%\n",
      "Epoch [44/100], Loss: 0.5904, Accuracy: 81.12%, Test Loss: 0.6111, Test Accuracy: 79.88%\n",
      "Epoch [45/100], Loss: 0.5885, Accuracy: 81.14%, Test Loss: 0.6088, Test Accuracy: 80.03%\n",
      "Epoch [46/100], Loss: 0.5859, Accuracy: 81.20%, Test Loss: 0.6067, Test Accuracy: 80.06%\n",
      "Epoch [47/100], Loss: 0.5844, Accuracy: 81.27%, Test Loss: 0.6047, Test Accuracy: 80.12%\n",
      "Epoch [48/100], Loss: 0.5818, Accuracy: 81.33%, Test Loss: 0.6026, Test Accuracy: 80.21%\n",
      "Epoch [49/100], Loss: 0.5800, Accuracy: 81.41%, Test Loss: 0.6006, Test Accuracy: 80.27%\n",
      "Epoch [50/100], Loss: 0.5777, Accuracy: 81.42%, Test Loss: 0.5987, Test Accuracy: 80.29%\n",
      "Epoch [51/100], Loss: 0.5756, Accuracy: 81.50%, Test Loss: 0.5969, Test Accuracy: 80.34%\n",
      "Epoch [52/100], Loss: 0.5738, Accuracy: 81.56%, Test Loss: 0.5951, Test Accuracy: 80.42%\n",
      "Epoch [53/100], Loss: 0.5721, Accuracy: 81.57%, Test Loss: 0.5933, Test Accuracy: 80.41%\n",
      "Epoch [54/100], Loss: 0.5699, Accuracy: 81.66%, Test Loss: 0.5918, Test Accuracy: 80.50%\n",
      "Epoch [55/100], Loss: 0.5685, Accuracy: 81.72%, Test Loss: 0.5899, Test Accuracy: 80.55%\n",
      "Epoch [56/100], Loss: 0.5669, Accuracy: 81.73%, Test Loss: 0.5884, Test Accuracy: 80.59%\n",
      "Epoch [57/100], Loss: 0.5652, Accuracy: 81.84%, Test Loss: 0.5867, Test Accuracy: 80.65%\n",
      "Epoch [58/100], Loss: 0.5633, Accuracy: 81.87%, Test Loss: 0.5854, Test Accuracy: 80.60%\n",
      "Epoch [59/100], Loss: 0.5614, Accuracy: 81.93%, Test Loss: 0.5837, Test Accuracy: 80.73%\n",
      "Epoch [60/100], Loss: 0.5600, Accuracy: 81.97%, Test Loss: 0.5824, Test Accuracy: 80.78%\n",
      "Epoch [61/100], Loss: 0.5592, Accuracy: 82.00%, Test Loss: 0.5809, Test Accuracy: 80.82%\n",
      "Epoch [62/100], Loss: 0.5570, Accuracy: 82.02%, Test Loss: 0.5794, Test Accuracy: 80.84%\n",
      "Epoch [63/100], Loss: 0.5559, Accuracy: 82.07%, Test Loss: 0.5780, Test Accuracy: 80.89%\n",
      "Epoch [64/100], Loss: 0.5540, Accuracy: 82.11%, Test Loss: 0.5768, Test Accuracy: 80.94%\n",
      "Epoch [65/100], Loss: 0.5530, Accuracy: 82.17%, Test Loss: 0.5756, Test Accuracy: 80.92%\n",
      "Epoch [66/100], Loss: 0.5512, Accuracy: 82.18%, Test Loss: 0.5741, Test Accuracy: 80.94%\n",
      "Epoch [67/100], Loss: 0.5500, Accuracy: 82.25%, Test Loss: 0.5729, Test Accuracy: 81.05%\n",
      "Epoch [68/100], Loss: 0.5488, Accuracy: 82.21%, Test Loss: 0.5718, Test Accuracy: 81.00%\n",
      "Epoch [69/100], Loss: 0.5481, Accuracy: 82.25%, Test Loss: 0.5706, Test Accuracy: 81.01%\n",
      "Epoch [70/100], Loss: 0.5462, Accuracy: 82.29%, Test Loss: 0.5693, Test Accuracy: 81.04%\n",
      "Epoch [71/100], Loss: 0.5448, Accuracy: 82.34%, Test Loss: 0.5683, Test Accuracy: 81.03%\n",
      "Epoch [72/100], Loss: 0.5436, Accuracy: 82.35%, Test Loss: 0.5672, Test Accuracy: 81.09%\n",
      "Epoch [73/100], Loss: 0.5428, Accuracy: 82.39%, Test Loss: 0.5661, Test Accuracy: 81.13%\n",
      "Epoch [74/100], Loss: 0.5417, Accuracy: 82.41%, Test Loss: 0.5653, Test Accuracy: 81.10%\n",
      "Epoch [75/100], Loss: 0.5404, Accuracy: 82.47%, Test Loss: 0.5640, Test Accuracy: 81.14%\n",
      "Epoch [76/100], Loss: 0.5393, Accuracy: 82.48%, Test Loss: 0.5629, Test Accuracy: 81.17%\n",
      "Epoch [77/100], Loss: 0.5382, Accuracy: 82.52%, Test Loss: 0.5620, Test Accuracy: 81.21%\n",
      "Epoch [78/100], Loss: 0.5369, Accuracy: 82.50%, Test Loss: 0.5609, Test Accuracy: 81.26%\n",
      "Epoch [79/100], Loss: 0.5355, Accuracy: 82.55%, Test Loss: 0.5598, Test Accuracy: 81.18%\n",
      "Epoch [80/100], Loss: 0.5348, Accuracy: 82.59%, Test Loss: 0.5588, Test Accuracy: 81.36%\n",
      "Epoch [81/100], Loss: 0.5338, Accuracy: 82.62%, Test Loss: 0.5579, Test Accuracy: 81.23%\n",
      "Epoch [82/100], Loss: 0.5329, Accuracy: 82.67%, Test Loss: 0.5571, Test Accuracy: 81.39%\n",
      "Epoch [83/100], Loss: 0.5321, Accuracy: 82.67%, Test Loss: 0.5562, Test Accuracy: 81.38%\n",
      "Epoch [84/100], Loss: 0.5307, Accuracy: 82.69%, Test Loss: 0.5552, Test Accuracy: 81.41%\n",
      "Epoch [85/100], Loss: 0.5298, Accuracy: 82.75%, Test Loss: 0.5544, Test Accuracy: 81.48%\n",
      "Epoch [86/100], Loss: 0.5291, Accuracy: 82.74%, Test Loss: 0.5535, Test Accuracy: 81.48%\n",
      "Epoch [87/100], Loss: 0.5282, Accuracy: 82.78%, Test Loss: 0.5526, Test Accuracy: 81.47%\n",
      "Epoch [88/100], Loss: 0.5272, Accuracy: 82.78%, Test Loss: 0.5519, Test Accuracy: 81.54%\n",
      "Epoch [89/100], Loss: 0.5261, Accuracy: 82.82%, Test Loss: 0.5510, Test Accuracy: 81.43%\n",
      "Epoch [90/100], Loss: 0.5254, Accuracy: 82.80%, Test Loss: 0.5502, Test Accuracy: 81.56%\n",
      "Epoch [91/100], Loss: 0.5245, Accuracy: 82.84%, Test Loss: 0.5495, Test Accuracy: 81.61%\n",
      "Epoch [92/100], Loss: 0.5239, Accuracy: 82.87%, Test Loss: 0.5488, Test Accuracy: 81.62%\n",
      "Epoch [93/100], Loss: 0.5232, Accuracy: 82.91%, Test Loss: 0.5479, Test Accuracy: 81.56%\n",
      "Epoch [94/100], Loss: 0.5219, Accuracy: 82.89%, Test Loss: 0.5473, Test Accuracy: 81.68%\n",
      "Epoch [95/100], Loss: 0.5214, Accuracy: 82.95%, Test Loss: 0.5463, Test Accuracy: 81.65%\n",
      "Epoch [96/100], Loss: 0.5205, Accuracy: 82.97%, Test Loss: 0.5457, Test Accuracy: 81.66%\n",
      "Epoch [97/100], Loss: 0.5201, Accuracy: 82.94%, Test Loss: 0.5448, Test Accuracy: 81.65%\n",
      "Epoch [98/100], Loss: 0.5189, Accuracy: 82.99%, Test Loss: 0.5441, Test Accuracy: 81.68%\n",
      "Epoch [99/100], Loss: 0.5180, Accuracy: 83.00%, Test Loss: 0.5436, Test Accuracy: 81.72%\n",
      "Epoch [100/100], Loss: 0.5178, Accuracy: 83.04%, Test Loss: 0.5428, Test Accuracy: 81.70%\n"
     ]
    }
   ],
   "source": [
    "# train\n",
    "for epoch in range(max_epoch):\n",
    "    running_loss = 0.0\n",
    "    running_correct = 0   # to track number of correct predictions\n",
    "    total = 0             # to track total number of samples\n",
    "\n",
    "    for i, (inputs, labels) in enumerate(trainloader, 0):\n",
    "        # Move inputs and labels to the device\n",
    "        inputs, labels = inputs.to(device), labels.to(device)\n",
    "\n",
    "        # Zero the parameter gradients\n",
    "        optimizer.zero_grad()\n",
    "\n",
    "        # Forward pass\n",
    "        outputs = model(inputs)\n",
    "        loss = criterion(outputs, labels)\n",
    "        running_loss += loss.item()\n",
    "\n",
    "        # Determine class predictions and track accuracy\n",
    "        _, predicted = torch.max(outputs.data, 1)\n",
    "        total += labels.size(0)\n",
    "        running_correct += (predicted == labels).sum().item()\n",
    "\n",
    "        # Backward pass and optimization\n",
    "        loss.backward()\n",
    "        optimizer.step()        \n",
    "\n",
    "    epoch_accuracy = 100 * running_correct / total\n",
    "    epoch_loss = running_loss / (i + 1)\n",
    "    test_loss, test_accuracy = evaluate(model, testloader, criterion)\n",
    "    print(f\"Epoch [{epoch + 1}/{max_epoch}], Loss: {epoch_loss:.4f}, Accuracy: {epoch_accuracy:.2f}%, Test Loss: {test_loss:.4f}, Test Accuracy: {test_accuracy:.2f}%\")\n",
    "    \n",
    "    # save for plot\n",
    "    train_losses.append(epoch_loss)\n",
    "    train_accuracies.append(epoch_accuracy)\n",
    "    test_losses.append(test_loss)\n",
    "    test_accuracies.append(test_accuracy)"
   ]
  },
  {
   "cell_type": "code",
   "execution_count": null,
   "metadata": {
    "id": "QKFbl4unF_6t"
   },
   "outputs": [],
   "source": []
  },
  {
   "cell_type": "code",
   "execution_count": 11,
   "metadata": {
    "id": "AwIj3vrnF_8_"
   },
   "outputs": [
    {
     "data": {
      "text/plain": [
       "<matplotlib.legend.Legend at 0x7f289da89810>"
      ]
     },
     "execution_count": 11,
     "metadata": {},
     "output_type": "execute_result"
    },
    {
     "data": {
      "image/png": "[encoded data removed]",
      "text/plain": [
       "<Figure size 640x480 with 1 Axes>"
      ]
     },
     "metadata": {},
     "output_type": "display_data"
    }
   ],
   "source": [
    "import matplotlib.pyplot as plt\n",
    "\n",
    "plt.plot(train_losses, label='train_losses')\n",
    "plt.plot(test_losses, label='test_losses')\n",
    "plt.legend()"
   ]
  },
  {
   "cell_type": "code",
   "execution_count": 12,
   "metadata": {
    "id": "eh3iDa8lF__H"
   },
   "outputs": [
    {
     "data": {
      "text/plain": [
       "<matplotlib.legend.Legend at 0x7f289d00f430>"
      ]
     },
     "execution_count": 12,
     "metadata": {},
     "output_type": "execute_result"
    },
    {
     "data": {
      "image/png": "[encoded data removed]",
      "text/plain": [
       "<Figure size 640x480 with 1 Axes>"
      ]
     },
     "metadata": {},
     "output_type": "display_data"
    }
   ],
   "source": [
    "import matplotlib.pyplot as plt\n",
    "\n",
    "plt.plot(train_accuracies, label='train_accuracy')\n",
    "plt.plot(test_accuracies, label='test_accuracy')\n",
    "plt.legend()"
   ]
  },
  {
   "cell_type": "code",
   "execution_count": null,
   "metadata": {},
   "outputs": [],
   "source": []
  },
  {
   "cell_type": "code",
   "execution_count": 13,
   "metadata": {},
   "outputs": [
    {
     "data": {
      "text/plain": [
       "<matplotlib.legend.Legend at 0x7f2868272e90>"
      ]
     },
     "execution_count": 13,
     "metadata": {},
     "output_type": "execute_result"
    }
   ],
   "source": [
    "import matplotlib.pyplot as plt\n",
    "%matplotlib qt\n",
    "\n",
    "plt.plot(train_losses, label='train_losses')\n",
    "plt.plot(test_losses, label='test_losses')\n",
    "plt.legend()"
   ]
  },
  {
   "cell_type": "code",
   "execution_count": 14,
   "metadata": {},
   "outputs": [
    {
     "data": {
      "text/plain": [
       "<matplotlib.legend.Legend at 0x7f281c152470>"
      ]
     },
     "execution_count": 14,
     "metadata": {},
     "output_type": "execute_result"
    }
   ],
   "source": [
    "import matplotlib.pyplot as plt\n",
    "%matplotlib qt\n",
    "\n",
    "plt.plot(train_accuracies, label='train_accuracy')\n",
    "plt.plot(test_accuracies, label='test_accuracy')\n",
    "plt.legend()"
   ]
  },
  {
   "cell_type": "code",
   "execution_count": null,
   "metadata": {},
   "outputs": [],
   "source": []
  }
 ],
 "metadata": {
  "accelerator": "GPU",
  "colab": {
   "gpuType": "T4",
   "provenance": []
  },
  "kernelspec": {
   "display_name": "Python 3 (ipykernel)",
   "language": "python",
   "name": "python3"
  },
  "language_info": {
   "codemirror_mode": {
    "name": "ipython",
    "version": 3
   },
   "file_extension": ".py",
   "mimetype": "text/x-python",
   "name": "python",
   "nbconvert_exporter": "python",
   "pygments_lexer": "ipython3",
   "version": "3.10.13"
  }
 },
 "nbformat": 4,
 "nbformat_minor": 4
}
