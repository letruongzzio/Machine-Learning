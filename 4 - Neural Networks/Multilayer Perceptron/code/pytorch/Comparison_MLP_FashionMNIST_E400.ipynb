{
 "cells": [
  {
   "cell_type": "code",
   "execution_count": 1,
   "metadata": {},
   "outputs": [],
   "source": [
    "import torch\n",
    "import torch.nn as nn\n",
    "import torch.optim as optim\n",
    "import torchvision\n",
    "import torchvision.transforms as transforms\n",
    "\n",
    "# Check if GPU is available\n",
    "device = torch.device(\"cuda:0\" if torch.cuda.is_available() else \"cpu\")"
   ]
  },
  {
   "cell_type": "code",
   "execution_count": null,
   "metadata": {},
   "outputs": [],
   "source": []
  },
  {
   "cell_type": "markdown",
   "metadata": {},
   "source": [
    "#### Data"
   ]
  },
  {
   "cell_type": "code",
   "execution_count": 2,
   "metadata": {},
   "outputs": [],
   "source": [
    "# Load CFashionMNIST dataset\n",
    "transform = transforms.Compose([transforms.ToTensor(), transforms.Normalize((0.5,), (0.5,))])\n",
    "\n",
    "trainset = torchvision.datasets.FashionMNIST(root='data', train=True, download=True, transform=transform)\n",
    "trainloader = torch.utils.data.DataLoader(trainset, batch_size=1024, num_workers=10, shuffle=True)\n",
    "\n",
    "testset = torchvision.datasets.FashionMNIST(root='data', train=False, download=True, transform=transform)\n",
    "testloader = torch.utils.data.DataLoader(testset, batch_size=1024, num_workers=10, shuffle=False)"
   ]
  },
  {
   "cell_type": "code",
   "execution_count": 3,
   "metadata": {},
   "outputs": [
    {
     "data": {
      "image/png": "[encoded data removed]",
      "text/plain": [
       "<Figure size 640x480 with 1 Axes>"
      ]
     },
     "metadata": {},
     "output_type": "display_data"
    }
   ],
   "source": [
    "import matplotlib.pyplot as plt\n",
    "import numpy as np\n",
    "\n",
    "# Function to display the images\n",
    "def imshow(img):\n",
    "    img = img*0.5 + 0.5\n",
    "    np_img = img.numpy()\n",
    "    plt.imshow(np.transpose(np_img, (1, 2, 0)))\n",
    "    plt.show()\n",
    "\n",
    "for i, (images, labels) in enumerate(trainloader, 0):\n",
    "    # Plot some images\n",
    "    imshow(torchvision.utils.make_grid(images[:8]))  # Display 8 images from the batch\n",
    "    break"
   ]
  },
  {
   "cell_type": "code",
   "execution_count": null,
   "metadata": {},
   "outputs": [],
   "source": []
  },
  {
   "cell_type": "markdown",
   "metadata": {},
   "source": [
    "#### Model"
   ]
  },
  {
   "cell_type": "code",
   "execution_count": 4,
   "metadata": {},
   "outputs": [
    {
     "name": "stdout",
     "output_type": "stream",
     "text": [
      "Sequential(\n",
      "  (0): Flatten(start_dim=1, end_dim=-1)\n",
      "  (1): Linear(in_features=784, out_features=256, bias=True)\n",
      "  (2): ReLU()\n",
      "  (3): Linear(in_features=256, out_features=10, bias=True)\n",
      ")\n"
     ]
    }
   ],
   "source": [
    "model = nn.Sequential(\n",
    "    nn.Flatten(), nn.Linear(784, 256),\n",
    "    nn.ReLU(), nn.Linear(256, 10)\n",
    ")\n",
    "model = model.to(device)\n",
    "\n",
    "print(model)"
   ]
  },
  {
   "cell_type": "code",
   "execution_count": 5,
   "metadata": {},
   "outputs": [
    {
     "name": "stdout",
     "output_type": "stream",
     "text": [
      "torch.Size([5, 10])\n"
     ]
    }
   ],
   "source": [
    "# Generating a random tensor\n",
    "input_tensor = torch.rand(5, 28, 28).to(device)\n",
    "\n",
    "# Feeding the tensor into the model\n",
    "output = model(input_tensor)\n",
    "print(output.shape)"
   ]
  },
  {
   "cell_type": "code",
   "execution_count": null,
   "metadata": {},
   "outputs": [],
   "source": []
  },
  {
   "cell_type": "markdown",
   "metadata": {},
   "source": [
    "#### Loss, Optimizer, and Evaluation Function"
   ]
  },
  {
   "cell_type": "code",
   "execution_count": 6,
   "metadata": {},
   "outputs": [],
   "source": [
    "criterion = nn.CrossEntropyLoss()\n",
    "optimizer = optim.SGD(model.parameters(), lr=0.01)"
   ]
  },
  {
   "cell_type": "code",
   "execution_count": 7,
   "metadata": {},
   "outputs": [],
   "source": [
    "# Function to compute loss and accuracy for test set\n",
    "def evaluate(model, testloader, criterion):\n",
    "    model.eval()\n",
    "    test_loss = 0.0\n",
    "    correct = 0\n",
    "    total = 0\n",
    "    with torch.no_grad():\n",
    "        for images, labels in testloader:\n",
    "            # Move inputs and labels to the device\n",
    "            images, labels = images.to(device), labels.to(device)\n",
    "\n",
    "            outputs = model(images)\n",
    "            loss = criterion(outputs, labels)\n",
    "            test_loss += loss.item()\n",
    "            \n",
    "            _, predicted = torch.max(outputs.data, 1)\n",
    "            total += labels.size(0)\n",
    "            correct += (predicted == labels).sum().item()\n",
    "\n",
    "    accuracy = 100 * correct / total\n",
    "    test_loss = test_loss / len(testloader)\n",
    "    return test_loss, accuracy"
   ]
  },
  {
   "cell_type": "code",
   "execution_count": 8,
   "metadata": {},
   "outputs": [
    {
     "name": "stdout",
     "output_type": "stream",
     "text": [
      "test_loss: 2.3281487941741945\n",
      "test_accuracy: 9.14\n"
     ]
    }
   ],
   "source": [
    "test_loss, test_accuracy = evaluate(model, testloader, criterion)\n",
    "print(f'test_loss: {test_loss}')\n",
    "print(f'test_accuracy: {test_accuracy}')"
   ]
  },
  {
   "cell_type": "code",
   "execution_count": null,
   "metadata": {},
   "outputs": [],
   "source": []
  },
  {
   "cell_type": "markdown",
   "metadata": {},
   "source": [
    "#### Train"
   ]
  },
  {
   "cell_type": "code",
   "execution_count": 9,
   "metadata": {},
   "outputs": [],
   "source": [
    "# some parameter\n",
    "train_losses = []\n",
    "train_accuracies = []\n",
    "test_losses = []\n",
    "test_accuracies = []\n",
    "max_epoch = 400"
   ]
  },
  {
   "cell_type": "code",
   "execution_count": 10,
   "metadata": {
    "colab": {
     "base_uri": "https://localhost:8080/"
    },
    "id": "tYwXeSOOF_4Z",
    "outputId": "a4c62a4a-267f-4101-ce96-662cc23cdbe0"
   },
   "outputs": [
    {
     "name": "stdout",
     "output_type": "stream",
     "text": [
      "Epoch [1/400], Loss: 1.8634, Accuracy: 46.69%, Test Loss: 1.4745, Test Accuracy: 62.15%\n",
      "Epoch [2/400], Loss: 1.2507, Accuracy: 67.33%, Test Loss: 1.0901, Test Accuracy: 69.68%\n",
      "Epoch [3/400], Loss: 0.9879, Accuracy: 71.41%, Test Loss: 0.9212, Test Accuracy: 71.48%\n",
      "Epoch [4/400], Loss: 0.8613, Accuracy: 73.07%, Test Loss: 0.8303, Test Accuracy: 72.92%\n",
      "Epoch [5/400], Loss: 0.7871, Accuracy: 74.27%, Test Loss: 0.7738, Test Accuracy: 73.81%\n",
      "Epoch [6/400], Loss: 0.7381, Accuracy: 75.19%, Test Loss: 0.7334, Test Accuracy: 74.79%\n",
      "Epoch [7/400], Loss: 0.7023, Accuracy: 75.93%, Test Loss: 0.7044, Test Accuracy: 75.37%\n",
      "Epoch [8/400], Loss: 0.6750, Accuracy: 76.55%, Test Loss: 0.6798, Test Accuracy: 76.13%\n",
      "Epoch [9/400], Loss: 0.6524, Accuracy: 77.27%, Test Loss: 0.6605, Test Accuracy: 76.79%\n",
      "Epoch [10/400], Loss: 0.6344, Accuracy: 77.83%, Test Loss: 0.6439, Test Accuracy: 77.36%\n",
      "Epoch [11/400], Loss: 0.6180, Accuracy: 78.47%, Test Loss: 0.6299, Test Accuracy: 77.84%\n",
      "Epoch [12/400], Loss: 0.6035, Accuracy: 78.94%, Test Loss: 0.6174, Test Accuracy: 78.16%\n",
      "Epoch [13/400], Loss: 0.5917, Accuracy: 79.36%, Test Loss: 0.6055, Test Accuracy: 78.66%\n",
      "Epoch [14/400], Loss: 0.5805, Accuracy: 79.77%, Test Loss: 0.5958, Test Accuracy: 78.89%\n",
      "Epoch [15/400], Loss: 0.5707, Accuracy: 80.19%, Test Loss: 0.5869, Test Accuracy: 79.24%\n",
      "Epoch [16/400], Loss: 0.5613, Accuracy: 80.50%, Test Loss: 0.5787, Test Accuracy: 79.45%\n",
      "Epoch [17/400], Loss: 0.5534, Accuracy: 80.77%, Test Loss: 0.5722, Test Accuracy: 79.76%\n",
      "Epoch [18/400], Loss: 0.5459, Accuracy: 81.05%, Test Loss: 0.5650, Test Accuracy: 80.03%\n",
      "Epoch [19/400], Loss: 0.5394, Accuracy: 81.32%, Test Loss: 0.5588, Test Accuracy: 80.09%\n",
      "Epoch [20/400], Loss: 0.5331, Accuracy: 81.53%, Test Loss: 0.5535, Test Accuracy: 80.40%\n",
      "Epoch [21/400], Loss: 0.5276, Accuracy: 81.70%, Test Loss: 0.5482, Test Accuracy: 80.57%\n",
      "Epoch [22/400], Loss: 0.5221, Accuracy: 81.88%, Test Loss: 0.5429, Test Accuracy: 80.64%\n",
      "Epoch [23/400], Loss: 0.5168, Accuracy: 82.04%, Test Loss: 0.5388, Test Accuracy: 80.89%\n",
      "Epoch [24/400], Loss: 0.5122, Accuracy: 82.19%, Test Loss: 0.5348, Test Accuracy: 80.92%\n",
      "Epoch [25/400], Loss: 0.5079, Accuracy: 82.30%, Test Loss: 0.5310, Test Accuracy: 80.95%\n",
      "Epoch [26/400], Loss: 0.5039, Accuracy: 82.53%, Test Loss: 0.5279, Test Accuracy: 81.08%\n",
      "Epoch [27/400], Loss: 0.5003, Accuracy: 82.65%, Test Loss: 0.5244, Test Accuracy: 81.20%\n",
      "Epoch [28/400], Loss: 0.4962, Accuracy: 82.73%, Test Loss: 0.5211, Test Accuracy: 81.53%\n",
      "Epoch [29/400], Loss: 0.4927, Accuracy: 82.86%, Test Loss: 0.5176, Test Accuracy: 81.45%\n",
      "Epoch [30/400], Loss: 0.4894, Accuracy: 82.93%, Test Loss: 0.5146, Test Accuracy: 81.70%\n",
      "Epoch [31/400], Loss: 0.4861, Accuracy: 83.06%, Test Loss: 0.5118, Test Accuracy: 81.48%\n",
      "Epoch [32/400], Loss: 0.4831, Accuracy: 83.16%, Test Loss: 0.5097, Test Accuracy: 81.76%\n",
      "Epoch [33/400], Loss: 0.4801, Accuracy: 83.21%, Test Loss: 0.5070, Test Accuracy: 81.93%\n",
      "Epoch [34/400], Loss: 0.4783, Accuracy: 83.27%, Test Loss: 0.5052, Test Accuracy: 81.73%\n",
      "Epoch [35/400], Loss: 0.4752, Accuracy: 83.38%, Test Loss: 0.5025, Test Accuracy: 81.98%\n",
      "Epoch [36/400], Loss: 0.4724, Accuracy: 83.48%, Test Loss: 0.5004, Test Accuracy: 81.88%\n",
      "Epoch [37/400], Loss: 0.4703, Accuracy: 83.60%, Test Loss: 0.4980, Test Accuracy: 82.24%\n",
      "Epoch [38/400], Loss: 0.4681, Accuracy: 83.64%, Test Loss: 0.4965, Test Accuracy: 82.24%\n",
      "Epoch [39/400], Loss: 0.4656, Accuracy: 83.69%, Test Loss: 0.4947, Test Accuracy: 82.33%\n",
      "Epoch [40/400], Loss: 0.4635, Accuracy: 83.78%, Test Loss: 0.4924, Test Accuracy: 82.25%\n",
      "Epoch [41/400], Loss: 0.4617, Accuracy: 83.84%, Test Loss: 0.4909, Test Accuracy: 82.20%\n",
      "Epoch [42/400], Loss: 0.4596, Accuracy: 83.89%, Test Loss: 0.4894, Test Accuracy: 82.44%\n",
      "Epoch [43/400], Loss: 0.4571, Accuracy: 84.00%, Test Loss: 0.4869, Test Accuracy: 82.49%\n",
      "Epoch [44/400], Loss: 0.4555, Accuracy: 84.12%, Test Loss: 0.4861, Test Accuracy: 82.47%\n",
      "Epoch [45/400], Loss: 0.4538, Accuracy: 84.15%, Test Loss: 0.4834, Test Accuracy: 82.64%\n",
      "Epoch [46/400], Loss: 0.4521, Accuracy: 84.20%, Test Loss: 0.4823, Test Accuracy: 82.75%\n",
      "Epoch [47/400], Loss: 0.4502, Accuracy: 84.26%, Test Loss: 0.4806, Test Accuracy: 82.75%\n",
      "Epoch [48/400], Loss: 0.4484, Accuracy: 84.29%, Test Loss: 0.4791, Test Accuracy: 82.71%\n",
      "Epoch [49/400], Loss: 0.4470, Accuracy: 84.35%, Test Loss: 0.4783, Test Accuracy: 82.86%\n",
      "Epoch [50/400], Loss: 0.4451, Accuracy: 84.40%, Test Loss: 0.4761, Test Accuracy: 82.90%\n",
      "Epoch [51/400], Loss: 0.4436, Accuracy: 84.46%, Test Loss: 0.4748, Test Accuracy: 82.95%\n",
      "Epoch [52/400], Loss: 0.4421, Accuracy: 84.52%, Test Loss: 0.4737, Test Accuracy: 83.02%\n",
      "Epoch [53/400], Loss: 0.4405, Accuracy: 84.59%, Test Loss: 0.4724, Test Accuracy: 83.06%\n",
      "Epoch [54/400], Loss: 0.4391, Accuracy: 84.63%, Test Loss: 0.4708, Test Accuracy: 83.09%\n",
      "Epoch [55/400], Loss: 0.4380, Accuracy: 84.72%, Test Loss: 0.4707, Test Accuracy: 82.96%\n",
      "Epoch [56/400], Loss: 0.4361, Accuracy: 84.75%, Test Loss: 0.4685, Test Accuracy: 83.06%\n",
      "Epoch [57/400], Loss: 0.4347, Accuracy: 84.80%, Test Loss: 0.4669, Test Accuracy: 83.03%\n",
      "Epoch [58/400], Loss: 0.4333, Accuracy: 84.84%, Test Loss: 0.4659, Test Accuracy: 83.44%\n",
      "Epoch [59/400], Loss: 0.4322, Accuracy: 84.84%, Test Loss: 0.4650, Test Accuracy: 83.21%\n",
      "Epoch [60/400], Loss: 0.4311, Accuracy: 84.97%, Test Loss: 0.4637, Test Accuracy: 83.23%\n",
      "Epoch [61/400], Loss: 0.4293, Accuracy: 84.98%, Test Loss: 0.4626, Test Accuracy: 83.47%\n",
      "Epoch [62/400], Loss: 0.4286, Accuracy: 85.02%, Test Loss: 0.4615, Test Accuracy: 83.39%\n",
      "Epoch [63/400], Loss: 0.4272, Accuracy: 85.05%, Test Loss: 0.4606, Test Accuracy: 83.43%\n",
      "Epoch [64/400], Loss: 0.4258, Accuracy: 85.10%, Test Loss: 0.4593, Test Accuracy: 83.58%\n",
      "Epoch [65/400], Loss: 0.4246, Accuracy: 85.13%, Test Loss: 0.4589, Test Accuracy: 83.53%\n",
      "Epoch [66/400], Loss: 0.4234, Accuracy: 85.18%, Test Loss: 0.4580, Test Accuracy: 83.42%\n",
      "Epoch [67/400], Loss: 0.4225, Accuracy: 85.22%, Test Loss: 0.4562, Test Accuracy: 83.61%\n",
      "Epoch [68/400], Loss: 0.4210, Accuracy: 85.26%, Test Loss: 0.4550, Test Accuracy: 83.54%\n",
      "Epoch [69/400], Loss: 0.4204, Accuracy: 85.28%, Test Loss: 0.4544, Test Accuracy: 83.67%\n",
      "Epoch [70/400], Loss: 0.4190, Accuracy: 85.36%, Test Loss: 0.4535, Test Accuracy: 83.75%\n",
      "Epoch [71/400], Loss: 0.4177, Accuracy: 85.39%, Test Loss: 0.4525, Test Accuracy: 83.75%\n",
      "Epoch [72/400], Loss: 0.4162, Accuracy: 85.44%, Test Loss: 0.4512, Test Accuracy: 83.81%\n",
      "Epoch [73/400], Loss: 0.4156, Accuracy: 85.48%, Test Loss: 0.4509, Test Accuracy: 83.83%\n",
      "Epoch [74/400], Loss: 0.4146, Accuracy: 85.49%, Test Loss: 0.4497, Test Accuracy: 83.79%\n",
      "Epoch [75/400], Loss: 0.4139, Accuracy: 85.47%, Test Loss: 0.4487, Test Accuracy: 83.94%\n",
      "Epoch [76/400], Loss: 0.4131, Accuracy: 85.56%, Test Loss: 0.4480, Test Accuracy: 83.92%\n",
      "Epoch [77/400], Loss: 0.4116, Accuracy: 85.58%, Test Loss: 0.4470, Test Accuracy: 83.83%\n",
      "Epoch [78/400], Loss: 0.4112, Accuracy: 85.63%, Test Loss: 0.4465, Test Accuracy: 83.92%\n",
      "Epoch [79/400], Loss: 0.4094, Accuracy: 85.67%, Test Loss: 0.4453, Test Accuracy: 83.97%\n",
      "Epoch [80/400], Loss: 0.4087, Accuracy: 85.70%, Test Loss: 0.4443, Test Accuracy: 83.96%\n",
      "Epoch [81/400], Loss: 0.4077, Accuracy: 85.72%, Test Loss: 0.4442, Test Accuracy: 84.07%\n",
      "Epoch [82/400], Loss: 0.4073, Accuracy: 85.80%, Test Loss: 0.4437, Test Accuracy: 83.89%\n",
      "Epoch [83/400], Loss: 0.4061, Accuracy: 85.83%, Test Loss: 0.4420, Test Accuracy: 84.10%\n",
      "Epoch [84/400], Loss: 0.4053, Accuracy: 85.84%, Test Loss: 0.4414, Test Accuracy: 84.03%\n",
      "Epoch [85/400], Loss: 0.4043, Accuracy: 85.85%, Test Loss: 0.4410, Test Accuracy: 84.17%\n",
      "Epoch [86/400], Loss: 0.4037, Accuracy: 85.90%, Test Loss: 0.4397, Test Accuracy: 84.20%\n",
      "Epoch [87/400], Loss: 0.4022, Accuracy: 85.95%, Test Loss: 0.4397, Test Accuracy: 84.15%\n",
      "Epoch [88/400], Loss: 0.4016, Accuracy: 85.95%, Test Loss: 0.4382, Test Accuracy: 84.29%\n",
      "Epoch [89/400], Loss: 0.4007, Accuracy: 86.03%, Test Loss: 0.4379, Test Accuracy: 84.36%\n",
      "Epoch [90/400], Loss: 0.3998, Accuracy: 86.06%, Test Loss: 0.4371, Test Accuracy: 84.41%\n",
      "Epoch [91/400], Loss: 0.3991, Accuracy: 86.11%, Test Loss: 0.4367, Test Accuracy: 84.40%\n",
      "Epoch [92/400], Loss: 0.3982, Accuracy: 86.05%, Test Loss: 0.4361, Test Accuracy: 84.39%\n",
      "Epoch [93/400], Loss: 0.3974, Accuracy: 86.12%, Test Loss: 0.4346, Test Accuracy: 84.33%\n",
      "Epoch [94/400], Loss: 0.3968, Accuracy: 86.17%, Test Loss: 0.4342, Test Accuracy: 84.45%\n",
      "Epoch [95/400], Loss: 0.3958, Accuracy: 86.17%, Test Loss: 0.4333, Test Accuracy: 84.42%\n",
      "Epoch [96/400], Loss: 0.3950, Accuracy: 86.19%, Test Loss: 0.4335, Test Accuracy: 84.47%\n",
      "Epoch [97/400], Loss: 0.3943, Accuracy: 86.26%, Test Loss: 0.4323, Test Accuracy: 84.43%\n",
      "Epoch [98/400], Loss: 0.3933, Accuracy: 86.24%, Test Loss: 0.4321, Test Accuracy: 84.58%\n",
      "Epoch [99/400], Loss: 0.3927, Accuracy: 86.29%, Test Loss: 0.4310, Test Accuracy: 84.62%\n",
      "Epoch [100/400], Loss: 0.3917, Accuracy: 86.33%, Test Loss: 0.4302, Test Accuracy: 84.60%\n",
      "Epoch [101/400], Loss: 0.3908, Accuracy: 86.30%, Test Loss: 0.4296, Test Accuracy: 84.62%\n",
      "Epoch [102/400], Loss: 0.3903, Accuracy: 86.38%, Test Loss: 0.4290, Test Accuracy: 84.63%\n",
      "Epoch [103/400], Loss: 0.3891, Accuracy: 86.38%, Test Loss: 0.4291, Test Accuracy: 84.55%\n",
      "Epoch [104/400], Loss: 0.3888, Accuracy: 86.43%, Test Loss: 0.4277, Test Accuracy: 84.56%\n",
      "Epoch [105/400], Loss: 0.3878, Accuracy: 86.46%, Test Loss: 0.4272, Test Accuracy: 84.69%\n",
      "Epoch [106/400], Loss: 0.3876, Accuracy: 86.47%, Test Loss: 0.4265, Test Accuracy: 84.67%\n",
      "Epoch [107/400], Loss: 0.3868, Accuracy: 86.52%, Test Loss: 0.4261, Test Accuracy: 84.64%\n",
      "Epoch [108/400], Loss: 0.3862, Accuracy: 86.50%, Test Loss: 0.4259, Test Accuracy: 84.79%\n",
      "Epoch [109/400], Loss: 0.3852, Accuracy: 86.53%, Test Loss: 0.4250, Test Accuracy: 84.74%\n",
      "Epoch [110/400], Loss: 0.3845, Accuracy: 86.53%, Test Loss: 0.4244, Test Accuracy: 84.78%\n",
      "Epoch [111/400], Loss: 0.3842, Accuracy: 86.60%, Test Loss: 0.4241, Test Accuracy: 84.80%\n",
      "Epoch [112/400], Loss: 0.3833, Accuracy: 86.59%, Test Loss: 0.4230, Test Accuracy: 84.86%\n",
      "Epoch [113/400], Loss: 0.3828, Accuracy: 86.61%, Test Loss: 0.4226, Test Accuracy: 84.68%\n",
      "Epoch [114/400], Loss: 0.3821, Accuracy: 86.71%, Test Loss: 0.4222, Test Accuracy: 84.93%\n",
      "Epoch [115/400], Loss: 0.3815, Accuracy: 86.68%, Test Loss: 0.4213, Test Accuracy: 84.94%\n",
      "Epoch [116/400], Loss: 0.3805, Accuracy: 86.70%, Test Loss: 0.4208, Test Accuracy: 84.83%\n",
      "Epoch [117/400], Loss: 0.3804, Accuracy: 86.70%, Test Loss: 0.4207, Test Accuracy: 84.92%\n",
      "Epoch [118/400], Loss: 0.3792, Accuracy: 86.76%, Test Loss: 0.4197, Test Accuracy: 85.08%\n",
      "Epoch [119/400], Loss: 0.3784, Accuracy: 86.74%, Test Loss: 0.4196, Test Accuracy: 84.85%\n",
      "Epoch [120/400], Loss: 0.3781, Accuracy: 86.79%, Test Loss: 0.4188, Test Accuracy: 85.06%\n",
      "Epoch [121/400], Loss: 0.3779, Accuracy: 86.84%, Test Loss: 0.4186, Test Accuracy: 84.96%\n",
      "Epoch [122/400], Loss: 0.3771, Accuracy: 86.83%, Test Loss: 0.4180, Test Accuracy: 85.08%\n",
      "Epoch [123/400], Loss: 0.3761, Accuracy: 86.86%, Test Loss: 0.4170, Test Accuracy: 84.98%\n",
      "Epoch [124/400], Loss: 0.3756, Accuracy: 86.87%, Test Loss: 0.4174, Test Accuracy: 84.96%\n",
      "Epoch [125/400], Loss: 0.3750, Accuracy: 86.89%, Test Loss: 0.4160, Test Accuracy: 85.02%\n",
      "Epoch [126/400], Loss: 0.3748, Accuracy: 86.90%, Test Loss: 0.4158, Test Accuracy: 85.08%\n",
      "Epoch [127/400], Loss: 0.3738, Accuracy: 86.89%, Test Loss: 0.4155, Test Accuracy: 85.19%\n",
      "Epoch [128/400], Loss: 0.3736, Accuracy: 86.94%, Test Loss: 0.4150, Test Accuracy: 85.07%\n",
      "Epoch [129/400], Loss: 0.3725, Accuracy: 87.04%, Test Loss: 0.4148, Test Accuracy: 85.22%\n",
      "Epoch [130/400], Loss: 0.3725, Accuracy: 87.00%, Test Loss: 0.4142, Test Accuracy: 85.15%\n",
      "Epoch [131/400], Loss: 0.3714, Accuracy: 87.03%, Test Loss: 0.4137, Test Accuracy: 85.11%\n",
      "Epoch [132/400], Loss: 0.3708, Accuracy: 87.07%, Test Loss: 0.4128, Test Accuracy: 85.26%\n",
      "Epoch [133/400], Loss: 0.3697, Accuracy: 87.08%, Test Loss: 0.4130, Test Accuracy: 85.27%\n",
      "Epoch [134/400], Loss: 0.3697, Accuracy: 87.10%, Test Loss: 0.4121, Test Accuracy: 85.37%\n",
      "Epoch [135/400], Loss: 0.3692, Accuracy: 87.09%, Test Loss: 0.4114, Test Accuracy: 85.27%\n",
      "Epoch [136/400], Loss: 0.3685, Accuracy: 87.16%, Test Loss: 0.4110, Test Accuracy: 85.34%\n",
      "Epoch [137/400], Loss: 0.3681, Accuracy: 87.15%, Test Loss: 0.4116, Test Accuracy: 85.29%\n",
      "Epoch [138/400], Loss: 0.3677, Accuracy: 87.14%, Test Loss: 0.4105, Test Accuracy: 85.29%\n",
      "Epoch [139/400], Loss: 0.3670, Accuracy: 87.19%, Test Loss: 0.4097, Test Accuracy: 85.36%\n",
      "Epoch [140/400], Loss: 0.3666, Accuracy: 87.22%, Test Loss: 0.4096, Test Accuracy: 85.28%\n",
      "Epoch [141/400], Loss: 0.3656, Accuracy: 87.20%, Test Loss: 0.4093, Test Accuracy: 85.31%\n",
      "Epoch [142/400], Loss: 0.3651, Accuracy: 87.25%, Test Loss: 0.4087, Test Accuracy: 85.36%\n",
      "Epoch [143/400], Loss: 0.3647, Accuracy: 87.30%, Test Loss: 0.4082, Test Accuracy: 85.40%\n",
      "Epoch [144/400], Loss: 0.3641, Accuracy: 87.25%, Test Loss: 0.4078, Test Accuracy: 85.44%\n",
      "Epoch [145/400], Loss: 0.3638, Accuracy: 87.29%, Test Loss: 0.4070, Test Accuracy: 85.50%\n",
      "Epoch [146/400], Loss: 0.3633, Accuracy: 87.36%, Test Loss: 0.4069, Test Accuracy: 85.48%\n",
      "Epoch [147/400], Loss: 0.3626, Accuracy: 87.28%, Test Loss: 0.4068, Test Accuracy: 85.57%\n",
      "Epoch [148/400], Loss: 0.3626, Accuracy: 87.36%, Test Loss: 0.4060, Test Accuracy: 85.52%\n",
      "Epoch [149/400], Loss: 0.3615, Accuracy: 87.40%, Test Loss: 0.4058, Test Accuracy: 85.49%\n",
      "Epoch [150/400], Loss: 0.3614, Accuracy: 87.39%, Test Loss: 0.4058, Test Accuracy: 85.38%\n",
      "Epoch [151/400], Loss: 0.3608, Accuracy: 87.37%, Test Loss: 0.4045, Test Accuracy: 85.62%\n",
      "Epoch [152/400], Loss: 0.3601, Accuracy: 87.43%, Test Loss: 0.4043, Test Accuracy: 85.61%\n",
      "Epoch [153/400], Loss: 0.3592, Accuracy: 87.47%, Test Loss: 0.4043, Test Accuracy: 85.55%\n",
      "Epoch [154/400], Loss: 0.3591, Accuracy: 87.47%, Test Loss: 0.4036, Test Accuracy: 85.58%\n",
      "Epoch [155/400], Loss: 0.3588, Accuracy: 87.48%, Test Loss: 0.4035, Test Accuracy: 85.62%\n",
      "Epoch [156/400], Loss: 0.3578, Accuracy: 87.46%, Test Loss: 0.4035, Test Accuracy: 85.59%\n",
      "Epoch [157/400], Loss: 0.3575, Accuracy: 87.51%, Test Loss: 0.4031, Test Accuracy: 85.57%\n",
      "Epoch [158/400], Loss: 0.3571, Accuracy: 87.49%, Test Loss: 0.4023, Test Accuracy: 85.79%\n",
      "Epoch [159/400], Loss: 0.3565, Accuracy: 87.54%, Test Loss: 0.4025, Test Accuracy: 85.61%\n",
      "Epoch [160/400], Loss: 0.3564, Accuracy: 87.52%, Test Loss: 0.4013, Test Accuracy: 85.70%\n",
      "Epoch [161/400], Loss: 0.3557, Accuracy: 87.56%, Test Loss: 0.4012, Test Accuracy: 85.69%\n",
      "Epoch [162/400], Loss: 0.3554, Accuracy: 87.57%, Test Loss: 0.4004, Test Accuracy: 85.83%\n",
      "Epoch [163/400], Loss: 0.3549, Accuracy: 87.58%, Test Loss: 0.4000, Test Accuracy: 85.74%\n",
      "Epoch [164/400], Loss: 0.3541, Accuracy: 87.64%, Test Loss: 0.4006, Test Accuracy: 85.79%\n",
      "Epoch [165/400], Loss: 0.3541, Accuracy: 87.61%, Test Loss: 0.4002, Test Accuracy: 85.86%\n",
      "Epoch [166/400], Loss: 0.3529, Accuracy: 87.63%, Test Loss: 0.3998, Test Accuracy: 85.91%\n",
      "Epoch [167/400], Loss: 0.3531, Accuracy: 87.64%, Test Loss: 0.3992, Test Accuracy: 85.78%\n",
      "Epoch [168/400], Loss: 0.3526, Accuracy: 87.70%, Test Loss: 0.3986, Test Accuracy: 85.87%\n",
      "Epoch [169/400], Loss: 0.3520, Accuracy: 87.69%, Test Loss: 0.3979, Test Accuracy: 85.90%\n",
      "Epoch [170/400], Loss: 0.3515, Accuracy: 87.69%, Test Loss: 0.3977, Test Accuracy: 85.77%\n",
      "Epoch [171/400], Loss: 0.3512, Accuracy: 87.78%, Test Loss: 0.3972, Test Accuracy: 85.89%\n",
      "Epoch [172/400], Loss: 0.3506, Accuracy: 87.74%, Test Loss: 0.3976, Test Accuracy: 85.80%\n",
      "Epoch [173/400], Loss: 0.3500, Accuracy: 87.75%, Test Loss: 0.3972, Test Accuracy: 85.87%\n",
      "Epoch [174/400], Loss: 0.3495, Accuracy: 87.77%, Test Loss: 0.3964, Test Accuracy: 86.04%\n",
      "Epoch [175/400], Loss: 0.3492, Accuracy: 87.78%, Test Loss: 0.3965, Test Accuracy: 86.04%\n",
      "Epoch [176/400], Loss: 0.3486, Accuracy: 87.79%, Test Loss: 0.3957, Test Accuracy: 85.97%\n",
      "Epoch [177/400], Loss: 0.3483, Accuracy: 87.88%, Test Loss: 0.3952, Test Accuracy: 85.99%\n",
      "Epoch [178/400], Loss: 0.3477, Accuracy: 87.84%, Test Loss: 0.3957, Test Accuracy: 86.13%\n",
      "Epoch [179/400], Loss: 0.3473, Accuracy: 87.92%, Test Loss: 0.3954, Test Accuracy: 85.90%\n",
      "Epoch [180/400], Loss: 0.3470, Accuracy: 87.81%, Test Loss: 0.3947, Test Accuracy: 85.84%\n",
      "Epoch [181/400], Loss: 0.3464, Accuracy: 87.92%, Test Loss: 0.3952, Test Accuracy: 86.07%\n",
      "Epoch [182/400], Loss: 0.3466, Accuracy: 87.86%, Test Loss: 0.3936, Test Accuracy: 86.03%\n",
      "Epoch [183/400], Loss: 0.3456, Accuracy: 87.89%, Test Loss: 0.3938, Test Accuracy: 85.98%\n",
      "Epoch [184/400], Loss: 0.3454, Accuracy: 87.89%, Test Loss: 0.3933, Test Accuracy: 86.18%\n",
      "Epoch [185/400], Loss: 0.3450, Accuracy: 87.91%, Test Loss: 0.3934, Test Accuracy: 86.08%\n",
      "Epoch [186/400], Loss: 0.3446, Accuracy: 87.96%, Test Loss: 0.3934, Test Accuracy: 86.08%\n",
      "Epoch [187/400], Loss: 0.3440, Accuracy: 87.91%, Test Loss: 0.3921, Test Accuracy: 86.22%\n",
      "Epoch [188/400], Loss: 0.3437, Accuracy: 87.97%, Test Loss: 0.3928, Test Accuracy: 86.10%\n",
      "Epoch [189/400], Loss: 0.3434, Accuracy: 88.00%, Test Loss: 0.3914, Test Accuracy: 86.02%\n",
      "Epoch [190/400], Loss: 0.3432, Accuracy: 87.97%, Test Loss: 0.3923, Test Accuracy: 86.17%\n",
      "Epoch [191/400], Loss: 0.3422, Accuracy: 87.99%, Test Loss: 0.3914, Test Accuracy: 86.19%\n",
      "Epoch [192/400], Loss: 0.3421, Accuracy: 88.05%, Test Loss: 0.3909, Test Accuracy: 86.20%\n",
      "Epoch [193/400], Loss: 0.3418, Accuracy: 88.03%, Test Loss: 0.3904, Test Accuracy: 86.32%\n",
      "Epoch [194/400], Loss: 0.3414, Accuracy: 88.07%, Test Loss: 0.3900, Test Accuracy: 86.20%\n",
      "Epoch [195/400], Loss: 0.3411, Accuracy: 88.06%, Test Loss: 0.3899, Test Accuracy: 86.27%\n",
      "Epoch [196/400], Loss: 0.3405, Accuracy: 88.14%, Test Loss: 0.3899, Test Accuracy: 86.40%\n",
      "Epoch [197/400], Loss: 0.3398, Accuracy: 88.11%, Test Loss: 0.3896, Test Accuracy: 86.19%\n",
      "Epoch [198/400], Loss: 0.3396, Accuracy: 88.13%, Test Loss: 0.3890, Test Accuracy: 86.18%\n",
      "Epoch [199/400], Loss: 0.3399, Accuracy: 88.13%, Test Loss: 0.3891, Test Accuracy: 86.39%\n",
      "Epoch [200/400], Loss: 0.3387, Accuracy: 88.15%, Test Loss: 0.3885, Test Accuracy: 86.12%\n",
      "Epoch [201/400], Loss: 0.3381, Accuracy: 88.14%, Test Loss: 0.3883, Test Accuracy: 86.47%\n",
      "Epoch [202/400], Loss: 0.3380, Accuracy: 88.13%, Test Loss: 0.3881, Test Accuracy: 86.36%\n",
      "Epoch [203/400], Loss: 0.3378, Accuracy: 88.17%, Test Loss: 0.3878, Test Accuracy: 86.28%\n",
      "Epoch [204/400], Loss: 0.3376, Accuracy: 88.20%, Test Loss: 0.3873, Test Accuracy: 86.32%\n",
      "Epoch [205/400], Loss: 0.3367, Accuracy: 88.21%, Test Loss: 0.3877, Test Accuracy: 86.40%\n",
      "Epoch [206/400], Loss: 0.3368, Accuracy: 88.20%, Test Loss: 0.3868, Test Accuracy: 86.32%\n",
      "Epoch [207/400], Loss: 0.3359, Accuracy: 88.25%, Test Loss: 0.3867, Test Accuracy: 86.36%\n",
      "Epoch [208/400], Loss: 0.3356, Accuracy: 88.25%, Test Loss: 0.3863, Test Accuracy: 86.26%\n",
      "Epoch [209/400], Loss: 0.3358, Accuracy: 88.28%, Test Loss: 0.3867, Test Accuracy: 86.23%\n",
      "Epoch [210/400], Loss: 0.3354, Accuracy: 88.30%, Test Loss: 0.3858, Test Accuracy: 86.44%\n",
      "Epoch [211/400], Loss: 0.3349, Accuracy: 88.28%, Test Loss: 0.3858, Test Accuracy: 86.47%\n",
      "Epoch [212/400], Loss: 0.3343, Accuracy: 88.33%, Test Loss: 0.3855, Test Accuracy: 86.41%\n",
      "Epoch [213/400], Loss: 0.3340, Accuracy: 88.33%, Test Loss: 0.3849, Test Accuracy: 86.49%\n",
      "Epoch [214/400], Loss: 0.3335, Accuracy: 88.37%, Test Loss: 0.3848, Test Accuracy: 86.42%\n",
      "Epoch [215/400], Loss: 0.3333, Accuracy: 88.36%, Test Loss: 0.3847, Test Accuracy: 86.39%\n",
      "Epoch [216/400], Loss: 0.3328, Accuracy: 88.38%, Test Loss: 0.3846, Test Accuracy: 86.43%\n",
      "Epoch [217/400], Loss: 0.3327, Accuracy: 88.39%, Test Loss: 0.3839, Test Accuracy: 86.69%\n",
      "Epoch [218/400], Loss: 0.3322, Accuracy: 88.40%, Test Loss: 0.3836, Test Accuracy: 86.36%\n",
      "Epoch [219/400], Loss: 0.3316, Accuracy: 88.41%, Test Loss: 0.3834, Test Accuracy: 86.50%\n",
      "Epoch [220/400], Loss: 0.3310, Accuracy: 88.41%, Test Loss: 0.3830, Test Accuracy: 86.50%\n",
      "Epoch [221/400], Loss: 0.3313, Accuracy: 88.42%, Test Loss: 0.3829, Test Accuracy: 86.47%\n",
      "Epoch [222/400], Loss: 0.3311, Accuracy: 88.43%, Test Loss: 0.3824, Test Accuracy: 86.54%\n",
      "Epoch [223/400], Loss: 0.3303, Accuracy: 88.43%, Test Loss: 0.3824, Test Accuracy: 86.42%\n",
      "Epoch [224/400], Loss: 0.3298, Accuracy: 88.48%, Test Loss: 0.3824, Test Accuracy: 86.69%\n",
      "Epoch [225/400], Loss: 0.3297, Accuracy: 88.50%, Test Loss: 0.3820, Test Accuracy: 86.64%\n",
      "Epoch [226/400], Loss: 0.3287, Accuracy: 88.48%, Test Loss: 0.3813, Test Accuracy: 86.57%\n",
      "Epoch [227/400], Loss: 0.3288, Accuracy: 88.50%, Test Loss: 0.3823, Test Accuracy: 86.52%\n",
      "Epoch [228/400], Loss: 0.3282, Accuracy: 88.51%, Test Loss: 0.3813, Test Accuracy: 86.63%\n",
      "Epoch [229/400], Loss: 0.3284, Accuracy: 88.48%, Test Loss: 0.3815, Test Accuracy: 86.64%\n",
      "Epoch [230/400], Loss: 0.3278, Accuracy: 88.54%, Test Loss: 0.3809, Test Accuracy: 86.54%\n",
      "Epoch [231/400], Loss: 0.3277, Accuracy: 88.55%, Test Loss: 0.3800, Test Accuracy: 86.62%\n",
      "Epoch [232/400], Loss: 0.3272, Accuracy: 88.54%, Test Loss: 0.3804, Test Accuracy: 86.61%\n",
      "Epoch [233/400], Loss: 0.3270, Accuracy: 88.55%, Test Loss: 0.3801, Test Accuracy: 86.58%\n",
      "Epoch [234/400], Loss: 0.3266, Accuracy: 88.55%, Test Loss: 0.3799, Test Accuracy: 86.52%\n",
      "Epoch [235/400], Loss: 0.3264, Accuracy: 88.59%, Test Loss: 0.3795, Test Accuracy: 86.66%\n",
      "Epoch [236/400], Loss: 0.3261, Accuracy: 88.64%, Test Loss: 0.3791, Test Accuracy: 86.68%\n",
      "Epoch [237/400], Loss: 0.3255, Accuracy: 88.58%, Test Loss: 0.3788, Test Accuracy: 86.63%\n",
      "Epoch [238/400], Loss: 0.3253, Accuracy: 88.57%, Test Loss: 0.3789, Test Accuracy: 86.64%\n",
      "Epoch [239/400], Loss: 0.3248, Accuracy: 88.63%, Test Loss: 0.3782, Test Accuracy: 86.67%\n",
      "Epoch [240/400], Loss: 0.3241, Accuracy: 88.63%, Test Loss: 0.3784, Test Accuracy: 86.67%\n",
      "Epoch [241/400], Loss: 0.3241, Accuracy: 88.62%, Test Loss: 0.3779, Test Accuracy: 86.65%\n",
      "Epoch [242/400], Loss: 0.3239, Accuracy: 88.63%, Test Loss: 0.3773, Test Accuracy: 86.70%\n",
      "Epoch [243/400], Loss: 0.3233, Accuracy: 88.66%, Test Loss: 0.3779, Test Accuracy: 86.69%\n",
      "Epoch [244/400], Loss: 0.3228, Accuracy: 88.70%, Test Loss: 0.3778, Test Accuracy: 86.73%\n",
      "Epoch [245/400], Loss: 0.3229, Accuracy: 88.75%, Test Loss: 0.3771, Test Accuracy: 86.72%\n",
      "Epoch [246/400], Loss: 0.3221, Accuracy: 88.70%, Test Loss: 0.3767, Test Accuracy: 86.63%\n",
      "Epoch [247/400], Loss: 0.3221, Accuracy: 88.72%, Test Loss: 0.3767, Test Accuracy: 86.75%\n",
      "Epoch [248/400], Loss: 0.3222, Accuracy: 88.74%, Test Loss: 0.3765, Test Accuracy: 86.59%\n",
      "Epoch [249/400], Loss: 0.3214, Accuracy: 88.77%, Test Loss: 0.3767, Test Accuracy: 86.89%\n",
      "Epoch [250/400], Loss: 0.3213, Accuracy: 88.73%, Test Loss: 0.3762, Test Accuracy: 86.81%\n",
      "Epoch [251/400], Loss: 0.3204, Accuracy: 88.78%, Test Loss: 0.3759, Test Accuracy: 86.84%\n",
      "Epoch [252/400], Loss: 0.3207, Accuracy: 88.76%, Test Loss: 0.3755, Test Accuracy: 86.66%\n",
      "Epoch [253/400], Loss: 0.3202, Accuracy: 88.77%, Test Loss: 0.3756, Test Accuracy: 86.68%\n",
      "Epoch [254/400], Loss: 0.3201, Accuracy: 88.83%, Test Loss: 0.3749, Test Accuracy: 86.78%\n",
      "Epoch [255/400], Loss: 0.3193, Accuracy: 88.81%, Test Loss: 0.3752, Test Accuracy: 86.78%\n",
      "Epoch [256/400], Loss: 0.3193, Accuracy: 88.85%, Test Loss: 0.3746, Test Accuracy: 86.68%\n",
      "Epoch [257/400], Loss: 0.3188, Accuracy: 88.81%, Test Loss: 0.3744, Test Accuracy: 86.76%\n",
      "Epoch [258/400], Loss: 0.3187, Accuracy: 88.89%, Test Loss: 0.3749, Test Accuracy: 86.93%\n",
      "Epoch [259/400], Loss: 0.3183, Accuracy: 88.86%, Test Loss: 0.3741, Test Accuracy: 86.86%\n",
      "Epoch [260/400], Loss: 0.3180, Accuracy: 88.87%, Test Loss: 0.3737, Test Accuracy: 86.67%\n",
      "Epoch [261/400], Loss: 0.3177, Accuracy: 88.87%, Test Loss: 0.3734, Test Accuracy: 86.79%\n",
      "Epoch [262/400], Loss: 0.3175, Accuracy: 88.88%, Test Loss: 0.3733, Test Accuracy: 86.82%\n",
      "Epoch [263/400], Loss: 0.3173, Accuracy: 88.90%, Test Loss: 0.3732, Test Accuracy: 86.75%\n",
      "Epoch [264/400], Loss: 0.3164, Accuracy: 88.91%, Test Loss: 0.3741, Test Accuracy: 86.82%\n",
      "Epoch [265/400], Loss: 0.3165, Accuracy: 88.96%, Test Loss: 0.3727, Test Accuracy: 86.81%\n",
      "Epoch [266/400], Loss: 0.3162, Accuracy: 88.90%, Test Loss: 0.3727, Test Accuracy: 86.73%\n",
      "Epoch [267/400], Loss: 0.3162, Accuracy: 88.97%, Test Loss: 0.3725, Test Accuracy: 86.91%\n",
      "Epoch [268/400], Loss: 0.3156, Accuracy: 88.97%, Test Loss: 0.3725, Test Accuracy: 86.83%\n",
      "Epoch [269/400], Loss: 0.3153, Accuracy: 88.95%, Test Loss: 0.3721, Test Accuracy: 86.78%\n",
      "Epoch [270/400], Loss: 0.3151, Accuracy: 88.99%, Test Loss: 0.3720, Test Accuracy: 86.82%\n",
      "Epoch [271/400], Loss: 0.3147, Accuracy: 88.98%, Test Loss: 0.3728, Test Accuracy: 86.89%\n",
      "Epoch [272/400], Loss: 0.3143, Accuracy: 88.96%, Test Loss: 0.3716, Test Accuracy: 86.93%\n",
      "Epoch [273/400], Loss: 0.3140, Accuracy: 89.00%, Test Loss: 0.3713, Test Accuracy: 86.78%\n",
      "Epoch [274/400], Loss: 0.3137, Accuracy: 89.02%, Test Loss: 0.3732, Test Accuracy: 86.99%\n",
      "Epoch [275/400], Loss: 0.3131, Accuracy: 89.03%, Test Loss: 0.3709, Test Accuracy: 86.83%\n",
      "Epoch [276/400], Loss: 0.3129, Accuracy: 89.06%, Test Loss: 0.3705, Test Accuracy: 86.89%\n",
      "Epoch [277/400], Loss: 0.3128, Accuracy: 89.06%, Test Loss: 0.3711, Test Accuracy: 86.87%\n",
      "Epoch [278/400], Loss: 0.3119, Accuracy: 89.06%, Test Loss: 0.3705, Test Accuracy: 86.99%\n",
      "Epoch [279/400], Loss: 0.3125, Accuracy: 89.07%, Test Loss: 0.3700, Test Accuracy: 86.81%\n",
      "Epoch [280/400], Loss: 0.3119, Accuracy: 89.06%, Test Loss: 0.3703, Test Accuracy: 86.90%\n",
      "Epoch [281/400], Loss: 0.3117, Accuracy: 89.16%, Test Loss: 0.3698, Test Accuracy: 86.84%\n",
      "Epoch [282/400], Loss: 0.3115, Accuracy: 89.14%, Test Loss: 0.3697, Test Accuracy: 86.90%\n",
      "Epoch [283/400], Loss: 0.3107, Accuracy: 89.11%, Test Loss: 0.3693, Test Accuracy: 86.90%\n",
      "Epoch [284/400], Loss: 0.3107, Accuracy: 89.15%, Test Loss: 0.3695, Test Accuracy: 86.97%\n",
      "Epoch [285/400], Loss: 0.3103, Accuracy: 89.18%, Test Loss: 0.3687, Test Accuracy: 86.99%\n",
      "Epoch [286/400], Loss: 0.3102, Accuracy: 89.17%, Test Loss: 0.3685, Test Accuracy: 86.97%\n",
      "Epoch [287/400], Loss: 0.3099, Accuracy: 89.20%, Test Loss: 0.3690, Test Accuracy: 86.93%\n",
      "Epoch [288/400], Loss: 0.3092, Accuracy: 89.19%, Test Loss: 0.3689, Test Accuracy: 86.99%\n",
      "Epoch [289/400], Loss: 0.3093, Accuracy: 89.21%, Test Loss: 0.3690, Test Accuracy: 87.09%\n",
      "Epoch [290/400], Loss: 0.3087, Accuracy: 89.21%, Test Loss: 0.3679, Test Accuracy: 86.93%\n",
      "Epoch [291/400], Loss: 0.3088, Accuracy: 89.23%, Test Loss: 0.3675, Test Accuracy: 87.02%\n",
      "Epoch [292/400], Loss: 0.3084, Accuracy: 89.25%, Test Loss: 0.3675, Test Accuracy: 86.80%\n",
      "Epoch [293/400], Loss: 0.3076, Accuracy: 89.22%, Test Loss: 0.3674, Test Accuracy: 86.94%\n",
      "Epoch [294/400], Loss: 0.3074, Accuracy: 89.26%, Test Loss: 0.3674, Test Accuracy: 86.94%\n",
      "Epoch [295/400], Loss: 0.3074, Accuracy: 89.24%, Test Loss: 0.3670, Test Accuracy: 87.01%\n",
      "Epoch [296/400], Loss: 0.3072, Accuracy: 89.30%, Test Loss: 0.3668, Test Accuracy: 86.91%\n",
      "Epoch [297/400], Loss: 0.3067, Accuracy: 89.31%, Test Loss: 0.3664, Test Accuracy: 87.02%\n",
      "Epoch [298/400], Loss: 0.3067, Accuracy: 89.31%, Test Loss: 0.3666, Test Accuracy: 86.95%\n",
      "Epoch [299/400], Loss: 0.3064, Accuracy: 89.27%, Test Loss: 0.3662, Test Accuracy: 87.00%\n",
      "Epoch [300/400], Loss: 0.3057, Accuracy: 89.32%, Test Loss: 0.3663, Test Accuracy: 86.86%\n",
      "Epoch [301/400], Loss: 0.3058, Accuracy: 89.32%, Test Loss: 0.3659, Test Accuracy: 87.00%\n",
      "Epoch [302/400], Loss: 0.3053, Accuracy: 89.35%, Test Loss: 0.3658, Test Accuracy: 87.02%\n",
      "Epoch [303/400], Loss: 0.3056, Accuracy: 89.36%, Test Loss: 0.3659, Test Accuracy: 87.03%\n",
      "Epoch [304/400], Loss: 0.3043, Accuracy: 89.35%, Test Loss: 0.3651, Test Accuracy: 87.03%\n",
      "Epoch [305/400], Loss: 0.3043, Accuracy: 89.33%, Test Loss: 0.3659, Test Accuracy: 87.11%\n",
      "Epoch [306/400], Loss: 0.3044, Accuracy: 89.38%, Test Loss: 0.3647, Test Accuracy: 87.09%\n",
      "Epoch [307/400], Loss: 0.3042, Accuracy: 89.34%, Test Loss: 0.3648, Test Accuracy: 86.95%\n",
      "Epoch [308/400], Loss: 0.3036, Accuracy: 89.39%, Test Loss: 0.3650, Test Accuracy: 86.99%\n",
      "Epoch [309/400], Loss: 0.3033, Accuracy: 89.41%, Test Loss: 0.3648, Test Accuracy: 86.99%\n",
      "Epoch [310/400], Loss: 0.3033, Accuracy: 89.39%, Test Loss: 0.3646, Test Accuracy: 87.04%\n",
      "Epoch [311/400], Loss: 0.3028, Accuracy: 89.43%, Test Loss: 0.3640, Test Accuracy: 87.07%\n",
      "Epoch [312/400], Loss: 0.3024, Accuracy: 89.47%, Test Loss: 0.3639, Test Accuracy: 87.01%\n",
      "Epoch [313/400], Loss: 0.3022, Accuracy: 89.46%, Test Loss: 0.3647, Test Accuracy: 86.96%\n",
      "Epoch [314/400], Loss: 0.3019, Accuracy: 89.44%, Test Loss: 0.3635, Test Accuracy: 87.07%\n",
      "Epoch [315/400], Loss: 0.3020, Accuracy: 89.46%, Test Loss: 0.3636, Test Accuracy: 87.10%\n",
      "Epoch [316/400], Loss: 0.3011, Accuracy: 89.48%, Test Loss: 0.3638, Test Accuracy: 87.10%\n",
      "Epoch [317/400], Loss: 0.3011, Accuracy: 89.53%, Test Loss: 0.3633, Test Accuracy: 87.16%\n",
      "Epoch [318/400], Loss: 0.3009, Accuracy: 89.47%, Test Loss: 0.3632, Test Accuracy: 87.03%\n",
      "Epoch [319/400], Loss: 0.3004, Accuracy: 89.51%, Test Loss: 0.3638, Test Accuracy: 87.04%\n",
      "Epoch [320/400], Loss: 0.3004, Accuracy: 89.53%, Test Loss: 0.3625, Test Accuracy: 86.93%\n",
      "Epoch [321/400], Loss: 0.2999, Accuracy: 89.53%, Test Loss: 0.3624, Test Accuracy: 87.05%\n",
      "Epoch [322/400], Loss: 0.3000, Accuracy: 89.55%, Test Loss: 0.3630, Test Accuracy: 87.14%\n",
      "Epoch [323/400], Loss: 0.2996, Accuracy: 89.56%, Test Loss: 0.3620, Test Accuracy: 87.15%\n",
      "Epoch [324/400], Loss: 0.2993, Accuracy: 89.55%, Test Loss: 0.3622, Test Accuracy: 87.02%\n",
      "Epoch [325/400], Loss: 0.2987, Accuracy: 89.56%, Test Loss: 0.3622, Test Accuracy: 87.13%\n",
      "Epoch [326/400], Loss: 0.2986, Accuracy: 89.57%, Test Loss: 0.3625, Test Accuracy: 87.06%\n",
      "Epoch [327/400], Loss: 0.2984, Accuracy: 89.58%, Test Loss: 0.3615, Test Accuracy: 87.09%\n",
      "Epoch [328/400], Loss: 0.2980, Accuracy: 89.62%, Test Loss: 0.3627, Test Accuracy: 87.10%\n",
      "Epoch [329/400], Loss: 0.2977, Accuracy: 89.61%, Test Loss: 0.3613, Test Accuracy: 87.10%\n",
      "Epoch [330/400], Loss: 0.2974, Accuracy: 89.59%, Test Loss: 0.3618, Test Accuracy: 86.94%\n",
      "Epoch [331/400], Loss: 0.2974, Accuracy: 89.61%, Test Loss: 0.3614, Test Accuracy: 87.12%\n",
      "Epoch [332/400], Loss: 0.2970, Accuracy: 89.59%, Test Loss: 0.3609, Test Accuracy: 87.20%\n",
      "Epoch [333/400], Loss: 0.2967, Accuracy: 89.64%, Test Loss: 0.3606, Test Accuracy: 87.19%\n",
      "Epoch [334/400], Loss: 0.2967, Accuracy: 89.71%, Test Loss: 0.3610, Test Accuracy: 87.18%\n",
      "Epoch [335/400], Loss: 0.2962, Accuracy: 89.69%, Test Loss: 0.3604, Test Accuracy: 87.10%\n",
      "Epoch [336/400], Loss: 0.2957, Accuracy: 89.67%, Test Loss: 0.3600, Test Accuracy: 87.25%\n",
      "Epoch [337/400], Loss: 0.2955, Accuracy: 89.67%, Test Loss: 0.3605, Test Accuracy: 87.22%\n",
      "Epoch [338/400], Loss: 0.2956, Accuracy: 89.72%, Test Loss: 0.3608, Test Accuracy: 87.15%\n",
      "Epoch [339/400], Loss: 0.2952, Accuracy: 89.73%, Test Loss: 0.3601, Test Accuracy: 87.18%\n",
      "Epoch [340/400], Loss: 0.2949, Accuracy: 89.72%, Test Loss: 0.3592, Test Accuracy: 87.21%\n",
      "Epoch [341/400], Loss: 0.2948, Accuracy: 89.70%, Test Loss: 0.3591, Test Accuracy: 87.17%\n",
      "Epoch [342/400], Loss: 0.2945, Accuracy: 89.71%, Test Loss: 0.3590, Test Accuracy: 87.18%\n",
      "Epoch [343/400], Loss: 0.2942, Accuracy: 89.71%, Test Loss: 0.3587, Test Accuracy: 87.19%\n",
      "Epoch [344/400], Loss: 0.2939, Accuracy: 89.72%, Test Loss: 0.3587, Test Accuracy: 87.17%\n",
      "Epoch [345/400], Loss: 0.2937, Accuracy: 89.74%, Test Loss: 0.3588, Test Accuracy: 87.19%\n",
      "Epoch [346/400], Loss: 0.2935, Accuracy: 89.78%, Test Loss: 0.3584, Test Accuracy: 87.20%\n",
      "Epoch [347/400], Loss: 0.2934, Accuracy: 89.79%, Test Loss: 0.3582, Test Accuracy: 87.18%\n",
      "Epoch [348/400], Loss: 0.2927, Accuracy: 89.81%, Test Loss: 0.3580, Test Accuracy: 87.18%\n",
      "Epoch [349/400], Loss: 0.2929, Accuracy: 89.78%, Test Loss: 0.3592, Test Accuracy: 87.29%\n",
      "Epoch [350/400], Loss: 0.2925, Accuracy: 89.83%, Test Loss: 0.3576, Test Accuracy: 87.19%\n",
      "Epoch [351/400], Loss: 0.2923, Accuracy: 89.81%, Test Loss: 0.3579, Test Accuracy: 87.27%\n",
      "Epoch [352/400], Loss: 0.2920, Accuracy: 89.85%, Test Loss: 0.3581, Test Accuracy: 87.17%\n",
      "Epoch [353/400], Loss: 0.2917, Accuracy: 89.83%, Test Loss: 0.3576, Test Accuracy: 87.29%\n",
      "Epoch [354/400], Loss: 0.2914, Accuracy: 89.84%, Test Loss: 0.3573, Test Accuracy: 87.26%\n",
      "Epoch [355/400], Loss: 0.2911, Accuracy: 89.88%, Test Loss: 0.3575, Test Accuracy: 87.14%\n",
      "Epoch [356/400], Loss: 0.2908, Accuracy: 89.83%, Test Loss: 0.3569, Test Accuracy: 87.25%\n",
      "Epoch [357/400], Loss: 0.2906, Accuracy: 89.86%, Test Loss: 0.3566, Test Accuracy: 87.28%\n",
      "Epoch [358/400], Loss: 0.2904, Accuracy: 89.89%, Test Loss: 0.3568, Test Accuracy: 87.27%\n",
      "Epoch [359/400], Loss: 0.2902, Accuracy: 89.87%, Test Loss: 0.3576, Test Accuracy: 87.09%\n",
      "Epoch [360/400], Loss: 0.2900, Accuracy: 89.90%, Test Loss: 0.3565, Test Accuracy: 87.31%\n",
      "Epoch [361/400], Loss: 0.2895, Accuracy: 89.93%, Test Loss: 0.3564, Test Accuracy: 87.28%\n",
      "Epoch [362/400], Loss: 0.2893, Accuracy: 89.94%, Test Loss: 0.3564, Test Accuracy: 87.27%\n",
      "Epoch [363/400], Loss: 0.2889, Accuracy: 89.89%, Test Loss: 0.3563, Test Accuracy: 87.33%\n",
      "Epoch [364/400], Loss: 0.2888, Accuracy: 89.93%, Test Loss: 0.3564, Test Accuracy: 87.32%\n",
      "Epoch [365/400], Loss: 0.2884, Accuracy: 89.95%, Test Loss: 0.3562, Test Accuracy: 87.36%\n",
      "Epoch [366/400], Loss: 0.2880, Accuracy: 89.90%, Test Loss: 0.3554, Test Accuracy: 87.32%\n",
      "Epoch [367/400], Loss: 0.2880, Accuracy: 89.98%, Test Loss: 0.3562, Test Accuracy: 87.24%\n",
      "Epoch [368/400], Loss: 0.2883, Accuracy: 89.98%, Test Loss: 0.3555, Test Accuracy: 87.24%\n",
      "Epoch [369/400], Loss: 0.2878, Accuracy: 89.96%, Test Loss: 0.3566, Test Accuracy: 87.31%\n",
      "Epoch [370/400], Loss: 0.2870, Accuracy: 89.97%, Test Loss: 0.3546, Test Accuracy: 87.25%\n",
      "Epoch [371/400], Loss: 0.2872, Accuracy: 90.01%, Test Loss: 0.3549, Test Accuracy: 87.30%\n",
      "Epoch [372/400], Loss: 0.2870, Accuracy: 89.97%, Test Loss: 0.3545, Test Accuracy: 87.26%\n",
      "Epoch [373/400], Loss: 0.2868, Accuracy: 90.01%, Test Loss: 0.3543, Test Accuracy: 87.29%\n",
      "Epoch [374/400], Loss: 0.2862, Accuracy: 90.00%, Test Loss: 0.3548, Test Accuracy: 87.39%\n",
      "Epoch [375/400], Loss: 0.2862, Accuracy: 90.00%, Test Loss: 0.3545, Test Accuracy: 87.34%\n",
      "Epoch [376/400], Loss: 0.2860, Accuracy: 90.02%, Test Loss: 0.3544, Test Accuracy: 87.37%\n",
      "Epoch [377/400], Loss: 0.2857, Accuracy: 90.05%, Test Loss: 0.3545, Test Accuracy: 87.41%\n",
      "Epoch [378/400], Loss: 0.2854, Accuracy: 90.06%, Test Loss: 0.3537, Test Accuracy: 87.42%\n",
      "Epoch [379/400], Loss: 0.2852, Accuracy: 90.08%, Test Loss: 0.3537, Test Accuracy: 87.32%\n",
      "Epoch [380/400], Loss: 0.2850, Accuracy: 90.05%, Test Loss: 0.3545, Test Accuracy: 87.38%\n",
      "Epoch [381/400], Loss: 0.2845, Accuracy: 90.06%, Test Loss: 0.3535, Test Accuracy: 87.34%\n",
      "Epoch [382/400], Loss: 0.2846, Accuracy: 90.08%, Test Loss: 0.3529, Test Accuracy: 87.32%\n",
      "Epoch [383/400], Loss: 0.2842, Accuracy: 90.07%, Test Loss: 0.3540, Test Accuracy: 87.29%\n",
      "Epoch [384/400], Loss: 0.2838, Accuracy: 90.11%, Test Loss: 0.3534, Test Accuracy: 87.24%\n",
      "Epoch [385/400], Loss: 0.2836, Accuracy: 90.12%, Test Loss: 0.3534, Test Accuracy: 87.42%\n",
      "Epoch [386/400], Loss: 0.2832, Accuracy: 90.09%, Test Loss: 0.3537, Test Accuracy: 87.43%\n",
      "Epoch [387/400], Loss: 0.2829, Accuracy: 90.15%, Test Loss: 0.3532, Test Accuracy: 87.42%\n",
      "Epoch [388/400], Loss: 0.2832, Accuracy: 90.16%, Test Loss: 0.3536, Test Accuracy: 87.19%\n",
      "Epoch [389/400], Loss: 0.2830, Accuracy: 90.08%, Test Loss: 0.3532, Test Accuracy: 87.37%\n",
      "Epoch [390/400], Loss: 0.2825, Accuracy: 90.12%, Test Loss: 0.3526, Test Accuracy: 87.44%\n",
      "Epoch [391/400], Loss: 0.2823, Accuracy: 90.14%, Test Loss: 0.3530, Test Accuracy: 87.45%\n",
      "Epoch [392/400], Loss: 0.2817, Accuracy: 90.09%, Test Loss: 0.3523, Test Accuracy: 87.22%\n",
      "Epoch [393/400], Loss: 0.2817, Accuracy: 90.16%, Test Loss: 0.3523, Test Accuracy: 87.31%\n",
      "Epoch [394/400], Loss: 0.2814, Accuracy: 90.14%, Test Loss: 0.3526, Test Accuracy: 87.42%\n",
      "Epoch [395/400], Loss: 0.2813, Accuracy: 90.17%, Test Loss: 0.3534, Test Accuracy: 87.19%\n",
      "Epoch [396/400], Loss: 0.2810, Accuracy: 90.21%, Test Loss: 0.3514, Test Accuracy: 87.39%\n",
      "Epoch [397/400], Loss: 0.2810, Accuracy: 90.17%, Test Loss: 0.3517, Test Accuracy: 87.34%\n",
      "Epoch [398/400], Loss: 0.2805, Accuracy: 90.21%, Test Loss: 0.3516, Test Accuracy: 87.57%\n",
      "Epoch [399/400], Loss: 0.2804, Accuracy: 90.19%, Test Loss: 0.3514, Test Accuracy: 87.42%\n",
      "Epoch [400/400], Loss: 0.2802, Accuracy: 90.22%, Test Loss: 0.3515, Test Accuracy: 87.42%\n"
     ]
    }
   ],
   "source": [
    "# train\n",
    "for epoch in range(max_epoch):\n",
    "    running_loss = 0.0\n",
    "    running_correct = 0   # to track number of correct predictions\n",
    "    total = 0             # to track total number of samples\n",
    "\n",
    "    for i, (inputs, labels) in enumerate(trainloader, 0):\n",
    "        # Move inputs and labels to the device\n",
    "        inputs, labels = inputs.to(device), labels.to(device)\n",
    "\n",
    "        # Zero the parameter gradients\n",
    "        optimizer.zero_grad()\n",
    "\n",
    "        # Forward pass\n",
    "        outputs = model(inputs)\n",
    "        loss = criterion(outputs, labels)\n",
    "        running_loss += loss.item()\n",
    "\n",
    "        # Determine class predictions and track accuracy\n",
    "        _, predicted = torch.max(outputs.data, 1)\n",
    "        total += labels.size(0)\n",
    "        running_correct += (predicted == labels).sum().item()\n",
    "\n",
    "        # Backward pass and optimization\n",
    "        loss.backward()\n",
    "        optimizer.step()        \n",
    "\n",
    "    epoch_accuracy = 100 * running_correct / total\n",
    "    epoch_loss = running_loss / (i + 1)\n",
    "    test_loss, test_accuracy = evaluate(model, testloader, criterion)\n",
    "    print(f\"Epoch [{epoch + 1}/{max_epoch}], Loss: {epoch_loss:.4f}, Accuracy: {epoch_accuracy:.2f}%, Test Loss: {test_loss:.4f}, Test Accuracy: {test_accuracy:.2f}%\")\n",
    "    \n",
    "    # save for plot\n",
    "    train_losses.append(epoch_loss)\n",
    "    train_accuracies.append(epoch_accuracy)\n",
    "    test_losses.append(test_loss)\n",
    "    test_accuracies.append(test_accuracy)"
   ]
  },
  {
   "cell_type": "code",
   "execution_count": null,
   "metadata": {
    "id": "QKFbl4unF_6t"
   },
   "outputs": [],
   "source": []
  },
  {
   "cell_type": "code",
   "execution_count": 11,
   "metadata": {
    "id": "AwIj3vrnF_8_"
   },
   "outputs": [
    {
     "data": {
      "text/plain": [
       "<matplotlib.legend.Legend at 0x7f2ca5592b30>"
      ]
     },
     "execution_count": 11,
     "metadata": {},
     "output_type": "execute_result"
    },
    {
     "data": {
      "image/png": "[encoded data removed]",
      "text/plain": [
       "<Figure size 640x480 with 1 Axes>"
      ]
     },
     "metadata": {},
     "output_type": "display_data"
    }
   ],
   "source": [
    "import matplotlib.pyplot as plt\n",
    "\n",
    "plt.plot(train_losses, label='train_losses')\n",
    "plt.plot(test_losses, label='test_losses')\n",
    "plt.legend()"
   ]
  },
  {
   "cell_type": "code",
   "execution_count": 12,
   "metadata": {
    "id": "eh3iDa8lF__H"
   },
   "outputs": [
    {
     "data": {
      "text/plain": [
       "<matplotlib.legend.Legend at 0x7f2c922d6b30>"
      ]
     },
     "execution_count": 12,
     "metadata": {},
     "output_type": "execute_result"
    },
    {
     "data": {
      "image/png": "[encoded data removed]",
      "text/plain": [
       "<Figure size 640x480 with 1 Axes>"
      ]
     },
     "metadata": {},
     "output_type": "display_data"
    }
   ],
   "source": [
    "import matplotlib.pyplot as plt\n",
    "\n",
    "plt.plot(train_accuracies, label='train_accuracy')\n",
    "plt.plot(test_accuracies, label='test_accuracy')\n",
    "plt.legend()"
   ]
  },
  {
   "cell_type": "code",
   "execution_count": null,
   "metadata": {},
   "outputs": [],
   "source": []
  },
  {
   "cell_type": "code",
   "execution_count": 13,
   "metadata": {},
   "outputs": [
    {
     "data": {
      "text/plain": [
       "<matplotlib.legend.Legend at 0x7f2c083ea830>"
      ]
     },
     "execution_count": 13,
     "metadata": {},
     "output_type": "execute_result"
    }
   ],
   "source": [
    "import matplotlib.pyplot as plt\n",
    "%matplotlib qt\n",
    "\n",
    "plt.plot(train_losses, label='train_losses')\n",
    "plt.plot(test_losses, label='test_losses')\n",
    "plt.legend()"
   ]
  },
  {
   "cell_type": "code",
   "execution_count": 14,
   "metadata": {},
   "outputs": [
    {
     "data": {
      "text/plain": [
       "<matplotlib.legend.Legend at 0x7f2c084b2410>"
      ]
     },
     "execution_count": 14,
     "metadata": {},
     "output_type": "execute_result"
    }
   ],
   "source": [
    "import matplotlib.pyplot as plt\n",
    "%matplotlib qt\n",
    "\n",
    "plt.plot(train_accuracies, label='train_accuracy')\n",
    "plt.plot(test_accuracies, label='test_accuracy')\n",
    "plt.legend()"
   ]
  },
  {
   "cell_type": "code",
   "execution_count": null,
   "metadata": {},
   "outputs": [],
   "source": []
  }
 ],
 "metadata": {
  "accelerator": "GPU",
  "colab": {
   "gpuType": "T4",
   "provenance": []
  },
  "kernelspec": {
   "display_name": "Python 3 (ipykernel)",
   "language": "python",
   "name": "python3"
  },
  "language_info": {
   "codemirror_mode": {
    "name": "ipython",
    "version": 3
   },
   "file_extension": ".py",
   "mimetype": "text/x-python",
   "name": "python",
   "nbconvert_exporter": "python",
   "pygments_lexer": "ipython3",
   "version": "3.9.18"
  }
 },
 "nbformat": 4,
 "nbformat_minor": 4
}
