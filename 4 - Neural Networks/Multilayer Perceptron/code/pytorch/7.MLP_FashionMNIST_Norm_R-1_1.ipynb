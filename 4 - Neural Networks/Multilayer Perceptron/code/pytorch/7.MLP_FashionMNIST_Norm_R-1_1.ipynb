{
 "cells": [
  {
   "cell_type": "code",
   "execution_count": 1,
   "metadata": {},
   "outputs": [],
   "source": [
    "import torch\n",
    "import torch.nn as nn\n",
    "import torch.optim as optim\n",
    "import torchvision\n",
    "import torchvision.transforms as transforms\n",
    "\n",
    "# Check if GPU is available\n",
    "device = torch.device(\"cuda:0\" if torch.cuda.is_available() else \"cpu\")"
   ]
  },
  {
   "cell_type": "code",
   "execution_count": null,
   "metadata": {},
   "outputs": [],
   "source": []
  },
  {
   "cell_type": "markdown",
   "metadata": {},
   "source": [
    "#### Data"
   ]
  },
  {
   "cell_type": "code",
   "execution_count": 2,
   "metadata": {},
   "outputs": [],
   "source": [
    "# Load CFashionMNIST dataset\n",
    "transform = transforms.Compose([transforms.ToTensor(), transforms.Normalize((0.5,), (0.5,))])\n",
    "\n",
    "trainset = torchvision.datasets.FashionMNIST(root='data', train=True, download=True, transform=transform)\n",
    "trainloader = torch.utils.data.DataLoader(trainset, batch_size=1024, num_workers=10, shuffle=True)\n",
    "\n",
    "testset = torchvision.datasets.FashionMNIST(root='data', train=False, download=True, transform=transform)\n",
    "testloader = torch.utils.data.DataLoader(testset, batch_size=1024, num_workers=10, shuffle=False)"
   ]
  },
  {
   "cell_type": "code",
   "execution_count": 3,
   "metadata": {},
   "outputs": [
    {
     "data": {
      "image/png": "[encoded data removed]",
      "text/plain": [
       "<Figure size 640x480 with 1 Axes>"
      ]
     },
     "metadata": {},
     "output_type": "display_data"
    }
   ],
   "source": [
    "import matplotlib.pyplot as plt\n",
    "import numpy as np\n",
    "\n",
    "# Function to display the images\n",
    "def imshow(img):\n",
    "    img = img*0.5 + 0.5\n",
    "    np_img = img.numpy()\n",
    "    plt.imshow(np.transpose(np_img, (1, 2, 0)))\n",
    "    plt.show()\n",
    "\n",
    "for i, (images, labels) in enumerate(trainloader, 0):\n",
    "    # Plot some images\n",
    "    imshow(torchvision.utils.make_grid(images[:8]))  # Display 8 images from the batch\n",
    "    break"
   ]
  },
  {
   "cell_type": "code",
   "execution_count": null,
   "metadata": {},
   "outputs": [],
   "source": []
  },
  {
   "cell_type": "markdown",
   "metadata": {},
   "source": [
    "#### Model"
   ]
  },
  {
   "cell_type": "code",
   "execution_count": 4,
   "metadata": {},
   "outputs": [
    {
     "name": "stdout",
     "output_type": "stream",
     "text": [
      "Sequential(\n",
      "  (0): Flatten(start_dim=1, end_dim=-1)\n",
      "  (1): Linear(in_features=784, out_features=256, bias=True)\n",
      "  (2): ReLU()\n",
      "  (3): Linear(in_features=256, out_features=10, bias=True)\n",
      ")\n"
     ]
    }
   ],
   "source": [
    "model = nn.Sequential(\n",
    "    nn.Flatten(), \n",
    "    nn.Linear(784, 256),\n",
    "    nn.ReLU(),\n",
    "    nn.Linear(256, 10)\n",
    ")\n",
    "model = model.to(device)\n",
    "\n",
    "print(model)"
   ]
  },
  {
   "cell_type": "code",
   "execution_count": 5,
   "metadata": {},
   "outputs": [
    {
     "name": "stdout",
     "output_type": "stream",
     "text": [
      "torch.Size([5, 10])\n"
     ]
    }
   ],
   "source": [
    "# Generating a random tensor\n",
    "input_tensor = torch.rand(5, 28, 28).to(device)\n",
    "\n",
    "# Feeding the tensor into the model\n",
    "output = model(input_tensor)\n",
    "print(output.shape)"
   ]
  },
  {
   "cell_type": "code",
   "execution_count": null,
   "metadata": {},
   "outputs": [],
   "source": []
  },
  {
   "cell_type": "markdown",
   "metadata": {},
   "source": [
    "#### Loss, Optimizer, and Evaluation Function"
   ]
  },
  {
   "cell_type": "code",
   "execution_count": 6,
   "metadata": {},
   "outputs": [],
   "source": [
    "criterion = nn.CrossEntropyLoss()\n",
    "optimizer = optim.SGD(model.parameters(), lr=0.01)"
   ]
  },
  {
   "cell_type": "code",
   "execution_count": 7,
   "metadata": {},
   "outputs": [],
   "source": [
    "# Function to compute loss and accuracy for test set\n",
    "def evaluate(model, testloader, criterion):\n",
    "    model.eval()\n",
    "    test_loss = 0.0\n",
    "    correct = 0\n",
    "    total = 0\n",
    "    with torch.no_grad():\n",
    "        for images, labels in testloader:\n",
    "            # Move inputs and labels to the device\n",
    "            images, labels = images.to(device), labels.to(device)\n",
    "\n",
    "            outputs = model(images)\n",
    "            loss = criterion(outputs, labels)\n",
    "            test_loss += loss.item()\n",
    "            \n",
    "            _, predicted = torch.max(outputs.data, 1)\n",
    "            total += labels.size(0)\n",
    "            correct += (predicted == labels).sum().item()\n",
    "\n",
    "    accuracy = 100 * correct / total\n",
    "    test_loss = test_loss / len(testloader)\n",
    "    return test_loss, accuracy"
   ]
  },
  {
   "cell_type": "code",
   "execution_count": 8,
   "metadata": {},
   "outputs": [
    {
     "name": "stdout",
     "output_type": "stream",
     "text": [
      "test_loss: 2.3474849700927733\n",
      "test_accuracy: 8.9\n"
     ]
    }
   ],
   "source": [
    "test_loss, test_accuracy = evaluate(model, testloader, criterion)\n",
    "print(f'test_loss: {test_loss}')\n",
    "print(f'test_accuracy: {test_accuracy}')"
   ]
  },
  {
   "cell_type": "code",
   "execution_count": null,
   "metadata": {},
   "outputs": [],
   "source": []
  },
  {
   "cell_type": "markdown",
   "metadata": {},
   "source": [
    "#### Train"
   ]
  },
  {
   "cell_type": "code",
   "execution_count": 9,
   "metadata": {},
   "outputs": [],
   "source": [
    "# some parameter\n",
    "train_losses = []\n",
    "train_accuracies = []\n",
    "test_losses = []\n",
    "test_accuracies = []\n",
    "max_epoch = 200"
   ]
  },
  {
   "cell_type": "code",
   "execution_count": 10,
   "metadata": {
    "colab": {
     "base_uri": "https://localhost:8080/"
    },
    "id": "tYwXeSOOF_4Z",
    "outputId": "a4c62a4a-267f-4101-ce96-662cc23cdbe0"
   },
   "outputs": [
    {
     "name": "stdout",
     "output_type": "stream",
     "text": [
      "Epoch [1/200], Loss: 1.8505, Accuracy: 47.72%, Test Loss: 1.4576, Test Accuracy: 63.44%\n",
      "Epoch [2/200], Loss: 1.2380, Accuracy: 68.65%, Test Loss: 1.0773, Test Accuracy: 70.54%\n",
      "Epoch [3/200], Loss: 0.9771, Accuracy: 71.94%, Test Loss: 0.9084, Test Accuracy: 72.21%\n",
      "Epoch [4/200], Loss: 0.8509, Accuracy: 73.51%, Test Loss: 0.8182, Test Accuracy: 73.61%\n",
      "Epoch [5/200], Loss: 0.7778, Accuracy: 74.61%, Test Loss: 0.7621, Test Accuracy: 74.50%\n",
      "Epoch [6/200], Loss: 0.7302, Accuracy: 75.36%, Test Loss: 0.7233, Test Accuracy: 75.44%\n",
      "Epoch [7/200], Loss: 0.6954, Accuracy: 76.31%, Test Loss: 0.6944, Test Accuracy: 75.90%\n",
      "Epoch [8/200], Loss: 0.6683, Accuracy: 76.94%, Test Loss: 0.6714, Test Accuracy: 76.44%\n",
      "Epoch [9/200], Loss: 0.6465, Accuracy: 77.56%, Test Loss: 0.6528, Test Accuracy: 76.90%\n",
      "Epoch [10/200], Loss: 0.6288, Accuracy: 78.12%, Test Loss: 0.6374, Test Accuracy: 77.68%\n",
      "Epoch [11/200], Loss: 0.6132, Accuracy: 78.66%, Test Loss: 0.6235, Test Accuracy: 77.84%\n",
      "Epoch [12/200], Loss: 0.5995, Accuracy: 79.15%, Test Loss: 0.6117, Test Accuracy: 78.58%\n",
      "Epoch [13/200], Loss: 0.5877, Accuracy: 79.60%, Test Loss: 0.6009, Test Accuracy: 78.89%\n",
      "Epoch [14/200], Loss: 0.5775, Accuracy: 79.93%, Test Loss: 0.5923, Test Accuracy: 79.13%\n",
      "Epoch [15/200], Loss: 0.5680, Accuracy: 80.29%, Test Loss: 0.5834, Test Accuracy: 79.23%\n",
      "Epoch [16/200], Loss: 0.5592, Accuracy: 80.60%, Test Loss: 0.5754, Test Accuracy: 79.73%\n",
      "Epoch [17/200], Loss: 0.5510, Accuracy: 80.88%, Test Loss: 0.5681, Test Accuracy: 79.91%\n",
      "Epoch [18/200], Loss: 0.5441, Accuracy: 81.11%, Test Loss: 0.5621, Test Accuracy: 80.17%\n",
      "Epoch [19/200], Loss: 0.5376, Accuracy: 81.35%, Test Loss: 0.5559, Test Accuracy: 80.39%\n",
      "Epoch [20/200], Loss: 0.5309, Accuracy: 81.57%, Test Loss: 0.5502, Test Accuracy: 80.65%\n",
      "Epoch [21/200], Loss: 0.5256, Accuracy: 81.74%, Test Loss: 0.5452, Test Accuracy: 80.83%\n",
      "Epoch [22/200], Loss: 0.5202, Accuracy: 81.94%, Test Loss: 0.5403, Test Accuracy: 80.75%\n",
      "Epoch [23/200], Loss: 0.5149, Accuracy: 82.11%, Test Loss: 0.5361, Test Accuracy: 81.00%\n",
      "Epoch [24/200], Loss: 0.5106, Accuracy: 82.24%, Test Loss: 0.5320, Test Accuracy: 81.10%\n",
      "Epoch [25/200], Loss: 0.5065, Accuracy: 82.40%, Test Loss: 0.5280, Test Accuracy: 81.40%\n",
      "Epoch [26/200], Loss: 0.5023, Accuracy: 82.53%, Test Loss: 0.5248, Test Accuracy: 81.45%\n",
      "Epoch [27/200], Loss: 0.4983, Accuracy: 82.63%, Test Loss: 0.5213, Test Accuracy: 81.62%\n",
      "Epoch [28/200], Loss: 0.4948, Accuracy: 82.80%, Test Loss: 0.5181, Test Accuracy: 81.73%\n",
      "Epoch [29/200], Loss: 0.4916, Accuracy: 82.92%, Test Loss: 0.5158, Test Accuracy: 81.66%\n",
      "Epoch [30/200], Loss: 0.4878, Accuracy: 82.97%, Test Loss: 0.5123, Test Accuracy: 81.74%\n",
      "Epoch [31/200], Loss: 0.4845, Accuracy: 83.10%, Test Loss: 0.5094, Test Accuracy: 81.89%\n",
      "Epoch [32/200], Loss: 0.4821, Accuracy: 83.23%, Test Loss: 0.5067, Test Accuracy: 82.05%\n",
      "Epoch [33/200], Loss: 0.4792, Accuracy: 83.30%, Test Loss: 0.5043, Test Accuracy: 82.09%\n",
      "Epoch [34/200], Loss: 0.4763, Accuracy: 83.34%, Test Loss: 0.5025, Test Accuracy: 82.04%\n",
      "Epoch [35/200], Loss: 0.4738, Accuracy: 83.49%, Test Loss: 0.4999, Test Accuracy: 82.03%\n",
      "Epoch [36/200], Loss: 0.4715, Accuracy: 83.57%, Test Loss: 0.4978, Test Accuracy: 82.15%\n",
      "Epoch [37/200], Loss: 0.4689, Accuracy: 83.59%, Test Loss: 0.4954, Test Accuracy: 82.41%\n",
      "Epoch [38/200], Loss: 0.4664, Accuracy: 83.71%, Test Loss: 0.4939, Test Accuracy: 82.35%\n",
      "Epoch [39/200], Loss: 0.4639, Accuracy: 83.76%, Test Loss: 0.4916, Test Accuracy: 82.46%\n",
      "Epoch [40/200], Loss: 0.4621, Accuracy: 83.84%, Test Loss: 0.4898, Test Accuracy: 82.54%\n",
      "Epoch [41/200], Loss: 0.4599, Accuracy: 83.88%, Test Loss: 0.4880, Test Accuracy: 82.57%\n",
      "Epoch [42/200], Loss: 0.4580, Accuracy: 84.01%, Test Loss: 0.4862, Test Accuracy: 82.62%\n",
      "Epoch [43/200], Loss: 0.4561, Accuracy: 84.04%, Test Loss: 0.4844, Test Accuracy: 82.84%\n",
      "Epoch [44/200], Loss: 0.4542, Accuracy: 84.11%, Test Loss: 0.4832, Test Accuracy: 82.75%\n",
      "Epoch [45/200], Loss: 0.4520, Accuracy: 84.20%, Test Loss: 0.4820, Test Accuracy: 82.72%\n",
      "Epoch [46/200], Loss: 0.4509, Accuracy: 84.26%, Test Loss: 0.4796, Test Accuracy: 82.89%\n",
      "Epoch [47/200], Loss: 0.4489, Accuracy: 84.24%, Test Loss: 0.4780, Test Accuracy: 82.97%\n",
      "Epoch [48/200], Loss: 0.4470, Accuracy: 84.36%, Test Loss: 0.4775, Test Accuracy: 82.96%\n",
      "Epoch [49/200], Loss: 0.4455, Accuracy: 84.44%, Test Loss: 0.4753, Test Accuracy: 82.99%\n",
      "Epoch [50/200], Loss: 0.4436, Accuracy: 84.48%, Test Loss: 0.4737, Test Accuracy: 83.09%\n",
      "Epoch [51/200], Loss: 0.4423, Accuracy: 84.54%, Test Loss: 0.4724, Test Accuracy: 83.00%\n",
      "Epoch [52/200], Loss: 0.4403, Accuracy: 84.56%, Test Loss: 0.4711, Test Accuracy: 83.13%\n",
      "Epoch [53/200], Loss: 0.4391, Accuracy: 84.60%, Test Loss: 0.4700, Test Accuracy: 83.20%\n",
      "Epoch [54/200], Loss: 0.4374, Accuracy: 84.69%, Test Loss: 0.4686, Test Accuracy: 83.28%\n",
      "Epoch [55/200], Loss: 0.4365, Accuracy: 84.77%, Test Loss: 0.4676, Test Accuracy: 83.38%\n",
      "Epoch [56/200], Loss: 0.4349, Accuracy: 84.81%, Test Loss: 0.4663, Test Accuracy: 83.41%\n",
      "Epoch [57/200], Loss: 0.4336, Accuracy: 84.84%, Test Loss: 0.4651, Test Accuracy: 83.44%\n",
      "Epoch [58/200], Loss: 0.4322, Accuracy: 84.90%, Test Loss: 0.4638, Test Accuracy: 83.41%\n",
      "Epoch [59/200], Loss: 0.4311, Accuracy: 84.94%, Test Loss: 0.4628, Test Accuracy: 83.55%\n",
      "Epoch [60/200], Loss: 0.4298, Accuracy: 85.03%, Test Loss: 0.4618, Test Accuracy: 83.57%\n",
      "Epoch [61/200], Loss: 0.4284, Accuracy: 85.05%, Test Loss: 0.4605, Test Accuracy: 83.54%\n",
      "Epoch [62/200], Loss: 0.4270, Accuracy: 85.09%, Test Loss: 0.4594, Test Accuracy: 83.58%\n",
      "Epoch [63/200], Loss: 0.4259, Accuracy: 85.13%, Test Loss: 0.4583, Test Accuracy: 83.66%\n",
      "Epoch [64/200], Loss: 0.4248, Accuracy: 85.16%, Test Loss: 0.4573, Test Accuracy: 83.70%\n",
      "Epoch [65/200], Loss: 0.4236, Accuracy: 85.21%, Test Loss: 0.4566, Test Accuracy: 83.72%\n",
      "Epoch [66/200], Loss: 0.4228, Accuracy: 85.24%, Test Loss: 0.4558, Test Accuracy: 83.73%\n",
      "Epoch [67/200], Loss: 0.4215, Accuracy: 85.27%, Test Loss: 0.4544, Test Accuracy: 83.80%\n",
      "Epoch [68/200], Loss: 0.4202, Accuracy: 85.33%, Test Loss: 0.4538, Test Accuracy: 83.69%\n",
      "Epoch [69/200], Loss: 0.4199, Accuracy: 85.36%, Test Loss: 0.4526, Test Accuracy: 83.80%\n",
      "Epoch [70/200], Loss: 0.4183, Accuracy: 85.42%, Test Loss: 0.4516, Test Accuracy: 83.76%\n",
      "Epoch [71/200], Loss: 0.4173, Accuracy: 85.43%, Test Loss: 0.4507, Test Accuracy: 83.85%\n",
      "Epoch [72/200], Loss: 0.4165, Accuracy: 85.44%, Test Loss: 0.4499, Test Accuracy: 83.79%\n",
      "Epoch [73/200], Loss: 0.4153, Accuracy: 85.46%, Test Loss: 0.4492, Test Accuracy: 83.94%\n",
      "Epoch [74/200], Loss: 0.4145, Accuracy: 85.50%, Test Loss: 0.4483, Test Accuracy: 83.86%\n",
      "Epoch [75/200], Loss: 0.4131, Accuracy: 85.54%, Test Loss: 0.4479, Test Accuracy: 83.84%\n",
      "Epoch [76/200], Loss: 0.4124, Accuracy: 85.63%, Test Loss: 0.4466, Test Accuracy: 83.85%\n",
      "Epoch [77/200], Loss: 0.4109, Accuracy: 85.58%, Test Loss: 0.4456, Test Accuracy: 83.90%\n",
      "Epoch [78/200], Loss: 0.4100, Accuracy: 85.65%, Test Loss: 0.4452, Test Accuracy: 83.92%\n",
      "Epoch [79/200], Loss: 0.4095, Accuracy: 85.67%, Test Loss: 0.4439, Test Accuracy: 84.01%\n",
      "Epoch [80/200], Loss: 0.4084, Accuracy: 85.72%, Test Loss: 0.4431, Test Accuracy: 84.00%\n",
      "Epoch [81/200], Loss: 0.4076, Accuracy: 85.72%, Test Loss: 0.4422, Test Accuracy: 84.06%\n",
      "Epoch [82/200], Loss: 0.4064, Accuracy: 85.75%, Test Loss: 0.4417, Test Accuracy: 84.09%\n",
      "Epoch [83/200], Loss: 0.4057, Accuracy: 85.78%, Test Loss: 0.4408, Test Accuracy: 84.03%\n",
      "Epoch [84/200], Loss: 0.4048, Accuracy: 85.86%, Test Loss: 0.4404, Test Accuracy: 84.00%\n",
      "Epoch [85/200], Loss: 0.4041, Accuracy: 85.86%, Test Loss: 0.4393, Test Accuracy: 84.06%\n",
      "Epoch [86/200], Loss: 0.4031, Accuracy: 85.88%, Test Loss: 0.4388, Test Accuracy: 84.10%\n",
      "Epoch [87/200], Loss: 0.4021, Accuracy: 85.91%, Test Loss: 0.4375, Test Accuracy: 84.07%\n",
      "Epoch [88/200], Loss: 0.4015, Accuracy: 85.96%, Test Loss: 0.4368, Test Accuracy: 84.15%\n",
      "Epoch [89/200], Loss: 0.4006, Accuracy: 85.97%, Test Loss: 0.4369, Test Accuracy: 84.08%\n",
      "Epoch [90/200], Loss: 0.3994, Accuracy: 85.97%, Test Loss: 0.4357, Test Accuracy: 84.22%\n",
      "Epoch [91/200], Loss: 0.3987, Accuracy: 85.98%, Test Loss: 0.4355, Test Accuracy: 84.06%\n",
      "Epoch [92/200], Loss: 0.3979, Accuracy: 86.05%, Test Loss: 0.4344, Test Accuracy: 84.19%\n",
      "Epoch [93/200], Loss: 0.3974, Accuracy: 86.04%, Test Loss: 0.4338, Test Accuracy: 84.16%\n",
      "Epoch [94/200], Loss: 0.3965, Accuracy: 86.09%, Test Loss: 0.4333, Test Accuracy: 84.21%\n",
      "Epoch [95/200], Loss: 0.3955, Accuracy: 86.11%, Test Loss: 0.4326, Test Accuracy: 84.27%\n",
      "Epoch [96/200], Loss: 0.3949, Accuracy: 86.17%, Test Loss: 0.4317, Test Accuracy: 84.31%\n",
      "Epoch [97/200], Loss: 0.3941, Accuracy: 86.14%, Test Loss: 0.4306, Test Accuracy: 84.32%\n",
      "Epoch [98/200], Loss: 0.3931, Accuracy: 86.24%, Test Loss: 0.4307, Test Accuracy: 84.32%\n",
      "Epoch [99/200], Loss: 0.3924, Accuracy: 86.25%, Test Loss: 0.4295, Test Accuracy: 84.30%\n",
      "Epoch [100/200], Loss: 0.3915, Accuracy: 86.29%, Test Loss: 0.4292, Test Accuracy: 84.28%\n",
      "Epoch [101/200], Loss: 0.3915, Accuracy: 86.28%, Test Loss: 0.4284, Test Accuracy: 84.37%\n",
      "Epoch [102/200], Loss: 0.3903, Accuracy: 86.30%, Test Loss: 0.4281, Test Accuracy: 84.41%\n",
      "Epoch [103/200], Loss: 0.3895, Accuracy: 86.30%, Test Loss: 0.4273, Test Accuracy: 84.37%\n",
      "Epoch [104/200], Loss: 0.3885, Accuracy: 86.36%, Test Loss: 0.4265, Test Accuracy: 84.41%\n",
      "Epoch [105/200], Loss: 0.3882, Accuracy: 86.39%, Test Loss: 0.4261, Test Accuracy: 84.43%\n",
      "Epoch [106/200], Loss: 0.3876, Accuracy: 86.41%, Test Loss: 0.4252, Test Accuracy: 84.49%\n",
      "Epoch [107/200], Loss: 0.3865, Accuracy: 86.44%, Test Loss: 0.4251, Test Accuracy: 84.41%\n",
      "Epoch [108/200], Loss: 0.3863, Accuracy: 86.44%, Test Loss: 0.4245, Test Accuracy: 84.52%\n",
      "Epoch [109/200], Loss: 0.3853, Accuracy: 86.52%, Test Loss: 0.4240, Test Accuracy: 84.61%\n",
      "Epoch [110/200], Loss: 0.3846, Accuracy: 86.53%, Test Loss: 0.4233, Test Accuracy: 84.49%\n",
      "Epoch [111/200], Loss: 0.3840, Accuracy: 86.51%, Test Loss: 0.4223, Test Accuracy: 84.57%\n",
      "Epoch [112/200], Loss: 0.3833, Accuracy: 86.56%, Test Loss: 0.4223, Test Accuracy: 84.59%\n",
      "Epoch [113/200], Loss: 0.3825, Accuracy: 86.57%, Test Loss: 0.4218, Test Accuracy: 84.52%\n",
      "Epoch [114/200], Loss: 0.3820, Accuracy: 86.63%, Test Loss: 0.4209, Test Accuracy: 84.51%\n",
      "Epoch [115/200], Loss: 0.3816, Accuracy: 86.66%, Test Loss: 0.4206, Test Accuracy: 84.67%\n",
      "Epoch [116/200], Loss: 0.3806, Accuracy: 86.65%, Test Loss: 0.4204, Test Accuracy: 84.71%\n",
      "Epoch [117/200], Loss: 0.3801, Accuracy: 86.68%, Test Loss: 0.4194, Test Accuracy: 84.69%\n",
      "Epoch [118/200], Loss: 0.3793, Accuracy: 86.75%, Test Loss: 0.4195, Test Accuracy: 84.73%\n",
      "Epoch [119/200], Loss: 0.3787, Accuracy: 86.76%, Test Loss: 0.4188, Test Accuracy: 84.83%\n",
      "Epoch [120/200], Loss: 0.3782, Accuracy: 86.76%, Test Loss: 0.4184, Test Accuracy: 84.72%\n",
      "Epoch [121/200], Loss: 0.3772, Accuracy: 86.78%, Test Loss: 0.4176, Test Accuracy: 84.77%\n",
      "Epoch [122/200], Loss: 0.3767, Accuracy: 86.78%, Test Loss: 0.4167, Test Accuracy: 84.81%\n",
      "Epoch [123/200], Loss: 0.3761, Accuracy: 86.83%, Test Loss: 0.4164, Test Accuracy: 84.82%\n",
      "Epoch [124/200], Loss: 0.3757, Accuracy: 86.87%, Test Loss: 0.4158, Test Accuracy: 84.80%\n",
      "Epoch [125/200], Loss: 0.3751, Accuracy: 86.85%, Test Loss: 0.4158, Test Accuracy: 84.85%\n",
      "Epoch [126/200], Loss: 0.3748, Accuracy: 86.87%, Test Loss: 0.4152, Test Accuracy: 84.89%\n",
      "Epoch [127/200], Loss: 0.3737, Accuracy: 86.93%, Test Loss: 0.4142, Test Accuracy: 84.91%\n",
      "Epoch [128/200], Loss: 0.3733, Accuracy: 86.89%, Test Loss: 0.4143, Test Accuracy: 84.95%\n",
      "Epoch [129/200], Loss: 0.3727, Accuracy: 86.90%, Test Loss: 0.4133, Test Accuracy: 84.87%\n",
      "Epoch [130/200], Loss: 0.3721, Accuracy: 86.94%, Test Loss: 0.4130, Test Accuracy: 84.99%\n",
      "Epoch [131/200], Loss: 0.3714, Accuracy: 86.98%, Test Loss: 0.4136, Test Accuracy: 84.89%\n",
      "Epoch [132/200], Loss: 0.3717, Accuracy: 86.95%, Test Loss: 0.4125, Test Accuracy: 85.04%\n",
      "Epoch [133/200], Loss: 0.3706, Accuracy: 87.01%, Test Loss: 0.4117, Test Accuracy: 85.04%\n",
      "Epoch [134/200], Loss: 0.3699, Accuracy: 87.04%, Test Loss: 0.4114, Test Accuracy: 84.90%\n",
      "Epoch [135/200], Loss: 0.3692, Accuracy: 87.01%, Test Loss: 0.4106, Test Accuracy: 85.00%\n",
      "Epoch [136/200], Loss: 0.3689, Accuracy: 87.04%, Test Loss: 0.4108, Test Accuracy: 84.91%\n",
      "Epoch [137/200], Loss: 0.3680, Accuracy: 87.11%, Test Loss: 0.4105, Test Accuracy: 84.91%\n",
      "Epoch [138/200], Loss: 0.3672, Accuracy: 87.09%, Test Loss: 0.4094, Test Accuracy: 85.11%\n",
      "Epoch [139/200], Loss: 0.3666, Accuracy: 87.12%, Test Loss: 0.4104, Test Accuracy: 85.10%\n",
      "Epoch [140/200], Loss: 0.3668, Accuracy: 87.15%, Test Loss: 0.4086, Test Accuracy: 85.10%\n",
      "Epoch [141/200], Loss: 0.3660, Accuracy: 87.17%, Test Loss: 0.4085, Test Accuracy: 85.17%\n",
      "Epoch [142/200], Loss: 0.3655, Accuracy: 87.17%, Test Loss: 0.4084, Test Accuracy: 85.09%\n",
      "Epoch [143/200], Loss: 0.3648, Accuracy: 87.22%, Test Loss: 0.4071, Test Accuracy: 85.20%\n",
      "Epoch [144/200], Loss: 0.3645, Accuracy: 87.21%, Test Loss: 0.4068, Test Accuracy: 85.19%\n",
      "Epoch [145/200], Loss: 0.3637, Accuracy: 87.21%, Test Loss: 0.4066, Test Accuracy: 85.20%\n",
      "Epoch [146/200], Loss: 0.3636, Accuracy: 87.23%, Test Loss: 0.4069, Test Accuracy: 85.20%\n",
      "Epoch [147/200], Loss: 0.3630, Accuracy: 87.26%, Test Loss: 0.4059, Test Accuracy: 85.15%\n",
      "Epoch [148/200], Loss: 0.3626, Accuracy: 87.26%, Test Loss: 0.4054, Test Accuracy: 85.35%\n",
      "Epoch [149/200], Loss: 0.3614, Accuracy: 87.27%, Test Loss: 0.4047, Test Accuracy: 85.21%\n",
      "Epoch [150/200], Loss: 0.3614, Accuracy: 87.32%, Test Loss: 0.4054, Test Accuracy: 85.28%\n",
      "Epoch [151/200], Loss: 0.3607, Accuracy: 87.32%, Test Loss: 0.4045, Test Accuracy: 85.19%\n",
      "Epoch [152/200], Loss: 0.3602, Accuracy: 87.37%, Test Loss: 0.4035, Test Accuracy: 85.36%\n",
      "Epoch [153/200], Loss: 0.3597, Accuracy: 87.34%, Test Loss: 0.4034, Test Accuracy: 85.41%\n",
      "Epoch [154/200], Loss: 0.3592, Accuracy: 87.36%, Test Loss: 0.4030, Test Accuracy: 85.29%\n",
      "Epoch [155/200], Loss: 0.3589, Accuracy: 87.39%, Test Loss: 0.4024, Test Accuracy: 85.42%\n",
      "Epoch [156/200], Loss: 0.3583, Accuracy: 87.35%, Test Loss: 0.4026, Test Accuracy: 85.36%\n",
      "Epoch [157/200], Loss: 0.3576, Accuracy: 87.43%, Test Loss: 0.4021, Test Accuracy: 85.48%\n",
      "Epoch [158/200], Loss: 0.3572, Accuracy: 87.41%, Test Loss: 0.4018, Test Accuracy: 85.33%\n",
      "Epoch [159/200], Loss: 0.3570, Accuracy: 87.44%, Test Loss: 0.4007, Test Accuracy: 85.42%\n",
      "Epoch [160/200], Loss: 0.3565, Accuracy: 87.48%, Test Loss: 0.4006, Test Accuracy: 85.44%\n",
      "Epoch [161/200], Loss: 0.3561, Accuracy: 87.50%, Test Loss: 0.4001, Test Accuracy: 85.38%\n",
      "Epoch [162/200], Loss: 0.3555, Accuracy: 87.51%, Test Loss: 0.3998, Test Accuracy: 85.47%\n",
      "Epoch [163/200], Loss: 0.3549, Accuracy: 87.48%, Test Loss: 0.4002, Test Accuracy: 85.37%\n",
      "Epoch [164/200], Loss: 0.3543, Accuracy: 87.54%, Test Loss: 0.3992, Test Accuracy: 85.51%\n",
      "Epoch [165/200], Loss: 0.3542, Accuracy: 87.51%, Test Loss: 0.3989, Test Accuracy: 85.52%\n",
      "Epoch [166/200], Loss: 0.3535, Accuracy: 87.59%, Test Loss: 0.3986, Test Accuracy: 85.48%\n",
      "Epoch [167/200], Loss: 0.3528, Accuracy: 87.55%, Test Loss: 0.3981, Test Accuracy: 85.50%\n",
      "Epoch [168/200], Loss: 0.3527, Accuracy: 87.59%, Test Loss: 0.3975, Test Accuracy: 85.50%\n",
      "Epoch [169/200], Loss: 0.3519, Accuracy: 87.61%, Test Loss: 0.3974, Test Accuracy: 85.51%\n",
      "Epoch [170/200], Loss: 0.3517, Accuracy: 87.63%, Test Loss: 0.3968, Test Accuracy: 85.62%\n",
      "Epoch [171/200], Loss: 0.3510, Accuracy: 87.65%, Test Loss: 0.3968, Test Accuracy: 85.65%\n",
      "Epoch [172/200], Loss: 0.3507, Accuracy: 87.69%, Test Loss: 0.3960, Test Accuracy: 85.51%\n",
      "Epoch [173/200], Loss: 0.3501, Accuracy: 87.67%, Test Loss: 0.3959, Test Accuracy: 85.57%\n",
      "Epoch [174/200], Loss: 0.3497, Accuracy: 87.71%, Test Loss: 0.3959, Test Accuracy: 85.64%\n",
      "Epoch [175/200], Loss: 0.3497, Accuracy: 87.69%, Test Loss: 0.3957, Test Accuracy: 85.69%\n",
      "Epoch [176/200], Loss: 0.3492, Accuracy: 87.67%, Test Loss: 0.3946, Test Accuracy: 85.61%\n",
      "Epoch [177/200], Loss: 0.3481, Accuracy: 87.75%, Test Loss: 0.3945, Test Accuracy: 85.76%\n",
      "Epoch [178/200], Loss: 0.3479, Accuracy: 87.76%, Test Loss: 0.3944, Test Accuracy: 85.71%\n",
      "Epoch [179/200], Loss: 0.3474, Accuracy: 87.79%, Test Loss: 0.3939, Test Accuracy: 85.88%\n",
      "Epoch [180/200], Loss: 0.3470, Accuracy: 87.82%, Test Loss: 0.3937, Test Accuracy: 85.94%\n",
      "Epoch [181/200], Loss: 0.3467, Accuracy: 87.81%, Test Loss: 0.3936, Test Accuracy: 85.77%\n",
      "Epoch [182/200], Loss: 0.3460, Accuracy: 87.81%, Test Loss: 0.3934, Test Accuracy: 85.80%\n",
      "Epoch [183/200], Loss: 0.3459, Accuracy: 87.78%, Test Loss: 0.3934, Test Accuracy: 85.80%\n",
      "Epoch [184/200], Loss: 0.3451, Accuracy: 87.83%, Test Loss: 0.3921, Test Accuracy: 85.92%\n",
      "Epoch [185/200], Loss: 0.3449, Accuracy: 87.80%, Test Loss: 0.3923, Test Accuracy: 85.79%\n",
      "Epoch [186/200], Loss: 0.3444, Accuracy: 87.82%, Test Loss: 0.3921, Test Accuracy: 85.86%\n",
      "Epoch [187/200], Loss: 0.3443, Accuracy: 87.90%, Test Loss: 0.3914, Test Accuracy: 85.74%\n",
      "Epoch [188/200], Loss: 0.3434, Accuracy: 87.89%, Test Loss: 0.3910, Test Accuracy: 86.00%\n",
      "Epoch [189/200], Loss: 0.3431, Accuracy: 87.93%, Test Loss: 0.3905, Test Accuracy: 85.97%\n",
      "Epoch [190/200], Loss: 0.3427, Accuracy: 87.88%, Test Loss: 0.3909, Test Accuracy: 85.98%\n",
      "Epoch [191/200], Loss: 0.3422, Accuracy: 87.98%, Test Loss: 0.3903, Test Accuracy: 85.93%\n",
      "Epoch [192/200], Loss: 0.3421, Accuracy: 87.89%, Test Loss: 0.3896, Test Accuracy: 85.94%\n",
      "Epoch [193/200], Loss: 0.3416, Accuracy: 87.98%, Test Loss: 0.3892, Test Accuracy: 86.08%\n",
      "Epoch [194/200], Loss: 0.3410, Accuracy: 87.98%, Test Loss: 0.3890, Test Accuracy: 86.04%\n",
      "Epoch [195/200], Loss: 0.3407, Accuracy: 88.03%, Test Loss: 0.3891, Test Accuracy: 86.11%\n",
      "Epoch [196/200], Loss: 0.3404, Accuracy: 88.03%, Test Loss: 0.3887, Test Accuracy: 86.06%\n",
      "Epoch [197/200], Loss: 0.3399, Accuracy: 88.02%, Test Loss: 0.3893, Test Accuracy: 85.96%\n",
      "Epoch [198/200], Loss: 0.3399, Accuracy: 88.04%, Test Loss: 0.3877, Test Accuracy: 86.04%\n",
      "Epoch [199/200], Loss: 0.3392, Accuracy: 88.06%, Test Loss: 0.3873, Test Accuracy: 86.07%\n",
      "Epoch [200/200], Loss: 0.3384, Accuracy: 88.09%, Test Loss: 0.3872, Test Accuracy: 86.14%\n"
     ]
    }
   ],
   "source": [
    "# train\n",
    "for epoch in range(max_epoch):\n",
    "    running_loss = 0.0\n",
    "    running_correct = 0   # to track number of correct predictions\n",
    "    total = 0             # to track total number of samples\n",
    "\n",
    "    for i, (inputs, labels) in enumerate(trainloader, 0):\n",
    "        # Move inputs and labels to the device\n",
    "        inputs, labels = inputs.to(device), labels.to(device)\n",
    "\n",
    "        # Zero the parameter gradients\n",
    "        optimizer.zero_grad()\n",
    "\n",
    "        # Forward pass\n",
    "        outputs = model(inputs)\n",
    "        loss = criterion(outputs, labels)\n",
    "        running_loss += loss.item()\n",
    "\n",
    "        # Determine class predictions and track accuracy\n",
    "        _, predicted = torch.max(outputs.data, 1)\n",
    "        total += labels.size(0)\n",
    "        running_correct += (predicted == labels).sum().item()\n",
    "\n",
    "        # Backward pass and optimization\n",
    "        loss.backward()\n",
    "        optimizer.step()        \n",
    "\n",
    "    epoch_accuracy = 100 * running_correct / total\n",
    "    epoch_loss = running_loss / (i + 1)\n",
    "    test_loss, test_accuracy = evaluate(model, testloader, criterion)\n",
    "    print(f\"Epoch [{epoch + 1}/{max_epoch}], Loss: {epoch_loss:.4f}, Accuracy: {epoch_accuracy:.2f}%, Test Loss: {test_loss:.4f}, Test Accuracy: {test_accuracy:.2f}%\")\n",
    "    \n",
    "    # save for plot\n",
    "    train_losses.append(epoch_loss)\n",
    "    train_accuracies.append(epoch_accuracy)\n",
    "    test_losses.append(test_loss)\n",
    "    test_accuracies.append(test_accuracy)"
   ]
  },
  {
   "cell_type": "code",
   "execution_count": null,
   "metadata": {
    "id": "QKFbl4unF_6t"
   },
   "outputs": [],
   "source": []
  },
  {
   "cell_type": "code",
   "execution_count": 11,
   "metadata": {
    "id": "AwIj3vrnF_8_"
   },
   "outputs": [
    {
     "data": {
      "text/plain": [
       "<matplotlib.legend.Legend at 0x7ffa9efabbe0>"
      ]
     },
     "execution_count": 11,
     "metadata": {},
     "output_type": "execute_result"
    },
    {
     "data": {
      "image/png": "[encoded data removed]",
      "text/plain": [
       "<Figure size 640x480 with 1 Axes>"
      ]
     },
     "metadata": {},
     "output_type": "display_data"
    }
   ],
   "source": [
    "import matplotlib.pyplot as plt\n",
    "\n",
    "plt.plot(train_losses, label='train_losses')\n",
    "plt.plot(test_losses, label='test_losses')\n",
    "plt.legend()"
   ]
  },
  {
   "cell_type": "code",
   "execution_count": 12,
   "metadata": {
    "id": "eh3iDa8lF__H"
   },
   "outputs": [
    {
     "data": {
      "text/plain": [
       "<matplotlib.legend.Legend at 0x7ffa9c061540>"
      ]
     },
     "execution_count": 12,
     "metadata": {},
     "output_type": "execute_result"
    },
    {
     "data": {
      "image/png": "[encoded data removed]",
      "text/plain": [
       "<Figure size 640x480 with 1 Axes>"
      ]
     },
     "metadata": {},
     "output_type": "display_data"
    }
   ],
   "source": [
    "import matplotlib.pyplot as plt\n",
    "\n",
    "plt.plot(train_accuracies, label='train_accuracy')\n",
    "plt.plot(test_accuracies, label='test_accuracy')\n",
    "plt.legend()"
   ]
  },
  {
   "cell_type": "code",
   "execution_count": null,
   "metadata": {},
   "outputs": [],
   "source": []
  },
  {
   "cell_type": "code",
   "execution_count": 13,
   "metadata": {},
   "outputs": [
    {
     "data": {
      "text/plain": [
       "<matplotlib.legend.Legend at 0x7ffa800f3ca0>"
      ]
     },
     "execution_count": 13,
     "metadata": {},
     "output_type": "execute_result"
    }
   ],
   "source": [
    "import matplotlib.pyplot as plt\n",
    "%matplotlib qt\n",
    "\n",
    "plt.plot(train_losses, label='train_losses')\n",
    "plt.plot(test_losses, label='test_losses')\n",
    "plt.legend()"
   ]
  },
  {
   "cell_type": "code",
   "execution_count": 14,
   "metadata": {},
   "outputs": [
    {
     "data": {
      "text/plain": [
       "<matplotlib.legend.Legend at 0x7ffa1c16be50>"
      ]
     },
     "execution_count": 14,
     "metadata": {},
     "output_type": "execute_result"
    }
   ],
   "source": [
    "import matplotlib.pyplot as plt\n",
    "%matplotlib qt\n",
    "\n",
    "plt.plot(train_accuracies, label='train_accuracy')\n",
    "plt.plot(test_accuracies, label='test_accuracy')\n",
    "plt.legend()"
   ]
  },
  {
   "cell_type": "code",
   "execution_count": null,
   "metadata": {},
   "outputs": [],
   "source": []
  }
 ],
 "metadata": {
  "accelerator": "GPU",
  "colab": {
   "gpuType": "T4",
   "provenance": []
  },
  "kernelspec": {
   "display_name": "Python 3 (ipykernel)",
   "language": "python",
   "name": "python3"
  },
  "language_info": {
   "codemirror_mode": {
    "name": "ipython",
    "version": 3
   },
   "file_extension": ".py",
   "mimetype": "text/x-python",
   "name": "python",
   "nbconvert_exporter": "python",
   "pygments_lexer": "ipython3",
   "version": "3.9.18"
  }
 },
 "nbformat": 4,
 "nbformat_minor": 4
}
