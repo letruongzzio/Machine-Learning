{
  "nbformat": 4,
  "nbformat_minor": 0,
  "metadata": {
    "colab": {
      "provenance": []
    },
    "kernelspec": {
      "name": "python3",
      "display_name": "Python 3"
    },
    "language_info": {
      "name": "python"
    }
  },
  "cells": [
    {
      "cell_type": "markdown",
      "source": [
        "## **Approximating the derivative of a function of many variables.**\n",
        "\n",
        "Application of Numerical Analysis in matrix derivatives. Specifically, we will apply the central difference formula with a degree of convergence equal to 2 at each point in the matrix:\n",
        "\n",
        "$$f'(x_0) = \\frac{f(x_0 + h) - f(x_0 - h)}{2h} + \\mathcal{O}(h^2), \\ h\\rightarrow 0$$"
      ],
      "metadata": {
        "id": "rNNohnLdRteT"
      }
    },
    {
      "cell_type": "code",
      "source": [
        "import numpy as np\n",
        "\n",
        "def check_grad(fn, gr, X):\n",
        "    X_flat = X.reshape(-1) # convert X to an 1d array -> 1 for loop needed\n",
        "    shape_X = X.shape # original shape of X\n",
        "    grad_flat = np.zeros_like(X_flat) # 1d version of grad\n",
        "    eps = 1e-6 # a small number, 1e-10 -> 1e-6 is usually good\n",
        "    numElems = X_flat.shape[0] # number of elements in X\n",
        "\n",
        "    # calculate numerical gradient\n",
        "    for i in range(numElems): # iterate over all elements of X\n",
        "        Xp_flat = X_flat.copy()\n",
        "        Xn_flat = X_flat.copy()\n",
        "        Xp_flat[i] += eps\n",
        "        Xn_flat[i] -= eps\n",
        "        Xp = Xp_flat.reshape(shape_X)\n",
        "        Xn = Xn_flat.reshape(shape_X)\n",
        "        grad_flat[i] = (fn(Xp) - fn(Xn))/(2*eps)\n",
        "\n",
        "    num_grad = grad_flat.reshape(shape_X)\n",
        "\n",
        "    diff = np.linalg.norm(num_grad - gr(X))\n",
        "    print('Difference between two methods should be small:', diff)"
      ],
      "metadata": {
        "id": "5OYwpGOgTI1L"
      },
      "execution_count": null,
      "outputs": []
    },
    {
      "cell_type": "code",
      "source": [
        "# Check if grad(x^T * A * x) == (A + A^T) * x\n",
        "A = np.random.rand(m, m)\n",
        "x = np.random.rand(m, 1)\n",
        "\n",
        "def fn1(x):\n",
        "    return x.T.dot(A).dot(x)\n",
        "def gr1(x):\n",
        "    return (A + A.T).dot(x)\n",
        "check_grad(fn1, gr1, x)\n",
        "# Check if grad(trace(AX)) == A^T\n",
        "A = np.random.rand(m, n)\n",
        "X = np.random.rand(n, m)\n",
        "\n",
        "def fn2(X):\n",
        "    return np.trace(A.dot(X))\n",
        "def gr2(X):\n",
        "    return A.T\n",
        "check_grad(fn2, gr2, X)"
      ],
      "metadata": {
        "colab": {
          "base_uri": "https://localhost:8080/"
        },
        "id": "EXnIYeeLS6-y",
        "outputId": "e2f6e6dd-0534-445d-d123-f7fdd7665ae7"
      },
      "execution_count": null,
      "outputs": [
        {
          "output_type": "stream",
          "name": "stdout",
          "text": [
            "Difference between two methods should be small: 6.501141750093523e-10\n",
            "Difference between two methods should be small: 2.1637077375805862e-08\n"
          ]
        },
        {
          "output_type": "stream",
          "name": "stderr",
          "text": [
            "<ipython-input-8-af208f3daedd>:17: DeprecationWarning: Conversion of an array with ndim > 0 to a scalar is deprecated, and will error in future. Ensure you extract a single element from your array before performing this operation. (Deprecated NumPy 1.25.)\n",
            "  grad_flat[i] = (fn(Xp) - fn(Xn))/(2*eps)\n"
          ]
        }
      ]
    },
    {
      "cell_type": "markdown",
      "source": [
        "___\n",
        "## **References:**\n",
        "\n",
        "$[1].$ *Vũ Hữu Tiệp. Machine Learning cơ bản, pages 36-39, 2018.*"
      ],
      "metadata": {
        "id": "XLqD6dH3ySVJ"
      }
    }
  ]
}