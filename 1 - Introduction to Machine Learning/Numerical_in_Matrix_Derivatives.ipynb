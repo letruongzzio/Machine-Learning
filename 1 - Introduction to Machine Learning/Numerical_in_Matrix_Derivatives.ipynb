{
  "cells": [
    {
      "cell_type": "markdown",
      "metadata": {
        "id": "rNNohnLdRteT"
      },
      "source": [
        "# Approximating the derivative of a function of many variables\n",
        "\n",
        "Application of Numerical Analysis in matrix derivatives. Specifically, we will apply the central difference formula with a degree of convergence equal to 2 at each point in the matrix:\n",
        "\n",
        "$$f'(x_0) = \\frac{f(x_0 + h) - f(x_0 - h)}{2h} + \\mathcal{O}(h^2), \\ h\\rightarrow 0$$"
      ]
    },
    {
      "cell_type": "code",
      "execution_count": 3,
      "metadata": {
        "id": "5OYwpGOgTI1L"
      },
      "outputs": [],
      "source": [
        "import numpy as np\n",
        "\n",
        "def check_grad(fn, gr, X):\n",
        "    X_flat = X.reshape(-1) # convert X to an 1d array -> 1 for loop needed\n",
        "    shape_X = X.shape # original shape of X\n",
        "    grad_flat = np.zeros_like(X_flat) # 1d version of grad\n",
        "    eps = 1e-6 # a small number, 1e-10 -> 1e-6 is usually good\n",
        "    numElems = X_flat.shape[0] # number of elements in X\n",
        "\n",
        "    # calculate numerical gradient\n",
        "    for i in range(numElems): # iterate over all elements of X\n",
        "        Xp_flat = X_flat.copy()\n",
        "        Xn_flat = X_flat.copy()\n",
        "        Xp_flat[i] += eps\n",
        "        Xn_flat[i] -= eps\n",
        "        Xp = Xp_flat.reshape(shape_X)\n",
        "        Xn = Xn_flat.reshape(shape_X)\n",
        "        grad_flat[i] = (fn(Xp) - fn(Xn))/(2*eps)\n",
        "\n",
        "    num_grad = grad_flat.reshape(shape_X)\n",
        "\n",
        "    diff = np.linalg.norm(num_grad - gr(X))\n",
        "    print('Difference between two methods should be small:', diff)"
      ]
    },
    {
      "cell_type": "code",
      "execution_count": 4,
      "metadata": {
        "colab": {
          "base_uri": "https://localhost:8080/"
        },
        "id": "EXnIYeeLS6-y",
        "outputId": "e2f6e6dd-0534-445d-d123-f7fdd7665ae7"
      },
      "outputs": [
        {
          "name": "stdout",
          "output_type": "stream",
          "text": [
            "Difference between two methods should be small: 4.276982422081088e-09\n",
            "Difference between two methods should be small: 2.3497874453351018e-08\n"
          ]
        },
        {
          "name": "stderr",
          "output_type": "stream",
          "text": [
            "/tmp/ipykernel_20678/4055525935.py:18: DeprecationWarning: Conversion of an array with ndim > 0 to a scalar is deprecated, and will error in future. Ensure you extract a single element from your array before performing this operation. (Deprecated NumPy 1.25.)\n",
            "  grad_flat[i] = (fn(Xp) - fn(Xn))/(2*eps)\n"
          ]
        }
      ],
      "source": [
        "m, n = 10, 20\n",
        "\n",
        "# Check if grad(x^T * A * x) == (A + A^T) * x\n",
        "A = np.random.rand(m, m)\n",
        "x = np.random.rand(m, 1)\n",
        "\n",
        "def fn1(x):\n",
        "    return x.T.dot(A).dot(x)\n",
        "def gr1(x):\n",
        "    return (A + A.T).dot(x)\n",
        "check_grad(fn1, gr1, x)\n",
        "# Check if grad(trace(AX)) == A^T\n",
        "A = np.random.rand(m, n)\n",
        "X = np.random.rand(n, m)\n",
        "\n",
        "def fn2(X):\n",
        "    return np.trace(A.dot(X))\n",
        "def gr2(X):\n",
        "    return A.T\n",
        "check_grad(fn2, gr2, X)"
      ]
    },
    {
      "cell_type": "markdown",
      "metadata": {
        "id": "XLqD6dH3ySVJ"
      },
      "source": [
        "___\n",
        "## **References:**\n",
        "\n",
        "$[1].$ Vũ Hữu Tiệp. (2018). _Machine Learning cơ bản_. Nhà xuất bản Khoa học và Kỹ thuật."
      ]
    }
  ],
  "metadata": {
    "colab": {
      "provenance": []
    },
    "kernelspec": {
      "display_name": "Python 3",
      "name": "python3"
    },
    "language_info": {
      "codemirror_mode": {
        "name": "ipython",
        "version": 3
      },
      "file_extension": ".py",
      "mimetype": "text/x-python",
      "name": "python",
      "nbconvert_exporter": "python",
      "pygments_lexer": "ipython3",
      "version": "3.10.12"
    }
  },
  "nbformat": 4,
  "nbformat_minor": 0
}
