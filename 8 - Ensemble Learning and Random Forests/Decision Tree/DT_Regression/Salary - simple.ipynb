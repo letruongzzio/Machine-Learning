{
 "cells": [
  {
   "cell_type": "code",
   "execution_count": 1,
   "id": "cf073fc8",
   "metadata": {},
   "outputs": [],
   "source": [
    "import numpy as np\n",
    "import pandas as pd\n",
    "import matplotlib.pyplot as plt\n",
    "from sklearn.model_selection import train_test_split\n",
    "from sklearn.metrics import r2_score\n",
    "from sklearn.model_selection import GridSearchCV\n",
    "from sklearn.tree import DecisionTreeRegressor\n",
    "import matplotlib\n",
    "%matplotlib qt"
   ]
  },
  {
   "cell_type": "code",
   "execution_count": 2,
   "id": "15d5b755",
   "metadata": {},
   "outputs": [
    {
     "data": {
      "text/html": [
       "<div>\n",
       "<style scoped>\n",
       "    .dataframe tbody tr th:only-of-type {\n",
       "        vertical-align: middle;\n",
       "    }\n",
       "\n",
       "    .dataframe tbody tr th {\n",
       "        vertical-align: top;\n",
       "    }\n",
       "\n",
       "    .dataframe thead th {\n",
       "        text-align: right;\n",
       "    }\n",
       "</style>\n",
       "<table border=\"1\" class=\"dataframe\">\n",
       "  <thead>\n",
       "    <tr style=\"text-align: right;\">\n",
       "      <th></th>\n",
       "      <th>Experience</th>\n",
       "      <th>Salary</th>\n",
       "    </tr>\n",
       "  </thead>\n",
       "  <tbody>\n",
       "    <tr>\n",
       "      <th>0</th>\n",
       "      <td>1.0</td>\n",
       "      <td>0.0</td>\n",
       "    </tr>\n",
       "    <tr>\n",
       "      <th>1</th>\n",
       "      <td>1.5</td>\n",
       "      <td>0.0</td>\n",
       "    </tr>\n",
       "    <tr>\n",
       "      <th>2</th>\n",
       "      <td>2.0</td>\n",
       "      <td>0.0</td>\n",
       "    </tr>\n",
       "    <tr>\n",
       "      <th>3</th>\n",
       "      <td>2.5</td>\n",
       "      <td>0.0</td>\n",
       "    </tr>\n",
       "    <tr>\n",
       "      <th>4</th>\n",
       "      <td>3.0</td>\n",
       "      <td>60.0</td>\n",
       "    </tr>\n",
       "    <tr>\n",
       "      <th>5</th>\n",
       "      <td>3.5</td>\n",
       "      <td>64.0</td>\n",
       "    </tr>\n",
       "    <tr>\n",
       "      <th>6</th>\n",
       "      <td>4.0</td>\n",
       "      <td>55.0</td>\n",
       "    </tr>\n",
       "    <tr>\n",
       "      <th>7</th>\n",
       "      <td>4.5</td>\n",
       "      <td>61.0</td>\n",
       "    </tr>\n",
       "    <tr>\n",
       "      <th>8</th>\n",
       "      <td>5.0</td>\n",
       "      <td>66.0</td>\n",
       "    </tr>\n",
       "    <tr>\n",
       "      <th>9</th>\n",
       "      <td>5.5</td>\n",
       "      <td>83.0</td>\n",
       "    </tr>\n",
       "    <tr>\n",
       "      <th>10</th>\n",
       "      <td>6.0</td>\n",
       "      <td>93.0</td>\n",
       "    </tr>\n",
       "    <tr>\n",
       "      <th>11</th>\n",
       "      <td>6.5</td>\n",
       "      <td>91.0</td>\n",
       "    </tr>\n",
       "    <tr>\n",
       "      <th>12</th>\n",
       "      <td>7.0</td>\n",
       "      <td>98.0</td>\n",
       "    </tr>\n",
       "    <tr>\n",
       "      <th>13</th>\n",
       "      <td>7.5</td>\n",
       "      <td>101.0</td>\n",
       "    </tr>\n",
       "  </tbody>\n",
       "</table>\n",
       "</div>"
      ],
      "text/plain": [
       "    Experience  Salary\n",
       "0          1.0     0.0\n",
       "1          1.5     0.0\n",
       "2          2.0     0.0\n",
       "3          2.5     0.0\n",
       "4          3.0    60.0\n",
       "5          3.5    64.0\n",
       "6          4.0    55.0\n",
       "7          4.5    61.0\n",
       "8          5.0    66.0\n",
       "9          5.5    83.0\n",
       "10         6.0    93.0\n",
       "11         6.5    91.0\n",
       "12         7.0    98.0\n",
       "13         7.5   101.0"
      ]
     },
     "execution_count": 2,
     "metadata": {},
     "output_type": "execute_result"
    }
   ],
   "source": [
    "df = pd.read_csv('Salary_Data_simple.csv')\n",
    "df"
   ]
  },
  {
   "cell_type": "code",
   "execution_count": null,
   "id": "96f62be5",
   "metadata": {},
   "outputs": [],
   "source": []
  },
  {
   "cell_type": "code",
   "execution_count": 16,
   "id": "24336bbb",
   "metadata": {},
   "outputs": [
    {
     "data": {
      "text/plain": [
       "<matplotlib.collections.PathCollection at 0x22ec42f2ed0>"
      ]
     },
     "execution_count": 16,
     "metadata": {},
     "output_type": "execute_result"
    }
   ],
   "source": [
    "plt.scatter(x = df['Experience'], y = df['Salary'])"
   ]
  },
  {
   "cell_type": "code",
   "execution_count": null,
   "id": "89f6df9e",
   "metadata": {},
   "outputs": [],
   "source": []
  },
  {
   "cell_type": "code",
   "execution_count": 3,
   "id": "dadcdf7a",
   "metadata": {},
   "outputs": [
    {
     "data": {
      "text/plain": [
       "4    60.0\n",
       "Name: Salary, dtype: float64"
      ]
     },
     "execution_count": 3,
     "metadata": {},
     "output_type": "execute_result"
    }
   ],
   "source": [
    "X = df.iloc[:, :-1]\n",
    "y = df.iloc[:, -1]\n",
    "\n",
    "X_train, X_test, y_train, y_test = train_test_split(X, y, test_size=0.01, random_state=4)\n",
    "y_test"
   ]
  },
  {
   "cell_type": "code",
   "execution_count": null,
   "id": "f8d7c2a3",
   "metadata": {},
   "outputs": [],
   "source": []
  },
  {
   "cell_type": "code",
   "execution_count": 28,
   "id": "7418f8d1",
   "metadata": {},
   "outputs": [
    {
     "data": {
      "text/html": [
       "<style>#sk-container-id-3 {color: black;}#sk-container-id-3 pre{padding: 0;}#sk-container-id-3 div.sk-toggleable {background-color: white;}#sk-container-id-3 label.sk-toggleable__label {cursor: pointer;display: block;width: 100%;margin-bottom: 0;padding: 0.3em;box-sizing: border-box;text-align: center;}#sk-container-id-3 label.sk-toggleable__label-arrow:before {content: \"▸\";float: left;margin-right: 0.25em;color: #696969;}#sk-container-id-3 label.sk-toggleable__label-arrow:hover:before {color: black;}#sk-container-id-3 div.sk-estimator:hover label.sk-toggleable__label-arrow:before {color: black;}#sk-container-id-3 div.sk-toggleable__content {max-height: 0;max-width: 0;overflow: hidden;text-align: left;background-color: #f0f8ff;}#sk-container-id-3 div.sk-toggleable__content pre {margin: 0.2em;color: black;border-radius: 0.25em;background-color: #f0f8ff;}#sk-container-id-3 input.sk-toggleable__control:checked~div.sk-toggleable__content {max-height: 200px;max-width: 100%;overflow: auto;}#sk-container-id-3 input.sk-toggleable__control:checked~label.sk-toggleable__label-arrow:before {content: \"▾\";}#sk-container-id-3 div.sk-estimator input.sk-toggleable__control:checked~label.sk-toggleable__label {background-color: #d4ebff;}#sk-container-id-3 div.sk-label input.sk-toggleable__control:checked~label.sk-toggleable__label {background-color: #d4ebff;}#sk-container-id-3 input.sk-hidden--visually {border: 0;clip: rect(1px 1px 1px 1px);clip: rect(1px, 1px, 1px, 1px);height: 1px;margin: -1px;overflow: hidden;padding: 0;position: absolute;width: 1px;}#sk-container-id-3 div.sk-estimator {font-family: monospace;background-color: #f0f8ff;border: 1px dotted black;border-radius: 0.25em;box-sizing: border-box;margin-bottom: 0.5em;}#sk-container-id-3 div.sk-estimator:hover {background-color: #d4ebff;}#sk-container-id-3 div.sk-parallel-item::after {content: \"\";width: 100%;border-bottom: 1px solid gray;flex-grow: 1;}#sk-container-id-3 div.sk-label:hover label.sk-toggleable__label {background-color: #d4ebff;}#sk-container-id-3 div.sk-serial::before {content: \"\";position: absolute;border-left: 1px solid gray;box-sizing: border-box;top: 0;bottom: 0;left: 50%;z-index: 0;}#sk-container-id-3 div.sk-serial {display: flex;flex-direction: column;align-items: center;background-color: white;padding-right: 0.2em;padding-left: 0.2em;position: relative;}#sk-container-id-3 div.sk-item {position: relative;z-index: 1;}#sk-container-id-3 div.sk-parallel {display: flex;align-items: stretch;justify-content: center;background-color: white;position: relative;}#sk-container-id-3 div.sk-item::before, #sk-container-id-3 div.sk-parallel-item::before {content: \"\";position: absolute;border-left: 1px solid gray;box-sizing: border-box;top: 0;bottom: 0;left: 50%;z-index: -1;}#sk-container-id-3 div.sk-parallel-item {display: flex;flex-direction: column;z-index: 1;position: relative;background-color: white;}#sk-container-id-3 div.sk-parallel-item:first-child::after {align-self: flex-end;width: 50%;}#sk-container-id-3 div.sk-parallel-item:last-child::after {align-self: flex-start;width: 50%;}#sk-container-id-3 div.sk-parallel-item:only-child::after {width: 0;}#sk-container-id-3 div.sk-dashed-wrapped {border: 1px dashed gray;margin: 0 0.4em 0.5em 0.4em;box-sizing: border-box;padding-bottom: 0.4em;background-color: white;}#sk-container-id-3 div.sk-label label {font-family: monospace;font-weight: bold;display: inline-block;line-height: 1.2em;}#sk-container-id-3 div.sk-label-container {text-align: center;}#sk-container-id-3 div.sk-container {/* jupyter's `normalize.less` sets `[hidden] { display: none; }` but bootstrap.min.css set `[hidden] { display: none !important; }` so we also need the `!important` here to be able to override the default hidden behavior on the sphinx rendered scikit-learn.org. See: https://github.com/scikit-learn/scikit-learn/issues/21755 */display: inline-block !important;position: relative;}#sk-container-id-3 div.sk-text-repr-fallback {display: none;}</style><div id=\"sk-container-id-3\" class=\"sk-top-container\"><div class=\"sk-text-repr-fallback\"><pre>DecisionTreeRegressor(max_depth=2)</pre><b>In a Jupyter environment, please rerun this cell to show the HTML representation or trust the notebook. <br />On GitHub, the HTML representation is unable to render, please try loading this page with nbviewer.org.</b></div><div class=\"sk-container\" hidden><div class=\"sk-item\"><div class=\"sk-estimator sk-toggleable\"><input class=\"sk-toggleable__control sk-hidden--visually\" id=\"sk-estimator-id-3\" type=\"checkbox\" checked><label for=\"sk-estimator-id-3\" class=\"sk-toggleable__label sk-toggleable__label-arrow\">DecisionTreeRegressor</label><div class=\"sk-toggleable__content\"><pre>DecisionTreeRegressor(max_depth=2)</pre></div></div></div></div></div>"
      ],
      "text/plain": [
       "DecisionTreeRegressor(max_depth=2)"
      ]
     },
     "execution_count": 28,
     "metadata": {},
     "output_type": "execute_result"
    }
   ],
   "source": [
    "dt_regressor = DecisionTreeRegressor(max_depth=2)\n",
    "dt_regressor.fit(X, y)"
   ]
  },
  {
   "cell_type": "code",
   "execution_count": 29,
   "id": "23744c28",
   "metadata": {},
   "outputs": [
    {
     "data": {
      "text/plain": [
       "-951.5406593406593"
      ]
     },
     "execution_count": 29,
     "metadata": {},
     "output_type": "execute_result"
    }
   ],
   "source": [
    "y_pred_train = dt_regressor.predict(X)\n",
    "r2_score(X, y)"
   ]
  },
  {
   "cell_type": "code",
   "execution_count": 30,
   "id": "40c342f6",
   "metadata": {},
   "outputs": [
    {
     "name": "stderr",
     "output_type": "stream",
     "text": [
      "E:\\SoftInstallation\\conda\\envs\\tf_env\\Lib\\site-packages\\sklearn\\metrics\\_regression.py:996: UndefinedMetricWarning: R^2 score is not well-defined with less than two samples.\n"
     ]
    },
    {
     "data": {
      "text/plain": [
       "nan"
      ]
     },
     "execution_count": 30,
     "metadata": {},
     "output_type": "execute_result"
    }
   ],
   "source": [
    "y_pred = dt_regressor.predict(X_test)\n",
    "r2_score(y_test, y_pred)"
   ]
  },
  {
   "cell_type": "code",
   "execution_count": null,
   "id": "fe14711b",
   "metadata": {},
   "outputs": [],
   "source": []
  },
  {
   "cell_type": "code",
   "execution_count": 31,
   "id": "1260cc98",
   "metadata": {},
   "outputs": [
    {
     "name": "stdout",
     "output_type": "stream",
     "text": [
      "|--- feature_0 <= 2.75\n",
      "|   |--- value: [0.00]\n",
      "|--- feature_0 >  2.75\n",
      "|   |--- feature_0 <= 5.25\n",
      "|   |   |--- value: [61.20]\n",
      "|   |--- feature_0 >  5.25\n",
      "|   |   |--- value: [93.20]\n",
      "\n"
     ]
    }
   ],
   "source": [
    "from sklearn import tree\n",
    "\n",
    "text_representation = tree.export_text(dt_regressor)\n",
    "print(text_representation)"
   ]
  },
  {
   "cell_type": "code",
   "execution_count": 36,
   "id": "abdda1a8",
   "metadata": {},
   "outputs": [],
   "source": [
    "fig = plt.figure(figsize=(25,20))\n",
    "_ = tree.plot_tree(dt_regressor, feature_names=['YearsExperience'], filled=True)"
   ]
  },
  {
   "cell_type": "code",
   "execution_count": null,
   "id": "e2d29029",
   "metadata": {},
   "outputs": [],
   "source": []
  },
  {
   "cell_type": "code",
   "execution_count": 34,
   "id": "38b53c6c",
   "metadata": {},
   "outputs": [
    {
     "name": "stderr",
     "output_type": "stream",
     "text": [
      "E:\\SoftInstallation\\conda\\envs\\tf_env\\Lib\\site-packages\\sklearn\\base.py:464: UserWarning: X does not have valid feature names, but DecisionTreeRegressor was fitted with feature names\n"
     ]
    }
   ],
   "source": [
    "import dtreeviz \n",
    "\n",
    "viz = dtreeviz.model(dt_regressor, X, y,\n",
    "                target_name=\"target\",\n",
    "                feature_names=['YearsExperience'])\n",
    "v = viz.view()     # render as SVG into internal object \n",
    "v.show()              # pop up window"
   ]
  },
  {
   "cell_type": "code",
   "execution_count": 37,
   "id": "5438eb9e",
   "metadata": {},
   "outputs": [
    {
     "name": "stderr",
     "output_type": "stream",
     "text": [
      "E:\\SoftInstallation\\conda\\envs\\tf_env\\Lib\\site-packages\\sklearn\\base.py:464: UserWarning: X does not have valid feature names, but DecisionTreeRegressor was fitted with feature names\n"
     ]
    }
   ],
   "source": [
    "viz.rtree_feature_space(features=['YearsExperience'])"
   ]
  },
  {
   "cell_type": "code",
   "execution_count": null,
   "id": "8f9ac1d0",
   "metadata": {},
   "outputs": [],
   "source": []
  },
  {
   "cell_type": "code",
   "execution_count": null,
   "id": "3513caa6",
   "metadata": {},
   "outputs": [],
   "source": []
  },
  {
   "cell_type": "markdown",
   "id": "024c835d",
   "metadata": {},
   "source": [
    "## Verify"
   ]
  },
  {
   "cell_type": "code",
   "execution_count": 4,
   "id": "6b0ed3fd",
   "metadata": {},
   "outputs": [
    {
     "data": {
      "text/plain": [
       "array([  0.,   0.,   0.,   0.,  60.,  64.,  55.,  61.,  66.,  83.,  93.,\n",
       "        91.,  98., 101.])"
      ]
     },
     "execution_count": 4,
     "metadata": {},
     "output_type": "execute_result"
    }
   ],
   "source": [
    "data = y.to_numpy()\n",
    "data"
   ]
  },
  {
   "cell_type": "code",
   "execution_count": 9,
   "id": "edddb35d",
   "metadata": {},
   "outputs": [
    {
     "name": "stdout",
     "output_type": "stream",
     "text": [
      "for i=1\n",
      "[0.] mse: 0.0     mean: 0.0\n",
      "[  0.   0.   0.  60.  64.  55.  61.  66.  83.  93.  91.  98. 101.] mse: 1275.1597633136096     mean: 59.38461538461539\n",
      "average_mse: 1184.0769230769233\n",
      "\n",
      "\n",
      "for i=2\n",
      "[0. 0.] mse: 0.0     mean: 0.0\n",
      "[  0.   0.  60.  64.  55.  61.  66.  83.  93.  91.  98. 101.] mse: 1063.0555555555557     mean: 64.33333333333333\n",
      "average_mse: 911.1904761904763\n",
      "\n",
      "\n",
      "for i=3\n",
      "[0. 0. 0.] mse: 0.0     mean: 0.0\n",
      "[  0.  60.  64.  55.  61.  66.  83.  93.  91.  98. 101.] mse: 749.2396694214876     mean: 70.18181818181819\n",
      "average_mse: 588.6883116883117\n",
      "\n",
      "\n",
      "for i=4\n",
      "[0. 0. 0. 0.] mse: 0.0     mean: 0.0\n",
      "[ 60.  64.  55.  61.  66.  83.  93.  91.  98. 101.] mse: 282.35999999999996     mean: 77.2\n",
      "average_mse: 201.68571428571425\n",
      "\n",
      "\n",
      "for i=5\n",
      "[ 0.  0.  0.  0. 60.] mse: 576.0     mean: 12.0\n",
      "[ 64.  55.  61.  66.  83.  93.  91.  98. 101.] mse: 277.20987654320993     mean: 79.11111111111111\n",
      "average_mse: 383.92063492063494\n",
      "\n",
      "\n",
      "for i=6\n",
      "[ 0.  0.  0.  0. 60. 64.] mse: 855.5555555555553     mean: 20.666666666666668\n",
      "[ 55.  61.  66.  83.  93.  91.  98. 101.] mse: 279.75     mean: 81.0\n",
      "average_mse: 526.5238095238094\n",
      "\n",
      "\n",
      "for i=7\n",
      "[ 0.  0.  0.  0. 60. 64. 55.] mse: 877.6734693877551     mean: 25.571428571428573\n",
      "[ 61.  66.  83.  93.  91.  98. 101.] mse: 209.34693877551018     mean: 84.71428571428571\n",
      "average_mse: 543.5102040816327\n",
      "\n",
      "\n",
      "for i=8\n",
      "[ 0.  0.  0.  0. 60. 64. 55. 61.] mse: 905.25     mean: 30.0\n",
      "[ 66.  83.  93.  91.  98. 101.] mse: 134.88888888888889     mean: 88.66666666666667\n",
      "average_mse: 575.0952380952381\n",
      "\n",
      "\n",
      "for i=9\n",
      "[ 0.  0.  0.  0. 60. 64. 55. 61. 66.] mse: 932.6666666666666     mean: 34.0\n",
      "[ 83.  93.  91.  98. 101.] mse: 38.56     mean: 93.2\n",
      "average_mse: 613.3428571428572\n",
      "\n",
      "\n",
      "for i=10\n",
      "[ 0.  0.  0.  0. 60. 64. 55. 61. 66. 83.] mse: 1055.49     mean: 38.9\n",
      "[ 93.  91.  98. 101.] mse: 15.6875     mean: 95.75\n",
      "average_mse: 758.4035714285715\n",
      "\n",
      "\n",
      "for i=11\n",
      "[ 0.  0.  0.  0. 60. 64. 55. 61. 66. 83. 93.] mse: 1201.4214876033059     mean: 43.81818181818182\n",
      "[ 91.  98. 101.] mse: 17.555555555555554     mean: 96.66666666666667\n",
      "average_mse: 947.7359307359309\n",
      "\n",
      "\n",
      "for i=12\n",
      "[ 0.  0.  0.  0. 60. 64. 55. 61. 66. 83. 93. 91.] mse: 1271.3541666666667     mean: 47.75\n",
      "[ 98. 101.] mse: 2.25     mean: 99.5\n",
      "average_mse: 1090.0535714285716\n",
      "\n",
      "\n",
      "for i=13\n",
      "[ 0.  0.  0.  0. 60. 64. 55. 61. 66. 83. 93. 91. 98.] mse: 1352.852071005917     mean: 51.61538461538461\n",
      "[101.] mse: 0.0     mean: 101.0\n",
      "average_mse: 1256.21978021978\n",
      "\n",
      "\n"
     ]
    }
   ],
   "source": [
    "def compute_mse(data):\n",
    "    data_mean = data.mean()\n",
    "    diff = (data - data_mean)**2\n",
    "    mse = diff.sum()/data.size\n",
    "    return mse\n",
    "\n",
    "for i in range(1, 14):\n",
    "    print(f'for i={i}')\n",
    "    left = data[:i]\n",
    "    right = data[i:]\n",
    "    print(left, 'mse:', compute_mse(left), '    mean:', left.mean())\n",
    "    print(right, 'mse:', compute_mse(right), '    mean:', right.mean())\n",
    "    average_mse = compute_mse(left)*(left.size/data.size) + compute_mse(right)*(right.size/data.size)\n",
    "    print('average_mse:', average_mse)\n",
    "    \n",
    "    print('\\n')"
   ]
  },
  {
   "cell_type": "code",
   "execution_count": null,
   "id": "f1a7f9a3",
   "metadata": {},
   "outputs": [],
   "source": []
  },
  {
   "cell_type": "code",
   "execution_count": 6,
   "id": "3485d99f",
   "metadata": {},
   "outputs": [
    {
     "data": {
      "text/plain": [
       "0.07142857142857142"
      ]
     },
     "execution_count": 6,
     "metadata": {},
     "output_type": "execute_result"
    }
   ],
   "source": [
    "left.size/data.size"
   ]
  },
  {
   "cell_type": "code",
   "execution_count": null,
   "id": "a19cabdf",
   "metadata": {},
   "outputs": [],
   "source": []
  },
  {
   "cell_type": "code",
   "execution_count": 44,
   "id": "8b5da5c5",
   "metadata": {},
   "outputs": [
    {
     "name": "stdout",
     "output_type": "stream",
     "text": [
      "Mean: 55.142857142857146\n",
      "mse: 1417.9795918367347\n"
     ]
    }
   ],
   "source": [
    "y_mean = y.mean()\n",
    "print('Mean:', y_mean)\n",
    "\n",
    "diff = (y - y_mean)**2\n",
    "mse = diff.sum()/14\n",
    "print('mse:', mse)"
   ]
  },
  {
   "cell_type": "code",
   "execution_count": 41,
   "id": "4bd36d66",
   "metadata": {},
   "outputs": [
    {
     "data": {
      "text/plain": [
       "1417.9795918367347"
      ]
     },
     "execution_count": 41,
     "metadata": {},
     "output_type": "execute_result"
    }
   ],
   "source": []
  },
  {
   "cell_type": "code",
   "execution_count": null,
   "id": "a21e246d",
   "metadata": {},
   "outputs": [],
   "source": []
  }
 ],
 "metadata": {
  "kernelspec": {
   "display_name": "Python 3 (ipykernel)",
   "language": "python",
   "name": "python3"
  },
  "language_info": {
   "codemirror_mode": {
    "name": "ipython",
    "version": 3
   },
   "file_extension": ".py",
   "mimetype": "text/x-python",
   "name": "python",
   "nbconvert_exporter": "python",
   "pygments_lexer": "ipython3",
   "version": "3.11.4"
  }
 },
 "nbformat": 4,
 "nbformat_minor": 5
}
