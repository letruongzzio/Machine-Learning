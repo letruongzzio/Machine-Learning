{
  "nbformat": 4,
  "nbformat_minor": 0,
  "metadata": {
    "colab": {
      "provenance": []
    },
    "kernelspec": {
      "name": "python3",
      "display_name": "Python 3"
    },
    "language_info": {
      "name": "python"
    }
  },
  "cells": [
    {
      "cell_type": "markdown",
      "source": [
        "## **Distance from 1 point to each point in a set.**\n",
        "The Euclidean distance from $\\textbf{z}$ to a point $\\textbf{x}_i$ is determined by:\n",
        "\n",
        "$$||\\textbf{z} - \\textbf{x}_i||^2_2 = (\\textbf{z} - \\textbf{x}_i)^T(\\textbf{z} - \\textbf{x}_i) = ||\\textbf{z}||^2_2 + ||\\textbf{x}_i||^2_2 - 2\\textbf{x}_i^T\\textbf{z}$$"
      ],
      "metadata": {
        "id": "BmcpFnI5H0PZ"
      }
    },
    {
      "cell_type": "code",
      "source": [
        "import numpy as np\n",
        "from time import time # for comparing runing time\n",
        "\n",
        "d, N = 1000, 10000\n",
        "X = np.random.randn(N, d)\n",
        "z = np.random.randn(d)\n",
        "\n",
        "# naively compute square distance between two vector\n",
        "def dist_pp(z, x):\n",
        "  return np.sum((z - x.reshape(z.shape))**2) # force x and z to have the same dims\n",
        "\n",
        "# from one point to each point in a set, naive\n",
        "def dist_ps_naive(z, X):\n",
        "  n = X.shape[0]\n",
        "  res = np.zeros((1, n))\n",
        "  for i in range(n):\n",
        "      res[0][i] = dist_pp(z, X[i])\n",
        "  return res\n",
        "\n",
        "# from one point to each point in a set, fast\n",
        "def dist_ps_fast(z, X):\n",
        "  return np.sum(z * z) + np.sum(X * X, axis=1) - 2 * X.dot(z) # square of l2 norm of each ROW of X\n",
        "\n",
        "t1 = time()\n",
        "D1 = dist_ps_naive(z, X)\n",
        "print('naive point2set, running time:', time() - t1, 's')\n",
        "\n",
        "t2 = time()\n",
        "D2 = dist_ps_fast(z, X)\n",
        "print('fast point2set, running time:', time() - t2, 's')\n",
        "\n",
        "print('Result difference:', np.linalg.norm(D1 - D2))"
      ],
      "metadata": {
        "colab": {
          "base_uri": "https://localhost:8080/"
        },
        "id": "49ww-9E8H-dv",
        "outputId": "f3046bf3-f91b-4c7b-c999-628b7af33195"
      },
      "execution_count": null,
      "outputs": [
        {
          "output_type": "stream",
          "name": "stdout",
          "text": [
            "naive point2set, running time: 0.30562925338745117 s\n",
            "fast point2set, running time: 0.0224456787109375 s\n",
            "Result difference: 2.0941843782674875e-11\n"
          ]
        }
      ]
    },
    {
      "cell_type": "markdown",
      "source": [
        "## **Distance from one set to each point in a set.**"
      ],
      "metadata": {
        "id": "lA-JIWSXPQG4"
      }
    },
    {
      "cell_type": "code",
      "source": [
        "M = 100\n",
        "Z = np.random.randn(M, d)\n",
        "\n",
        "\n",
        "# from each point in one set to each point in another set, half fast\n",
        "def dist_ps_0(Z, X):\n",
        "  m = Z.shape[0]\n",
        "  n = X.shape[0]\n",
        "  res = np.zeros((m, n))\n",
        "\n",
        "  for i in range(m):\n",
        "    res[i] = dist_ps_fast(Z[i], X)\n",
        "\n",
        "  return res\n",
        "\n",
        "def dist_ss_fast(Z, X):\n",
        "  return np.sum(Z * Z, axis=1) + np.sum(X * X, axis=1) - 2 * X.dot(Z)\n",
        "\n",
        "t3 = time()\n",
        "D3 = dist_ps_naive(z, X)\n",
        "print('half fast set2set running time:, running time:', time() - t3, 's')\n",
        "\n",
        "t4 = time()\n",
        "D4 = dist_ps_fast(z, X)\n",
        "print('fast set2set running time:, running time:', time() - t4, 's')\n",
        "\n",
        "print('Result difference:', np.linalg.norm(D3 - D4))"
      ],
      "metadata": {
        "colab": {
          "base_uri": "https://localhost:8080/"
        },
        "id": "mI-y8wHAss9e",
        "outputId": "ea4869b1-17d7-4bb0-9443-75b84d16fc76"
      },
      "execution_count": null,
      "outputs": [
        {
          "output_type": "stream",
          "name": "stdout",
          "text": [
            "half fast set2set running time:, running time: 0.06214761734008789 s\n",
            "fast set2set running time:, running time: 0.022176742553710938 s\n",
            "Result difference: 2.0941843782674875e-11\n"
          ]
        }
      ]
    },
    {
      "cell_type": "markdown",
      "source": [
        "In Python, we can use `cdist` function in [`scipy.spatial.distance`](https://docs.scipy.org/doc/scipy/reference/generated/scipy.spatial.distance.cdist.html), or `pairwise_distances` in [`sklearn.metrics.pairwise`](https://scikit-learn.org/stable/modules/generated/sklearn.metrics.pairwise_distances.html). Below is an example:"
      ],
      "metadata": {
        "id": "_9dxCFwenlmI"
      }
    },
    {
      "cell_type": "code",
      "source": [
        "from scipy.spatial import distance\n",
        "from sklearn.metrics.pairwise import pairwise_distances\n",
        "\n",
        "print('Distance set2set calculation based on `scipy.spatial`:', distance.cdist(Z, X, 'euclidean'), sep='\\n')\n",
        "print('Distance set2set calculation based on `sklearn.metrics.pairwise`:', pairwise_distances(Z, X, metric='euclidean'), sep='\\n')"
      ],
      "metadata": {
        "colab": {
          "base_uri": "https://localhost:8080/"
        },
        "id": "x1qH0t8Pn9fl",
        "outputId": "87fe4a29-ed9a-4db2-baef-3eda37e9299a"
      },
      "execution_count": null,
      "outputs": [
        {
          "output_type": "stream",
          "name": "stdout",
          "text": [
            "Distance set2set calculation based on `scipy.spatial`:\n",
            "[[46.16819641 44.68727476 44.78652344 ... 45.72168832 45.6452633\n",
            "  43.97120254]\n",
            " [46.39846781 45.00307156 43.67105381 ... 46.27493299 47.18773361\n",
            "  45.53292271]\n",
            " [46.35837835 45.96538256 44.10231121 ... 44.88510818 45.55053125\n",
            "  44.72155463]\n",
            " ...\n",
            " [46.61681496 45.01106352 45.15272077 ... 45.68933076 44.8825928\n",
            "  44.68565443]\n",
            " [44.63183085 44.12342559 41.47187808 ... 43.30019201 43.74416318\n",
            "  44.62187907]\n",
            " [44.2790319  43.77896231 45.15785453 ... 45.13922144 44.09171293\n",
            "  44.35418949]]\n",
            "Distance set2set calculation based on `sklearn.metrics.pairwise`:\n",
            "[[46.16819641 44.68727476 44.78652344 ... 45.72168832 45.6452633\n",
            "  43.97120254]\n",
            " [46.39846781 45.00307156 43.67105381 ... 46.27493299 47.18773361\n",
            "  45.53292271]\n",
            " [46.35837835 45.96538256 44.10231121 ... 44.88510818 45.55053125\n",
            "  44.72155463]\n",
            " ...\n",
            " [46.61681496 45.01106352 45.15272077 ... 45.68933076 44.8825928\n",
            "  44.68565443]\n",
            " [44.63183085 44.12342559 41.47187808 ... 43.30019201 43.74416318\n",
            "  44.62187907]\n",
            " [44.2790319  43.77896231 45.15785453 ... 45.13922144 44.09171293\n",
            "  44.35418949]]\n"
          ]
        }
      ]
    },
    {
      "cell_type": "markdown",
      "source": [
        "## **Example of Iris.**"
      ],
      "metadata": {
        "id": "q29KXJu4qT7d"
      }
    },
    {
      "cell_type": "code",
      "source": [
        "import numpy as np\n",
        "from sklearn import neighbors, datasets\n",
        "from sklearn.model_selection import train_test_split\n",
        "from sklearn.metrics import accuracy_score\n",
        "\n",
        "np.random.seed(7)\n",
        "iris = datasets.load_iris()\n",
        "iris_X = iris.data\n",
        "iris_y = iris.target\n",
        "print('Labels:', np.unique(iris_y))\n",
        "\n",
        "# Split train and test\n",
        "X_train, X_test, y_train, y_test = train_test_split(iris_X, iris_y, test_size=130, random_state=7)"
      ],
      "metadata": {
        "colab": {
          "base_uri": "https://localhost:8080/"
        },
        "id": "1XhUmHzHqcdX",
        "outputId": "b6811e7b-bedf-4370-8713-141a927870ef"
      },
      "execution_count": null,
      "outputs": [
        {
          "output_type": "stream",
          "name": "stdout",
          "text": [
            "Labels: [0 1 2]\n"
          ]
        }
      ]
    },
    {
      "cell_type": "code",
      "source": [
        "# 1NN\n",
        "model = neighbors.KNeighborsClassifier(n_neighbors=1, p=2)\n",
        "model.fit(X_train, y_train)\n",
        "y_pred = model.predict(X_test)\n",
        "print(\"Accuracy of 1NN: %.2f %%\" %(100 * accuracy_score(y_test, y_pred)))"
      ],
      "metadata": {
        "colab": {
          "base_uri": "https://localhost:8080/"
        },
        "id": "AtugzMO0q9t7",
        "outputId": "3ce9d71d-1526-4771-d621-3a0201ad20ae"
      },
      "execution_count": null,
      "outputs": [
        {
          "output_type": "stream",
          "name": "stdout",
          "text": [
            "Accuracy of 1NN: 92.31 %\n"
          ]
        }
      ]
    },
    {
      "cell_type": "code",
      "source": [
        "# 7NN\n",
        "model = neighbors.KNeighborsClassifier(n_neighbors=7, p=2)\n",
        "model.fit(X_train, y_train)\n",
        "y_pred = model.predict(X_test)\n",
        "\n",
        "print(\"Accuracy of 7NN with major voting: %.2f %%\" %(100 * accuracy_score(y_test, y_pred)))"
      ],
      "metadata": {
        "colab": {
          "base_uri": "https://localhost:8080/"
        },
        "id": "1zziNlgTrUyp",
        "outputId": "846aa582-a1f9-4c1b-dad7-41f23d775749"
      },
      "execution_count": null,
      "outputs": [
        {
          "output_type": "stream",
          "name": "stdout",
          "text": [
            "Accuracy of 7NN with major voting: 93.85 %\n"
          ]
        }
      ]
    },
    {
      "cell_type": "markdown",
      "source": [
        "Evaluating neighboring point weights `weights='distance'` (`weights` defaults to `uniform`) means that a point closer to the test point should have a higher weight. This technique avoids the unfairness between closer and farther points as they are given equal weight when calculating the distance to the test point."
      ],
      "metadata": {
        "id": "CupoiupxsH46"
      }
    },
    {
      "cell_type": "code",
      "source": [
        "model = neighbors.KNeighborsClassifier(n_neighbors=7, p=2, weights='distance')\n",
        "model.fit(X_train, y_train)\n",
        "y_pred = model.predict(X_test)\n",
        "\n",
        "print(\"Accuracy of 7NN (1/distance weights): %.2f %%\" %(100 * accuracy_score(y_test, y_pred)))"
      ],
      "metadata": {
        "colab": {
          "base_uri": "https://localhost:8080/"
        },
        "id": "izD1K0x_sO9R",
        "outputId": "89dbedba-b128-4d83-b9f7-29e051f332ba"
      },
      "execution_count": null,
      "outputs": [
        {
          "output_type": "stream",
          "name": "stdout",
          "text": [
            "Accuracy of 7NN (1/distance weights): 94.62 %\n"
          ]
        }
      ]
    },
    {
      "cell_type": "markdown",
      "source": [
        "Define your own KNN weights, for example a commonly used weighting method:\n",
        "\n",
        "$$w_i = \\exp\\left(\\frac{-||\\textbf{z} - \\textbf{x}_i||_2^2}{\\sigma^2}\\right)$$\n",
        "\n",
        "Where $w_i$ is the weight of the $i^{\\text{th}}$ closest point of the considered data point $\\textbf{z}$, $\\sigma$ is a positive number. This function satisfies the above conditions."
      ],
      "metadata": {
        "id": "2dE5MoKgswHN"
      }
    },
    {
      "cell_type": "code",
      "source": [
        "def myWeight(distances):\n",
        "  sigma2 = .4 # we can change this number\n",
        "  return np.exp(-distances**2 / sigma2)\n",
        "\n",
        "model = neighbors.KNeighborsClassifier(n_neighbors=7, p=2, weights=myWeight)\n",
        "model.fit(X_train, y_train)\n",
        "y_pred = model.predict(X_test)\n",
        "\n",
        "print(\"Accuracy of 7NN (customized weights): %.2f %%\" %(100 * accuracy_score(y_test, y_pred)))"
      ],
      "metadata": {
        "colab": {
          "base_uri": "https://localhost:8080/"
        },
        "id": "P_L-kU0mvjqE",
        "outputId": "b8685271-95fd-4bad-e4c9-9dd0fc6fcc00"
      },
      "execution_count": null,
      "outputs": [
        {
          "output_type": "stream",
          "name": "stdout",
          "text": [
            "Accuracy of 7NN (customized weights): 95.38 %\n"
          ]
        }
      ]
    },
    {
      "cell_type": "markdown",
      "source": [
        "***Another example:*** `weights='distance'` tends to cause overfitting."
      ],
      "metadata": {
        "id": "ZWoZ4mBAzOrf"
      }
    },
    {
      "cell_type": "code",
      "source": [
        "import matplotlib.pyplot as plt\n",
        "\n",
        "np.random.seed(0)\n",
        "X = np.sort(5 * np.random.rand(40, 1), axis=0)\n",
        "y = np.sin(X).ravel() # numpy.ravel() is used to change a 2-dimensional array or a multi-dimensional array into a contiguous flattened array\n",
        "X_test = np.linspace(0, 5, 500).reshape(-1, 1)\n",
        "\n",
        "n_neighbors = 5\n",
        "\n",
        "for i, weights in enumerate([\"uniform\", \"distance\"]):\n",
        "    knn = neighbors.KNeighborsRegressor(n_neighbors=n_neighbors, p=2, weights=weights)\n",
        "    y_pred = knn.fit(X, y).predict(X_test)\n",
        "\n",
        "    plt.subplot(2, 1, i + 1)\n",
        "    plt.scatter(X, y, color=\"darkorange\", label=\"data\")\n",
        "    plt.plot(X_test, y_pred, color=\"navy\", label=\"prediction\")\n",
        "    plt.axis(\"tight\")\n",
        "    plt.legend()\n",
        "    plt.title(\"KNeighborsRegressor (k = %i, weights = '%s')\" % (n_neighbors, weights))\n",
        "\n",
        "plt.tight_layout()"
      ],
      "metadata": {
        "colab": {
          "base_uri": "https://localhost:8080/",
          "height": 486
        },
        "id": "22g0-mPPzQar",
        "outputId": "81a6c751-207b-41bb-b701-eda4159faec0"
      },
      "execution_count": null,
      "outputs": [
        {
          "output_type": "display_data",
          "data": {
            "text/plain": [
              "<Figure size 640x480 with 2 Axes>"
            ],
            "image/png": "[encoded data removed]"
          },
          "metadata": {}
        }
      ]
    },
    {
      "cell_type": "markdown",
      "source": [
        "___\n",
        "## **References:**\n",
        "\n",
        "$[1].$ *Vũ Hữu Tiệp. Machine Learning cơ bản, Chapter 9, 2018.*\n",
        "\n",
        "$[2].$ Source code for this part can be found here: [KNN in $[1]$](https://github.com/tiepvupsu/ebookML_src/blob/master/src/knn/KNN.ipynb) and [Nearest Neighbors regression of `scikit learn`](https://scikit-learn.org/stable/auto_examples/neighbors/plot_regression.html#sphx-glr-auto-examples-neighbors-plot-regression-py)."
      ],
      "metadata": {
        "id": "pMsbs_Yv29Uo"
      }
    }
  ]
}