version https://git-lfs.github.com/spec/v1
oid sha256:3332378e0b7138420ad6ab02ec4587d12784aa21267ba7d4ce2296268f074ad6
size 727475
