version https://git-lfs.github.com/spec/v1
oid sha256:c07cdbcb8d5ef795fb16b1826e113f01a4e61af42ebb0b4a2e40eaa024ffec57
size 435522
