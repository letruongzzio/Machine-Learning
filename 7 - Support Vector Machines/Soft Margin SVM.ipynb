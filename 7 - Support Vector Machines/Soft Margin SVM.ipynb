version https://git-lfs.github.com/spec/v1
oid sha256:09c11e30c146cd6536cce57503fff6bc267cff278e581fa3e39b5b552fa79bd9
size 720281
