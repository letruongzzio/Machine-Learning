version https://git-lfs.github.com/spec/v1
oid sha256:69b138b13a5a99b19a7942d9af51cfc2944e1324f47de3e571443d749ded0bdd
size 337781
